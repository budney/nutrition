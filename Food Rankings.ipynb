{
 "cells": [
  {
   "attachments": {},
   "cell_type": "markdown",
   "metadata": {},
   "source": [
    "# Food Rankings\n",
    "\n",
    "## Description\n",
    "\n",
    "This notebook looks at the entire USDA food database and computes a shopping cart that satisfies the specified nutritional requirements while optimizing some parameter, such as minimizing calories and carbs.\n",
    "\n",
    "Next it analyzes each element of the shopping cart and determines which nutrient(s) it's critical for -- i.e., which nutrients would fall below specified minimums if this item were removed from the shopping cart. It saves this analysis in a database table.\n",
    "\n",
    "Next it removes *all* of those items from the set of allowed foods, and repeats the above steps. This classifies foods into tiers, where being in tier N means that this food is part of the optimal solution if all the tiers below N are removed.\n",
    "\n",
    "This is intended as a first step toward assessing the flexibility of our food supply for meeting nutritional requirements. By definition, tier N+1 cannot do any better than tier N at optimizing the objective function (e.g., minimizing carbs), but the question becomes: how much worse is it? How quickly does the objective function worsen as N increases?\n",
    "\n",
    "There are other ways to approach a ranking of foods, so this is an exploratory analysis."
   ]
  },
  {
   "cell_type": "code",
   "execution_count": 8,
   "metadata": {},
   "outputs": [],
   "source": [
    "%run ./work/lib/Config.ipynb"
   ]
  },
  {
   "cell_type": "code",
   "execution_count": 9,
   "metadata": {},
   "outputs": [
    {
     "name": "stdout",
     "output_type": "stream",
     "text": [
      "<mysql.connector.connection.MySQLConnection object at 0x7f6bac57c820>\n"
     ]
    }
   ],
   "source": [
    "#DB = %run ./work/Database.ipynb connect()\n",
    "\n",
    "print(connect())"
   ]
  }
 ],
 "metadata": {
  "kernelspec": {
   "display_name": "Python 3 (ipykernel)",
   "language": "python",
   "name": "python3"
  },
  "language_info": {
   "codemirror_mode": {
    "name": "ipython",
    "version": 3
   },
   "file_extension": ".py",
   "mimetype": "text/x-python",
   "name": "python",
   "nbconvert_exporter": "python",
   "pygments_lexer": "ipython3",
   "version": "3.10.6"
  },
  "orig_nbformat": 4
 },
 "nbformat": 4,
 "nbformat_minor": 2
}
