{
 "cells": [
  {
   "attachments": {},
   "cell_type": "markdown",
   "metadata": {},
   "source": [
    "# Nutrition Notebook\n",
    "\n",
    "This notebook defines functions and queries for working with recommended daily intake of various nutrients."
   ]
  },
  {
   "attachments": {},
   "cell_type": "markdown",
   "metadata": {},
   "source": [
    "## Linear Optimization Functions\n",
    "\n",
    "The following functions help to construct and solve a linear optimization problem using nutrition data. We assume the data is in the form of a dataframe where each row represents a food item, and columns represent macronutrients, micronutrients, and other facts. The constraint matrix will be built in the same format, meaning that the actual constraints are the *columns,* not the *rows,* of the constraint matrix. In other words, the matrix we build is actually the transpose of the matrix we want."
   ]
  },
  {
   "attachments": {},
   "cell_type": "markdown",
   "metadata": {},
   "source": [
    "### define_objective_function(data, nutrient, minimize=True)\n",
    "\n",
    "Returns the coefficients for an objective function that minimizes the specified nutrient. If `maximize` is `True`, returns instead the negated coefficients, which makes this instead a maximization problem."
   ]
  },
  {
   "cell_type": "code",
   "execution_count": null,
   "metadata": {},
   "outputs": [],
   "source": [
    "def define_objective_function(data, nutrient, maximize=False):\n",
    "    objective = data.loc[:, nutrient].to_numpy()    \n",
    "    \n",
    "    if maximize:\n",
    "        objective = np.multiply(objective, -1)\n",
    "        \n",
    "    return objective"
   ]
  },
  {
   "attachments": {},
   "cell_type": "markdown",
   "metadata": {},
   "source": [
    "### initialize_constraints_with_rdi(data)\n",
    "\n",
    "#### Usage\n",
    "\n",
    "```constraints = initialize_constraints_with_rdi(data)```\n",
    "\n",
    "#### Description\n",
    "\n",
    "Takes a dataframe whose rows represent food items, and having columns named `pct_*` that represent percentages of the Recommended Dietary Intake (RDI) of one or more nutrients, and returns a dataframe with linear constraints as columns, and an array of upper bounds as its last row. Assuming that your objective involves meeting the RDI, these can be used as the basis of a linear optimization by adding more constraints or by defining the desired objective function."
   ]
  },
  {
   "cell_type": "code",
   "execution_count": 17,
   "metadata": {},
   "outputs": [],
   "source": [
    "def initialize_constraints_with_rdi(data, days=1):\n",
    "    # Fields named like pct_foo are assumed to mean \"percent of RDI for nutrient foo\"\n",
    "    nutrients = [ field for field in data.columns if field[:4] == 'pct_' ]\n",
    "\n",
    "    # Require 100% of every nutrient with an RDA. Since the optimizer treats\n",
    "    # constraints as \"less than,\" we need to negate everything\n",
    "    constraints = np.multiply( data.loc[:, nutrients].to_numpy(), -1 )\n",
    "    bounds = [ -1 * days for row in constraints.T ]\n",
    "    \n",
    "    # Convert these arrays into a dataframe\n",
    "    df = pd.DataFrame(constraints)\n",
    "    df.columns = [x + '_rdi' for x in nutrients]\n",
    " \n",
    "    # Append the bounds as the last row and set the index values\n",
    "    df.loc[len(df)] = bounds\n",
    "    df.set_index(np.array(data['food_code'].values.astype(str).tolist() + ['upper_bounds']))\n",
    "\n",
    "    return df"
   ]
  },
  {
   "attachments": {},
   "cell_type": "markdown",
   "metadata": {},
   "source": [
    "### add_constraint(data, constraints=None, nutrient=None, min=None, max=None, days=1)\n",
    "\n",
    "Takes the given data and constraints, and adds new constraints for the specified nutrient. If `min` is specified, a constraint is added requiring that the total for `nutrient` must be at least `min`. Similarly if `max` is specified, a constraint is added requiring that the total be no more than `max`.\n",
    "\n",
    "If nutrient isn't specified, or if both `max` and `min` are `None`, then the constraints are returned unchanged."
   ]
  },
  {
   "cell_type": "code",
   "execution_count": 8,
   "metadata": {},
   "outputs": [],
   "source": [
    "# Function for adding constraints to the nutrition LP\n",
    "def add_constraint(data, constraints=None, nutrient=None, min=None, max=None, days=1):\n",
    "    if not nutrient:\n",
    "        return(constraints)\n",
    "    if nutrient not in data.columns:\n",
    "        return(constraints)\n",
    "\n",
    "    lower = data[[nutrient]].copy()\n",
    "    upper = data[[nutrient]].copy()\n",
    "\n",
    "    if min is not None:\n",
    "        lower = lower.append({nutrient: min*days}, ignore_index=True)\n",
    "        constraints = pd.concat([constraints.reset_index(drop=True), -lower], axis = 1)\n",
    "        constraints.columns.values[-1] = nutrient + '_min'\n",
    "\n",
    "    if max is not None:\n",
    "        upper.loc[len(upper)] = max * days\n",
    "        constraints = pd.concat([constraints.reset_index(drop=True), upper], axis = 1)\n",
    "        constraints.columns.values[-1] = nutrient + '_max'\n",
    "    \n",
    "    return(constraints)"
   ]
  },
  {
   "attachments": {},
   "cell_type": "markdown",
   "metadata": {},
   "source": [
    "### add_weight_constraint(data, constraints=[], bounds=[], regex=r'', limits=[], min=None, max=None)\n",
    "\n",
    "This method adds a constraint on the `min` and/or `max` weight for all food items matching `regex`. It then returns the updated `constraints` and `bounds`. The `min` and `max` weight are specified in grams.\n",
    "\n",
    "The purpose of `limits` is to keep track of per-food-item limits, in case the user wants to disallow some food items completely."
   ]
  },
  {
   "cell_type": "code",
   "execution_count": 9,
   "metadata": {},
   "outputs": [],
   "source": [
    "# TODO: Fix this to use the new scheme where constraints are a dataframe\n",
    "\n",
    "# Function for adding a constraint on the total weight of specified foods\n",
    "def add_weight_constraint(data, constraints=[], bounds=[], regex=r'', limits=[], min=None, max=None):\n",
    "    matched = data['food_code'].astype(str).str.match(regex)\n",
    "    limits = [(0,max/100) if matched[i] else limits[i] for i in range(len(matched))]\n",
    "    \n",
    "    coefs = np.transpose([1 if matched[i] else 0 for i in range(len(matched))])\n",
    "    \n",
    "    # Minimum...\n",
    "    if min:\n",
    "        constraints = np.c_[constraints, -1 * coefs]\n",
    "        bounds.append(-1 * min / 100)\n",
    "\n",
    "    # Maximum...\n",
    "    if max:\n",
    "        constraints = np.c_[constraints, +1 * coefs]\n",
    "        bounds.append(+1 * max / 100)\n",
    "    \n",
    "    return(constraints, bounds, limits)"
   ]
  },
  {
   "attachments": {},
   "cell_type": "markdown",
   "metadata": {},
   "source": [
    "## Query Functions\n",
    "\n",
    "This section defines functions that return SQL queries related to nutrients and recommended daily intake."
   ]
  },
  {
   "attachments": {},
   "cell_type": "markdown",
   "metadata": {},
   "source": [
    "### query_food_percent_rdi(age=None, sex=None)"
   ]
  },
  {
   "cell_type": "code",
   "execution_count": 10,
   "metadata": {},
   "outputs": [],
   "source": [
    "def query_food_percent_rdi(age=None, sex=None):\n",
    "    if not (age and sex):\n",
    "        return None\n",
    "\n",
    "    return(\"\"\"\n",
    "        SELECT * FROM contrib.food_dri_pct_view\n",
    "        WHERE sex = '%s'\n",
    "        AND   type = 'recommended'\n",
    "        AND   age_from = (\n",
    "                SELECT MAX(age_from)\n",
    "                FROM contrib.food_dri_pct_view\n",
    "                WHERE age_from <= %s AND sex = '%s'\n",
    "              )\n",
    "    \"\"\" % (sex, age, sex))\n"
   ]
  },
  {
   "attachments": {},
   "cell_type": "markdown",
   "metadata": {},
   "source": [
    "### query_nutrient_tolerable_upper_limits(age=None, sex=None)"
   ]
  },
  {
   "cell_type": "code",
   "execution_count": 11,
   "metadata": {},
   "outputs": [],
   "source": [
    "def query_nutrient_tolerable_upper_limits(age=None, sex=None):\n",
    "    if not (age and sex):\n",
    "        return None\n",
    "\n",
    "    return(\"\"\"\n",
    "        SELECT\n",
    "            tagname, (tolerable_upper.amount / rec.amount) AS pct_tolerable_upper\n",
    "        FROM (\n",
    "                SELECT age_from, sex, tagname, amount\n",
    "                FROM dietary_reference_intake.dietary_reference_intake\n",
    "                WHERE type = 'tolerable_upper'\n",
    "                AND age_from = (\n",
    "                    SELECT MAX(age_from)\n",
    "                    FROM dietary_reference_intake.dietary_reference_intake\n",
    "                    WHERE age_from <= %s\n",
    "                    AND sex = '%s'\n",
    "                )\n",
    "                AND sex = '%s'\n",
    "        ) AS tolerable_upper\n",
    "        JOIN dietary_reference_intake.dietary_reference_intake AS rec USING(age_from, sex, tagname)\n",
    "        WHERE\n",
    "            rec.type = 'recommended'\n",
    "            AND (tolerable_upper.amount / rec.amount) > 1\n",
    "    \"\"\" % (age, sex, sex))\n"
   ]
  },
  {
   "attachments": {},
   "cell_type": "markdown",
   "metadata": {},
   "source": [
    "## Database Functions\n",
    "\n",
    "These functions actually execute the queries against the database, while making sure that the column names are specified correction and other creature comforts are arranged for."
   ]
  },
  {
   "attachments": {},
   "cell_type": "markdown",
   "metadata": {},
   "source": [
    "### fetch_food_percent_rdi(age=None, sex=None)"
   ]
  },
  {
   "cell_type": "code",
   "execution_count": 12,
   "metadata": {},
   "outputs": [],
   "source": [
    "def fetch_food_percent_rdi(schema=None, age=None, sex=None):\n",
    "    if not (age and sex):\n",
    "        return None\n",
    "    \n",
    "    args = {\"age\": age, \"sex\": sex}\n",
    "    if schema:\n",
    "        args[\"schema\"] = schema\n",
    "\n",
    "    data = fetch_dataframe(query_food_percent_rdi(**args))\n",
    "    if data is None:\n",
    "        return None\n",
    "    \n",
    "    return data"
   ]
  },
  {
   "attachments": {},
   "cell_type": "markdown",
   "metadata": {},
   "source": [
    "### fetch_nutrient_tolerable_upper_limits(age=None, sex=None)"
   ]
  },
  {
   "cell_type": "code",
   "execution_count": 13,
   "metadata": {},
   "outputs": [],
   "source": [
    "def fetch_nutrient_tolerable_upper_limits(schema=None, age=None, sex=None):\n",
    "    if not (age and sex):\n",
    "        return None\n",
    "    \n",
    "    args = {\"age\": age, \"sex\": sex}\n",
    "    if schema:\n",
    "        args[\"schema\"] = schema\n",
    "\n",
    "    data = fetch_dataframe(query_nutrient_tolerable_upper_limits(**args))\n",
    "    if data is None:\n",
    "        return None\n",
    "    \n",
    "    # Rename nutrients to match the food data column names\n",
    "    for i in range(len(data)):\n",
    "        data.loc[i, \"tagname\"] = \"pct_\" + data.loc[i, \"tagname\"]\n",
    "\n",
    "    return data"
   ]
  },
  {
   "attachments": {},
   "cell_type": "markdown",
   "metadata": {},
   "source": [
    "## Data Cleanup Functions\n",
    "\n",
    "These functions clean up nutrition data by, e.g., imputing zero for missing nutrient information, deleting foods with no nutritional value, etc."
   ]
  },
  {
   "attachments": {},
   "cell_type": "markdown",
   "metadata": {},
   "source": [
    "### impute_zero_for_missing_nutrient_data(data)\n",
    "\n",
    "Fills in missing nutrient information with zeros and returns the result."
   ]
  },
  {
   "cell_type": "code",
   "execution_count": null,
   "metadata": {},
   "outputs": [],
   "source": [
    "def impute_zero_for_missing_nutrient_data(data):\n",
    "    return data.fillna(0, inplace=False)"
   ]
  },
  {
   "attachments": {},
   "cell_type": "markdown",
   "metadata": {},
   "source": [
    "### drop_foods_with_missing_nutrient_data(data)\n",
    "\n",
    "Returns the data frame with all records removed that contain NaN."
   ]
  },
  {
   "cell_type": "code",
   "execution_count": null,
   "metadata": {},
   "outputs": [],
   "source": [
    "def drop_foods_with_missing_nutrient_data(data):\n",
    "    return data.dropna().reset_index(drop=True)"
   ]
  },
  {
   "attachments": {},
   "cell_type": "markdown",
   "metadata": {},
   "source": [
    "### delete_non_nutritive_foods(data)\n",
    "\n",
    "Returns a dataframe with records removed whose nutrient value is literally zero. Assumes that nutrient information is found in columns named `pct_*` and that those columns are all contiguous. Results are unspecified for records with non-numeric values, including `NaN`, in any of those fields."
   ]
  },
  {
   "cell_type": "code",
   "execution_count": null,
   "metadata": {},
   "outputs": [],
   "source": [
    "def delete_non_nutritive_foods(data):\n",
    "    columns = [column for column in data.columns if column[:4] == 'pct_']\n",
    "    first = columns[0]\n",
    "    last  = columns[-1]\n",
    "\n",
    "    data = data[np.linalg.norm(data.loc[:, first:last], axis=1) != 0]\n",
    "    data.reset_index(drop=True, inplace=True)\n",
    "\n",
    "    return data"
   ]
  },
  {
   "attachments": {},
   "cell_type": "markdown",
   "metadata": {},
   "source": [
    "## Data Manipulation Functions\n",
    "\n",
    "The following sections define functions that can be used to manipulate the input data, for example by removing certain food items."
   ]
  },
  {
   "attachments": {},
   "cell_type": "markdown",
   "metadata": {},
   "source": [
    "### delete_food_items(data, items)\n",
    "\n",
    "This function takes two data frames, both of which must contain the field `food_code`, and deletes any items from the first dataframe that are found in the second with an `amount` greater than zero."
   ]
  },
  {
   "cell_type": "code",
   "execution_count": 18,
   "metadata": {},
   "outputs": [],
   "source": [
    "def delete_food_items(data, items):\n",
    "    items = items[items['amount'] > 0]\n",
    "    return data[ ~data['food_code'].isin(items['food_code']) ].reset_index(drop=True)"
   ]
  },
  {
   "attachments": {},
   "cell_type": "markdown",
   "metadata": {},
   "source": [
    "## Display Functions\n",
    "\n",
    "The following functions display the solution to the optimization problem."
   ]
  },
  {
   "cell_type": "code",
   "execution_count": 16,
   "metadata": {},
   "outputs": [],
   "source": [
    "from scipy.optimize import OptimizeResult\n",
    "\n",
    "# Returns macro nutrients for the solution\n",
    "def get_macros(data, solution, days=1):\n",
    "    if isinstance(solution, OptimizeResult):\n",
    "        solution = solution.x\n",
    "    \n",
    "    macros = [\n",
    "        np.dot(solution, data.loc[:, 'enerc_kcal'].to_numpy()),\n",
    "        np.multiply(np.dot(solution, data.loc[:, 'chocdf'].to_numpy()), 4),\n",
    "        np.multiply(np.dot(solution, data.loc[:, 'procnt'].to_numpy()), 4),\n",
    "        np.multiply(np.dot(solution, data.loc[:, 'fat'].to_numpy()), 9),\n",
    "        np.multiply(np.dot(solution, data.loc[:, 'f18d2'].to_numpy()), 9),\n",
    "        np.dot(solution, data.loc[:, 'fibtg'].to_numpy()),\n",
    "    ]\n",
    "\n",
    "    macros = pd.DataFrame(macros)\n",
    "    macros.index = ['Calories', 'Carb Cal', 'Protein Cal', 'Fat Cal', 'Omega-6 Cal', 'Fiber gm']\n",
    "    macros.columns = ['Value']\n",
    "\n",
    "    return(macros)\n",
    "\n",
    "# Returns micro nutrients for the solution\n",
    "def get_micros(data, solution, days=1):\n",
    "    if isinstance(solution, OptimizeResult):\n",
    "        solution = solution.x\n",
    "\n",
    "    # Get the nutrients for the foods\n",
    "    nutrients = data.loc[:, 'pct_fibtg':'pct_f18d3'].copy()\n",
    "    columns = nutrients.columns\n",
    "    \n",
    "    nutrients = (nutrients.T * solution).T\n",
    "    nutrients = round(nutrients, 3)\n",
    "    \n",
    "    # Total them and convert to conventional percents\n",
    "    nutrients = np.multiply(nutrients.sum(axis=0), 100/days)\n",
    "    \n",
    "    # Set the index and column values\n",
    "    nutrients = pd.DataFrame(nutrients)\n",
    "    nutrients.index = columns\n",
    "    nutrients.columns = ['Value']\n",
    "\n",
    "    return nutrients\n",
    "\n",
    "# Returns the actual shopping basket for the solution\n",
    "def get_rations(data, solution, insert_before='enerc_kcal', truncate=True):\n",
    "    if isinstance(solution, OptimizeResult):\n",
    "        solution = solution.x\n",
    "\n",
    "    soln = pd.DataFrame(solution)\n",
    "    soln.columns = ['amount']\n",
    "\n",
    "    # Insert the new column at the requested point\n",
    "    i = data.columns.get_loc(insert_before)\n",
    "    soln = pd.concat([data.iloc[:, :i], soln, data.iloc[:, i:]], axis = 1)\n",
    "\n",
    "    # Multiply every column after \"amount\" by the solution\n",
    "    i = 1 + soln.columns.get_loc('amount')\n",
    "    for col in soln.columns[i:]:\n",
    "        soln[col] = soln[col].multiply(solution, axis=0)\n",
    "\n",
    "    # Convert the amount column into grams\n",
    "    soln['amount'] = soln['amount'].multiply(100)\n",
    "\n",
    "    if truncate:\n",
    "        soln = soln.loc[soln['amount'] > 0]\n",
    "\n",
    "    return soln\n",
    "\n",
    "# Print the macros, micros, and solution\n",
    "def summarize_solution(data, solution):\n",
    "    if solution.success:\n",
    "        data = data[solution.x > 0].reset_index(drop=True, inplace=False)\n",
    "        solution = solution.x[solution.x != 0]\n",
    "\n",
    "        print(get_macros(data, solution))\n",
    "        print()\n",
    "        print(get_micros(data, solution))\n",
    "        print()\n",
    "        print(get_rations(data, solution))\n",
    "    return"
   ]
  }
 ],
 "metadata": {
  "kernelspec": {
   "display_name": "Python 3 (ipykernel)",
   "language": "python",
   "name": "python3"
  },
  "language_info": {
   "codemirror_mode": {
    "name": "ipython",
    "version": 3
   },
   "file_extension": ".py",
   "mimetype": "text/x-python",
   "name": "python",
   "nbconvert_exporter": "python",
   "pygments_lexer": "ipython3",
   "version": "3.10.6"
  },
  "orig_nbformat": 4
 },
 "nbformat": 4,
 "nbformat_minor": 2
}
