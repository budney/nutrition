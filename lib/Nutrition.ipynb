{
 "cells": [
  {
   "attachments": {},
   "cell_type": "markdown",
   "metadata": {},
   "source": [
    "# Nutrition Notebook\n",
    "\n",
    "This notebook defines functions and queries for working with recommended daily intake of various nutrients."
   ]
  },
  {
   "attachments": {},
   "cell_type": "markdown",
   "metadata": {},
   "source": [
    "## Linear Optimization Functions\n",
    "\n",
    "The following functions help to construct and solve a linear optimization problem using nutrition data. We assume the data is in the form of a dataframe where each row represents a food item, and columns represent macronutrients, micronutrients, and other facts. The constraint matrix will be built in the same format, meaning that the actual constraints are the *columns,* not the *rows,* of the constraint matrix. In other words, the matrix we build is actually the transpose of the matrix we want."
   ]
  },
  {
   "attachments": {},
   "cell_type": "markdown",
   "metadata": {},
   "source": [
    "### initialize_constraints_with_rdi(data)\n",
    "\n",
    "#### Usage\n",
    "\n",
    "```constraints, bounds = initialize_constraints_with_rdi(data)```\n",
    "\n",
    "#### Description\n",
    "\n",
    "Takes a dataframe whose rows represent food items, and having columns named `pct_*` that represent percentages of the Recommended Dietary Intake (RDI) of one or more nutrients, and returns two things: a dataframe of linear constraints, and an array of upper bounds for each. Assuming that your objective involves meeting the RDI, these can be used as the basis of a linear optimization by adding more constraints or by defining the desired objective function."
   ]
  },
  {
   "cell_type": "code",
   "execution_count": 1,
   "metadata": {},
   "outputs": [],
   "source": [
    "def initialize_constraints_with_rdi(data, days=1):\n",
    "    # Fields named like pct_foo are assumed to mean \"percent of RDI for nutrient foo\"\n",
    "    nutrients = [ field for field in data.columns if field[:4] == 'pct_' ]\n",
    "\n",
    "    # Require 100% of every nutrient with an RDA. Since the optimizer treats\n",
    "    # constraints as \"less than,\" we need to negate everything\n",
    "    constraints = np.multiply( data.loc[:, nutrients].to_numpy(), -1 )\n",
    "    bounds = [ -1 * days for row in constraints.T ]\n",
    "\n",
    "    return constraints, bounds"
   ]
  },
  {
   "attachments": {},
   "cell_type": "markdown",
   "metadata": {},
   "source": [
    "### add_constraint(data, constraints=[], bounds=[], nutrient=None, min=None, max=None, days=1)\n",
    "\n",
    "Takes the given constraints and bounds, and adds new constraints for the specified nutrient. If `min` is specified, a constraint is added requiring that the total for `nutrient` must be at least `min`. Similarly if `max` is specified, a constraint is added requiring that the total be no more than `max`.\n",
    "\n",
    "If nutrient isn't specified, or if both `max` and `min` are `None`, then the constraints are returned unchanged."
   ]
  },
  {
   "cell_type": "code",
   "execution_count": 2,
   "metadata": {},
   "outputs": [],
   "source": [
    "# Function for adding constraints to the nutrition LP\n",
    "def add_constraint(data, constraints=[], bounds=[], nutrient=None, min=None, max=None, days=1):\n",
    "    if not nutrient:\n",
    "        return(constraints, bounds)\n",
    "    if nutrient not in data.columns:\n",
    "        return(constraints, bounds)\n",
    "\n",
    "    coefs = np.transpose([data.loc[:, nutrient].to_numpy()])\n",
    "    \n",
    "    if min is not None:\n",
    "        constraints = np.c_[constraints, np.multiply(coefs, -1)]\n",
    "        bounds.append(-1 * min * days)\n",
    "    \n",
    "    if max is not None:\n",
    "        constraints = np.c_[constraints, coefs]\n",
    "        bounds.append(max * days)\n",
    "    \n",
    "    return(constraints, bounds)"
   ]
  },
  {
   "attachments": {},
   "cell_type": "markdown",
   "metadata": {},
   "source": [
    "### add_weight_constraint(data, constraints=[], bounds=[], regex=r'', limits=[], min=None, max=None)\n",
    "\n",
    "This method adds a constraint on the `min` and/or `max` weight for all food items matching `regex`. It then returns the updated `constraints` and `bounds`. The `min` and `max` weight are specified in grams.\n",
    "\n",
    "The purpose of `limits` is to keep track of per-food-item limits, in case the user wants to disallow some food items completely."
   ]
  },
  {
   "cell_type": "code",
   "execution_count": 3,
   "metadata": {},
   "outputs": [],
   "source": [
    "# Function for adding a constraint on the total weight of specified foods\n",
    "def add_min_weight(data, constraints=[], bounds=[], regex=r'', limits=[], min=None, max=None):\n",
    "    matched = data['food_code'].astype(str).str.match(regex)\n",
    "    limits = [(0,max/100) if matched[i] else limits[i] for i in range(len(matched))]\n",
    "    \n",
    "    coefs = np.transpose([1 if matched[i] else 0 for i in range(len(matched))])\n",
    "    \n",
    "    # Minimum...\n",
    "    if min:\n",
    "        constraints = np.c_[constraints, -1 * coefs]\n",
    "        bounds.append(-1 * min / 100)\n",
    "\n",
    "    # Maximum...\n",
    "    if max:\n",
    "        constraints = np.c_[constraints, +1 * coefs]\n",
    "        bounds.append(+1 * max / 100)\n",
    "    \n",
    "    return(constraints, bounds, limits)"
   ]
  },
  {
   "attachments": {},
   "cell_type": "markdown",
   "metadata": {},
   "source": [
    "## Query Functions\n",
    "\n",
    "This section defines functions that return SQL queries related to nutrients and recommended daily intake."
   ]
  },
  {
   "attachments": {},
   "cell_type": "markdown",
   "metadata": {},
   "source": [
    "### query_food_percent_rdi(age=None, sex=None)"
   ]
  },
  {
   "cell_type": "code",
   "execution_count": 4,
   "metadata": {},
   "outputs": [],
   "source": [
    "def query_food_percent_rdi(age=None, sex=None):\n",
    "    if not (age and sex):\n",
    "        return None\n",
    "\n",
    "    return(\"\"\"\n",
    "        SELECT * FROM contrib.food_dri_pct_view\n",
    "        WHERE sex = '%s'\n",
    "        AND   type = 'recommended'\n",
    "        AND   age_from = (\n",
    "                SELECT MAX(age_from)\n",
    "                FROM contrib.food_dri_pct_view\n",
    "                WHERE age_from <= %s AND sex = '%s'\n",
    "              )\n",
    "    \"\"\" % (sex, age, sex))\n"
   ]
  },
  {
   "attachments": {},
   "cell_type": "markdown",
   "metadata": {},
   "source": [
    "### query_nutrient_tolerable_upper_limits(age=None, sex=None)"
   ]
  },
  {
   "cell_type": "code",
   "execution_count": 5,
   "metadata": {},
   "outputs": [],
   "source": [
    "def query_nutrient_tolerable_upper_limits(age=None, sex=None):\n",
    "    if not (age and sex):\n",
    "        return None\n",
    "\n",
    "    return(\"\"\"\n",
    "        SELECT\n",
    "            tagname, (tolerable_upper.amount / rec.amount) AS pct_tolerable_upper\n",
    "        FROM (\n",
    "                SELECT age_from, sex, tagname, amount\n",
    "                FROM dietary_reference_intake.dietary_reference_intake\n",
    "                WHERE type = 'tolerable_upper'\n",
    "                AND age_from = (\n",
    "                    SELECT MAX(age_from)\n",
    "                    FROM dietary_reference_intake.dietary_reference_intake\n",
    "                    WHERE age_from <= %s\n",
    "                    AND sex = '%s'\n",
    "                )\n",
    "                AND sex = '%s'\n",
    "        ) AS tolerable_upper\n",
    "        JOIN dietary_reference_intake.dietary_reference_intake AS rec USING(age_from, sex, tagname)\n",
    "        WHERE\n",
    "            rec.type = 'recommended'\n",
    "            AND (tolerable_upper.amount / rec.amount) > 1\n",
    "    \"\"\" % (age, sex, sex))\n",
    "\n",
    "\n"
   ]
  }
 ],
 "metadata": {
  "kernelspec": {
   "display_name": "Python 3 (ipykernel)",
   "language": "python",
   "name": "python3"
  },
  "language_info": {
   "codemirror_mode": {
    "name": "ipython",
    "version": 3
   },
   "file_extension": ".py",
   "mimetype": "text/x-python",
   "name": "python",
   "nbconvert_exporter": "python",
   "pygments_lexer": "ipython3",
   "version": "3.10.6"
  },
  "orig_nbformat": 4
 },
 "nbformat": 4,
 "nbformat_minor": 2
}
