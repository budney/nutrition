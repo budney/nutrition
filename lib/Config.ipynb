{
 "cells": [
  {
   "attachments": {},
   "cell_type": "markdown",
   "metadata": {},
   "source": [
    "# Configuration\n",
    "\n",
    "*This workbook provides configuration for all the other notbooks in this repository. You need to have all these notebooks accessible on the Jupyter server under the path* `./work/` *in order to use it.*\n"
   ]
  },
  {
   "attachments": {},
   "cell_type": "markdown",
   "metadata": {},
   "source": [
    "### Global Variables\n",
    "\n",
    "*These are settings available to all notebooks.*"
   ]
  },
  {
   "cell_type": "code",
   "execution_count": 18,
   "metadata": {},
   "outputs": [],
   "source": [
    "# Authentication information for Plotly\n",
    "PLOTLY_USER = ''\n",
    "PLOTLY_AUTH = ''\n",
    "\n",
    "# Location of the USDA database (Len's Docker image)\n",
    "PORT = 3306\n",
    "HOST = 'usda'"
   ]
  },
  {
   "cell_type": "markdown",
   "metadata": {},
   "source": [
    "### Python Packages"
   ]
  },
  {
   "cell_type": "code",
   "execution_count": 19,
   "metadata": {},
   "outputs": [],
   "source": [
    "import sys\n",
    "\n",
    "try:\n",
    "    import mysql.connector\n",
    "    from chart_studio import plotly\n",
    "except:\n",
    "    print(\"Installing python packages...\")\n",
    "    !{sys.executable} -m pip install mysql.connector\n",
    "    !{sys.executable} -m pip install chart_studio\n",
    "    print(\"Done!\")"
   ]
  },
  {
   "attachments": {},
   "cell_type": "markdown",
   "metadata": {},
   "source": [
    "### Software\n",
    "\n",
    "#### GraphViz"
   ]
  },
  {
   "cell_type": "code",
   "execution_count": 20,
   "metadata": {},
   "outputs": [],
   "source": [
    "# This notebook also uses GraphViz. If it's not installed,\n",
    "# warn the user to install it.\n",
    "\n",
    "found = !which dot 2>/dev/null\n",
    "\n",
    "if not found:\n",
    "    print(\"GraphViz not found. Please install and run again.\")"
   ]
  },
  {
   "attachments": {},
   "cell_type": "markdown",
   "metadata": {},
   "source": [
    "### Additional Configuration\n",
    "\n",
    "This section loads additional configuration files that perform shared setup such as database connections, etc."
   ]
  },
  {
   "cell_type": "code",
   "execution_count": 21,
   "metadata": {},
   "outputs": [],
   "source": [
    "%run ./work/lib/Pandas.ipynb\n",
    "%run ./work/lib/Database.ipynb"
   ]
  }
 ],
 "metadata": {
  "kernelspec": {
   "display_name": "Python 3 (ipykernel)",
   "language": "python",
   "name": "python3"
  },
  "language_info": {
   "codemirror_mode": {
    "name": "ipython",
    "version": 3
   },
   "file_extension": ".py",
   "mimetype": "text/x-python",
   "name": "python",
   "nbconvert_exporter": "python",
   "pygments_lexer": "ipython3",
   "version": "3.10.6"
  },
  "orig_nbformat": 4
 },
 "nbformat": 4,
 "nbformat_minor": 2
}
