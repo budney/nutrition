{
 "cells": [
  {
   "attachments": {},
   "cell_type": "markdown",
   "metadata": {},
   "source": [
    "# Database Functions\n",
    "\n",
    "This notebook centralizes the mechanics of connecting to the target database, etc."
   ]
  },
  {
   "attachments": {},
   "cell_type": "markdown",
   "metadata": {},
   "source": [
    "## Functions\n",
    "\n",
    "### connect(schema=\"usda\", host=\"usda\", port=3306)"
   ]
  },
  {
   "cell_type": "code",
   "execution_count": 1,
   "metadata": {},
   "outputs": [],
   "source": [
    "import mysql.connector\n",
    "\n",
    "def connect(schema=\"usda\", host=\"usda\", port=3306):\n",
    "    return(mysql.connector.connect(\n",
    "       host=host,\n",
    "       port=port,\n",
    "       user=\"root\",\n",
    "       passwd=\"admin\",\n",
    "       database=schema,\n",
    "    ))\n"
   ]
  },
  {
   "attachments": {},
   "cell_type": "markdown",
   "metadata": {},
   "source": [
    "### fetch_dataframe(query, schema=\"usda\", host=None, port=None)"
   ]
  },
  {
   "cell_type": "code",
   "execution_count": 2,
   "metadata": {},
   "outputs": [],
   "source": [
    "def fetch_dataframe(query, schema=\"usda\", host=None, port=None):\n",
    "    connectArgs = {\"schema\": schema}\n",
    "    if host:\n",
    "        connectArgs[\"host\"] = host\n",
    "    if port:\n",
    "        connectArgs[\"port\"] = port\n",
    "\n",
    "    db = connect(**connectArgs)\n",
    "\n",
    "    cur = db.cursor()\n",
    "    cur.execute(query)\n",
    "    data = pd.DataFrame(cur.fetchall())\n",
    "\n",
    "    # Get a list of the columns in the result set\n",
    "    data.columns = [column[0] for column in cur.description]\n",
    "\n",
    "    db.close()\n",
    "    return(data)"
   ]
  }
 ],
 "metadata": {
  "kernelspec": {
   "display_name": "Python 3 (ipykernel)",
   "language": "python",
   "name": "python3"
  },
  "orig_nbformat": 4
 },
 "nbformat": 4,
 "nbformat_minor": 2
}
