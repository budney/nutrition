{
 "cells": [
  {
   "attachments": {},
   "cell_type": "markdown",
   "metadata": {},
   "source": [
    "# Database Functions\n",
    "\n",
    "This notebook centralizes the mechanics of connecting to the target database, etc."
   ]
  },
  {
   "attachments": {},
   "cell_type": "markdown",
   "metadata": {},
   "source": [
    "## Functions\n",
    "\n",
    "### connect(schema=\"usda\")"
   ]
  },
  {
   "cell_type": "code",
   "execution_count": 3,
   "metadata": {},
   "outputs": [],
   "source": [
    "import mysql.connector\n",
    "\n",
    "def connect(schema=\"usda\"):\n",
    "    return(mysql.connector.connect(\n",
    "       host=HOST,\n",
    "       port=PORT,\n",
    "       user=\"root\",\n",
    "       passwd=\"admin\",\n",
    "       database=schema,\n",
    "    ))\n"
   ]
  },
  {
   "attachments": {},
   "cell_type": "markdown",
   "metadata": {},
   "source": [
    "### fetch_dataframe(query, schema=\"usda\")"
   ]
  },
  {
   "cell_type": "code",
   "execution_count": null,
   "metadata": {},
   "outputs": [],
   "source": [
    "def fetch_dataframe(query, schema=\"usda\"):\n",
    "    db = connect(schema)\n",
    "    cur = db.cursor()\n",
    "    cur.execute(query)\n",
    "    data = cur.fetchall()\n",
    "    db.close()\n",
    "    return(pd.DataFrame(data))"
   ]
  }
 ],
 "metadata": {
  "kernelspec": {
   "display_name": "Python 3 (ipykernel)",
   "language": "python",
   "name": "python3"
  },
  "language_info": {
   "codemirror_mode": {
    "name": "ipython",
    "version": 3
   },
   "file_extension": ".py",
   "mimetype": "text/x-python",
   "name": "python",
   "nbconvert_exporter": "python",
   "pygments_lexer": "ipython3",
   "version": "3.10.6"
  },
  "orig_nbformat": 4
 },
 "nbformat": 4,
 "nbformat_minor": 2
}
