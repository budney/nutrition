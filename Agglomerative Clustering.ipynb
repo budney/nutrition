{
 "cells": [
  {
   "cell_type": "code",
   "execution_count": 125,
   "metadata": {},
   "outputs": [],
   "source": [
    "import sys\n",
    "\n",
    "try:\n",
    "    import mysql.connector\n",
    "    import chart_studio\n",
    "except:\n",
    "    !{sys.executable} -m pip install mysql.connector\n",
    "    !{sys.executable} -m pip install chart_studio"
   ]
  },
  {
   "cell_type": "code",
   "execution_count": 115,
   "metadata": {},
   "outputs": [],
   "source": [
    "# Customize stuff globally\n",
    "\n",
    "# Location of the USDA database (Len's Docker image)\n",
    "HOST='usda'\n",
    "PORT = 3306\n",
    "# Authentication information for Plotly\n",
    "PLOTLY_USER = ''\n",
    "PLOTLY_AUTH = ''\n"
   ]
  },
  {
   "cell_type": "code",
   "execution_count": 126,
   "metadata": {},
   "outputs": [],
   "source": [
    "# Function definitions for the rest of the workbook\n",
    "import mysql.connector\n",
    "import pandas as pd\n",
    "from chart_studio import plotly as py\n",
    "from plotly.graph_objs import *\n",
    "import plotly.tools as tls\n",
    "import numpy as np\n",
    "\n",
    "def connect():\n",
    "    return(mysql.connector.connect(\n",
    "       host=HOST,\n",
    "       port=PORT,\n",
    "       user=\"root\",\n",
    "       passwd=\"admin\",\n",
    "       database=\"fndds\",\n",
    "    ))\n",
    "\n",
    "def get_data(query):\n",
    "    db = connect()\n",
    "    cur = db.cursor()\n",
    "    cur.execute(query)\n",
    "    data = cur.fetchall()\n",
    "    db.close()\n",
    "    return(pd.DataFrame(data))\n",
    "    \n",
    "def columns():\n",
    "    return(['food_code', 'food_desc', 'food_group_code', 'food_group_desc',\n",
    "    'is_animal', 'is_fruit', 'is_vegetable', 'is_dairy', 'is_white_meat',\n",
    "    'is_red_meat', 'is_nut_or_seed', 'is_legume',\n",
    "    'pct_water', 'pct_procnt', 'pct_chocdf', 'pct_fibtg', 'pct_ca', 'pct_fe', 'pct_mg', 'pct_p',\n",
    "    'pct_k', 'pct_na', 'pct_zn', 'pct_cu', 'pct_mn', 'pct_se', 'pct_vitc', 'pct_thia', 'pct_ribf',\n",
    "    'pct_nia', 'pct_vitb6a', 'pct_fol', 'pct_choln', 'pct_vitb12', 'pct_vita_rae', 'pct_tocpha',\n",
    "    'pct_vitd', 'pct_vitk1', 'pct_f18d2', 'pct_f18d3',])\n",
    "\n",
    "def fndds_query():\n",
    "    return(\"\"\"SELECT\n",
    "            food.food_code, main_food_description\n",
    "            ,LEFT(food.food_code, 2) AS food_group_code\n",
    "            ,food_coding_scheme.description AS food_group_description\n",
    "            ,LEFT(food.food_code, 2) IN (11, 12, 14, 20, 21, 22, 23, 24, 31, 32) AS is_animal\n",
    "            ,LEFT(food.food_code, 2) IN (61, 62, 63) AS is_fruit\n",
    "            ,LEFT(food.food_code, 2) IN (71, 72, 73, 74, 75) AS is_vegetable\n",
    "            ,LEFT(food.food_code, 2) IN (11, 12, 14) AS is_dairy\n",
    "            ,LEFT(food.food_code, 2) IN (22, 24) AS is_white_meat\n",
    "            ,LEFT(food.food_code, 2) IN (21, 23) AS is_red_meat\n",
    "            ,LEFT(food.food_code, 2) IN (42, 43) AS is_nut_or_seed\n",
    "            ,LEFT(food.food_code, 2) IN (41) AS is_legume\n",
    "            ,food.water/dri.water AS pct_water\n",
    "            ,food.procnt/dri.procnt AS pct_procnt\n",
    "            ,food.chocdf/dri.chocdf AS pct_chocdf\n",
    "            ,food.fibtg/dri.fibtg AS pct_fibtg\n",
    "            ,food.ca/dri.ca AS pct_ca\n",
    "            ,food.fe/dri.fe AS pct_fe\n",
    "            ,food.mg/dri.mg AS pct_mg\n",
    "            ,food.p/dri.p AS pct_p\n",
    "            ,food.k/dri.k AS pct_k\n",
    "            ,food.na/dri.na AS pct_na\n",
    "            ,food.zn/dri.zn AS pct_zn\n",
    "            ,food.cu/dri.cu AS pct_cu\n",
    "            ,food.mn/dri.mn AS pct_mn\n",
    "            ,food.se/dri.se AS pct_se\n",
    "            ,food.vitc/dri.vitc AS pct_vitc\n",
    "            ,food.thia/dri.thia AS pct_thia\n",
    "            ,food.ribf/dri.ribf AS pct_ribf\n",
    "            ,food.nia/dri.nia AS pct_nia\n",
    "            ,food.vitb6a/dri.vitb6a AS pct_vitb6a\n",
    "            ,food.fol/dri.fol AS pct_fol\n",
    "            ,food.choln/dri.choln AS pct_choln\n",
    "            ,food.vitb12/dri.vitb12 AS pct_vitb12\n",
    "            ,food.vita_rae/dri.vita_rae AS pct_vita_rae\n",
    "            ,food.tocpha/dri.tocpha AS pct_tocpha\n",
    "            ,food.vitd/dri.vitd AS pct_vitd\n",
    "            ,food.vitk1/dri.vitk1 AS pct_vitk1\n",
    "            ,food.f18d2/dri.f18d2 AS pct_f18d2\n",
    "            ,food.f18d3/dri.f18d3 AS pct_f18d3\n",
    "        FROM\n",
    "            fndds.fndds_nut_val_flat AS food\n",
    "            JOIN dietary_reference_intake.dietary_reference_intake_flat AS dri\n",
    "            JOIN fndds.food_coding_scheme ON prefix = LEFT(food.food_code, 2)\n",
    "            JOIN (\n",
    "                SELECT food_code, count(*) AS count\n",
    "                FROM fndds_ingred\n",
    "                GROUP BY food_code\n",
    "                HAVING count = 1\n",
    "            ) AS one_ingred ON one_ingred.food_code = food.food_code\n",
    "            LEFT JOIN len.food_clusters AS clust ON clust.food_code = food.food_code\n",
    "        WHERE\n",
    "            age_from = 31 AND sex = 'Male' AND type = 'recommended'\n",
    "            AND clust.food_code IS NULL\n",
    "            AND LEFT(food.food_code, 2) NOT IN (13, 27, 28, 32, 33, 35, 44, 53, 54, 55, 57, 58, 67, 76, 77, 91, 92, 93, 94)\n",
    "            AND LEFT(food.food_code, 3) NOT IN (110, 116, 117, 131, 132, 133, 134, 144, 145, 146, 147, 217, 228, 234, 247, 415, 416, 419, 423, 716, 717, 718, 754, 756, 915, 916, 917, 918)\n",
    "        UNION DISTINCT\n",
    "        SELECT\n",
    "            clusters.cluster_id AS food_code, -- If less than 11000000, won't clash with food codes\n",
    "            cluster_description AS main_food_description\n",
    "            ,LEFT(fcs.prefix, 2) AS food_group_code\n",
    "            ,fcs.description\n",
    "            ,LEFT(fcs.prefix, 2) IN (11, 12, 14, 20, 21, 22, 23, 24, 31, 32) AS is_animal\n",
    "            ,LEFT(fcs.prefix, 2) IN (61, 62, 63) AS is_fruit\n",
    "            ,LEFT(fcs.prefix, 2) IN (71, 72, 73, 74, 75) AS is_vegetable\n",
    "            ,LEFT(fcs.prefix, 2) IN (11, 12, 14) AS is_dairy\n",
    "            ,LEFT(fcs.prefix, 2) IN (22, 24) AS is_white_meat\n",
    "            ,LEFT(fcs.prefix, 2) IN (21, 23) AS is_red_meat\n",
    "            ,LEFT(fcs.prefix, 2) IN (42, 43) AS is_nut_or_seed\n",
    "            ,LEFT(fcs.prefix, 2) IN (41) AS is_legume\n",
    "            ,food.water/dri.water AS pct_water\n",
    "            ,food.procnt/dri.procnt AS pct_procnt\n",
    "            ,food.chocdf/dri.chocdf AS pct_chocdf\n",
    "            ,food.fibtg/dri.fibtg AS pct_fibtg\n",
    "            ,food.ca/dri.ca AS pct_ca\n",
    "            ,food.fe/dri.fe AS pct_fe\n",
    "            ,food.mg/dri.mg AS pct_mg\n",
    "            ,food.p/dri.p AS pct_p\n",
    "            ,food.k/dri.k AS pct_k\n",
    "            ,food.na/dri.na AS pct_na\n",
    "            ,food.zn/dri.zn AS pct_zn\n",
    "            ,food.cu/dri.cu AS pct_cu\n",
    "            ,food.mn/dri.mn AS pct_mn\n",
    "            ,food.se/dri.se AS pct_se\n",
    "            ,food.vitc/dri.vitc AS pct_vitc\n",
    "            ,food.thia/dri.thia AS pct_thia\n",
    "            ,food.ribf/dri.ribf AS pct_ribf\n",
    "            ,food.nia/dri.nia AS pct_nia\n",
    "            ,food.vitb6a/dri.vitb6a AS pct_vitb6a\n",
    "            ,food.fol/dri.fol AS pct_fol\n",
    "            ,food.choln/dri.choln AS pct_choln\n",
    "            ,food.vitb12/dri.vitb12 AS pct_vitb12\n",
    "            ,food.vita_rae/dri.vita_rae AS pct_vita_rae\n",
    "            ,food.tocpha/dri.tocpha AS pct_tocpha\n",
    "            ,food.vitd/dri.vitd AS pct_vitd\n",
    "            ,food.vitk1/dri.vitk1 AS pct_vitk1\n",
    "            ,food.f18d2/dri.f18d2 AS pct_f18d2\n",
    "            ,food.f18d3/dri.f18d3 AS pct_f18d3\n",
    "        FROM\n",
    "            len.clusters\n",
    "            JOIN fndds.food_coding_scheme fcs ON clusters.prefix = fcs.prefix\n",
    "            JOIN len.cluster_nutrients AS food USING(cluster_id)         \n",
    "            JOIN dietary_reference_intake.dietary_reference_intake_flat AS dri\n",
    "        WHERE\n",
    "            age_from = 31 AND sex = 'Male' AND type = 'recommended'\n",
    "            AND LEFT(fcs.prefix, 2) NOT IN (13, 27, 28, 32, 33, 35, 44, 53, 54, 55, 57, 58, 67, 76, 77, 91, 92, 93, 94)\n",
    "            AND LEFT(fcs.prefix, 3) NOT IN (110, 116, 117, 131, 132, 133, 134, 144, 145, 146, 147, 217, 228, 234, 247, 415, 416, 419, 423, 716, 717, 718, 754, 756, 915, 916, 917, 918)\n",
    "        ;\"\"\")\n",
    "\n",
    "# Graph the results for selected food groups\n",
    "def scatterplot_1d(data, mask):\n",
    "    tls.set_credentials_file(username=PLOTLY_USER, api_key=PLOTLY_AUTH)\n",
    "    \n",
    "    traces = []\n",
    "    #names = ['Vegetables', 'Fruits', 'Nuts, Seeds, and Legumes', 'Dairy', 'White Meat', 'Red Meat']\n",
    "    #names = ['Plant', 'Animal']\n",
    "    names = ['Low', 'Medium', 'High']\n",
    "\n",
    "    for n in range(max(mask)+1):\n",
    "        x = data[mask==n,0]\n",
    "        y = np.full((1,len(x)), n).flatten()\n",
    "        trace = Scatter(\n",
    "            x=x,\n",
    "            y=y,\n",
    "            mode='markers',\n",
    "            name=names[n],\n",
    "            marker=Marker(\n",
    "                size=12,\n",
    "                line=Line(\n",
    "                    color='rgba(217, 217, 217, 0.14)',\n",
    "                    width=0.5),\n",
    "            opacity=0.5))\n",
    "        traces.append(trace)\n",
    "\n",
    "    MyLayout = Layout(xaxis=layout.XAxis(showline=False),\n",
    "                    yaxis=layout.YAxis(showline=False))\n",
    "    return Figure(data=traces, layout=MyLayout)\n",
    "\n",
    "# Graph the given points, colored by label\n",
    "def scatterplot_2d(data, labels):\n",
    "    tls.set_credentials_file(username=PLOTLY_USER, api_key=PLOTLY_AUTH)\n",
    "    \n",
    "    traces = []\n",
    "    names = list(set(labels))\n",
    "    \n",
    "    for name in names:\n",
    "        x = data[labels==name,0]\n",
    "        y = data[labels==name,1]\n",
    "        trace = Scatter(\n",
    "            x=x,\n",
    "            y=y,\n",
    "            mode='markers',\n",
    "            name=name,\n",
    "            marker=Marker(\n",
    "                size=12,\n",
    "                line=Line(\n",
    "                    color='rgba(217, 217, 217, 0.14)',\n",
    "                    width=0.5),\n",
    "            opacity=0.5))\n",
    "        traces.append(trace)\n",
    "\n",
    "    MyLayout = Layout(xaxis=layout.XAxis(showline=False),\n",
    "                    yaxis=layout.YAxis(showline=False))\n",
    "    return Figure(data=traces, layout=MyLayout)\n",
    "\n",
    "# Draw a graph of the best decision tree\n",
    "from sklearn.tree import export_graphviz\n",
    "from IPython.display import display\n",
    "\n",
    "# Export as dot file\n",
    "def graph_tree(tree, columns, class_labels):\n",
    "    export_graphviz(tree, out_file='tree.dot', \n",
    "                    feature_names = columns,\n",
    "                    class_names = class_labels,\n",
    "                    rounded = True, proportion = False, \n",
    "                    precision = 2, filled = True, special_characters=True)\n",
    "\n",
    "    # Convert to png using system command (requires Graphviz)\n",
    "    from subprocess import call\n",
    "    call(['dot', '-Tpng', 'tree.dot', '-o', 'tree.png', '-Gdpi=600'])\n",
    "\n",
    "    # Display in jupyter notebook\n",
    "    from IPython.display import Image\n",
    "    return(Image(filename = 'tree.png'))"
   ]
  },
  {
   "cell_type": "code",
   "execution_count": 116,
   "metadata": {},
   "outputs": [],
   "source": [
    "import plotly.figure_factory as ff\n",
    "                  \n",
    "# Authors: Mathew Kallada\n",
    "# License: BSD 3 clause\n",
    "\"\"\"\n",
    "=========================================\n",
    "Plot Hierarachical Clustering Dendrogram \n",
    "=========================================\n",
    "\n",
    "This example plots the corresponding dendrogram of a hierarchical clustering\n",
    "using AgglomerativeClustering and the dendrogram method available in scipy.\n",
    "\"\"\"\n",
    "\n",
    "import numpy as np\n",
    "\n",
    "from matplotlib import pyplot as plt\n",
    "from scipy.cluster.hierarchy import dendrogram\n",
    "from sklearn.datasets import load_iris\n",
    "from sklearn.cluster import AgglomerativeClustering\n",
    "#from sklearn.cluster.hierarchical import linkage_tree\n",
    "\n",
    "    # Create linkage matrix and then plot the dendrogram\n",
    "\n",
    "def linkage_matrix(model, **kwargs):\n",
    "    # create the counts of samples under each node\n",
    "    counts = np.zeros(model.children_.shape[0])\n",
    "    n_samples = len(model.labels_)\n",
    "    for i, merge in enumerate(model.children_):\n",
    "        current_count = 0\n",
    "        for child_idx in merge:\n",
    "            if child_idx < n_samples:\n",
    "                current_count += 1  # leaf node\n",
    "            else:\n",
    "                current_count += counts[child_idx - n_samples]\n",
    "        counts[i] = current_count\n",
    "\n",
    "    linkage_matrix = np.column_stack(\n",
    "        [model.children_, model.distances_, counts]\n",
    "    ).astype(float)\n",
    "    \n",
    "    return linkage_matrix\n",
    "\n",
    "def plot_dendrogram(model, **kwargs):\n",
    "    # Plot the corresponding dendrogram\n",
    "    return ff.create_dendrogram(linkage_matrix(model), **kwargs)"
   ]
  },
  {
   "cell_type": "code",
   "execution_count": 127,
   "metadata": {},
   "outputs": [],
   "source": [
    "def fancy_dendrogram(*args, **kwargs):\n",
    "    max_d = kwargs.pop('max_d', None)\n",
    "    if max_d and 'color_threshold' not in kwargs:\n",
    "        kwargs['color_threshold'] = max_d\n",
    "    annotate_above = kwargs.pop('annotate_above', 0)\n",
    "\n",
    "    ddata = dendrogram(*args, **kwargs)\n",
    "\n",
    "    if not kwargs.get('no_plot', False):\n",
    "        plt.title('Hierarchical Clustering Dendrogram (truncated)')\n",
    "        plt.xlabel('sample index or (cluster size)')\n",
    "        plt.ylabel('distance')\n",
    "        for i, d, c in zip(ddata['icoord'], ddata['dcoord'], ddata['color_list']):\n",
    "            x = 0.5 * sum(i[1:3])\n",
    "            y = d[1]\n",
    "            if y > annotate_above:\n",
    "                plt.plot(x, y, 'o', c=c)\n",
    "                plt.annotate(\"%.3g\" % y, (x, y), xytext=(0, -5),\n",
    "                             textcoords='offset points',\n",
    "                             va='top', ha='center')\n",
    "        if max_d:\n",
    "            plt.axhline(y=max_d, c='k')\n",
    "    return ddata"
   ]
  },
  {
   "cell_type": "code",
   "execution_count": 117,
   "metadata": {
    "scrolled": true
   },
   "outputs": [
    {
     "name": "stdout",
     "output_type": "stream",
     "text": [
      "(587, 27)\n"
     ]
    }
   ],
   "source": [
    "# Lookup food data from the DB\n",
    "data = get_data(fndds_query())\n",
    "data.columns = columns()\n",
    "nutrients = data.columns[13:]\n",
    "\n",
    "# Strip any records with NaN as values\n",
    "data = data.dropna()\n",
    "\n",
    "# Strip out any records with no nutritional value at all\n",
    "data = data[np.linalg.norm(data.loc[:, 'pct_procnt':], axis=1) != 0]\n",
    "data.reset_index(drop=True, inplace=True)\n",
    "\n",
    "foods = data.iloc[:, 1]\n",
    "X = data.loc[:, 'pct_procnt':]\n",
    "\n",
    "# Define the classes and their labels\n",
    "y = data.loc[:, 'food_group_code']\n",
    "labels = data.loc[:, 'food_group_desc']\n",
    "\n",
    "print(X.shape)"
   ]
  },
  {
   "cell_type": "code",
   "execution_count": 118,
   "metadata": {},
   "outputs": [],
   "source": [
    "# Import library to do agglomerative clustering\n",
    "from sklearn.cluster import AgglomerativeClustering\n",
    "\n",
    "# Group nutrients into clusters based on foods\n",
    "nut_cluster = AgglomerativeClustering(n_clusters=None, affinity='cosine', linkage='complete', distance_threshold=0).fit(X.T)\n",
    "#nut_cluster.labels_ = [X.columns[i] for i in nut_cluster.labels_]\n",
    "\n",
    "# Group foods into clusters based on nutrients\n",
    "food_cluster = AgglomerativeClustering(n_clusters=None, distance_threshold=0).fit(X)"
   ]
  },
  {
   "cell_type": "code",
   "execution_count": 119,
   "metadata": {},
   "outputs": [
    {
     "data": {
      "application/vnd.plotly.v1+json": {
       "config": {
        "plotlyServerURL": "https://plotly.com"
       },
       "data": [
        {
         "hoverinfo": "text",
         "marker": {
          "color": "rgb(61,153,112)"
         },
         "mode": "lines",
         "type": "scatter",
         "x": [
          0,
          5.744584556045726,
          5.744584556045726,
          0
         ],
         "xaxis": "x",
         "y": [
          -5,
          -5,
          -15,
          -15
         ],
         "yaxis": "y"
        },
        {
         "hoverinfo": "text",
         "marker": {
          "color": "rgb(61,153,112)"
         },
         "mode": "lines",
         "type": "scatter",
         "x": [
          0,
          6.403347422602049,
          6.403347422602049,
          0
         ],
         "xaxis": "x",
         "y": [
          -25,
          -25,
          -35,
          -35
         ],
         "yaxis": "y"
        },
        {
         "hoverinfo": "text",
         "marker": {
          "color": "rgb(61,153,112)"
         },
         "mode": "lines",
         "type": "scatter",
         "x": [
          0,
          5.477523688466317,
          5.477523688466317,
          0
         ],
         "xaxis": "x",
         "y": [
          -55,
          -55,
          -65,
          -65
         ],
         "yaxis": "y"
        },
        {
         "hoverinfo": "text",
         "marker": {
          "color": "rgb(61,153,112)"
         },
         "mode": "lines",
         "type": "scatter",
         "x": [
          0,
          13.304714493402399,
          13.304714493402399,
          5.477523688466317
         ],
         "xaxis": "x",
         "y": [
          -45,
          -45,
          -60,
          -60
         ],
         "yaxis": "y"
        },
        {
         "hoverinfo": "text",
         "marker": {
          "color": "rgb(61,153,112)"
         },
         "mode": "lines",
         "type": "scatter",
         "x": [
          6.403347422602049,
          22.36192272159844,
          22.36192272159844,
          13.304714493402399
         ],
         "xaxis": "x",
         "y": [
          -30,
          -30,
          -52.5,
          -52.5
         ],
         "yaxis": "y"
        },
        {
         "hoverinfo": "text",
         "marker": {
          "color": "rgb(61,153,112)"
         },
         "mode": "lines",
         "type": "scatter",
         "x": [
          5.744584556045726,
          26.703173118181272,
          26.703173118181272,
          22.36192272159844
         ],
         "xaxis": "x",
         "y": [
          -10,
          -10,
          -41.25,
          -41.25
         ],
         "yaxis": "y"
        },
        {
         "hoverinfo": "text",
         "marker": {
          "color": "rgb(255,65,54)"
         },
         "mode": "lines",
         "type": "scatter",
         "x": [
          0,
          2.239530381331156,
          2.239530381331156,
          0
         ],
         "xaxis": "x",
         "y": [
          -75,
          -75,
          -85,
          -85
         ],
         "yaxis": "y"
        },
        {
         "hoverinfo": "text",
         "marker": {
          "color": "rgb(255,65,54)"
         },
         "mode": "lines",
         "type": "scatter",
         "x": [
          0,
          7.280111104838161,
          7.280111104838161,
          0
         ],
         "xaxis": "x",
         "y": [
          -95,
          -95,
          -105,
          -105
         ],
         "yaxis": "y"
        },
        {
         "hoverinfo": "text",
         "marker": {
          "color": "rgb(255,65,54)"
         },
         "mode": "lines",
         "type": "scatter",
         "x": [
          2.239530381331156,
          13.040222883517396,
          13.040222883517396,
          7.280111104838161
         ],
         "xaxis": "x",
         "y": [
          -80,
          -80,
          -100,
          -100
         ],
         "yaxis": "y"
        },
        {
         "hoverinfo": "text",
         "marker": {
          "color": "rgb(255,65,54)"
         },
         "mode": "lines",
         "type": "scatter",
         "x": [
          0,
          4.36277603638556,
          4.36277603638556,
          0
         ],
         "xaxis": "x",
         "y": [
          -125,
          -125,
          -135,
          -135
         ],
         "yaxis": "y"
        },
        {
         "hoverinfo": "text",
         "marker": {
          "color": "rgb(255,65,54)"
         },
         "mode": "lines",
         "type": "scatter",
         "x": [
          0,
          7.142318629335901,
          7.142318629335901,
          4.36277603638556
         ],
         "xaxis": "x",
         "y": [
          -115,
          -115,
          -130,
          -130
         ],
         "yaxis": "y"
        },
        {
         "hoverinfo": "text",
         "marker": {
          "color": "rgb(255,65,54)"
         },
         "mode": "lines",
         "type": "scatter",
         "x": [
          0,
          5.481363279847687,
          5.481363279847687,
          0
         ],
         "xaxis": "x",
         "y": [
          -155,
          -155,
          -165,
          -165
         ],
         "yaxis": "y"
        },
        {
         "hoverinfo": "text",
         "marker": {
          "color": "rgb(255,65,54)"
         },
         "mode": "lines",
         "type": "scatter",
         "x": [
          0,
          11.753260934242164,
          11.753260934242164,
          5.481363279847687
         ],
         "xaxis": "x",
         "y": [
          -145,
          -145,
          -160,
          -160
         ],
         "yaxis": "y"
        },
        {
         "hoverinfo": "text",
         "marker": {
          "color": "rgb(255,65,54)"
         },
         "mode": "lines",
         "type": "scatter",
         "x": [
          7.142318629335901,
          12.96452051145648,
          12.96452051145648,
          11.753260934242164
         ],
         "xaxis": "x",
         "y": [
          -122.5,
          -122.5,
          -152.5,
          -152.5
         ],
         "yaxis": "y"
        },
        {
         "hoverinfo": "text",
         "marker": {
          "color": "rgb(255,65,54)"
         },
         "mode": "lines",
         "type": "scatter",
         "x": [
          0,
          5.404757914418494,
          5.404757914418494,
          0
         ],
         "xaxis": "x",
         "y": [
          -175,
          -175,
          -185,
          -185
         ],
         "yaxis": "y"
        },
        {
         "hoverinfo": "text",
         "marker": {
          "color": "rgb(255,65,54)"
         },
         "mode": "lines",
         "type": "scatter",
         "x": [
          0,
          1.734480783681219,
          1.734480783681219,
          0
         ],
         "xaxis": "x",
         "y": [
          -215,
          -215,
          -225,
          -225
         ],
         "yaxis": "y"
        },
        {
         "hoverinfo": "text",
         "marker": {
          "color": "rgb(255,65,54)"
         },
         "mode": "lines",
         "type": "scatter",
         "x": [
          0,
          5.4024861283053776,
          5.4024861283053776,
          1.734480783681219
         ],
         "xaxis": "x",
         "y": [
          -205,
          -205,
          -220,
          -220
         ],
         "yaxis": "y"
        },
        {
         "hoverinfo": "text",
         "marker": {
          "color": "rgb(255,65,54)"
         },
         "mode": "lines",
         "type": "scatter",
         "x": [
          0,
          9.057586029313072,
          9.057586029313072,
          5.4024861283053776
         ],
         "xaxis": "x",
         "y": [
          -195,
          -195,
          -212.5,
          -212.5
         ],
         "yaxis": "y"
        },
        {
         "hoverinfo": "text",
         "marker": {
          "color": "rgb(255,65,54)"
         },
         "mode": "lines",
         "type": "scatter",
         "x": [
          5.404757914418494,
          10.636460892796821,
          10.636460892796821,
          9.057586029313072
         ],
         "xaxis": "x",
         "y": [
          -180,
          -180,
          -203.75,
          -203.75
         ],
         "yaxis": "y"
        },
        {
         "hoverinfo": "text",
         "marker": {
          "color": "rgb(255,65,54)"
         },
         "mode": "lines",
         "type": "scatter",
         "x": [
          0,
          2.249138892084184,
          2.249138892084184,
          0
         ],
         "xaxis": "x",
         "y": [
          -245,
          -245,
          -255,
          -255
         ],
         "yaxis": "y"
        },
        {
         "hoverinfo": "text",
         "marker": {
          "color": "rgb(255,65,54)"
         },
         "mode": "lines",
         "type": "scatter",
         "x": [
          0,
          10.688022336853372,
          10.688022336853372,
          2.249138892084184
         ],
         "xaxis": "x",
         "y": [
          -235,
          -235,
          -250,
          -250
         ],
         "yaxis": "y"
        },
        {
         "hoverinfo": "text",
         "marker": {
          "color": "rgb(255,65,54)"
         },
         "mode": "lines",
         "type": "scatter",
         "x": [
          10.636460892796821,
          23.122728620136005,
          23.122728620136005,
          10.688022336853372
         ],
         "xaxis": "x",
         "y": [
          -191.875,
          -191.875,
          -242.5,
          -242.5
         ],
         "yaxis": "y"
        },
        {
         "hoverinfo": "text",
         "marker": {
          "color": "rgb(255,65,54)"
         },
         "mode": "lines",
         "type": "scatter",
         "x": [
          12.96452051145648,
          28.30223625104726,
          28.30223625104726,
          23.122728620136005
         ],
         "xaxis": "x",
         "y": [
          -137.5,
          -137.5,
          -217.1875,
          -217.1875
         ],
         "yaxis": "y"
        },
        {
         "hoverinfo": "text",
         "marker": {
          "color": "rgb(255,65,54)"
         },
         "mode": "lines",
         "type": "scatter",
         "x": [
          13.040222883517396,
          40.23982911652553,
          40.23982911652553,
          28.30223625104726
         ],
         "xaxis": "x",
         "y": [
          -90,
          -90,
          -177.34375,
          -177.34375
         ],
         "yaxis": "y"
        },
        {
         "hoverinfo": "text",
         "marker": {
          "color": "rgb(0,116,217)"
         },
         "mode": "lines",
         "type": "scatter",
         "x": [
          26.703173118181272,
          70.39005927673269,
          70.39005927673269,
          40.23982911652553
         ],
         "xaxis": "x",
         "y": [
          -25.625,
          -25.625,
          -133.671875,
          -133.671875
         ],
         "yaxis": "y"
        }
       ],
       "layout": {
        "autosize": false,
        "height": null,
        "hovermode": "closest",
        "showlegend": false,
        "template": {
         "data": {
          "bar": [
           {
            "error_x": {
             "color": "#2a3f5f"
            },
            "error_y": {
             "color": "#2a3f5f"
            },
            "marker": {
             "line": {
              "color": "#E5ECF6",
              "width": 0.5
             },
             "pattern": {
              "fillmode": "overlay",
              "size": 10,
              "solidity": 0.2
             }
            },
            "type": "bar"
           }
          ],
          "barpolar": [
           {
            "marker": {
             "line": {
              "color": "#E5ECF6",
              "width": 0.5
             },
             "pattern": {
              "fillmode": "overlay",
              "size": 10,
              "solidity": 0.2
             }
            },
            "type": "barpolar"
           }
          ],
          "carpet": [
           {
            "aaxis": {
             "endlinecolor": "#2a3f5f",
             "gridcolor": "white",
             "linecolor": "white",
             "minorgridcolor": "white",
             "startlinecolor": "#2a3f5f"
            },
            "baxis": {
             "endlinecolor": "#2a3f5f",
             "gridcolor": "white",
             "linecolor": "white",
             "minorgridcolor": "white",
             "startlinecolor": "#2a3f5f"
            },
            "type": "carpet"
           }
          ],
          "choropleth": [
           {
            "colorbar": {
             "outlinewidth": 0,
             "ticks": ""
            },
            "type": "choropleth"
           }
          ],
          "contour": [
           {
            "colorbar": {
             "outlinewidth": 0,
             "ticks": ""
            },
            "colorscale": [
             [
              0,
              "#0d0887"
             ],
             [
              0.1111111111111111,
              "#46039f"
             ],
             [
              0.2222222222222222,
              "#7201a8"
             ],
             [
              0.3333333333333333,
              "#9c179e"
             ],
             [
              0.4444444444444444,
              "#bd3786"
             ],
             [
              0.5555555555555556,
              "#d8576b"
             ],
             [
              0.6666666666666666,
              "#ed7953"
             ],
             [
              0.7777777777777778,
              "#fb9f3a"
             ],
             [
              0.8888888888888888,
              "#fdca26"
             ],
             [
              1,
              "#f0f921"
             ]
            ],
            "type": "contour"
           }
          ],
          "contourcarpet": [
           {
            "colorbar": {
             "outlinewidth": 0,
             "ticks": ""
            },
            "type": "contourcarpet"
           }
          ],
          "heatmap": [
           {
            "colorbar": {
             "outlinewidth": 0,
             "ticks": ""
            },
            "colorscale": [
             [
              0,
              "#0d0887"
             ],
             [
              0.1111111111111111,
              "#46039f"
             ],
             [
              0.2222222222222222,
              "#7201a8"
             ],
             [
              0.3333333333333333,
              "#9c179e"
             ],
             [
              0.4444444444444444,
              "#bd3786"
             ],
             [
              0.5555555555555556,
              "#d8576b"
             ],
             [
              0.6666666666666666,
              "#ed7953"
             ],
             [
              0.7777777777777778,
              "#fb9f3a"
             ],
             [
              0.8888888888888888,
              "#fdca26"
             ],
             [
              1,
              "#f0f921"
             ]
            ],
            "type": "heatmap"
           }
          ],
          "heatmapgl": [
           {
            "colorbar": {
             "outlinewidth": 0,
             "ticks": ""
            },
            "colorscale": [
             [
              0,
              "#0d0887"
             ],
             [
              0.1111111111111111,
              "#46039f"
             ],
             [
              0.2222222222222222,
              "#7201a8"
             ],
             [
              0.3333333333333333,
              "#9c179e"
             ],
             [
              0.4444444444444444,
              "#bd3786"
             ],
             [
              0.5555555555555556,
              "#d8576b"
             ],
             [
              0.6666666666666666,
              "#ed7953"
             ],
             [
              0.7777777777777778,
              "#fb9f3a"
             ],
             [
              0.8888888888888888,
              "#fdca26"
             ],
             [
              1,
              "#f0f921"
             ]
            ],
            "type": "heatmapgl"
           }
          ],
          "histogram": [
           {
            "marker": {
             "pattern": {
              "fillmode": "overlay",
              "size": 10,
              "solidity": 0.2
             }
            },
            "type": "histogram"
           }
          ],
          "histogram2d": [
           {
            "colorbar": {
             "outlinewidth": 0,
             "ticks": ""
            },
            "colorscale": [
             [
              0,
              "#0d0887"
             ],
             [
              0.1111111111111111,
              "#46039f"
             ],
             [
              0.2222222222222222,
              "#7201a8"
             ],
             [
              0.3333333333333333,
              "#9c179e"
             ],
             [
              0.4444444444444444,
              "#bd3786"
             ],
             [
              0.5555555555555556,
              "#d8576b"
             ],
             [
              0.6666666666666666,
              "#ed7953"
             ],
             [
              0.7777777777777778,
              "#fb9f3a"
             ],
             [
              0.8888888888888888,
              "#fdca26"
             ],
             [
              1,
              "#f0f921"
             ]
            ],
            "type": "histogram2d"
           }
          ],
          "histogram2dcontour": [
           {
            "colorbar": {
             "outlinewidth": 0,
             "ticks": ""
            },
            "colorscale": [
             [
              0,
              "#0d0887"
             ],
             [
              0.1111111111111111,
              "#46039f"
             ],
             [
              0.2222222222222222,
              "#7201a8"
             ],
             [
              0.3333333333333333,
              "#9c179e"
             ],
             [
              0.4444444444444444,
              "#bd3786"
             ],
             [
              0.5555555555555556,
              "#d8576b"
             ],
             [
              0.6666666666666666,
              "#ed7953"
             ],
             [
              0.7777777777777778,
              "#fb9f3a"
             ],
             [
              0.8888888888888888,
              "#fdca26"
             ],
             [
              1,
              "#f0f921"
             ]
            ],
            "type": "histogram2dcontour"
           }
          ],
          "mesh3d": [
           {
            "colorbar": {
             "outlinewidth": 0,
             "ticks": ""
            },
            "type": "mesh3d"
           }
          ],
          "parcoords": [
           {
            "line": {
             "colorbar": {
              "outlinewidth": 0,
              "ticks": ""
             }
            },
            "type": "parcoords"
           }
          ],
          "pie": [
           {
            "automargin": true,
            "type": "pie"
           }
          ],
          "scatter": [
           {
            "fillpattern": {
             "fillmode": "overlay",
             "size": 10,
             "solidity": 0.2
            },
            "type": "scatter"
           }
          ],
          "scatter3d": [
           {
            "line": {
             "colorbar": {
              "outlinewidth": 0,
              "ticks": ""
             }
            },
            "marker": {
             "colorbar": {
              "outlinewidth": 0,
              "ticks": ""
             }
            },
            "type": "scatter3d"
           }
          ],
          "scattercarpet": [
           {
            "marker": {
             "colorbar": {
              "outlinewidth": 0,
              "ticks": ""
             }
            },
            "type": "scattercarpet"
           }
          ],
          "scattergeo": [
           {
            "marker": {
             "colorbar": {
              "outlinewidth": 0,
              "ticks": ""
             }
            },
            "type": "scattergeo"
           }
          ],
          "scattergl": [
           {
            "marker": {
             "colorbar": {
              "outlinewidth": 0,
              "ticks": ""
             }
            },
            "type": "scattergl"
           }
          ],
          "scattermapbox": [
           {
            "marker": {
             "colorbar": {
              "outlinewidth": 0,
              "ticks": ""
             }
            },
            "type": "scattermapbox"
           }
          ],
          "scatterpolar": [
           {
            "marker": {
             "colorbar": {
              "outlinewidth": 0,
              "ticks": ""
             }
            },
            "type": "scatterpolar"
           }
          ],
          "scatterpolargl": [
           {
            "marker": {
             "colorbar": {
              "outlinewidth": 0,
              "ticks": ""
             }
            },
            "type": "scatterpolargl"
           }
          ],
          "scatterternary": [
           {
            "marker": {
             "colorbar": {
              "outlinewidth": 0,
              "ticks": ""
             }
            },
            "type": "scatterternary"
           }
          ],
          "surface": [
           {
            "colorbar": {
             "outlinewidth": 0,
             "ticks": ""
            },
            "colorscale": [
             [
              0,
              "#0d0887"
             ],
             [
              0.1111111111111111,
              "#46039f"
             ],
             [
              0.2222222222222222,
              "#7201a8"
             ],
             [
              0.3333333333333333,
              "#9c179e"
             ],
             [
              0.4444444444444444,
              "#bd3786"
             ],
             [
              0.5555555555555556,
              "#d8576b"
             ],
             [
              0.6666666666666666,
              "#ed7953"
             ],
             [
              0.7777777777777778,
              "#fb9f3a"
             ],
             [
              0.8888888888888888,
              "#fdca26"
             ],
             [
              1,
              "#f0f921"
             ]
            ],
            "type": "surface"
           }
          ],
          "table": [
           {
            "cells": {
             "fill": {
              "color": "#EBF0F8"
             },
             "line": {
              "color": "white"
             }
            },
            "header": {
             "fill": {
              "color": "#C8D4E3"
             },
             "line": {
              "color": "white"
             }
            },
            "type": "table"
           }
          ]
         },
         "layout": {
          "annotationdefaults": {
           "arrowcolor": "#2a3f5f",
           "arrowhead": 0,
           "arrowwidth": 1
          },
          "autotypenumbers": "strict",
          "coloraxis": {
           "colorbar": {
            "outlinewidth": 0,
            "ticks": ""
           }
          },
          "colorscale": {
           "diverging": [
            [
             0,
             "#8e0152"
            ],
            [
             0.1,
             "#c51b7d"
            ],
            [
             0.2,
             "#de77ae"
            ],
            [
             0.3,
             "#f1b6da"
            ],
            [
             0.4,
             "#fde0ef"
            ],
            [
             0.5,
             "#f7f7f7"
            ],
            [
             0.6,
             "#e6f5d0"
            ],
            [
             0.7,
             "#b8e186"
            ],
            [
             0.8,
             "#7fbc41"
            ],
            [
             0.9,
             "#4d9221"
            ],
            [
             1,
             "#276419"
            ]
           ],
           "sequential": [
            [
             0,
             "#0d0887"
            ],
            [
             0.1111111111111111,
             "#46039f"
            ],
            [
             0.2222222222222222,
             "#7201a8"
            ],
            [
             0.3333333333333333,
             "#9c179e"
            ],
            [
             0.4444444444444444,
             "#bd3786"
            ],
            [
             0.5555555555555556,
             "#d8576b"
            ],
            [
             0.6666666666666666,
             "#ed7953"
            ],
            [
             0.7777777777777778,
             "#fb9f3a"
            ],
            [
             0.8888888888888888,
             "#fdca26"
            ],
            [
             1,
             "#f0f921"
            ]
           ],
           "sequentialminus": [
            [
             0,
             "#0d0887"
            ],
            [
             0.1111111111111111,
             "#46039f"
            ],
            [
             0.2222222222222222,
             "#7201a8"
            ],
            [
             0.3333333333333333,
             "#9c179e"
            ],
            [
             0.4444444444444444,
             "#bd3786"
            ],
            [
             0.5555555555555556,
             "#d8576b"
            ],
            [
             0.6666666666666666,
             "#ed7953"
            ],
            [
             0.7777777777777778,
             "#fb9f3a"
            ],
            [
             0.8888888888888888,
             "#fdca26"
            ],
            [
             1,
             "#f0f921"
            ]
           ]
          },
          "colorway": [
           "#636efa",
           "#EF553B",
           "#00cc96",
           "#ab63fa",
           "#FFA15A",
           "#19d3f3",
           "#FF6692",
           "#B6E880",
           "#FF97FF",
           "#FECB52"
          ],
          "font": {
           "color": "#2a3f5f"
          },
          "geo": {
           "bgcolor": "white",
           "lakecolor": "white",
           "landcolor": "#E5ECF6",
           "showlakes": true,
           "showland": true,
           "subunitcolor": "white"
          },
          "hoverlabel": {
           "align": "left"
          },
          "hovermode": "closest",
          "mapbox": {
           "style": "light"
          },
          "paper_bgcolor": "white",
          "plot_bgcolor": "#E5ECF6",
          "polar": {
           "angularaxis": {
            "gridcolor": "white",
            "linecolor": "white",
            "ticks": ""
           },
           "bgcolor": "#E5ECF6",
           "radialaxis": {
            "gridcolor": "white",
            "linecolor": "white",
            "ticks": ""
           }
          },
          "scene": {
           "xaxis": {
            "backgroundcolor": "#E5ECF6",
            "gridcolor": "white",
            "gridwidth": 2,
            "linecolor": "white",
            "showbackground": true,
            "ticks": "",
            "zerolinecolor": "white"
           },
           "yaxis": {
            "backgroundcolor": "#E5ECF6",
            "gridcolor": "white",
            "gridwidth": 2,
            "linecolor": "white",
            "showbackground": true,
            "ticks": "",
            "zerolinecolor": "white"
           },
           "zaxis": {
            "backgroundcolor": "#E5ECF6",
            "gridcolor": "white",
            "gridwidth": 2,
            "linecolor": "white",
            "showbackground": true,
            "ticks": "",
            "zerolinecolor": "white"
           }
          },
          "shapedefaults": {
           "line": {
            "color": "#2a3f5f"
           }
          },
          "ternary": {
           "aaxis": {
            "gridcolor": "white",
            "linecolor": "white",
            "ticks": ""
           },
           "baxis": {
            "gridcolor": "white",
            "linecolor": "white",
            "ticks": ""
           },
           "bgcolor": "#E5ECF6",
           "caxis": {
            "gridcolor": "white",
            "linecolor": "white",
            "ticks": ""
           }
          },
          "title": {
           "x": 0.05
          },
          "xaxis": {
           "automargin": true,
           "gridcolor": "white",
           "linecolor": "white",
           "ticks": "",
           "title": {
            "standoff": 15
           },
           "zerolinecolor": "white",
           "zerolinewidth": 2
          },
          "yaxis": {
           "automargin": true,
           "gridcolor": "white",
           "linecolor": "white",
           "ticks": "",
           "title": {
            "standoff": 15
           },
           "zerolinecolor": "white",
           "zerolinewidth": 2
          }
         }
        },
        "title": {
         "text": "Nutrient Cluster Dendrogram"
        },
        "width": null,
        "xaxis": {
         "mirror": "allticks",
         "rangemode": "tozero",
         "showgrid": false,
         "showline": true,
         "showticklabels": true,
         "ticks": "outside",
         "type": "linear",
         "zeroline": false
        },
        "yaxis": {
         "mirror": "allticks",
         "rangemode": "tozero",
         "showgrid": false,
         "showline": true,
         "showticklabels": true,
         "tickmode": "array",
         "ticks": "outside",
         "ticktext": [
          "23",
          "25",
          "22",
          "24",
          "20",
          "17",
          "18",
          "2",
          "4",
          "6",
          "7",
          "5",
          "10",
          "15",
          "21",
          "11",
          "16",
          "0",
          "12",
          "9",
          "13",
          "1",
          "3",
          "8",
          "14",
          "19"
         ],
         "tickvals": [
          -5,
          -15,
          -25,
          -35,
          -45,
          -55,
          -65,
          -75,
          -85,
          -95,
          -105,
          -115,
          -125,
          -135,
          -145,
          -155,
          -165,
          -175,
          -185,
          -195,
          -205,
          -215,
          -225,
          -235,
          -245,
          -255
         ],
         "type": "linear",
         "zeroline": false
        }
       }
      },
      "text/html": [
       "<div>                            <div id=\"eeeaf29e-c765-4731-a048-44f590734d9c\" class=\"plotly-graph-div\" style=\"height:infpx; width:infpx;\"></div>            <script type=\"text/javascript\">                require([\"plotly\"], function(Plotly) {                    window.PLOTLYENV=window.PLOTLYENV || {};                                    if (document.getElementById(\"eeeaf29e-c765-4731-a048-44f590734d9c\")) {                    Plotly.newPlot(                        \"eeeaf29e-c765-4731-a048-44f590734d9c\",                        [{\"hoverinfo\":\"text\",\"marker\":{\"color\":\"rgb(61,153,112)\"},\"mode\":\"lines\",\"x\":[0.0,5.744584556045726,5.744584556045726,0.0],\"xaxis\":\"x\",\"y\":[-5.0,-5.0,-15.0,-15.0],\"yaxis\":\"y\",\"type\":\"scatter\"},{\"hoverinfo\":\"text\",\"marker\":{\"color\":\"rgb(61,153,112)\"},\"mode\":\"lines\",\"x\":[0.0,6.403347422602049,6.403347422602049,0.0],\"xaxis\":\"x\",\"y\":[-25.0,-25.0,-35.0,-35.0],\"yaxis\":\"y\",\"type\":\"scatter\"},{\"hoverinfo\":\"text\",\"marker\":{\"color\":\"rgb(61,153,112)\"},\"mode\":\"lines\",\"x\":[0.0,5.477523688466317,5.477523688466317,0.0],\"xaxis\":\"x\",\"y\":[-55.0,-55.0,-65.0,-65.0],\"yaxis\":\"y\",\"type\":\"scatter\"},{\"hoverinfo\":\"text\",\"marker\":{\"color\":\"rgb(61,153,112)\"},\"mode\":\"lines\",\"x\":[0.0,13.304714493402399,13.304714493402399,5.477523688466317],\"xaxis\":\"x\",\"y\":[-45.0,-45.0,-60.0,-60.0],\"yaxis\":\"y\",\"type\":\"scatter\"},{\"hoverinfo\":\"text\",\"marker\":{\"color\":\"rgb(61,153,112)\"},\"mode\":\"lines\",\"x\":[6.403347422602049,22.36192272159844,22.36192272159844,13.304714493402399],\"xaxis\":\"x\",\"y\":[-30.0,-30.0,-52.5,-52.5],\"yaxis\":\"y\",\"type\":\"scatter\"},{\"hoverinfo\":\"text\",\"marker\":{\"color\":\"rgb(61,153,112)\"},\"mode\":\"lines\",\"x\":[5.744584556045726,26.703173118181272,26.703173118181272,22.36192272159844],\"xaxis\":\"x\",\"y\":[-10.0,-10.0,-41.25,-41.25],\"yaxis\":\"y\",\"type\":\"scatter\"},{\"hoverinfo\":\"text\",\"marker\":{\"color\":\"rgb(255,65,54)\"},\"mode\":\"lines\",\"x\":[0.0,2.239530381331156,2.239530381331156,0.0],\"xaxis\":\"x\",\"y\":[-75.0,-75.0,-85.0,-85.0],\"yaxis\":\"y\",\"type\":\"scatter\"},{\"hoverinfo\":\"text\",\"marker\":{\"color\":\"rgb(255,65,54)\"},\"mode\":\"lines\",\"x\":[0.0,7.280111104838161,7.280111104838161,0.0],\"xaxis\":\"x\",\"y\":[-95.0,-95.0,-105.0,-105.0],\"yaxis\":\"y\",\"type\":\"scatter\"},{\"hoverinfo\":\"text\",\"marker\":{\"color\":\"rgb(255,65,54)\"},\"mode\":\"lines\",\"x\":[2.239530381331156,13.040222883517396,13.040222883517396,7.280111104838161],\"xaxis\":\"x\",\"y\":[-80.0,-80.0,-100.0,-100.0],\"yaxis\":\"y\",\"type\":\"scatter\"},{\"hoverinfo\":\"text\",\"marker\":{\"color\":\"rgb(255,65,54)\"},\"mode\":\"lines\",\"x\":[0.0,4.36277603638556,4.36277603638556,0.0],\"xaxis\":\"x\",\"y\":[-125.0,-125.0,-135.0,-135.0],\"yaxis\":\"y\",\"type\":\"scatter\"},{\"hoverinfo\":\"text\",\"marker\":{\"color\":\"rgb(255,65,54)\"},\"mode\":\"lines\",\"x\":[0.0,7.142318629335901,7.142318629335901,4.36277603638556],\"xaxis\":\"x\",\"y\":[-115.0,-115.0,-130.0,-130.0],\"yaxis\":\"y\",\"type\":\"scatter\"},{\"hoverinfo\":\"text\",\"marker\":{\"color\":\"rgb(255,65,54)\"},\"mode\":\"lines\",\"x\":[0.0,5.481363279847687,5.481363279847687,0.0],\"xaxis\":\"x\",\"y\":[-155.0,-155.0,-165.0,-165.0],\"yaxis\":\"y\",\"type\":\"scatter\"},{\"hoverinfo\":\"text\",\"marker\":{\"color\":\"rgb(255,65,54)\"},\"mode\":\"lines\",\"x\":[0.0,11.753260934242164,11.753260934242164,5.481363279847687],\"xaxis\":\"x\",\"y\":[-145.0,-145.0,-160.0,-160.0],\"yaxis\":\"y\",\"type\":\"scatter\"},{\"hoverinfo\":\"text\",\"marker\":{\"color\":\"rgb(255,65,54)\"},\"mode\":\"lines\",\"x\":[7.142318629335901,12.96452051145648,12.96452051145648,11.753260934242164],\"xaxis\":\"x\",\"y\":[-122.5,-122.5,-152.5,-152.5],\"yaxis\":\"y\",\"type\":\"scatter\"},{\"hoverinfo\":\"text\",\"marker\":{\"color\":\"rgb(255,65,54)\"},\"mode\":\"lines\",\"x\":[0.0,5.404757914418494,5.404757914418494,0.0],\"xaxis\":\"x\",\"y\":[-175.0,-175.0,-185.0,-185.0],\"yaxis\":\"y\",\"type\":\"scatter\"},{\"hoverinfo\":\"text\",\"marker\":{\"color\":\"rgb(255,65,54)\"},\"mode\":\"lines\",\"x\":[0.0,1.734480783681219,1.734480783681219,0.0],\"xaxis\":\"x\",\"y\":[-215.0,-215.0,-225.0,-225.0],\"yaxis\":\"y\",\"type\":\"scatter\"},{\"hoverinfo\":\"text\",\"marker\":{\"color\":\"rgb(255,65,54)\"},\"mode\":\"lines\",\"x\":[0.0,5.4024861283053776,5.4024861283053776,1.734480783681219],\"xaxis\":\"x\",\"y\":[-205.0,-205.0,-220.0,-220.0],\"yaxis\":\"y\",\"type\":\"scatter\"},{\"hoverinfo\":\"text\",\"marker\":{\"color\":\"rgb(255,65,54)\"},\"mode\":\"lines\",\"x\":[0.0,9.057586029313072,9.057586029313072,5.4024861283053776],\"xaxis\":\"x\",\"y\":[-195.0,-195.0,-212.5,-212.5],\"yaxis\":\"y\",\"type\":\"scatter\"},{\"hoverinfo\":\"text\",\"marker\":{\"color\":\"rgb(255,65,54)\"},\"mode\":\"lines\",\"x\":[5.404757914418494,10.636460892796821,10.636460892796821,9.057586029313072],\"xaxis\":\"x\",\"y\":[-180.0,-180.0,-203.75,-203.75],\"yaxis\":\"y\",\"type\":\"scatter\"},{\"hoverinfo\":\"text\",\"marker\":{\"color\":\"rgb(255,65,54)\"},\"mode\":\"lines\",\"x\":[0.0,2.249138892084184,2.249138892084184,0.0],\"xaxis\":\"x\",\"y\":[-245.0,-245.0,-255.0,-255.0],\"yaxis\":\"y\",\"type\":\"scatter\"},{\"hoverinfo\":\"text\",\"marker\":{\"color\":\"rgb(255,65,54)\"},\"mode\":\"lines\",\"x\":[0.0,10.688022336853372,10.688022336853372,2.249138892084184],\"xaxis\":\"x\",\"y\":[-235.0,-235.0,-250.0,-250.0],\"yaxis\":\"y\",\"type\":\"scatter\"},{\"hoverinfo\":\"text\",\"marker\":{\"color\":\"rgb(255,65,54)\"},\"mode\":\"lines\",\"x\":[10.636460892796821,23.122728620136005,23.122728620136005,10.688022336853372],\"xaxis\":\"x\",\"y\":[-191.875,-191.875,-242.5,-242.5],\"yaxis\":\"y\",\"type\":\"scatter\"},{\"hoverinfo\":\"text\",\"marker\":{\"color\":\"rgb(255,65,54)\"},\"mode\":\"lines\",\"x\":[12.96452051145648,28.30223625104726,28.30223625104726,23.122728620136005],\"xaxis\":\"x\",\"y\":[-137.5,-137.5,-217.1875,-217.1875],\"yaxis\":\"y\",\"type\":\"scatter\"},{\"hoverinfo\":\"text\",\"marker\":{\"color\":\"rgb(255,65,54)\"},\"mode\":\"lines\",\"x\":[13.040222883517396,40.23982911652553,40.23982911652553,28.30223625104726],\"xaxis\":\"x\",\"y\":[-90.0,-90.0,-177.34375,-177.34375],\"yaxis\":\"y\",\"type\":\"scatter\"},{\"hoverinfo\":\"text\",\"marker\":{\"color\":\"rgb(0,116,217)\"},\"mode\":\"lines\",\"x\":[26.703173118181272,70.39005927673269,70.39005927673269,40.23982911652553],\"xaxis\":\"x\",\"y\":[-25.625,-25.625,-133.671875,-133.671875],\"yaxis\":\"y\",\"type\":\"scatter\"}],                        {\"autosize\":false,\"height\":null,\"hovermode\":\"closest\",\"showlegend\":false,\"width\":null,\"xaxis\":{\"mirror\":\"allticks\",\"rangemode\":\"tozero\",\"showgrid\":false,\"showline\":true,\"showticklabels\":true,\"ticks\":\"outside\",\"type\":\"linear\",\"zeroline\":false},\"yaxis\":{\"mirror\":\"allticks\",\"rangemode\":\"tozero\",\"showgrid\":false,\"showline\":true,\"showticklabels\":true,\"tickmode\":\"array\",\"ticks\":\"outside\",\"ticktext\":[\"23\",\"25\",\"22\",\"24\",\"20\",\"17\",\"18\",\"2\",\"4\",\"6\",\"7\",\"5\",\"10\",\"15\",\"21\",\"11\",\"16\",\"0\",\"12\",\"9\",\"13\",\"1\",\"3\",\"8\",\"14\",\"19\"],\"tickvals\":[-5.0,-15.0,-25.0,-35.0,-45.0,-55.0,-65.0,-75.0,-85.0,-95.0,-105.0,-115.0,-125.0,-135.0,-145.0,-155.0,-165.0,-175.0,-185.0,-195.0,-205.0,-215.0,-225.0,-235.0,-245.0,-255.0],\"type\":\"linear\",\"zeroline\":false},\"template\":{\"data\":{\"histogram2dcontour\":[{\"type\":\"histogram2dcontour\",\"colorbar\":{\"outlinewidth\":0,\"ticks\":\"\"},\"colorscale\":[[0.0,\"#0d0887\"],[0.1111111111111111,\"#46039f\"],[0.2222222222222222,\"#7201a8\"],[0.3333333333333333,\"#9c179e\"],[0.4444444444444444,\"#bd3786\"],[0.5555555555555556,\"#d8576b\"],[0.6666666666666666,\"#ed7953\"],[0.7777777777777778,\"#fb9f3a\"],[0.8888888888888888,\"#fdca26\"],[1.0,\"#f0f921\"]]}],\"choropleth\":[{\"type\":\"choropleth\",\"colorbar\":{\"outlinewidth\":0,\"ticks\":\"\"}}],\"histogram2d\":[{\"type\":\"histogram2d\",\"colorbar\":{\"outlinewidth\":0,\"ticks\":\"\"},\"colorscale\":[[0.0,\"#0d0887\"],[0.1111111111111111,\"#46039f\"],[0.2222222222222222,\"#7201a8\"],[0.3333333333333333,\"#9c179e\"],[0.4444444444444444,\"#bd3786\"],[0.5555555555555556,\"#d8576b\"],[0.6666666666666666,\"#ed7953\"],[0.7777777777777778,\"#fb9f3a\"],[0.8888888888888888,\"#fdca26\"],[1.0,\"#f0f921\"]]}],\"heatmap\":[{\"type\":\"heatmap\",\"colorbar\":{\"outlinewidth\":0,\"ticks\":\"\"},\"colorscale\":[[0.0,\"#0d0887\"],[0.1111111111111111,\"#46039f\"],[0.2222222222222222,\"#7201a8\"],[0.3333333333333333,\"#9c179e\"],[0.4444444444444444,\"#bd3786\"],[0.5555555555555556,\"#d8576b\"],[0.6666666666666666,\"#ed7953\"],[0.7777777777777778,\"#fb9f3a\"],[0.8888888888888888,\"#fdca26\"],[1.0,\"#f0f921\"]]}],\"heatmapgl\":[{\"type\":\"heatmapgl\",\"colorbar\":{\"outlinewidth\":0,\"ticks\":\"\"},\"colorscale\":[[0.0,\"#0d0887\"],[0.1111111111111111,\"#46039f\"],[0.2222222222222222,\"#7201a8\"],[0.3333333333333333,\"#9c179e\"],[0.4444444444444444,\"#bd3786\"],[0.5555555555555556,\"#d8576b\"],[0.6666666666666666,\"#ed7953\"],[0.7777777777777778,\"#fb9f3a\"],[0.8888888888888888,\"#fdca26\"],[1.0,\"#f0f921\"]]}],\"contourcarpet\":[{\"type\":\"contourcarpet\",\"colorbar\":{\"outlinewidth\":0,\"ticks\":\"\"}}],\"contour\":[{\"type\":\"contour\",\"colorbar\":{\"outlinewidth\":0,\"ticks\":\"\"},\"colorscale\":[[0.0,\"#0d0887\"],[0.1111111111111111,\"#46039f\"],[0.2222222222222222,\"#7201a8\"],[0.3333333333333333,\"#9c179e\"],[0.4444444444444444,\"#bd3786\"],[0.5555555555555556,\"#d8576b\"],[0.6666666666666666,\"#ed7953\"],[0.7777777777777778,\"#fb9f3a\"],[0.8888888888888888,\"#fdca26\"],[1.0,\"#f0f921\"]]}],\"surface\":[{\"type\":\"surface\",\"colorbar\":{\"outlinewidth\":0,\"ticks\":\"\"},\"colorscale\":[[0.0,\"#0d0887\"],[0.1111111111111111,\"#46039f\"],[0.2222222222222222,\"#7201a8\"],[0.3333333333333333,\"#9c179e\"],[0.4444444444444444,\"#bd3786\"],[0.5555555555555556,\"#d8576b\"],[0.6666666666666666,\"#ed7953\"],[0.7777777777777778,\"#fb9f3a\"],[0.8888888888888888,\"#fdca26\"],[1.0,\"#f0f921\"]]}],\"mesh3d\":[{\"type\":\"mesh3d\",\"colorbar\":{\"outlinewidth\":0,\"ticks\":\"\"}}],\"scatter\":[{\"fillpattern\":{\"fillmode\":\"overlay\",\"size\":10,\"solidity\":0.2},\"type\":\"scatter\"}],\"parcoords\":[{\"type\":\"parcoords\",\"line\":{\"colorbar\":{\"outlinewidth\":0,\"ticks\":\"\"}}}],\"scatterpolargl\":[{\"type\":\"scatterpolargl\",\"marker\":{\"colorbar\":{\"outlinewidth\":0,\"ticks\":\"\"}}}],\"bar\":[{\"error_x\":{\"color\":\"#2a3f5f\"},\"error_y\":{\"color\":\"#2a3f5f\"},\"marker\":{\"line\":{\"color\":\"#E5ECF6\",\"width\":0.5},\"pattern\":{\"fillmode\":\"overlay\",\"size\":10,\"solidity\":0.2}},\"type\":\"bar\"}],\"scattergeo\":[{\"type\":\"scattergeo\",\"marker\":{\"colorbar\":{\"outlinewidth\":0,\"ticks\":\"\"}}}],\"scatterpolar\":[{\"type\":\"scatterpolar\",\"marker\":{\"colorbar\":{\"outlinewidth\":0,\"ticks\":\"\"}}}],\"histogram\":[{\"marker\":{\"pattern\":{\"fillmode\":\"overlay\",\"size\":10,\"solidity\":0.2}},\"type\":\"histogram\"}],\"scattergl\":[{\"type\":\"scattergl\",\"marker\":{\"colorbar\":{\"outlinewidth\":0,\"ticks\":\"\"}}}],\"scatter3d\":[{\"type\":\"scatter3d\",\"line\":{\"colorbar\":{\"outlinewidth\":0,\"ticks\":\"\"}},\"marker\":{\"colorbar\":{\"outlinewidth\":0,\"ticks\":\"\"}}}],\"scattermapbox\":[{\"type\":\"scattermapbox\",\"marker\":{\"colorbar\":{\"outlinewidth\":0,\"ticks\":\"\"}}}],\"scatterternary\":[{\"type\":\"scatterternary\",\"marker\":{\"colorbar\":{\"outlinewidth\":0,\"ticks\":\"\"}}}],\"scattercarpet\":[{\"type\":\"scattercarpet\",\"marker\":{\"colorbar\":{\"outlinewidth\":0,\"ticks\":\"\"}}}],\"carpet\":[{\"aaxis\":{\"endlinecolor\":\"#2a3f5f\",\"gridcolor\":\"white\",\"linecolor\":\"white\",\"minorgridcolor\":\"white\",\"startlinecolor\":\"#2a3f5f\"},\"baxis\":{\"endlinecolor\":\"#2a3f5f\",\"gridcolor\":\"white\",\"linecolor\":\"white\",\"minorgridcolor\":\"white\",\"startlinecolor\":\"#2a3f5f\"},\"type\":\"carpet\"}],\"table\":[{\"cells\":{\"fill\":{\"color\":\"#EBF0F8\"},\"line\":{\"color\":\"white\"}},\"header\":{\"fill\":{\"color\":\"#C8D4E3\"},\"line\":{\"color\":\"white\"}},\"type\":\"table\"}],\"barpolar\":[{\"marker\":{\"line\":{\"color\":\"#E5ECF6\",\"width\":0.5},\"pattern\":{\"fillmode\":\"overlay\",\"size\":10,\"solidity\":0.2}},\"type\":\"barpolar\"}],\"pie\":[{\"automargin\":true,\"type\":\"pie\"}]},\"layout\":{\"autotypenumbers\":\"strict\",\"colorway\":[\"#636efa\",\"#EF553B\",\"#00cc96\",\"#ab63fa\",\"#FFA15A\",\"#19d3f3\",\"#FF6692\",\"#B6E880\",\"#FF97FF\",\"#FECB52\"],\"font\":{\"color\":\"#2a3f5f\"},\"hovermode\":\"closest\",\"hoverlabel\":{\"align\":\"left\"},\"paper_bgcolor\":\"white\",\"plot_bgcolor\":\"#E5ECF6\",\"polar\":{\"bgcolor\":\"#E5ECF6\",\"angularaxis\":{\"gridcolor\":\"white\",\"linecolor\":\"white\",\"ticks\":\"\"},\"radialaxis\":{\"gridcolor\":\"white\",\"linecolor\":\"white\",\"ticks\":\"\"}},\"ternary\":{\"bgcolor\":\"#E5ECF6\",\"aaxis\":{\"gridcolor\":\"white\",\"linecolor\":\"white\",\"ticks\":\"\"},\"baxis\":{\"gridcolor\":\"white\",\"linecolor\":\"white\",\"ticks\":\"\"},\"caxis\":{\"gridcolor\":\"white\",\"linecolor\":\"white\",\"ticks\":\"\"}},\"coloraxis\":{\"colorbar\":{\"outlinewidth\":0,\"ticks\":\"\"}},\"colorscale\":{\"sequential\":[[0.0,\"#0d0887\"],[0.1111111111111111,\"#46039f\"],[0.2222222222222222,\"#7201a8\"],[0.3333333333333333,\"#9c179e\"],[0.4444444444444444,\"#bd3786\"],[0.5555555555555556,\"#d8576b\"],[0.6666666666666666,\"#ed7953\"],[0.7777777777777778,\"#fb9f3a\"],[0.8888888888888888,\"#fdca26\"],[1.0,\"#f0f921\"]],\"sequentialminus\":[[0.0,\"#0d0887\"],[0.1111111111111111,\"#46039f\"],[0.2222222222222222,\"#7201a8\"],[0.3333333333333333,\"#9c179e\"],[0.4444444444444444,\"#bd3786\"],[0.5555555555555556,\"#d8576b\"],[0.6666666666666666,\"#ed7953\"],[0.7777777777777778,\"#fb9f3a\"],[0.8888888888888888,\"#fdca26\"],[1.0,\"#f0f921\"]],\"diverging\":[[0,\"#8e0152\"],[0.1,\"#c51b7d\"],[0.2,\"#de77ae\"],[0.3,\"#f1b6da\"],[0.4,\"#fde0ef\"],[0.5,\"#f7f7f7\"],[0.6,\"#e6f5d0\"],[0.7,\"#b8e186\"],[0.8,\"#7fbc41\"],[0.9,\"#4d9221\"],[1,\"#276419\"]]},\"xaxis\":{\"gridcolor\":\"white\",\"linecolor\":\"white\",\"ticks\":\"\",\"title\":{\"standoff\":15},\"zerolinecolor\":\"white\",\"automargin\":true,\"zerolinewidth\":2},\"yaxis\":{\"gridcolor\":\"white\",\"linecolor\":\"white\",\"ticks\":\"\",\"title\":{\"standoff\":15},\"zerolinecolor\":\"white\",\"automargin\":true,\"zerolinewidth\":2},\"scene\":{\"xaxis\":{\"backgroundcolor\":\"#E5ECF6\",\"gridcolor\":\"white\",\"linecolor\":\"white\",\"showbackground\":true,\"ticks\":\"\",\"zerolinecolor\":\"white\",\"gridwidth\":2},\"yaxis\":{\"backgroundcolor\":\"#E5ECF6\",\"gridcolor\":\"white\",\"linecolor\":\"white\",\"showbackground\":true,\"ticks\":\"\",\"zerolinecolor\":\"white\",\"gridwidth\":2},\"zaxis\":{\"backgroundcolor\":\"#E5ECF6\",\"gridcolor\":\"white\",\"linecolor\":\"white\",\"showbackground\":true,\"ticks\":\"\",\"zerolinecolor\":\"white\",\"gridwidth\":2}},\"shapedefaults\":{\"line\":{\"color\":\"#2a3f5f\"}},\"annotationdefaults\":{\"arrowcolor\":\"#2a3f5f\",\"arrowhead\":0,\"arrowwidth\":1},\"geo\":{\"bgcolor\":\"white\",\"landcolor\":\"#E5ECF6\",\"subunitcolor\":\"white\",\"showland\":true,\"showlakes\":true,\"lakecolor\":\"white\"},\"title\":{\"x\":0.05},\"mapbox\":{\"style\":\"light\"}}},\"title\":{\"text\":\"Nutrient Cluster Dendrogram\"}},                        {\"responsive\": true}                    ).then(function(){\n",
       "                            \n",
       "var gd = document.getElementById('eeeaf29e-c765-4731-a048-44f590734d9c');\n",
       "var x = new MutationObserver(function (mutations, observer) {{\n",
       "        var display = window.getComputedStyle(gd).display;\n",
       "        if (!display || display === 'none') {{\n",
       "            console.log([gd, 'removed!']);\n",
       "            Plotly.purge(gd);\n",
       "            observer.disconnect();\n",
       "        }}\n",
       "}});\n",
       "\n",
       "// Listen for the removal of the full notebook cells\n",
       "var notebookContainer = gd.closest('#notebook-container');\n",
       "if (notebookContainer) {{\n",
       "    x.observe(notebookContainer, {childList: true});\n",
       "}}\n",
       "\n",
       "// Listen for the clearing of the current output cell\n",
       "var outputEl = gd.closest('.output');\n",
       "if (outputEl) {{\n",
       "    x.observe(outputEl, {childList: true});\n",
       "}}\n",
       "\n",
       "                        })                };                });            </script>        </div>"
      ]
     },
     "metadata": {},
     "output_type": "display_data"
    }
   ],
   "source": [
    "fig = plot_dendrogram(nut_cluster, orientation=\"left\")\n",
    "fig.layout.title = \"Nutrient Cluster Dendrogram\"\n",
    "fig.show()"
   ]
  },
  {
   "cell_type": "code",
   "execution_count": 120,
   "metadata": {},
   "outputs": [
    {
     "data": {
      "application/vnd.plotly.v1+json": {
       "config": {
        "plotlyServerURL": "https://plotly.com"
       },
       "data": [
        {
         "hoverinfo": "text",
         "marker": {
          "color": "rgb(61,153,112)"
         },
         "mode": "lines",
         "type": "scatter",
         "x": [
          0,
          20.67577650925126,
          20.67577650925126,
          0
         ],
         "xaxis": "x",
         "y": [
          -15,
          -15,
          -25,
          -25
         ],
         "yaxis": "y"
        },
        {
         "hoverinfo": "text",
         "marker": {
          "color": "rgb(61,153,112)"
         },
         "mode": "lines",
         "type": "scatter",
         "x": [
          0,
          44.47580207531498,
          44.47580207531498,
          20.67577650925126
         ],
         "xaxis": "x",
         "y": [
          -5,
          -5,
          -20,
          -20
         ],
         "yaxis": "y"
        },
        {
         "hoverinfo": "text",
         "marker": {
          "color": "rgb(61,153,112)"
         },
         "mode": "lines",
         "type": "scatter",
         "x": [
          0,
          17.200703185828868,
          17.200703185828868,
          0
         ],
         "xaxis": "x",
         "y": [
          -35,
          -35,
          -45,
          -45
         ],
         "yaxis": "y"
        },
        {
         "hoverinfo": "text",
         "marker": {
          "color": "rgb(61,153,112)"
         },
         "mode": "lines",
         "type": "scatter",
         "x": [
          0,
          30.770180836579577,
          30.770180836579577,
          0
         ],
         "xaxis": "x",
         "y": [
          -65,
          -65,
          -75,
          -75
         ],
         "yaxis": "y"
        },
        {
         "hoverinfo": "text",
         "marker": {
          "color": "rgb(61,153,112)"
         },
         "mode": "lines",
         "type": "scatter",
         "x": [
          0,
          61.965196719578614,
          61.965196719578614,
          30.770180836579577
         ],
         "xaxis": "x",
         "y": [
          -55,
          -55,
          -70,
          -70
         ],
         "yaxis": "y"
        },
        {
         "hoverinfo": "text",
         "marker": {
          "color": "rgb(61,153,112)"
         },
         "mode": "lines",
         "type": "scatter",
         "x": [
          0,
          22.584056858224447,
          22.584056858224447,
          0
         ],
         "xaxis": "x",
         "y": [
          -95,
          -95,
          -105,
          -105
         ],
         "yaxis": "y"
        },
        {
         "hoverinfo": "text",
         "marker": {
          "color": "rgb(61,153,112)"
         },
         "mode": "lines",
         "type": "scatter",
         "x": [
          0,
          68.206505475913,
          68.206505475913,
          22.584056858224447
         ],
         "xaxis": "x",
         "y": [
          -85,
          -85,
          -100,
          -100
         ],
         "yaxis": "y"
        },
        {
         "hoverinfo": "text",
         "marker": {
          "color": "rgb(61,153,112)"
         },
         "mode": "lines",
         "type": "scatter",
         "x": [
          61.965196719578614,
          124.25057379192668,
          124.25057379192668,
          68.206505475913
         ],
         "xaxis": "x",
         "y": [
          -62.5,
          -62.5,
          -92.5,
          -92.5
         ],
         "yaxis": "y"
        },
        {
         "hoverinfo": "text",
         "marker": {
          "color": "rgb(61,153,112)"
         },
         "mode": "lines",
         "type": "scatter",
         "x": [
          17.200703185828868,
          164.86390298812657,
          164.86390298812657,
          124.25057379192668
         ],
         "xaxis": "x",
         "y": [
          -40,
          -40,
          -77.5,
          -77.5
         ],
         "yaxis": "y"
        },
        {
         "hoverinfo": "text",
         "marker": {
          "color": "rgb(61,153,112)"
         },
         "mode": "lines",
         "type": "scatter",
         "x": [
          0,
          17.49623666788158,
          17.49623666788158,
          0
         ],
         "xaxis": "x",
         "y": [
          -125,
          -125,
          -135,
          -135
         ],
         "yaxis": "y"
        },
        {
         "hoverinfo": "text",
         "marker": {
          "color": "rgb(61,153,112)"
         },
         "mode": "lines",
         "type": "scatter",
         "x": [
          0,
          23.079598161491717,
          23.079598161491717,
          17.49623666788158
         ],
         "xaxis": "x",
         "y": [
          -115,
          -115,
          -130,
          -130
         ],
         "yaxis": "y"
        },
        {
         "hoverinfo": "text",
         "marker": {
          "color": "rgb(61,153,112)"
         },
         "mode": "lines",
         "type": "scatter",
         "x": [
          0,
          6.405065922865006,
          6.405065922865006,
          0
         ],
         "xaxis": "x",
         "y": [
          -165,
          -165,
          -175,
          -175
         ],
         "yaxis": "y"
        },
        {
         "hoverinfo": "text",
         "marker": {
          "color": "rgb(61,153,112)"
         },
         "mode": "lines",
         "type": "scatter",
         "x": [
          0,
          9.81842839883094,
          9.81842839883094,
          6.405065922865006
         ],
         "xaxis": "x",
         "y": [
          -155,
          -155,
          -170,
          -170
         ],
         "yaxis": "y"
        },
        {
         "hoverinfo": "text",
         "marker": {
          "color": "rgb(61,153,112)"
         },
         "mode": "lines",
         "type": "scatter",
         "x": [
          0,
          24.545189670190428,
          24.545189670190428,
          9.81842839883094
         ],
         "xaxis": "x",
         "y": [
          -145,
          -145,
          -162.5,
          -162.5
         ],
         "yaxis": "y"
        },
        {
         "hoverinfo": "text",
         "marker": {
          "color": "rgb(61,153,112)"
         },
         "mode": "lines",
         "type": "scatter",
         "x": [
          23.079598161491717,
          43.17809307844852,
          43.17809307844852,
          24.545189670190428
         ],
         "xaxis": "x",
         "y": [
          -122.5,
          -122.5,
          -153.75,
          -153.75
         ],
         "yaxis": "y"
        },
        {
         "hoverinfo": "text",
         "marker": {
          "color": "rgb(61,153,112)"
         },
         "mode": "lines",
         "type": "scatter",
         "x": [
          0,
          8.545571054812552,
          8.545571054812552,
          0
         ],
         "xaxis": "x",
         "y": [
          -195,
          -195,
          -205,
          -205
         ],
         "yaxis": "y"
        },
        {
         "hoverinfo": "text",
         "marker": {
          "color": "rgb(61,153,112)"
         },
         "mode": "lines",
         "type": "scatter",
         "x": [
          0,
          10.303102247863862,
          10.303102247863862,
          0
         ],
         "xaxis": "x",
         "y": [
          -215,
          -215,
          -225,
          -225
         ],
         "yaxis": "y"
        },
        {
         "hoverinfo": "text",
         "marker": {
          "color": "rgb(61,153,112)"
         },
         "mode": "lines",
         "type": "scatter",
         "x": [
          8.545571054812552,
          21.08542809466079,
          21.08542809466079,
          10.303102247863862
         ],
         "xaxis": "x",
         "y": [
          -200,
          -200,
          -220,
          -220
         ],
         "yaxis": "y"
        },
        {
         "hoverinfo": "text",
         "marker": {
          "color": "rgb(61,153,112)"
         },
         "mode": "lines",
         "type": "scatter",
         "x": [
          0,
          23.008544774577857,
          23.008544774577857,
          21.08542809466079
         ],
         "xaxis": "x",
         "y": [
          -185,
          -185,
          -210,
          -210
         ],
         "yaxis": "y"
        },
        {
         "hoverinfo": "text",
         "marker": {
          "color": "rgb(61,153,112)"
         },
         "mode": "lines",
         "type": "scatter",
         "x": [
          0,
          8.697921300786826,
          8.697921300786826,
          0
         ],
         "xaxis": "x",
         "y": [
          -235,
          -235,
          -245,
          -245
         ],
         "yaxis": "y"
        },
        {
         "hoverinfo": "text",
         "marker": {
          "color": "rgb(61,153,112)"
         },
         "mode": "lines",
         "type": "scatter",
         "x": [
          0,
          13.041701802851922,
          13.041701802851922,
          0
         ],
         "xaxis": "x",
         "y": [
          -265,
          -265,
          -275,
          -275
         ],
         "yaxis": "y"
        },
        {
         "hoverinfo": "text",
         "marker": {
          "color": "rgb(61,153,112)"
         },
         "mode": "lines",
         "type": "scatter",
         "x": [
          0,
          22.158519808218944,
          22.158519808218944,
          13.041701802851922
         ],
         "xaxis": "x",
         "y": [
          -255,
          -255,
          -270,
          -270
         ],
         "yaxis": "y"
        },
        {
         "hoverinfo": "text",
         "marker": {
          "color": "rgb(61,153,112)"
         },
         "mode": "lines",
         "type": "scatter",
         "x": [
          8.697921300786826,
          31.296872472646772,
          31.296872472646772,
          22.158519808218944
         ],
         "xaxis": "x",
         "y": [
          -240,
          -240,
          -262.5,
          -262.5
         ],
         "yaxis": "y"
        },
        {
         "hoverinfo": "text",
         "marker": {
          "color": "rgb(61,153,112)"
         },
         "mode": "lines",
         "type": "scatter",
         "x": [
          23.008544774577857,
          50.740715403329354,
          50.740715403329354,
          31.296872472646772
         ],
         "xaxis": "x",
         "y": [
          -197.5,
          -197.5,
          -251.25,
          -251.25
         ],
         "yaxis": "y"
        },
        {
         "hoverinfo": "text",
         "marker": {
          "color": "rgb(61,153,112)"
         },
         "mode": "lines",
         "type": "scatter",
         "x": [
          43.17809307844852,
          89.13016361314503,
          89.13016361314503,
          50.740715403329354
         ],
         "xaxis": "x",
         "y": [
          -138.125,
          -138.125,
          -224.375,
          -224.375
         ],
         "yaxis": "y"
        },
        {
         "hoverinfo": "text",
         "marker": {
          "color": "rgb(61,153,112)"
         },
         "mode": "lines",
         "type": "scatter",
         "x": [
          0,
          14.528972246986298,
          14.528972246986298,
          0
         ],
         "xaxis": "x",
         "y": [
          -285,
          -285,
          -295,
          -295
         ],
         "yaxis": "y"
        },
        {
         "hoverinfo": "text",
         "marker": {
          "color": "rgb(61,153,112)"
         },
         "mode": "lines",
         "type": "scatter",
         "x": [
          0,
          21.0811976654714,
          21.0811976654714,
          0
         ],
         "xaxis": "x",
         "y": [
          -305,
          -305,
          -315,
          -315
         ],
         "yaxis": "y"
        },
        {
         "hoverinfo": "text",
         "marker": {
          "color": "rgb(61,153,112)"
         },
         "mode": "lines",
         "type": "scatter",
         "x": [
          0,
          4.131317029920235,
          4.131317029920235,
          0
         ],
         "xaxis": "x",
         "y": [
          -335,
          -335,
          -345,
          -345
         ],
         "yaxis": "y"
        },
        {
         "hoverinfo": "text",
         "marker": {
          "color": "rgb(61,153,112)"
         },
         "mode": "lines",
         "type": "scatter",
         "x": [
          0,
          10.843729190800955,
          10.843729190800955,
          4.131317029920235
         ],
         "xaxis": "x",
         "y": [
          -325,
          -325,
          -340,
          -340
         ],
         "yaxis": "y"
        },
        {
         "hoverinfo": "text",
         "marker": {
          "color": "rgb(61,153,112)"
         },
         "mode": "lines",
         "type": "scatter",
         "x": [
          0,
          14.84025389099217,
          14.84025389099217,
          0
         ],
         "xaxis": "x",
         "y": [
          -355,
          -355,
          -365,
          -365
         ],
         "yaxis": "y"
        },
        {
         "hoverinfo": "text",
         "marker": {
          "color": "rgb(61,153,112)"
         },
         "mode": "lines",
         "type": "scatter",
         "x": [
          10.843729190800955,
          30.335949954504013,
          30.335949954504013,
          14.84025389099217
         ],
         "xaxis": "x",
         "y": [
          -332.5,
          -332.5,
          -360,
          -360
         ],
         "yaxis": "y"
        },
        {
         "hoverinfo": "text",
         "marker": {
          "color": "rgb(61,153,112)"
         },
         "mode": "lines",
         "type": "scatter",
         "x": [
          21.0811976654714,
          58.13113516130177,
          58.13113516130177,
          30.335949954504013
         ],
         "xaxis": "x",
         "y": [
          -310,
          -310,
          -346.25,
          -346.25
         ],
         "yaxis": "y"
        },
        {
         "hoverinfo": "text",
         "marker": {
          "color": "rgb(61,153,112)"
         },
         "mode": "lines",
         "type": "scatter",
         "x": [
          14.528972246986298,
          105.94676293643447,
          105.94676293643447,
          58.13113516130177
         ],
         "xaxis": "x",
         "y": [
          -290,
          -290,
          -328.125,
          -328.125
         ],
         "yaxis": "y"
        },
        {
         "hoverinfo": "text",
         "marker": {
          "color": "rgb(61,153,112)"
         },
         "mode": "lines",
         "type": "scatter",
         "x": [
          89.13016361314503,
          140.33199270666884,
          140.33199270666884,
          105.94676293643447
         ],
         "xaxis": "x",
         "y": [
          -181.25,
          -181.25,
          -309.0625,
          -309.0625
         ],
         "yaxis": "y"
        },
        {
         "hoverinfo": "text",
         "marker": {
          "color": "rgb(61,153,112)"
         },
         "mode": "lines",
         "type": "scatter",
         "x": [
          0,
          12.688959795475656,
          12.688959795475656,
          0
         ],
         "xaxis": "x",
         "y": [
          -405,
          -405,
          -415,
          -415
         ],
         "yaxis": "y"
        },
        {
         "hoverinfo": "text",
         "marker": {
          "color": "rgb(61,153,112)"
         },
         "mode": "lines",
         "type": "scatter",
         "x": [
          0,
          23.055291798817237,
          23.055291798817237,
          12.688959795475656
         ],
         "xaxis": "x",
         "y": [
          -395,
          -395,
          -410,
          -410
         ],
         "yaxis": "y"
        },
        {
         "hoverinfo": "text",
         "marker": {
          "color": "rgb(61,153,112)"
         },
         "mode": "lines",
         "type": "scatter",
         "x": [
          0,
          38.632908578091794,
          38.632908578091794,
          23.055291798817237
         ],
         "xaxis": "x",
         "y": [
          -385,
          -385,
          -402.5,
          -402.5
         ],
         "yaxis": "y"
        },
        {
         "hoverinfo": "text",
         "marker": {
          "color": "rgb(61,153,112)"
         },
         "mode": "lines",
         "type": "scatter",
         "x": [
          0,
          55.82998310200976,
          55.82998310200976,
          38.632908578091794
         ],
         "xaxis": "x",
         "y": [
          -375,
          -375,
          -393.75,
          -393.75
         ],
         "yaxis": "y"
        },
        {
         "hoverinfo": "text",
         "marker": {
          "color": "rgb(61,153,112)"
         },
         "mode": "lines",
         "type": "scatter",
         "x": [
          0,
          9.952450201991656,
          9.952450201991656,
          0
         ],
         "xaxis": "x",
         "y": [
          -435,
          -435,
          -445,
          -445
         ],
         "yaxis": "y"
        },
        {
         "hoverinfo": "text",
         "marker": {
          "color": "rgb(61,153,112)"
         },
         "mode": "lines",
         "type": "scatter",
         "x": [
          0,
          10.000587916174469,
          10.000587916174469,
          0
         ],
         "xaxis": "x",
         "y": [
          -475,
          -475,
          -485,
          -485
         ],
         "yaxis": "y"
        },
        {
         "hoverinfo": "text",
         "marker": {
          "color": "rgb(61,153,112)"
         },
         "mode": "lines",
         "type": "scatter",
         "x": [
          0,
          20.085106563665086,
          20.085106563665086,
          10.000587916174469
         ],
         "xaxis": "x",
         "y": [
          -465,
          -465,
          -480,
          -480
         ],
         "yaxis": "y"
        },
        {
         "hoverinfo": "text",
         "marker": {
          "color": "rgb(61,153,112)"
         },
         "mode": "lines",
         "type": "scatter",
         "x": [
          0,
          23.36705839523158,
          23.36705839523158,
          20.085106563665086
         ],
         "xaxis": "x",
         "y": [
          -455,
          -455,
          -472.5,
          -472.5
         ],
         "yaxis": "y"
        },
        {
         "hoverinfo": "text",
         "marker": {
          "color": "rgb(61,153,112)"
         },
         "mode": "lines",
         "type": "scatter",
         "x": [
          9.952450201991656,
          25.476580158929103,
          25.476580158929103,
          23.36705839523158
         ],
         "xaxis": "x",
         "y": [
          -440,
          -440,
          -463.75,
          -463.75
         ],
         "yaxis": "y"
        },
        {
         "hoverinfo": "text",
         "marker": {
          "color": "rgb(61,153,112)"
         },
         "mode": "lines",
         "type": "scatter",
         "x": [
          0,
          36.45999926414755,
          36.45999926414755,
          25.476580158929103
         ],
         "xaxis": "x",
         "y": [
          -425,
          -425,
          -451.875,
          -451.875
         ],
         "yaxis": "y"
        },
        {
         "hoverinfo": "text",
         "marker": {
          "color": "rgb(61,153,112)"
         },
         "mode": "lines",
         "type": "scatter",
         "x": [
          0,
          16.421575756148748,
          16.421575756148748,
          0
         ],
         "xaxis": "x",
         "y": [
          -505,
          -505,
          -515,
          -515
         ],
         "yaxis": "y"
        },
        {
         "hoverinfo": "text",
         "marker": {
          "color": "rgb(61,153,112)"
         },
         "mode": "lines",
         "type": "scatter",
         "x": [
          0,
          28.231332553332784,
          28.231332553332784,
          16.421575756148748
         ],
         "xaxis": "x",
         "y": [
          -495,
          -495,
          -510,
          -510
         ],
         "yaxis": "y"
        },
        {
         "hoverinfo": "text",
         "marker": {
          "color": "rgb(61,153,112)"
         },
         "mode": "lines",
         "type": "scatter",
         "x": [
          0,
          12.68858136153087,
          12.68858136153087,
          0
         ],
         "xaxis": "x",
         "y": [
          -525,
          -525,
          -535,
          -535
         ],
         "yaxis": "y"
        },
        {
         "hoverinfo": "text",
         "marker": {
          "color": "rgb(61,153,112)"
         },
         "mode": "lines",
         "type": "scatter",
         "x": [
          0,
          8.124446803258216,
          8.124446803258216,
          0
         ],
         "xaxis": "x",
         "y": [
          -565,
          -565,
          -575,
          -575
         ],
         "yaxis": "y"
        },
        {
         "hoverinfo": "text",
         "marker": {
          "color": "rgb(61,153,112)"
         },
         "mode": "lines",
         "type": "scatter",
         "x": [
          0,
          11.577201402541126,
          11.577201402541126,
          8.124446803258216
         ],
         "xaxis": "x",
         "y": [
          -555,
          -555,
          -570,
          -570
         ],
         "yaxis": "y"
        },
        {
         "hoverinfo": "text",
         "marker": {
          "color": "rgb(61,153,112)"
         },
         "mode": "lines",
         "type": "scatter",
         "x": [
          0,
          23.17335837915704,
          23.17335837915704,
          11.577201402541126
         ],
         "xaxis": "x",
         "y": [
          -545,
          -545,
          -562.5,
          -562.5
         ],
         "yaxis": "y"
        },
        {
         "hoverinfo": "text",
         "marker": {
          "color": "rgb(61,153,112)"
         },
         "mode": "lines",
         "type": "scatter",
         "x": [
          12.68858136153087,
          34.54306888872481,
          34.54306888872481,
          23.17335837915704
         ],
         "xaxis": "x",
         "y": [
          -530,
          -530,
          -553.75,
          -553.75
         ],
         "yaxis": "y"
        },
        {
         "hoverinfo": "text",
         "marker": {
          "color": "rgb(61,153,112)"
         },
         "mode": "lines",
         "type": "scatter",
         "x": [
          28.231332553332784,
          60.097844207276246,
          60.097844207276246,
          34.54306888872481
         ],
         "xaxis": "x",
         "y": [
          -502.5,
          -502.5,
          -541.875,
          -541.875
         ],
         "yaxis": "y"
        },
        {
         "hoverinfo": "text",
         "marker": {
          "color": "rgb(61,153,112)"
         },
         "mode": "lines",
         "type": "scatter",
         "x": [
          36.45999926414755,
          65.84128914134006,
          65.84128914134006,
          60.097844207276246
         ],
         "xaxis": "x",
         "y": [
          -438.4375,
          -438.4375,
          -522.1875,
          -522.1875
         ],
         "yaxis": "y"
        },
        {
         "hoverinfo": "text",
         "marker": {
          "color": "rgb(61,153,112)"
         },
         "mode": "lines",
         "type": "scatter",
         "x": [
          55.82998310200976,
          102.63719107474257,
          102.63719107474257,
          65.84128914134006
         ],
         "xaxis": "x",
         "y": [
          -384.375,
          -384.375,
          -480.3125,
          -480.3125
         ],
         "yaxis": "y"
        },
        {
         "hoverinfo": "text",
         "marker": {
          "color": "rgb(61,153,112)"
         },
         "mode": "lines",
         "type": "scatter",
         "x": [
          0,
          22.71563719364822,
          22.71563719364822,
          0
         ],
         "xaxis": "x",
         "y": [
          -615,
          -615,
          -625,
          -625
         ],
         "yaxis": "y"
        },
        {
         "hoverinfo": "text",
         "marker": {
          "color": "rgb(61,153,112)"
         },
         "mode": "lines",
         "type": "scatter",
         "x": [
          0,
          29.23946931758499,
          29.23946931758499,
          22.71563719364822
         ],
         "xaxis": "x",
         "y": [
          -605,
          -605,
          -620,
          -620
         ],
         "yaxis": "y"
        },
        {
         "hoverinfo": "text",
         "marker": {
          "color": "rgb(61,153,112)"
         },
         "mode": "lines",
         "type": "scatter",
         "x": [
          0,
          12.004280462662091,
          12.004280462662091,
          0
         ],
         "xaxis": "x",
         "y": [
          -645,
          -645,
          -655,
          -655
         ],
         "yaxis": "y"
        },
        {
         "hoverinfo": "text",
         "marker": {
          "color": "rgb(61,153,112)"
         },
         "mode": "lines",
         "type": "scatter",
         "x": [
          0,
          35.12884594339845,
          35.12884594339845,
          12.004280462662091
         ],
         "xaxis": "x",
         "y": [
          -635,
          -635,
          -650,
          -650
         ],
         "yaxis": "y"
        },
        {
         "hoverinfo": "text",
         "marker": {
          "color": "rgb(61,153,112)"
         },
         "mode": "lines",
         "type": "scatter",
         "x": [
          29.23946931758499,
          62.77041290097191,
          62.77041290097191,
          35.12884594339845
         ],
         "xaxis": "x",
         "y": [
          -612.5,
          -612.5,
          -642.5,
          -642.5
         ],
         "yaxis": "y"
        },
        {
         "hoverinfo": "text",
         "marker": {
          "color": "rgb(61,153,112)"
         },
         "mode": "lines",
         "type": "scatter",
         "x": [
          0,
          92.5527388283747,
          92.5527388283747,
          62.77041290097191
         ],
         "xaxis": "x",
         "y": [
          -595,
          -595,
          -627.5,
          -627.5
         ],
         "yaxis": "y"
        },
        {
         "hoverinfo": "text",
         "marker": {
          "color": "rgb(61,153,112)"
         },
         "mode": "lines",
         "type": "scatter",
         "x": [
          0,
          130.00180257683704,
          130.00180257683704,
          92.5527388283747
         ],
         "xaxis": "x",
         "y": [
          -585,
          -585,
          -611.25,
          -611.25
         ],
         "yaxis": "y"
        },
        {
         "hoverinfo": "text",
         "marker": {
          "color": "rgb(61,153,112)"
         },
         "mode": "lines",
         "type": "scatter",
         "x": [
          102.63719107474257,
          158.48767593628293,
          158.48767593628293,
          130.00180257683704
         ],
         "xaxis": "x",
         "y": [
          -432.34375,
          -432.34375,
          -598.125,
          -598.125
         ],
         "yaxis": "y"
        },
        {
         "hoverinfo": "text",
         "marker": {
          "color": "rgb(61,153,112)"
         },
         "mode": "lines",
         "type": "scatter",
         "x": [
          140.33199270666884,
          244.39670657485516,
          244.39670657485516,
          158.48767593628293
         ],
         "xaxis": "x",
         "y": [
          -245.15625,
          -245.15625,
          -515.234375,
          -515.234375
         ],
         "yaxis": "y"
        },
        {
         "hoverinfo": "text",
         "marker": {
          "color": "rgb(61,153,112)"
         },
         "mode": "lines",
         "type": "scatter",
         "x": [
          164.86390298812657,
          355.2850602189951,
          355.2850602189951,
          244.39670657485516
         ],
         "xaxis": "x",
         "y": [
          -58.75,
          -58.75,
          -380.1953125,
          -380.1953125
         ],
         "yaxis": "y"
        },
        {
         "hoverinfo": "text",
         "marker": {
          "color": "rgb(61,153,112)"
         },
         "mode": "lines",
         "type": "scatter",
         "x": [
          44.47580207531498,
          626.7480321100915,
          626.7480321100915,
          355.2850602189951
         ],
         "xaxis": "x",
         "y": [
          -12.5,
          -12.5,
          -219.47265625,
          -219.47265625
         ],
         "yaxis": "y"
        },
        {
         "hoverinfo": "text",
         "marker": {
          "color": "rgb(255,65,54)"
         },
         "mode": "lines",
         "type": "scatter",
         "x": [
          0,
          1.4477346775496378,
          1.4477346775496378,
          0
         ],
         "xaxis": "x",
         "y": [
          -665,
          -665,
          -675,
          -675
         ],
         "yaxis": "y"
        },
        {
         "hoverinfo": "text",
         "marker": {
          "color": "rgb(255,65,54)"
         },
         "mode": "lines",
         "type": "scatter",
         "x": [
          0,
          10.451871649243994,
          10.451871649243994,
          0
         ],
         "xaxis": "x",
         "y": [
          -685,
          -685,
          -695,
          -695
         ],
         "yaxis": "y"
        },
        {
         "hoverinfo": "text",
         "marker": {
          "color": "rgb(255,65,54)"
         },
         "mode": "lines",
         "type": "scatter",
         "x": [
          1.4477346775496378,
          12.046079702321155,
          12.046079702321155,
          10.451871649243994
         ],
         "xaxis": "x",
         "y": [
          -670,
          -670,
          -690,
          -690
         ],
         "yaxis": "y"
        },
        {
         "hoverinfo": "text",
         "marker": {
          "color": "rgb(255,65,54)"
         },
         "mode": "lines",
         "type": "scatter",
         "x": [
          0,
          5.000002780903294,
          5.000002780903294,
          0
         ],
         "xaxis": "x",
         "y": [
          -705,
          -705,
          -715,
          -715
         ],
         "yaxis": "y"
        },
        {
         "hoverinfo": "text",
         "marker": {
          "color": "rgb(255,65,54)"
         },
         "mode": "lines",
         "type": "scatter",
         "x": [
          0,
          2.8559911007329672,
          2.8559911007329672,
          0
         ],
         "xaxis": "x",
         "y": [
          -735,
          -735,
          -745,
          -745
         ],
         "yaxis": "y"
        },
        {
         "hoverinfo": "text",
         "marker": {
          "color": "rgb(255,65,54)"
         },
         "mode": "lines",
         "type": "scatter",
         "x": [
          0,
          10.199664096685286,
          10.199664096685286,
          2.8559911007329672
         ],
         "xaxis": "x",
         "y": [
          -725,
          -725,
          -740,
          -740
         ],
         "yaxis": "y"
        },
        {
         "hoverinfo": "text",
         "marker": {
          "color": "rgb(255,65,54)"
         },
         "mode": "lines",
         "type": "scatter",
         "x": [
          5.000002780903294,
          17.69821977197229,
          17.69821977197229,
          10.199664096685286
         ],
         "xaxis": "x",
         "y": [
          -710,
          -710,
          -732.5,
          -732.5
         ],
         "yaxis": "y"
        },
        {
         "hoverinfo": "text",
         "marker": {
          "color": "rgb(255,65,54)"
         },
         "mode": "lines",
         "type": "scatter",
         "x": [
          12.046079702321155,
          39.59861925658798,
          39.59861925658798,
          17.69821977197229
         ],
         "xaxis": "x",
         "y": [
          -680,
          -680,
          -721.25,
          -721.25
         ],
         "yaxis": "y"
        },
        {
         "hoverinfo": "text",
         "marker": {
          "color": "rgb(255,65,54)"
         },
         "mode": "lines",
         "type": "scatter",
         "x": [
          0,
          10.70754418527356,
          10.70754418527356,
          0
         ],
         "xaxis": "x",
         "y": [
          -755,
          -755,
          -765,
          -765
         ],
         "yaxis": "y"
        },
        {
         "hoverinfo": "text",
         "marker": {
          "color": "rgb(255,65,54)"
         },
         "mode": "lines",
         "type": "scatter",
         "x": [
          0,
          1.4142542218479242,
          1.4142542218479242,
          0
         ],
         "xaxis": "x",
         "y": [
          -785,
          -785,
          -795,
          -795
         ],
         "yaxis": "y"
        },
        {
         "hoverinfo": "text",
         "marker": {
          "color": "rgb(255,65,54)"
         },
         "mode": "lines",
         "type": "scatter",
         "x": [
          0,
          6.343921121181168,
          6.343921121181168,
          1.4142542218479242
         ],
         "xaxis": "x",
         "y": [
          -775,
          -775,
          -790,
          -790
         ],
         "yaxis": "y"
        },
        {
         "hoverinfo": "text",
         "marker": {
          "color": "rgb(255,65,54)"
         },
         "mode": "lines",
         "type": "scatter",
         "x": [
          0,
          2.2409067878535005,
          2.2409067878535005,
          0
         ],
         "xaxis": "x",
         "y": [
          -805,
          -805,
          -815,
          -815
         ],
         "yaxis": "y"
        },
        {
         "hoverinfo": "text",
         "marker": {
          "color": "rgb(255,65,54)"
         },
         "mode": "lines",
         "type": "scatter",
         "x": [
          0,
          2.828699432460715,
          2.828699432460715,
          0
         ],
         "xaxis": "x",
         "y": [
          -825,
          -825,
          -835,
          -835
         ],
         "yaxis": "y"
        },
        {
         "hoverinfo": "text",
         "marker": {
          "color": "rgb(255,65,54)"
         },
         "mode": "lines",
         "type": "scatter",
         "x": [
          2.2409067878535005,
          8.48528173410436,
          8.48528173410436,
          2.828699432460715
         ],
         "xaxis": "x",
         "y": [
          -810,
          -810,
          -830,
          -830
         ],
         "yaxis": "y"
        },
        {
         "hoverinfo": "text",
         "marker": {
          "color": "rgb(255,65,54)"
         },
         "mode": "lines",
         "type": "scatter",
         "x": [
          6.343921121181168,
          17.125673237947755,
          17.125673237947755,
          8.48528173410436
         ],
         "xaxis": "x",
         "y": [
          -782.5,
          -782.5,
          -820,
          -820
         ],
         "yaxis": "y"
        },
        {
         "hoverinfo": "text",
         "marker": {
          "color": "rgb(255,65,54)"
         },
         "mode": "lines",
         "type": "scatter",
         "x": [
          10.70754418527356,
          24.791788115566227,
          24.791788115566227,
          17.125673237947755
         ],
         "xaxis": "x",
         "y": [
          -760,
          -760,
          -801.25,
          -801.25
         ],
         "yaxis": "y"
        },
        {
         "hoverinfo": "text",
         "marker": {
          "color": "rgb(255,65,54)"
         },
         "mode": "lines",
         "type": "scatter",
         "x": [
          0,
          10.630180216856388,
          10.630180216856388,
          0
         ],
         "xaxis": "x",
         "y": [
          -865,
          -865,
          -875,
          -875
         ],
         "yaxis": "y"
        },
        {
         "hoverinfo": "text",
         "marker": {
          "color": "rgb(255,65,54)"
         },
         "mode": "lines",
         "type": "scatter",
         "x": [
          0,
          17.28557936922227,
          17.28557936922227,
          10.630180216856388
         ],
         "xaxis": "x",
         "y": [
          -855,
          -855,
          -870,
          -870
         ],
         "yaxis": "y"
        },
        {
         "hoverinfo": "text",
         "marker": {
          "color": "rgb(255,65,54)"
         },
         "mode": "lines",
         "type": "scatter",
         "x": [
          0,
          2.836908154654588,
          2.836908154654588,
          0
         ],
         "xaxis": "x",
         "y": [
          -885,
          -885,
          -895,
          -895
         ],
         "yaxis": "y"
        },
        {
         "hoverinfo": "text",
         "marker": {
          "color": "rgb(255,65,54)"
         },
         "mode": "lines",
         "type": "scatter",
         "x": [
          0,
          3.164774643331507,
          3.164774643331507,
          0
         ],
         "xaxis": "x",
         "y": [
          -925,
          -925,
          -935,
          -935
         ],
         "yaxis": "y"
        },
        {
         "hoverinfo": "text",
         "marker": {
          "color": "rgb(255,65,54)"
         },
         "mode": "lines",
         "type": "scatter",
         "x": [
          0,
          5.385212349134503,
          5.385212349134503,
          3.164774643331507
         ],
         "xaxis": "x",
         "y": [
          -915,
          -915,
          -930,
          -930
         ],
         "yaxis": "y"
        },
        {
         "hoverinfo": "text",
         "marker": {
          "color": "rgb(255,65,54)"
         },
         "mode": "lines",
         "type": "scatter",
         "x": [
          0,
          8.546280374459512,
          8.546280374459512,
          5.385212349134503
         ],
         "xaxis": "x",
         "y": [
          -905,
          -905,
          -922.5,
          -922.5
         ],
         "yaxis": "y"
        },
        {
         "hoverinfo": "text",
         "marker": {
          "color": "rgb(255,65,54)"
         },
         "mode": "lines",
         "type": "scatter",
         "x": [
          2.836908154654588,
          23.345917189899776,
          23.345917189899776,
          8.546280374459512
         ],
         "xaxis": "x",
         "y": [
          -890,
          -890,
          -913.75,
          -913.75
         ],
         "yaxis": "y"
        },
        {
         "hoverinfo": "text",
         "marker": {
          "color": "rgb(255,65,54)"
         },
         "mode": "lines",
         "type": "scatter",
         "x": [
          17.28557936922227,
          35.22783150293941,
          35.22783150293941,
          23.345917189899776
         ],
         "xaxis": "x",
         "y": [
          -862.5,
          -862.5,
          -901.875,
          -901.875
         ],
         "yaxis": "y"
        },
        {
         "hoverinfo": "text",
         "marker": {
          "color": "rgb(255,65,54)"
         },
         "mode": "lines",
         "type": "scatter",
         "x": [
          0,
          46.647615334872526,
          46.647615334872526,
          35.22783150293941
         ],
         "xaxis": "x",
         "y": [
          -845,
          -845,
          -882.1875,
          -882.1875
         ],
         "yaxis": "y"
        },
        {
         "hoverinfo": "text",
         "marker": {
          "color": "rgb(255,65,54)"
         },
         "mode": "lines",
         "type": "scatter",
         "x": [
          24.791788115566227,
          67.23129765492646,
          67.23129765492646,
          46.647615334872526
         ],
         "xaxis": "x",
         "y": [
          -780.625,
          -780.625,
          -863.59375,
          -863.59375
         ],
         "yaxis": "y"
        },
        {
         "hoverinfo": "text",
         "marker": {
          "color": "rgb(255,65,54)"
         },
         "mode": "lines",
         "type": "scatter",
         "x": [
          39.59861925658798,
          106.06635511181784,
          106.06635511181784,
          67.23129765492646
         ],
         "xaxis": "x",
         "y": [
          -700.625,
          -700.625,
          -822.109375,
          -822.109375
         ],
         "yaxis": "y"
        },
        {
         "hoverinfo": "text",
         "marker": {
          "color": "rgb(255,65,54)"
         },
         "mode": "lines",
         "type": "scatter",
         "x": [
          0,
          2.2455429629687256,
          2.2455429629687256,
          0
         ],
         "xaxis": "x",
         "y": [
          -945,
          -945,
          -955,
          -955
         ],
         "yaxis": "y"
        },
        {
         "hoverinfo": "text",
         "marker": {
          "color": "rgb(255,65,54)"
         },
         "mode": "lines",
         "type": "scatter",
         "x": [
          0,
          3.611924559953521,
          3.611924559953521,
          0
         ],
         "xaxis": "x",
         "y": [
          -965,
          -965,
          -975,
          -975
         ],
         "yaxis": "y"
        },
        {
         "hoverinfo": "text",
         "marker": {
          "color": "rgb(255,65,54)"
         },
         "mode": "lines",
         "type": "scatter",
         "x": [
          0,
          4.187629307599151,
          4.187629307599151,
          0
         ],
         "xaxis": "x",
         "y": [
          -985,
          -985,
          -995,
          -995
         ],
         "yaxis": "y"
        },
        {
         "hoverinfo": "text",
         "marker": {
          "color": "rgb(255,65,54)"
         },
         "mode": "lines",
         "type": "scatter",
         "x": [
          3.611924559953521,
          16.786617964504725,
          16.786617964504725,
          4.187629307599151
         ],
         "xaxis": "x",
         "y": [
          -970,
          -970,
          -990,
          -990
         ],
         "yaxis": "y"
        },
        {
         "hoverinfo": "text",
         "marker": {
          "color": "rgb(255,65,54)"
         },
         "mode": "lines",
         "type": "scatter",
         "x": [
          2.2455429629687256,
          27.809647029273883,
          27.809647029273883,
          16.786617964504725
         ],
         "xaxis": "x",
         "y": [
          -950,
          -950,
          -980,
          -980
         ],
         "yaxis": "y"
        },
        {
         "hoverinfo": "text",
         "marker": {
          "color": "rgb(255,65,54)"
         },
         "mode": "lines",
         "type": "scatter",
         "x": [
          0,
          10.440356979225394,
          10.440356979225394,
          0
         ],
         "xaxis": "x",
         "y": [
          -1005,
          -1005,
          -1015,
          -1015
         ],
         "yaxis": "y"
        },
        {
         "hoverinfo": "text",
         "marker": {
          "color": "rgb(255,65,54)"
         },
         "mode": "lines",
         "type": "scatter",
         "x": [
          0,
          4.243611165303241,
          4.243611165303241,
          0
         ],
         "xaxis": "x",
         "y": [
          -1025,
          -1025,
          -1035,
          -1035
         ],
         "yaxis": "y"
        },
        {
         "hoverinfo": "text",
         "marker": {
          "color": "rgb(255,65,54)"
         },
         "mode": "lines",
         "type": "scatter",
         "x": [
          0,
          3.1641526653855894,
          3.1641526653855894,
          0
         ],
         "xaxis": "x",
         "y": [
          -1045,
          -1045,
          -1055,
          -1055
         ],
         "yaxis": "y"
        },
        {
         "hoverinfo": "text",
         "marker": {
          "color": "rgb(255,65,54)"
         },
         "mode": "lines",
         "type": "scatter",
         "x": [
          0,
          5.103547134117119,
          5.103547134117119,
          0
         ],
         "xaxis": "x",
         "y": [
          -1065,
          -1065,
          -1075,
          -1075
         ],
         "yaxis": "y"
        },
        {
         "hoverinfo": "text",
         "marker": {
          "color": "rgb(255,65,54)"
         },
         "mode": "lines",
         "type": "scatter",
         "x": [
          3.1641526653855894,
          11.314401838174158,
          11.314401838174158,
          5.103547134117119
         ],
         "xaxis": "x",
         "y": [
          -1050,
          -1050,
          -1070,
          -1070
         ],
         "yaxis": "y"
        },
        {
         "hoverinfo": "text",
         "marker": {
          "color": "rgb(255,65,54)"
         },
         "mode": "lines",
         "type": "scatter",
         "x": [
          4.243611165303241,
          23.43134820212734,
          23.43134820212734,
          11.314401838174158
         ],
         "xaxis": "x",
         "y": [
          -1030,
          -1030,
          -1060,
          -1060
         ],
         "yaxis": "y"
        },
        {
         "hoverinfo": "text",
         "marker": {
          "color": "rgb(255,65,54)"
         },
         "mode": "lines",
         "type": "scatter",
         "x": [
          10.440356979225394,
          30.08324577137163,
          30.08324577137163,
          23.43134820212734
         ],
         "xaxis": "x",
         "y": [
          -1010,
          -1010,
          -1045,
          -1045
         ],
         "yaxis": "y"
        },
        {
         "hoverinfo": "text",
         "marker": {
          "color": "rgb(255,65,54)"
         },
         "mode": "lines",
         "type": "scatter",
         "x": [
          27.809647029273883,
          67.89842607181477,
          67.89842607181477,
          30.08324577137163
         ],
         "xaxis": "x",
         "y": [
          -965,
          -965,
          -1027.5,
          -1027.5
         ],
         "yaxis": "y"
        },
        {
         "hoverinfo": "text",
         "marker": {
          "color": "rgb(255,65,54)"
         },
         "mode": "lines",
         "type": "scatter",
         "x": [
          0,
          11.331535124039355,
          11.331535124039355,
          0
         ],
         "xaxis": "x",
         "y": [
          -1085,
          -1085,
          -1095,
          -1095
         ],
         "yaxis": "y"
        },
        {
         "hoverinfo": "text",
         "marker": {
          "color": "rgb(255,65,54)"
         },
         "mode": "lines",
         "type": "scatter",
         "x": [
          0,
          3.3016425950243646,
          3.3016425950243646,
          0
         ],
         "xaxis": "x",
         "y": [
          -1125,
          -1125,
          -1135,
          -1135
         ],
         "yaxis": "y"
        },
        {
         "hoverinfo": "text",
         "marker": {
          "color": "rgb(255,65,54)"
         },
         "mode": "lines",
         "type": "scatter",
         "x": [
          0,
          4.875557166974881,
          4.875557166974881,
          3.3016425950243646
         ],
         "xaxis": "x",
         "y": [
          -1115,
          -1115,
          -1130,
          -1130
         ],
         "yaxis": "y"
        },
        {
         "hoverinfo": "text",
         "marker": {
          "color": "rgb(255,65,54)"
         },
         "mode": "lines",
         "type": "scatter",
         "x": [
          0,
          12.53136580366607,
          12.53136580366607,
          4.875557166974881
         ],
         "xaxis": "x",
         "y": [
          -1105,
          -1105,
          -1122.5,
          -1122.5
         ],
         "yaxis": "y"
        },
        {
         "hoverinfo": "text",
         "marker": {
          "color": "rgb(255,65,54)"
         },
         "mode": "lines",
         "type": "scatter",
         "x": [
          11.331535124039355,
          23.05527340444687,
          23.05527340444687,
          12.53136580366607
         ],
         "xaxis": "x",
         "y": [
          -1090,
          -1090,
          -1113.75,
          -1113.75
         ],
         "yaxis": "y"
        },
        {
         "hoverinfo": "text",
         "marker": {
          "color": "rgb(255,65,54)"
         },
         "mode": "lines",
         "type": "scatter",
         "x": [
          0,
          1.4384364589971315,
          1.4384364589971315,
          0
         ],
         "xaxis": "x",
         "y": [
          -1155,
          -1155,
          -1165,
          -1165
         ],
         "yaxis": "y"
        },
        {
         "hoverinfo": "text",
         "marker": {
          "color": "rgb(255,65,54)"
         },
         "mode": "lines",
         "type": "scatter",
         "x": [
          0,
          5.146936207412577,
          5.146936207412577,
          1.4384364589971315
         ],
         "xaxis": "x",
         "y": [
          -1145,
          -1145,
          -1160,
          -1160
         ],
         "yaxis": "y"
        },
        {
         "hoverinfo": "text",
         "marker": {
          "color": "rgb(255,65,54)"
         },
         "mode": "lines",
         "type": "scatter",
         "x": [
          0,
          6.407737284529891,
          6.407737284529891,
          0
         ],
         "xaxis": "x",
         "y": [
          -1175,
          -1175,
          -1185,
          -1185
         ],
         "yaxis": "y"
        },
        {
         "hoverinfo": "text",
         "marker": {
          "color": "rgb(255,65,54)"
         },
         "mode": "lines",
         "type": "scatter",
         "x": [
          5.146936207412577,
          17.700658816285326,
          17.700658816285326,
          6.407737284529891
         ],
         "xaxis": "x",
         "y": [
          -1152.5,
          -1152.5,
          -1180,
          -1180
         ],
         "yaxis": "y"
        },
        {
         "hoverinfo": "text",
         "marker": {
          "color": "rgb(255,65,54)"
         },
         "mode": "lines",
         "type": "scatter",
         "x": [
          0,
          6.324886228925141,
          6.324886228925141,
          0
         ],
         "xaxis": "x",
         "y": [
          -1195,
          -1195,
          -1205,
          -1205
         ],
         "yaxis": "y"
        },
        {
         "hoverinfo": "text",
         "marker": {
          "color": "rgb(255,65,54)"
         },
         "mode": "lines",
         "type": "scatter",
         "x": [
          0,
          7.810312637107464,
          7.810312637107464,
          0
         ],
         "xaxis": "x",
         "y": [
          -1215,
          -1215,
          -1225,
          -1225
         ],
         "yaxis": "y"
        },
        {
         "hoverinfo": "text",
         "marker": {
          "color": "rgb(255,65,54)"
         },
         "mode": "lines",
         "type": "scatter",
         "x": [
          6.324886228925141,
          20.248640522351668,
          20.248640522351668,
          7.810312637107464
         ],
         "xaxis": "x",
         "y": [
          -1200,
          -1200,
          -1220,
          -1220
         ],
         "yaxis": "y"
        },
        {
         "hoverinfo": "text",
         "marker": {
          "color": "rgb(255,65,54)"
         },
         "mode": "lines",
         "type": "scatter",
         "x": [
          17.700658816285326,
          46.66906711108643,
          46.66906711108643,
          20.248640522351668
         ],
         "xaxis": "x",
         "y": [
          -1166.25,
          -1166.25,
          -1210,
          -1210
         ],
         "yaxis": "y"
        },
        {
         "hoverinfo": "text",
         "marker": {
          "color": "rgb(255,65,54)"
         },
         "mode": "lines",
         "type": "scatter",
         "x": [
          23.05527340444687,
          82.02783748466354,
          82.02783748466354,
          46.66906711108643
         ],
         "xaxis": "x",
         "y": [
          -1101.875,
          -1101.875,
          -1188.125,
          -1188.125
         ],
         "yaxis": "y"
        },
        {
         "hoverinfo": "text",
         "marker": {
          "color": "rgb(255,65,54)"
         },
         "mode": "lines",
         "type": "scatter",
         "x": [
          67.89842607181477,
          163.3808036402437,
          163.3808036402437,
          82.02783748466354
         ],
         "xaxis": "x",
         "y": [
          -996.25,
          -996.25,
          -1145,
          -1145
         ],
         "yaxis": "y"
        },
        {
         "hoverinfo": "text",
         "marker": {
          "color": "rgb(255,65,54)"
         },
         "mode": "lines",
         "type": "scatter",
         "x": [
          106.06635511181784,
          282.84394457759174,
          282.84394457759174,
          163.3808036402437
         ],
         "xaxis": "x",
         "y": [
          -761.3671875,
          -761.3671875,
          -1070.625,
          -1070.625
         ],
         "yaxis": "y"
        },
        {
         "hoverinfo": "text",
         "marker": {
          "color": "rgb(255,65,54)"
         },
         "mode": "lines",
         "type": "scatter",
         "x": [
          0,
          2.2361036664897287,
          2.2361036664897287,
          0
         ],
         "xaxis": "x",
         "y": [
          -1245,
          -1245,
          -1255,
          -1255
         ],
         "yaxis": "y"
        },
        {
         "hoverinfo": "text",
         "marker": {
          "color": "rgb(255,65,54)"
         },
         "mode": "lines",
         "type": "scatter",
         "x": [
          0,
          6.082765888917386,
          6.082765888917386,
          2.2361036664897287
         ],
         "xaxis": "x",
         "y": [
          -1235,
          -1235,
          -1250,
          -1250
         ],
         "yaxis": "y"
        },
        {
         "hoverinfo": "text",
         "marker": {
          "color": "rgb(255,65,54)"
         },
         "mode": "lines",
         "type": "scatter",
         "x": [
          0,
          3.6157709788486914,
          3.6157709788486914,
          0
         ],
         "xaxis": "x",
         "y": [
          -1285,
          -1285,
          -1295,
          -1295
         ],
         "yaxis": "y"
        },
        {
         "hoverinfo": "text",
         "marker": {
          "color": "rgb(255,65,54)"
         },
         "mode": "lines",
         "type": "scatter",
         "x": [
          0,
          9.22500352030847,
          9.22500352030847,
          3.6157709788486914
         ],
         "xaxis": "x",
         "y": [
          -1275,
          -1275,
          -1290,
          -1290
         ],
         "yaxis": "y"
        },
        {
         "hoverinfo": "text",
         "marker": {
          "color": "rgb(255,65,54)"
         },
         "mode": "lines",
         "type": "scatter",
         "x": [
          0,
          15.033946213567292,
          15.033946213567292,
          9.22500352030847
         ],
         "xaxis": "x",
         "y": [
          -1265,
          -1265,
          -1282.5,
          -1282.5
         ],
         "yaxis": "y"
        },
        {
         "hoverinfo": "text",
         "marker": {
          "color": "rgb(255,65,54)"
         },
         "mode": "lines",
         "type": "scatter",
         "x": [
          6.082765888917386,
          25.061250180880666,
          25.061250180880666,
          15.033946213567292
         ],
         "xaxis": "x",
         "y": [
          -1242.5,
          -1242.5,
          -1273.75,
          -1273.75
         ],
         "yaxis": "y"
        },
        {
         "hoverinfo": "text",
         "marker": {
          "color": "rgb(255,65,54)"
         },
         "mode": "lines",
         "type": "scatter",
         "x": [
          0,
          20.025153547597334,
          20.025153547597334,
          0
         ],
         "xaxis": "x",
         "y": [
          -1305,
          -1305,
          -1315,
          -1315
         ],
         "yaxis": "y"
        },
        {
         "hoverinfo": "text",
         "marker": {
          "color": "rgb(255,65,54)"
         },
         "mode": "lines",
         "type": "scatter",
         "x": [
          0,
          5.656911894313085,
          5.656911894313085,
          0
         ],
         "xaxis": "x",
         "y": [
          -1325,
          -1325,
          -1335,
          -1335
         ],
         "yaxis": "y"
        },
        {
         "hoverinfo": "text",
         "marker": {
          "color": "rgb(255,65,54)"
         },
         "mode": "lines",
         "type": "scatter",
         "x": [
          0,
          4.478211198112867,
          4.478211198112867,
          0
         ],
         "xaxis": "x",
         "y": [
          -1345,
          -1345,
          -1355,
          -1355
         ],
         "yaxis": "y"
        },
        {
         "hoverinfo": "text",
         "marker": {
          "color": "rgb(255,65,54)"
         },
         "mode": "lines",
         "type": "scatter",
         "x": [
          0,
          2.828431997807522,
          2.828431997807522,
          0
         ],
         "xaxis": "x",
         "y": [
          -1365,
          -1365,
          -1375,
          -1375
         ],
         "yaxis": "y"
        },
        {
         "hoverinfo": "text",
         "marker": {
          "color": "rgb(255,65,54)"
         },
         "mode": "lines",
         "type": "scatter",
         "x": [
          0,
          2.8284912078739954,
          2.8284912078739954,
          0
         ],
         "xaxis": "x",
         "y": [
          -1385,
          -1385,
          -1395,
          -1395
         ],
         "yaxis": "y"
        },
        {
         "hoverinfo": "text",
         "marker": {
          "color": "rgb(255,65,54)"
         },
         "mode": "lines",
         "type": "scatter",
         "x": [
          2.828431997807522,
          8.485284944847058,
          8.485284944847058,
          2.8284912078739954
         ],
         "xaxis": "x",
         "y": [
          -1370,
          -1370,
          -1390,
          -1390
         ],
         "yaxis": "y"
        },
        {
         "hoverinfo": "text",
         "marker": {
          "color": "rgb(255,65,54)"
         },
         "mode": "lines",
         "type": "scatter",
         "x": [
          4.478211198112867,
          16.280682705143338,
          16.280682705143338,
          8.485284944847058
         ],
         "xaxis": "x",
         "y": [
          -1350,
          -1350,
          -1380,
          -1380
         ],
         "yaxis": "y"
        },
        {
         "hoverinfo": "text",
         "marker": {
          "color": "rgb(255,65,54)"
         },
         "mode": "lines",
         "type": "scatter",
         "x": [
          5.656911894313085,
          19.798992408049823,
          19.798992408049823,
          16.280682705143338
         ],
         "xaxis": "x",
         "y": [
          -1330,
          -1330,
          -1365,
          -1365
         ],
         "yaxis": "y"
        },
        {
         "hoverinfo": "text",
         "marker": {
          "color": "rgb(255,65,54)"
         },
         "mode": "lines",
         "type": "scatter",
         "x": [
          0,
          4.4724493012456605,
          4.4724493012456605,
          0
         ],
         "xaxis": "x",
         "y": [
          -1405,
          -1405,
          -1415,
          -1415
         ],
         "yaxis": "y"
        },
        {
         "hoverinfo": "text",
         "marker": {
          "color": "rgb(255,65,54)"
         },
         "mode": "lines",
         "type": "scatter",
         "x": [
          0,
          4.477638397959716,
          4.477638397959716,
          0
         ],
         "xaxis": "x",
         "y": [
          -1435,
          -1435,
          -1445,
          -1445
         ],
         "yaxis": "y"
        },
        {
         "hoverinfo": "text",
         "marker": {
          "color": "rgb(255,65,54)"
         },
         "mode": "lines",
         "type": "scatter",
         "x": [
          0,
          9.899496809958277,
          9.899496809958277,
          4.477638397959716
         ],
         "xaxis": "x",
         "y": [
          -1425,
          -1425,
          -1440,
          -1440
         ],
         "yaxis": "y"
        },
        {
         "hoverinfo": "text",
         "marker": {
          "color": "rgb(255,65,54)"
         },
         "mode": "lines",
         "type": "scatter",
         "x": [
          4.4724493012456605,
          21.213497459834738,
          21.213497459834738,
          9.899496809958277
         ],
         "xaxis": "x",
         "y": [
          -1410,
          -1410,
          -1432.5,
          -1432.5
         ],
         "yaxis": "y"
        },
        {
         "hoverinfo": "text",
         "marker": {
          "color": "rgb(255,65,54)"
         },
         "mode": "lines",
         "type": "scatter",
         "x": [
          19.798992408049823,
          48.08326126620494,
          48.08326126620494,
          21.213497459834738
         ],
         "xaxis": "x",
         "y": [
          -1347.5,
          -1347.5,
          -1421.25,
          -1421.25
         ],
         "yaxis": "y"
        },
        {
         "hoverinfo": "text",
         "marker": {
          "color": "rgb(255,65,54)"
         },
         "mode": "lines",
         "type": "scatter",
         "x": [
          20.025153547597334,
          76.89747825135353,
          76.89747825135353,
          48.08326126620494
         ],
         "xaxis": "x",
         "y": [
          -1310,
          -1310,
          -1384.375,
          -1384.375
         ],
         "yaxis": "y"
        },
        {
         "hoverinfo": "text",
         "marker": {
          "color": "rgb(255,65,54)"
         },
         "mode": "lines",
         "type": "scatter",
         "x": [
          25.061250180880666,
          82.22700760281063,
          82.22700760281063,
          76.89747825135353
         ],
         "xaxis": "x",
         "y": [
          -1258.125,
          -1258.125,
          -1347.1875,
          -1347.1875
         ],
         "yaxis": "y"
        },
        {
         "hoverinfo": "text",
         "marker": {
          "color": "rgb(255,65,54)"
         },
         "mode": "lines",
         "type": "scatter",
         "x": [
          0,
          6.0828048234924035,
          6.0828048234924035,
          0
         ],
         "xaxis": "x",
         "y": [
          -1465,
          -1465,
          -1475,
          -1475
         ],
         "yaxis": "y"
        },
        {
         "hoverinfo": "text",
         "marker": {
          "color": "rgb(255,65,54)"
         },
         "mode": "lines",
         "type": "scatter",
         "x": [
          0,
          18.357777211736654,
          18.357777211736654,
          6.0828048234924035
         ],
         "xaxis": "x",
         "y": [
          -1455,
          -1455,
          -1470,
          -1470
         ],
         "yaxis": "y"
        },
        {
         "hoverinfo": "text",
         "marker": {
          "color": "rgb(255,65,54)"
         },
         "mode": "lines",
         "type": "scatter",
         "x": [
          0,
          5.000030046825744,
          5.000030046825744,
          0
         ],
         "xaxis": "x",
         "y": [
          -1485,
          -1485,
          -1495,
          -1495
         ],
         "yaxis": "y"
        },
        {
         "hoverinfo": "text",
         "marker": {
          "color": "rgb(255,65,54)"
         },
         "mode": "lines",
         "type": "scatter",
         "x": [
          0,
          9.219544503582048,
          9.219544503582048,
          0
         ],
         "xaxis": "x",
         "y": [
          -1505,
          -1505,
          -1515,
          -1515
         ],
         "yaxis": "y"
        },
        {
         "hoverinfo": "text",
         "marker": {
          "color": "rgb(255,65,54)"
         },
         "mode": "lines",
         "type": "scatter",
         "x": [
          5.000030046825744,
          30.413816594814765,
          30.413816594814765,
          9.219544503582048
         ],
         "xaxis": "x",
         "y": [
          -1490,
          -1490,
          -1510,
          -1510
         ],
         "yaxis": "y"
        },
        {
         "hoverinfo": "text",
         "marker": {
          "color": "rgb(255,65,54)"
         },
         "mode": "lines",
         "type": "scatter",
         "x": [
          18.357777211736654,
          40.025132741326345,
          40.025132741326345,
          30.413816594814765
         ],
         "xaxis": "x",
         "y": [
          -1462.5,
          -1462.5,
          -1500,
          -1500
         ],
         "yaxis": "y"
        },
        {
         "hoverinfo": "text",
         "marker": {
          "color": "rgb(255,65,54)"
         },
         "mode": "lines",
         "type": "scatter",
         "x": [
          0,
          1.41693209243704,
          1.41693209243704,
          0
         ],
         "xaxis": "x",
         "y": [
          -1535,
          -1535,
          -1545,
          -1545
         ],
         "yaxis": "y"
        },
        {
         "hoverinfo": "text",
         "marker": {
          "color": "rgb(255,65,54)"
         },
         "mode": "lines",
         "type": "scatter",
         "x": [
          0,
          3.171527204309273,
          3.171527204309273,
          0
         ],
         "xaxis": "x",
         "y": [
          -1555,
          -1555,
          -1565,
          -1565
         ],
         "yaxis": "y"
        },
        {
         "hoverinfo": "text",
         "marker": {
          "color": "rgb(255,65,54)"
         },
         "mode": "lines",
         "type": "scatter",
         "x": [
          1.41693209243704,
          6.324580267111605,
          6.324580267111605,
          3.171527204309273
         ],
         "xaxis": "x",
         "y": [
          -1540,
          -1540,
          -1560,
          -1560
         ],
         "yaxis": "y"
        },
        {
         "hoverinfo": "text",
         "marker": {
          "color": "rgb(255,65,54)"
         },
         "mode": "lines",
         "type": "scatter",
         "x": [
          0,
          12.041653504165687,
          12.041653504165687,
          6.324580267111605
         ],
         "xaxis": "x",
         "y": [
          -1525,
          -1525,
          -1550,
          -1550
         ],
         "yaxis": "y"
        },
        {
         "hoverinfo": "text",
         "marker": {
          "color": "rgb(255,65,54)"
         },
         "mode": "lines",
         "type": "scatter",
         "x": [
          0,
          18.380872518770133,
          18.380872518770133,
          0
         ],
         "xaxis": "x",
         "y": [
          -1585,
          -1585,
          -1595,
          -1595
         ],
         "yaxis": "y"
        },
        {
         "hoverinfo": "text",
         "marker": {
          "color": "rgb(255,65,54)"
         },
         "mode": "lines",
         "type": "scatter",
         "x": [
          0,
          26.627236996761404,
          26.627236996761404,
          18.380872518770133
         ],
         "xaxis": "x",
         "y": [
          -1575,
          -1575,
          -1590,
          -1590
         ],
         "yaxis": "y"
        },
        {
         "hoverinfo": "text",
         "marker": {
          "color": "rgb(255,65,54)"
         },
         "mode": "lines",
         "type": "scatter",
         "x": [
          12.041653504165687,
          56.00914939745504,
          56.00914939745504,
          26.627236996761404
         ],
         "xaxis": "x",
         "y": [
          -1537.5,
          -1537.5,
          -1582.5,
          -1582.5
         ],
         "yaxis": "y"
        },
        {
         "hoverinfo": "text",
         "marker": {
          "color": "rgb(255,65,54)"
         },
         "mode": "lines",
         "type": "scatter",
         "x": [
          0,
          5.099041103826876,
          5.099041103826876,
          0
         ],
         "xaxis": "x",
         "y": [
          -1605,
          -1605,
          -1615,
          -1615
         ],
         "yaxis": "y"
        },
        {
         "hoverinfo": "text",
         "marker": {
          "color": "rgb(255,65,54)"
         },
         "mode": "lines",
         "type": "scatter",
         "x": [
          0,
          11.70470011410376,
          11.70470011410376,
          0
         ],
         "xaxis": "x",
         "y": [
          -1625,
          -1625,
          -1635,
          -1635
         ],
         "yaxis": "y"
        },
        {
         "hoverinfo": "text",
         "marker": {
          "color": "rgb(255,65,54)"
         },
         "mode": "lines",
         "type": "scatter",
         "x": [
          0,
          16.553200073310126,
          16.553200073310126,
          0
         ],
         "xaxis": "x",
         "y": [
          -1645,
          -1645,
          -1655,
          -1655
         ],
         "yaxis": "y"
        },
        {
         "hoverinfo": "text",
         "marker": {
          "color": "rgb(255,65,54)"
         },
         "mode": "lines",
         "type": "scatter",
         "x": [
          11.70470011410376,
          25.000536778302596,
          25.000536778302596,
          16.553200073310126
         ],
         "xaxis": "x",
         "y": [
          -1630,
          -1630,
          -1650,
          -1650
         ],
         "yaxis": "y"
        },
        {
         "hoverinfo": "text",
         "marker": {
          "color": "rgb(255,65,54)"
         },
         "mode": "lines",
         "type": "scatter",
         "x": [
          5.099041103826876,
          36.769572078007634,
          36.769572078007634,
          25.000536778302596
         ],
         "xaxis": "x",
         "y": [
          -1610,
          -1610,
          -1640,
          -1640
         ],
         "yaxis": "y"
        },
        {
         "hoverinfo": "text",
         "marker": {
          "color": "rgb(255,65,54)"
         },
         "mode": "lines",
         "type": "scatter",
         "x": [
          0,
          1.4143954719351002,
          1.4143954719351002,
          0
         ],
         "xaxis": "x",
         "y": [
          -1675,
          -1675,
          -1685,
          -1685
         ],
         "yaxis": "y"
        },
        {
         "hoverinfo": "text",
         "marker": {
          "color": "rgb(255,65,54)"
         },
         "mode": "lines",
         "type": "scatter",
         "x": [
          0,
          5.385282805778598,
          5.385282805778598,
          1.4143954719351002
         ],
         "xaxis": "x",
         "y": [
          -1665,
          -1665,
          -1680,
          -1680
         ],
         "yaxis": "y"
        },
        {
         "hoverinfo": "text",
         "marker": {
          "color": "rgb(255,65,54)"
         },
         "mode": "lines",
         "type": "scatter",
         "x": [
          0,
          11.180340519948924,
          11.180340519948924,
          0
         ],
         "xaxis": "x",
         "y": [
          -1695,
          -1695,
          -1705,
          -1705
         ],
         "yaxis": "y"
        },
        {
         "hoverinfo": "text",
         "marker": {
          "color": "rgb(255,65,54)"
         },
         "mode": "lines",
         "type": "scatter",
         "x": [
          5.385282805778598,
          25.632017371445556,
          25.632017371445556,
          11.180340519948924
         ],
         "xaxis": "x",
         "y": [
          -1672.5,
          -1672.5,
          -1700,
          -1700
         ],
         "yaxis": "y"
        },
        {
         "hoverinfo": "text",
         "marker": {
          "color": "rgb(255,65,54)"
         },
         "mode": "lines",
         "type": "scatter",
         "x": [
          0,
          5.657066916067138,
          5.657066916067138,
          0
         ],
         "xaxis": "x",
         "y": [
          -1715,
          -1715,
          -1725,
          -1725
         ],
         "yaxis": "y"
        },
        {
         "hoverinfo": "text",
         "marker": {
          "color": "rgb(255,65,54)"
         },
         "mode": "lines",
         "type": "scatter",
         "x": [
          0,
          7.211381246802162,
          7.211381246802162,
          0
         ],
         "xaxis": "x",
         "y": [
          -1735,
          -1735,
          -1745,
          -1745
         ],
         "yaxis": "y"
        },
        {
         "hoverinfo": "text",
         "marker": {
          "color": "rgb(255,65,54)"
         },
         "mode": "lines",
         "type": "scatter",
         "x": [
          5.657066916067138,
          12.369532362735537,
          12.369532362735537,
          7.211381246802162
         ],
         "xaxis": "x",
         "y": [
          -1720,
          -1720,
          -1740,
          -1740
         ],
         "yaxis": "y"
        },
        {
         "hoverinfo": "text",
         "marker": {
          "color": "rgb(255,65,54)"
         },
         "mode": "lines",
         "type": "scatter",
         "x": [
          0,
          8.485281412482868,
          8.485281412482868,
          0
         ],
         "xaxis": "x",
         "y": [
          -1765,
          -1765,
          -1775,
          -1775
         ],
         "yaxis": "y"
        },
        {
         "hoverinfo": "text",
         "marker": {
          "color": "rgb(255,65,54)"
         },
         "mode": "lines",
         "type": "scatter",
         "x": [
          0,
          13.929001268248912,
          13.929001268248912,
          8.485281412482868
         ],
         "xaxis": "x",
         "y": [
          -1755,
          -1755,
          -1770,
          -1770
         ],
         "yaxis": "y"
        },
        {
         "hoverinfo": "text",
         "marker": {
          "color": "rgb(255,65,54)"
         },
         "mode": "lines",
         "type": "scatter",
         "x": [
          12.369532362735537,
          33.241546820669164,
          33.241546820669164,
          13.929001268248912
         ],
         "xaxis": "x",
         "y": [
          -1730,
          -1730,
          -1762.5,
          -1762.5
         ],
         "yaxis": "y"
        },
        {
         "hoverinfo": "text",
         "marker": {
          "color": "rgb(255,65,54)"
         },
         "mode": "lines",
         "type": "scatter",
         "x": [
          25.632017371445556,
          56.824331983762114,
          56.824331983762114,
          33.241546820669164
         ],
         "xaxis": "x",
         "y": [
          -1686.25,
          -1686.25,
          -1746.25,
          -1746.25
         ],
         "yaxis": "y"
        },
        {
         "hoverinfo": "text",
         "marker": {
          "color": "rgb(255,65,54)"
         },
         "mode": "lines",
         "type": "scatter",
         "x": [
          36.769572078007634,
          76.16430723916942,
          76.16430723916942,
          56.824331983762114
         ],
         "xaxis": "x",
         "y": [
          -1625,
          -1625,
          -1716.25,
          -1716.25
         ],
         "yaxis": "y"
        },
        {
         "hoverinfo": "text",
         "marker": {
          "color": "rgb(255,65,54)"
         },
         "mode": "lines",
         "type": "scatter",
         "x": [
          56.00914939745504,
          93.14516289749807,
          93.14516289749807,
          76.16430723916942
         ],
         "xaxis": "x",
         "y": [
          -1560,
          -1560,
          -1670.625,
          -1670.625
         ],
         "yaxis": "y"
        },
        {
         "hoverinfo": "text",
         "marker": {
          "color": "rgb(255,65,54)"
         },
         "mode": "lines",
         "type": "scatter",
         "x": [
          40.025132741326345,
          125.93660514409903,
          125.93660514409903,
          93.14516289749807
         ],
         "xaxis": "x",
         "y": [
          -1481.25,
          -1481.25,
          -1615.3125,
          -1615.3125
         ],
         "yaxis": "y"
        },
        {
         "hoverinfo": "text",
         "marker": {
          "color": "rgb(255,65,54)"
         },
         "mode": "lines",
         "type": "scatter",
         "x": [
          82.22700760281063,
          227.6883963318295,
          227.6883963318295,
          125.93660514409903
         ],
         "xaxis": "x",
         "y": [
          -1302.65625,
          -1302.65625,
          -1548.28125,
          -1548.28125
         ],
         "yaxis": "y"
        },
        {
         "hoverinfo": "text",
         "marker": {
          "color": "rgb(255,65,54)"
         },
         "mode": "lines",
         "type": "scatter",
         "x": [
          0,
          22.488224019617697,
          22.488224019617697,
          0
         ],
         "xaxis": "x",
         "y": [
          -1785,
          -1785,
          -1795,
          -1795
         ],
         "yaxis": "y"
        },
        {
         "hoverinfo": "text",
         "marker": {
          "color": "rgb(255,65,54)"
         },
         "mode": "lines",
         "type": "scatter",
         "x": [
          0,
          3.1623055205076462,
          3.1623055205076462,
          0
         ],
         "xaxis": "x",
         "y": [
          -1825,
          -1825,
          -1835,
          -1835
         ],
         "yaxis": "y"
        },
        {
         "hoverinfo": "text",
         "marker": {
          "color": "rgb(255,65,54)"
         },
         "mode": "lines",
         "type": "scatter",
         "x": [
          0,
          25.49616104652004,
          25.49616104652004,
          3.1623055205076462
         ],
         "xaxis": "x",
         "y": [
          -1815,
          -1815,
          -1830,
          -1830
         ],
         "yaxis": "y"
        },
        {
         "hoverinfo": "text",
         "marker": {
          "color": "rgb(255,65,54)"
         },
         "mode": "lines",
         "type": "scatter",
         "x": [
          0,
          3.607757730949179,
          3.607757730949179,
          0
         ],
         "xaxis": "x",
         "y": [
          -1875,
          -1875,
          -1885,
          -1885
         ],
         "yaxis": "y"
        },
        {
         "hoverinfo": "text",
         "marker": {
          "color": "rgb(255,65,54)"
         },
         "mode": "lines",
         "type": "scatter",
         "x": [
          0,
          7.810251335467716,
          7.810251335467716,
          3.607757730949179
         ],
         "xaxis": "x",
         "y": [
          -1865,
          -1865,
          -1880,
          -1880
         ],
         "yaxis": "y"
        },
        {
         "hoverinfo": "text",
         "marker": {
          "color": "rgb(255,65,54)"
         },
         "mode": "lines",
         "type": "scatter",
         "x": [
          0,
          9.850356074349186,
          9.850356074349186,
          0
         ],
         "xaxis": "x",
         "y": [
          -1895,
          -1895,
          -1905,
          -1905
         ],
         "yaxis": "y"
        },
        {
         "hoverinfo": "text",
         "marker": {
          "color": "rgb(255,65,54)"
         },
         "mode": "lines",
         "type": "scatter",
         "x": [
          7.810251335467716,
          17.262775568199704,
          17.262775568199704,
          9.850356074349186
         ],
         "xaxis": "x",
         "y": [
          -1872.5,
          -1872.5,
          -1900,
          -1900
         ],
         "yaxis": "y"
        },
        {
         "hoverinfo": "text",
         "marker": {
          "color": "rgb(255,65,54)"
         },
         "mode": "lines",
         "type": "scatter",
         "x": [
          0,
          21.540666236141135,
          21.540666236141135,
          17.262775568199704
         ],
         "xaxis": "x",
         "y": [
          -1855,
          -1855,
          -1886.25,
          -1886.25
         ],
         "yaxis": "y"
        },
        {
         "hoverinfo": "text",
         "marker": {
          "color": "rgb(255,65,54)"
         },
         "mode": "lines",
         "type": "scatter",
         "x": [
          0,
          34.54036966565802,
          34.54036966565802,
          21.540666236141135
         ],
         "xaxis": "x",
         "y": [
          -1845,
          -1845,
          -1870.625,
          -1870.625
         ],
         "yaxis": "y"
        },
        {
         "hoverinfo": "text",
         "marker": {
          "color": "rgb(255,65,54)"
         },
         "mode": "lines",
         "type": "scatter",
         "x": [
          25.49616104652004,
          54.149686401402334,
          54.149686401402334,
          34.54036966565802
         ],
         "xaxis": "x",
         "y": [
          -1822.5,
          -1822.5,
          -1857.8125,
          -1857.8125
         ],
         "yaxis": "y"
        },
        {
         "hoverinfo": "text",
         "marker": {
          "color": "rgb(255,65,54)"
         },
         "mode": "lines",
         "type": "scatter",
         "x": [
          0,
          107.23253296201018,
          107.23253296201018,
          54.149686401402334
         ],
         "xaxis": "x",
         "y": [
          -1805,
          -1805,
          -1840.15625,
          -1840.15625
         ],
         "yaxis": "y"
        },
        {
         "hoverinfo": "text",
         "marker": {
          "color": "rgb(255,65,54)"
         },
         "mode": "lines",
         "type": "scatter",
         "x": [
          22.488224019617697,
          172.62714848392693,
          172.62714848392693,
          107.23253296201018
         ],
         "xaxis": "x",
         "y": [
          -1790,
          -1790,
          -1822.578125,
          -1822.578125
         ],
         "yaxis": "y"
        },
        {
         "hoverinfo": "text",
         "marker": {
          "color": "rgb(255,65,54)"
         },
         "mode": "lines",
         "type": "scatter",
         "x": [
          0,
          30.102641241512348,
          30.102641241512348,
          0
         ],
         "xaxis": "x",
         "y": [
          -1925,
          -1925,
          -1935,
          -1935
         ],
         "yaxis": "y"
        },
        {
         "hoverinfo": "text",
         "marker": {
          "color": "rgb(255,65,54)"
         },
         "mode": "lines",
         "type": "scatter",
         "x": [
          0,
          84.58217710341775,
          84.58217710341775,
          30.102641241512348
         ],
         "xaxis": "x",
         "y": [
          -1915,
          -1915,
          -1930,
          -1930
         ],
         "yaxis": "y"
        },
        {
         "hoverinfo": "text",
         "marker": {
          "color": "rgb(255,65,54)"
         },
         "mode": "lines",
         "type": "scatter",
         "x": [
          0,
          5.385825366155663,
          5.385825366155663,
          0
         ],
         "xaxis": "x",
         "y": [
          -1945,
          -1945,
          -1955,
          -1955
         ],
         "yaxis": "y"
        },
        {
         "hoverinfo": "text",
         "marker": {
          "color": "rgb(255,65,54)"
         },
         "mode": "lines",
         "type": "scatter",
         "x": [
          0,
          6.403288517493219,
          6.403288517493219,
          0
         ],
         "xaxis": "x",
         "y": [
          -1985,
          -1985,
          -1995,
          -1995
         ],
         "yaxis": "y"
        },
        {
         "hoverinfo": "text",
         "marker": {
          "color": "rgb(255,65,54)"
         },
         "mode": "lines",
         "type": "scatter",
         "x": [
          0,
          20.624022867372364,
          20.624022867372364,
          6.403288517493219
         ],
         "xaxis": "x",
         "y": [
          -1975,
          -1975,
          -1990,
          -1990
         ],
         "yaxis": "y"
        },
        {
         "hoverinfo": "text",
         "marker": {
          "color": "rgb(255,65,54)"
         },
         "mode": "lines",
         "type": "scatter",
         "x": [
          0,
          32.015632745651665,
          32.015632745651665,
          20.624022867372364
         ],
         "xaxis": "x",
         "y": [
          -1965,
          -1965,
          -1982.5,
          -1982.5
         ],
         "yaxis": "y"
        },
        {
         "hoverinfo": "text",
         "marker": {
          "color": "rgb(255,65,54)"
         },
         "mode": "lines",
         "type": "scatter",
         "x": [
          5.385825366155663,
          51.86540449156454,
          51.86540449156454,
          32.015632745651665
         ],
         "xaxis": "x",
         "y": [
          -1950,
          -1950,
          -1973.75,
          -1973.75
         ],
         "yaxis": "y"
        },
        {
         "hoverinfo": "text",
         "marker": {
          "color": "rgb(255,65,54)"
         },
         "mode": "lines",
         "type": "scatter",
         "x": [
          0,
          20.223759686524346,
          20.223759686524346,
          0
         ],
         "xaxis": "x",
         "y": [
          -2005,
          -2005,
          -2015,
          -2015
         ],
         "yaxis": "y"
        },
        {
         "hoverinfo": "text",
         "marker": {
          "color": "rgb(255,65,54)"
         },
         "mode": "lines",
         "type": "scatter",
         "x": [
          0,
          7.071099979253257,
          7.071099979253257,
          0
         ],
         "xaxis": "x",
         "y": [
          -2035,
          -2035,
          -2045,
          -2045
         ],
         "yaxis": "y"
        },
        {
         "hoverinfo": "text",
         "marker": {
          "color": "rgb(255,65,54)"
         },
         "mode": "lines",
         "type": "scatter",
         "x": [
          0,
          27.166172168412498,
          27.166172168412498,
          7.071099979253257
         ],
         "xaxis": "x",
         "y": [
          -2025,
          -2025,
          -2040,
          -2040
         ],
         "yaxis": "y"
        },
        {
         "hoverinfo": "text",
         "marker": {
          "color": "rgb(255,65,54)"
         },
         "mode": "lines",
         "type": "scatter",
         "x": [
          20.223759686524346,
          66.61081053716426,
          66.61081053716426,
          27.166172168412498
         ],
         "xaxis": "x",
         "y": [
          -2010,
          -2010,
          -2032.5,
          -2032.5
         ],
         "yaxis": "y"
        },
        {
         "hoverinfo": "text",
         "marker": {
          "color": "rgb(255,65,54)"
         },
         "mode": "lines",
         "type": "scatter",
         "x": [
          51.86540449156454,
          95.80712824595618,
          95.80712824595618,
          66.61081053716426
         ],
         "xaxis": "x",
         "y": [
          -1961.875,
          -1961.875,
          -2021.25,
          -2021.25
         ],
         "yaxis": "y"
        },
        {
         "hoverinfo": "text",
         "marker": {
          "color": "rgb(255,65,54)"
         },
         "mode": "lines",
         "type": "scatter",
         "x": [
          84.58217710341775,
          143.27314288462475,
          143.27314288462475,
          95.80712824595618
         ],
         "xaxis": "x",
         "y": [
          -1922.5,
          -1922.5,
          -1991.5625,
          -1991.5625
         ],
         "yaxis": "y"
        },
        {
         "hoverinfo": "text",
         "marker": {
          "color": "rgb(255,65,54)"
         },
         "mode": "lines",
         "type": "scatter",
         "x": [
          0,
          34.67314252517533,
          34.67314252517533,
          0
         ],
         "xaxis": "x",
         "y": [
          -2065,
          -2065,
          -2075,
          -2075
         ],
         "yaxis": "y"
        },
        {
         "hoverinfo": "text",
         "marker": {
          "color": "rgb(255,65,54)"
         },
         "mode": "lines",
         "type": "scatter",
         "x": [
          0,
          62.771133118214905,
          62.771133118214905,
          34.67314252517533
         ],
         "xaxis": "x",
         "y": [
          -2055,
          -2055,
          -2070,
          -2070
         ],
         "yaxis": "y"
        },
        {
         "hoverinfo": "text",
         "marker": {
          "color": "rgb(255,65,54)"
         },
         "mode": "lines",
         "type": "scatter",
         "x": [
          0,
          37.44385263326569,
          37.44385263326569,
          0
         ],
         "xaxis": "x",
         "y": [
          -2095,
          -2095,
          -2105,
          -2105
         ],
         "yaxis": "y"
        },
        {
         "hoverinfo": "text",
         "marker": {
          "color": "rgb(255,65,54)"
         },
         "mode": "lines",
         "type": "scatter",
         "x": [
          0,
          90.60434854825817,
          90.60434854825817,
          37.44385263326569
         ],
         "xaxis": "x",
         "y": [
          -2085,
          -2085,
          -2100,
          -2100
         ],
         "yaxis": "y"
        },
        {
         "hoverinfo": "text",
         "marker": {
          "color": "rgb(255,65,54)"
         },
         "mode": "lines",
         "type": "scatter",
         "x": [
          62.771133118214905,
          161.52448782864374,
          161.52448782864374,
          90.60434854825817
         ],
         "xaxis": "x",
         "y": [
          -2062.5,
          -2062.5,
          -2092.5,
          -2092.5
         ],
         "yaxis": "y"
        },
        {
         "hoverinfo": "text",
         "marker": {
          "color": "rgb(255,65,54)"
         },
         "mode": "lines",
         "type": "scatter",
         "x": [
          143.27314288462475,
          255.63450472768204,
          255.63450472768204,
          161.52448782864374
         ],
         "xaxis": "x",
         "y": [
          -1957.03125,
          -1957.03125,
          -2077.5,
          -2077.5
         ],
         "yaxis": "y"
        },
        {
         "hoverinfo": "text",
         "marker": {
          "color": "rgb(255,65,54)"
         },
         "mode": "lines",
         "type": "scatter",
         "x": [
          172.62714848392693,
          322.34460443307296,
          322.34460443307296,
          255.63450472768204
         ],
         "xaxis": "x",
         "y": [
          -1806.2890625,
          -1806.2890625,
          -2017.265625,
          -2017.265625
         ],
         "yaxis": "y"
        },
        {
         "hoverinfo": "text",
         "marker": {
          "color": "rgb(255,65,54)"
         },
         "mode": "lines",
         "type": "scatter",
         "x": [
          227.6883963318295,
          421.7356993621571,
          421.7356993621571,
          322.34460443307296
         ],
         "xaxis": "x",
         "y": [
          -1425.46875,
          -1425.46875,
          -1911.77734375,
          -1911.77734375
         ],
         "yaxis": "y"
        },
        {
         "hoverinfo": "text",
         "marker": {
          "color": "rgb(255,65,54)"
         },
         "mode": "lines",
         "type": "scatter",
         "x": [
          282.84394457759174,
          675.4635460326696,
          675.4635460326696,
          421.7356993621571
         ],
         "xaxis": "x",
         "y": [
          -915.99609375,
          -915.99609375,
          -1668.623046875,
          -1668.623046875
         ],
         "yaxis": "y"
        },
        {
         "hoverinfo": "text",
         "marker": {
          "color": "rgb(35,205,205)"
         },
         "mode": "lines",
         "type": "scatter",
         "x": [
          0,
          11.446303717692627,
          11.446303717692627,
          0
         ],
         "xaxis": "x",
         "y": [
          -2135,
          -2135,
          -2145,
          -2145
         ],
         "yaxis": "y"
        },
        {
         "hoverinfo": "text",
         "marker": {
          "color": "rgb(35,205,205)"
         },
         "mode": "lines",
         "type": "scatter",
         "x": [
          0,
          20.34700105045916,
          20.34700105045916,
          11.446303717692627
         ],
         "xaxis": "x",
         "y": [
          -2125,
          -2125,
          -2140,
          -2140
         ],
         "yaxis": "y"
        },
        {
         "hoverinfo": "text",
         "marker": {
          "color": "rgb(35,205,205)"
         },
         "mode": "lines",
         "type": "scatter",
         "x": [
          0,
          29.291662567740172,
          29.291662567740172,
          20.34700105045916
         ],
         "xaxis": "x",
         "y": [
          -2115,
          -2115,
          -2132.5,
          -2132.5
         ],
         "yaxis": "y"
        },
        {
         "hoverinfo": "text",
         "marker": {
          "color": "rgb(35,205,205)"
         },
         "mode": "lines",
         "type": "scatter",
         "x": [
          0,
          16.763160240096543,
          16.763160240096543,
          0
         ],
         "xaxis": "x",
         "y": [
          -2155,
          -2155,
          -2165,
          -2165
         ],
         "yaxis": "y"
        },
        {
         "hoverinfo": "text",
         "marker": {
          "color": "rgb(35,205,205)"
         },
         "mode": "lines",
         "type": "scatter",
         "x": [
          0,
          8.485284795180442,
          8.485284795180442,
          0
         ],
         "xaxis": "x",
         "y": [
          -2185,
          -2185,
          -2195,
          -2195
         ],
         "yaxis": "y"
        },
        {
         "hoverinfo": "text",
         "marker": {
          "color": "rgb(35,205,205)"
         },
         "mode": "lines",
         "type": "scatter",
         "x": [
          0,
          21.024343557287725,
          21.024343557287725,
          8.485284795180442
         ],
         "xaxis": "x",
         "y": [
          -2175,
          -2175,
          -2190,
          -2190
         ],
         "yaxis": "y"
        },
        {
         "hoverinfo": "text",
         "marker": {
          "color": "rgb(35,205,205)"
         },
         "mode": "lines",
         "type": "scatter",
         "x": [
          16.763160240096543,
          43.42850740870178,
          43.42850740870178,
          21.024343557287725
         ],
         "xaxis": "x",
         "y": [
          -2160,
          -2160,
          -2182.5,
          -2182.5
         ],
         "yaxis": "y"
        },
        {
         "hoverinfo": "text",
         "marker": {
          "color": "rgb(35,205,205)"
         },
         "mode": "lines",
         "type": "scatter",
         "x": [
          29.291662567740172,
          64.17168365537806,
          64.17168365537806,
          43.42850740870178
         ],
         "xaxis": "x",
         "y": [
          -2123.75,
          -2123.75,
          -2171.25,
          -2171.25
         ],
         "yaxis": "y"
        },
        {
         "hoverinfo": "text",
         "marker": {
          "color": "rgb(35,205,205)"
         },
         "mode": "lines",
         "type": "scatter",
         "x": [
          0,
          23.281841629372945,
          23.281841629372945,
          0
         ],
         "xaxis": "x",
         "y": [
          -2215,
          -2215,
          -2225,
          -2225
         ],
         "yaxis": "y"
        },
        {
         "hoverinfo": "text",
         "marker": {
          "color": "rgb(35,205,205)"
         },
         "mode": "lines",
         "type": "scatter",
         "x": [
          0,
          41.41259924686843,
          41.41259924686843,
          23.281841629372945
         ],
         "xaxis": "x",
         "y": [
          -2205,
          -2205,
          -2220,
          -2220
         ],
         "yaxis": "y"
        },
        {
         "hoverinfo": "text",
         "marker": {
          "color": "rgb(35,205,205)"
         },
         "mode": "lines",
         "type": "scatter",
         "x": [
          0,
          10.817906182487123,
          10.817906182487123,
          0
         ],
         "xaxis": "x",
         "y": [
          -2245,
          -2245,
          -2255,
          -2255
         ],
         "yaxis": "y"
        },
        {
         "hoverinfo": "text",
         "marker": {
          "color": "rgb(35,205,205)"
         },
         "mode": "lines",
         "type": "scatter",
         "x": [
          0,
          23.43155812448175,
          23.43155812448175,
          10.817906182487123
         ],
         "xaxis": "x",
         "y": [
          -2235,
          -2235,
          -2250,
          -2250
         ],
         "yaxis": "y"
        },
        {
         "hoverinfo": "text",
         "marker": {
          "color": "rgb(35,205,205)"
         },
         "mode": "lines",
         "type": "scatter",
         "x": [
          0,
          5.385170819789433,
          5.385170819789433,
          0
         ],
         "xaxis": "x",
         "y": [
          -2265,
          -2265,
          -2275,
          -2275
         ],
         "yaxis": "y"
        },
        {
         "hoverinfo": "text",
         "marker": {
          "color": "rgb(35,205,205)"
         },
         "mode": "lines",
         "type": "scatter",
         "x": [
          0,
          11.04539962793805,
          11.04539962793805,
          0
         ],
         "xaxis": "x",
         "y": [
          -2285,
          -2285,
          -2295,
          -2295
         ],
         "yaxis": "y"
        },
        {
         "hoverinfo": "text",
         "marker": {
          "color": "rgb(35,205,205)"
         },
         "mode": "lines",
         "type": "scatter",
         "x": [
          0,
          11.445709183125707,
          11.445709183125707,
          0
         ],
         "xaxis": "x",
         "y": [
          -2305,
          -2305,
          -2315,
          -2315
         ],
         "yaxis": "y"
        },
        {
         "hoverinfo": "text",
         "marker": {
          "color": "rgb(35,205,205)"
         },
         "mode": "lines",
         "type": "scatter",
         "x": [
          11.04539962793805,
          23.853721298261554,
          23.853721298261554,
          11.445709183125707
         ],
         "xaxis": "x",
         "y": [
          -2290,
          -2290,
          -2310,
          -2310
         ],
         "yaxis": "y"
        },
        {
         "hoverinfo": "text",
         "marker": {
          "color": "rgb(35,205,205)"
         },
         "mode": "lines",
         "type": "scatter",
         "x": [
          5.385170819789433,
          31.717515138719605,
          31.717515138719605,
          23.853721298261554
         ],
         "xaxis": "x",
         "y": [
          -2270,
          -2270,
          -2300,
          -2300
         ],
         "yaxis": "y"
        },
        {
         "hoverinfo": "text",
         "marker": {
          "color": "rgb(35,205,205)"
         },
         "mode": "lines",
         "type": "scatter",
         "x": [
          23.43155812448175,
          66.60340149240723,
          66.60340149240723,
          31.717515138719605
         ],
         "xaxis": "x",
         "y": [
          -2242.5,
          -2242.5,
          -2285,
          -2285
         ],
         "yaxis": "y"
        },
        {
         "hoverinfo": "text",
         "marker": {
          "color": "rgb(35,205,205)"
         },
         "mode": "lines",
         "type": "scatter",
         "x": [
          41.41259924686843,
          99.4535518516543,
          99.4535518516543,
          66.60340149240723
         ],
         "xaxis": "x",
         "y": [
          -2212.5,
          -2212.5,
          -2263.75,
          -2263.75
         ],
         "yaxis": "y"
        },
        {
         "hoverinfo": "text",
         "marker": {
          "color": "rgb(35,205,205)"
         },
         "mode": "lines",
         "type": "scatter",
         "x": [
          64.17168365537806,
          128.4134450077775,
          128.4134450077775,
          99.4535518516543
         ],
         "xaxis": "x",
         "y": [
          -2147.5,
          -2147.5,
          -2238.125,
          -2238.125
         ],
         "yaxis": "y"
        },
        {
         "hoverinfo": "text",
         "marker": {
          "color": "rgb(35,205,205)"
         },
         "mode": "lines",
         "type": "scatter",
         "x": [
          0,
          24.207437521318464,
          24.207437521318464,
          0
         ],
         "xaxis": "x",
         "y": [
          -2335,
          -2335,
          -2345,
          -2345
         ],
         "yaxis": "y"
        },
        {
         "hoverinfo": "text",
         "marker": {
          "color": "rgb(35,205,205)"
         },
         "mode": "lines",
         "type": "scatter",
         "x": [
          0,
          30.03356716279322,
          30.03356716279322,
          24.207437521318464
         ],
         "xaxis": "x",
         "y": [
          -2325,
          -2325,
          -2340,
          -2340
         ],
         "yaxis": "y"
        },
        {
         "hoverinfo": "text",
         "marker": {
          "color": "rgb(35,205,205)"
         },
         "mode": "lines",
         "type": "scatter",
         "x": [
          0,
          4.476787148483113,
          4.476787148483113,
          0
         ],
         "xaxis": "x",
         "y": [
          -2375,
          -2375,
          -2385,
          -2385
         ],
         "yaxis": "y"
        },
        {
         "hoverinfo": "text",
         "marker": {
          "color": "rgb(35,205,205)"
         },
         "mode": "lines",
         "type": "scatter",
         "x": [
          0,
          13.601470608177609,
          13.601470608177609,
          4.476787148483113
         ],
         "xaxis": "x",
         "y": [
          -2365,
          -2365,
          -2380,
          -2380
         ],
         "yaxis": "y"
        },
        {
         "hoverinfo": "text",
         "marker": {
          "color": "rgb(35,205,205)"
         },
         "mode": "lines",
         "type": "scatter",
         "x": [
          0,
          21.28409154579906,
          21.28409154579906,
          13.601470608177609
         ],
         "xaxis": "x",
         "y": [
          -2355,
          -2355,
          -2372.5,
          -2372.5
         ],
         "yaxis": "y"
        },
        {
         "hoverinfo": "text",
         "marker": {
          "color": "rgb(35,205,205)"
         },
         "mode": "lines",
         "type": "scatter",
         "x": [
          0,
          26.419702729533096,
          26.419702729533096,
          0
         ],
         "xaxis": "x",
         "y": [
          -2395,
          -2395,
          -2405,
          -2405
         ],
         "yaxis": "y"
        },
        {
         "hoverinfo": "text",
         "marker": {
          "color": "rgb(35,205,205)"
         },
         "mode": "lines",
         "type": "scatter",
         "x": [
          21.28409154579906,
          63.15855128177964,
          63.15855128177964,
          26.419702729533096
         ],
         "xaxis": "x",
         "y": [
          -2363.75,
          -2363.75,
          -2400,
          -2400
         ],
         "yaxis": "y"
        },
        {
         "hoverinfo": "text",
         "marker": {
          "color": "rgb(35,205,205)"
         },
         "mode": "lines",
         "type": "scatter",
         "x": [
          30.03356716279322,
          98.59514273966168,
          98.59514273966168,
          63.15855128177964
         ],
         "xaxis": "x",
         "y": [
          -2332.5,
          -2332.5,
          -2381.875,
          -2381.875
         ],
         "yaxis": "y"
        },
        {
         "hoverinfo": "text",
         "marker": {
          "color": "rgb(35,205,205)"
         },
         "mode": "lines",
         "type": "scatter",
         "x": [
          0,
          26.57095816667574,
          26.57095816667574,
          0
         ],
         "xaxis": "x",
         "y": [
          -2425,
          -2425,
          -2435,
          -2435
         ],
         "yaxis": "y"
        },
        {
         "hoverinfo": "text",
         "marker": {
          "color": "rgb(35,205,205)"
         },
         "mode": "lines",
         "type": "scatter",
         "x": [
          0,
          51.196447041580186,
          51.196447041580186,
          26.57095816667574
         ],
         "xaxis": "x",
         "y": [
          -2415,
          -2415,
          -2430,
          -2430
         ],
         "yaxis": "y"
        },
        {
         "hoverinfo": "text",
         "marker": {
          "color": "rgb(35,205,205)"
         },
         "mode": "lines",
         "type": "scatter",
         "x": [
          0,
          20.348667168769598,
          20.348667168769598,
          0
         ],
         "xaxis": "x",
         "y": [
          -2445,
          -2445,
          -2455,
          -2455
         ],
         "yaxis": "y"
        },
        {
         "hoverinfo": "text",
         "marker": {
          "color": "rgb(35,205,205)"
         },
         "mode": "lines",
         "type": "scatter",
         "x": [
          0,
          28.089383058591643,
          28.089383058591643,
          0
         ],
         "xaxis": "x",
         "y": [
          -2465,
          -2465,
          -2475,
          -2475
         ],
         "yaxis": "y"
        },
        {
         "hoverinfo": "text",
         "marker": {
          "color": "rgb(35,205,205)"
         },
         "mode": "lines",
         "type": "scatter",
         "x": [
          20.348667168769598,
          74.46618521513436,
          74.46618521513436,
          28.089383058591643
         ],
         "xaxis": "x",
         "y": [
          -2450,
          -2450,
          -2470,
          -2470
         ],
         "yaxis": "y"
        },
        {
         "hoverinfo": "text",
         "marker": {
          "color": "rgb(35,205,205)"
         },
         "mode": "lines",
         "type": "scatter",
         "x": [
          51.196447041580186,
          135.62448165702997,
          135.62448165702997,
          74.46618521513436
         ],
         "xaxis": "x",
         "y": [
          -2422.5,
          -2422.5,
          -2460,
          -2460
         ],
         "yaxis": "y"
        },
        {
         "hoverinfo": "text",
         "marker": {
          "color": "rgb(35,205,205)"
         },
         "mode": "lines",
         "type": "scatter",
         "x": [
          98.59514273966168,
          181.24379342930504,
          181.24379342930504,
          135.62448165702997
         ],
         "xaxis": "x",
         "y": [
          -2357.1875,
          -2357.1875,
          -2441.25,
          -2441.25
         ],
         "yaxis": "y"
        },
        {
         "hoverinfo": "text",
         "marker": {
          "color": "rgb(35,205,205)"
         },
         "mode": "lines",
         "type": "scatter",
         "x": [
          128.4134450077775,
          300.6161808535678,
          300.6161808535678,
          181.24379342930504
         ],
         "xaxis": "x",
         "y": [
          -2192.8125,
          -2192.8125,
          -2399.21875,
          -2399.21875
         ],
         "yaxis": "y"
        },
        {
         "hoverinfo": "text",
         "marker": {
          "color": "rgb(35,205,205)"
         },
         "mode": "lines",
         "type": "scatter",
         "x": [
          0,
          12.377190621184761,
          12.377190621184761,
          0
         ],
         "xaxis": "x",
         "y": [
          -2495,
          -2495,
          -2505,
          -2505
         ],
         "yaxis": "y"
        },
        {
         "hoverinfo": "text",
         "marker": {
          "color": "rgb(35,205,205)"
         },
         "mode": "lines",
         "type": "scatter",
         "x": [
          0,
          28.461634363173733,
          28.461634363173733,
          12.377190621184761
         ],
         "xaxis": "x",
         "y": [
          -2485,
          -2485,
          -2500,
          -2500
         ],
         "yaxis": "y"
        },
        {
         "hoverinfo": "text",
         "marker": {
          "color": "rgb(35,205,205)"
         },
         "mode": "lines",
         "type": "scatter",
         "x": [
          0,
          4.244873805307304,
          4.244873805307304,
          0
         ],
         "xaxis": "x",
         "y": [
          -2515,
          -2515,
          -2525,
          -2525
         ],
         "yaxis": "y"
        },
        {
         "hoverinfo": "text",
         "marker": {
          "color": "rgb(35,205,205)"
         },
         "mode": "lines",
         "type": "scatter",
         "x": [
          0,
          8.063538852543935,
          8.063538852543935,
          0
         ],
         "xaxis": "x",
         "y": [
          -2535,
          -2535,
          -2545,
          -2545
         ],
         "yaxis": "y"
        },
        {
         "hoverinfo": "text",
         "marker": {
          "color": "rgb(35,205,205)"
         },
         "mode": "lines",
         "type": "scatter",
         "x": [
          4.244873805307304,
          20.615614362194037,
          20.615614362194037,
          8.063538852543935
         ],
         "xaxis": "x",
         "y": [
          -2520,
          -2520,
          -2540,
          -2540
         ],
         "yaxis": "y"
        },
        {
         "hoverinfo": "text",
         "marker": {
          "color": "rgb(35,205,205)"
         },
         "mode": "lines",
         "type": "scatter",
         "x": [
          0,
          3.1623460233918603,
          3.1623460233918603,
          0
         ],
         "xaxis": "x",
         "y": [
          -2575,
          -2575,
          -2585,
          -2585
         ],
         "yaxis": "y"
        },
        {
         "hoverinfo": "text",
         "marker": {
          "color": "rgb(35,205,205)"
         },
         "mode": "lines",
         "type": "scatter",
         "x": [
          0,
          9.434277281218872,
          9.434277281218872,
          3.1623460233918603
         ],
         "xaxis": "x",
         "y": [
          -2565,
          -2565,
          -2580,
          -2580
         ],
         "yaxis": "y"
        },
        {
         "hoverinfo": "text",
         "marker": {
          "color": "rgb(35,205,205)"
         },
         "mode": "lines",
         "type": "scatter",
         "x": [
          0,
          4.359908542987608,
          4.359908542987608,
          0
         ],
         "xaxis": "x",
         "y": [
          -2615,
          -2615,
          -2625,
          -2625
         ],
         "yaxis": "y"
        },
        {
         "hoverinfo": "text",
         "marker": {
          "color": "rgb(35,205,205)"
         },
         "mode": "lines",
         "type": "scatter",
         "x": [
          0,
          5.1079369599650875,
          5.1079369599650875,
          4.359908542987608
         ],
         "xaxis": "x",
         "y": [
          -2605,
          -2605,
          -2620,
          -2620
         ],
         "yaxis": "y"
        },
        {
         "hoverinfo": "text",
         "marker": {
          "color": "rgb(35,205,205)"
         },
         "mode": "lines",
         "type": "scatter",
         "x": [
          0,
          12.728131985434572,
          12.728131985434572,
          5.1079369599650875
         ],
         "xaxis": "x",
         "y": [
          -2595,
          -2595,
          -2612.5,
          -2612.5
         ],
         "yaxis": "y"
        },
        {
         "hoverinfo": "text",
         "marker": {
          "color": "rgb(35,205,205)"
         },
         "mode": "lines",
         "type": "scatter",
         "x": [
          9.434277281218872,
          27.586250462289684,
          27.586250462289684,
          12.728131985434572
         ],
         "xaxis": "x",
         "y": [
          -2572.5,
          -2572.5,
          -2603.75,
          -2603.75
         ],
         "yaxis": "y"
        },
        {
         "hoverinfo": "text",
         "marker": {
          "color": "rgb(35,205,205)"
         },
         "mode": "lines",
         "type": "scatter",
         "x": [
          0,
          43.56608431754345,
          43.56608431754345,
          27.586250462289684
         ],
         "xaxis": "x",
         "y": [
          -2555,
          -2555,
          -2588.125,
          -2588.125
         ],
         "yaxis": "y"
        },
        {
         "hoverinfo": "text",
         "marker": {
          "color": "rgb(35,205,205)"
         },
         "mode": "lines",
         "type": "scatter",
         "x": [
          20.615614362194037,
          53.90735470581388,
          53.90735470581388,
          43.56608431754345
         ],
         "xaxis": "x",
         "y": [
          -2530,
          -2530,
          -2571.5625,
          -2571.5625
         ],
         "yaxis": "y"
        },
        {
         "hoverinfo": "text",
         "marker": {
          "color": "rgb(35,205,205)"
         },
         "mode": "lines",
         "type": "scatter",
         "x": [
          28.461634363173733,
          101.79391594599785,
          101.79391594599785,
          53.90735470581388
         ],
         "xaxis": "x",
         "y": [
          -2492.5,
          -2492.5,
          -2550.78125,
          -2550.78125
         ],
         "yaxis": "y"
        },
        {
         "hoverinfo": "text",
         "marker": {
          "color": "rgb(35,205,205)"
         },
         "mode": "lines",
         "type": "scatter",
         "x": [
          0,
          16.673362704690447,
          16.673362704690447,
          0
         ],
         "xaxis": "x",
         "y": [
          -2635,
          -2635,
          -2645,
          -2645
         ],
         "yaxis": "y"
        },
        {
         "hoverinfo": "text",
         "marker": {
          "color": "rgb(35,205,205)"
         },
         "mode": "lines",
         "type": "scatter",
         "x": [
          0,
          30.01667868711218,
          30.01667868711218,
          0
         ],
         "xaxis": "x",
         "y": [
          -2655,
          -2655,
          -2665,
          -2665
         ],
         "yaxis": "y"
        },
        {
         "hoverinfo": "text",
         "marker": {
          "color": "rgb(35,205,205)"
         },
         "mode": "lines",
         "type": "scatter",
         "x": [
          16.673362704690447,
          51.90378105981401,
          51.90378105981401,
          30.01667868711218
         ],
         "xaxis": "x",
         "y": [
          -2640,
          -2640,
          -2660,
          -2660
         ],
         "yaxis": "y"
        },
        {
         "hoverinfo": "text",
         "marker": {
          "color": "rgb(35,205,205)"
         },
         "mode": "lines",
         "type": "scatter",
         "x": [
          0,
          8.306639075086462,
          8.306639075086462,
          0
         ],
         "xaxis": "x",
         "y": [
          -2675,
          -2675,
          -2685,
          -2685
         ],
         "yaxis": "y"
        },
        {
         "hoverinfo": "text",
         "marker": {
          "color": "rgb(35,205,205)"
         },
         "mode": "lines",
         "type": "scatter",
         "x": [
          0,
          10.630146054875015,
          10.630146054875015,
          0
         ],
         "xaxis": "x",
         "y": [
          -2695,
          -2695,
          -2705,
          -2705
         ],
         "yaxis": "y"
        },
        {
         "hoverinfo": "text",
         "marker": {
          "color": "rgb(35,205,205)"
         },
         "mode": "lines",
         "type": "scatter",
         "x": [
          8.306639075086462,
          21.400955422661053,
          21.400955422661053,
          10.630146054875015
         ],
         "xaxis": "x",
         "y": [
          -2680,
          -2680,
          -2700,
          -2700
         ],
         "yaxis": "y"
        },
        {
         "hoverinfo": "text",
         "marker": {
          "color": "rgb(35,205,205)"
         },
         "mode": "lines",
         "type": "scatter",
         "x": [
          0,
          9.433981283219271,
          9.433981283219271,
          0
         ],
         "xaxis": "x",
         "y": [
          -2725,
          -2725,
          -2735,
          -2735
         ],
         "yaxis": "y"
        },
        {
         "hoverinfo": "text",
         "marker": {
          "color": "rgb(35,205,205)"
         },
         "mode": "lines",
         "type": "scatter",
         "x": [
          0,
          23.216394291113133,
          23.216394291113133,
          9.433981283219271
         ],
         "xaxis": "x",
         "y": [
          -2715,
          -2715,
          -2730,
          -2730
         ],
         "yaxis": "y"
        },
        {
         "hoverinfo": "text",
         "marker": {
          "color": "rgb(35,205,205)"
         },
         "mode": "lines",
         "type": "scatter",
         "x": [
          21.400955422661053,
          40.360922030454745,
          40.360922030454745,
          23.216394291113133
         ],
         "xaxis": "x",
         "y": [
          -2690,
          -2690,
          -2722.5,
          -2722.5
         ],
         "yaxis": "y"
        },
        {
         "hoverinfo": "text",
         "marker": {
          "color": "rgb(35,205,205)"
         },
         "mode": "lines",
         "type": "scatter",
         "x": [
          0,
          5.09911068451162,
          5.09911068451162,
          0
         ],
         "xaxis": "x",
         "y": [
          -2745,
          -2745,
          -2755,
          -2755
         ],
         "yaxis": "y"
        },
        {
         "hoverinfo": "text",
         "marker": {
          "color": "rgb(35,205,205)"
         },
         "mode": "lines",
         "type": "scatter",
         "x": [
          0,
          13.747728574267407,
          13.747728574267407,
          0
         ],
         "xaxis": "x",
         "y": [
          -2765,
          -2765,
          -2775,
          -2775
         ],
         "yaxis": "y"
        },
        {
         "hoverinfo": "text",
         "marker": {
          "color": "rgb(35,205,205)"
         },
         "mode": "lines",
         "type": "scatter",
         "x": [
          5.09911068451162,
          24.4336033555319,
          24.4336033555319,
          13.747728574267407
         ],
         "xaxis": "x",
         "y": [
          -2750,
          -2750,
          -2770,
          -2770
         ],
         "yaxis": "y"
        },
        {
         "hoverinfo": "text",
         "marker": {
          "color": "rgb(35,205,205)"
         },
         "mode": "lines",
         "type": "scatter",
         "x": [
          0,
          15.937515755782476,
          15.937515755782476,
          0
         ],
         "xaxis": "x",
         "y": [
          -2795,
          -2795,
          -2805,
          -2805
         ],
         "yaxis": "y"
        },
        {
         "hoverinfo": "text",
         "marker": {
          "color": "rgb(35,205,205)"
         },
         "mode": "lines",
         "type": "scatter",
         "x": [
          0,
          26.47643621525003,
          26.47643621525003,
          15.937515755782476
         ],
         "xaxis": "x",
         "y": [
          -2785,
          -2785,
          -2800,
          -2800
         ],
         "yaxis": "y"
        },
        {
         "hoverinfo": "text",
         "marker": {
          "color": "rgb(35,205,205)"
         },
         "mode": "lines",
         "type": "scatter",
         "x": [
          24.4336033555319,
          50.97076944502135,
          50.97076944502135,
          26.47643621525003
         ],
         "xaxis": "x",
         "y": [
          -2760,
          -2760,
          -2792.5,
          -2792.5
         ],
         "yaxis": "y"
        },
        {
         "hoverinfo": "text",
         "marker": {
          "color": "rgb(35,205,205)"
         },
         "mode": "lines",
         "type": "scatter",
         "x": [
          40.360922030454745,
          66.51316252392331,
          66.51316252392331,
          50.97076944502135
         ],
         "xaxis": "x",
         "y": [
          -2706.25,
          -2706.25,
          -2776.25,
          -2776.25
         ],
         "yaxis": "y"
        },
        {
         "hoverinfo": "text",
         "marker": {
          "color": "rgb(35,205,205)"
         },
         "mode": "lines",
         "type": "scatter",
         "x": [
          51.90378105981401,
          136.97810603027082,
          136.97810603027082,
          66.51316252392331
         ],
         "xaxis": "x",
         "y": [
          -2650,
          -2650,
          -2741.25,
          -2741.25
         ],
         "yaxis": "y"
        },
        {
         "hoverinfo": "text",
         "marker": {
          "color": "rgb(35,205,205)"
         },
         "mode": "lines",
         "type": "scatter",
         "x": [
          101.79391594599785,
          197.38546741057732,
          197.38546741057732,
          136.97810603027082
         ],
         "xaxis": "x",
         "y": [
          -2521.640625,
          -2521.640625,
          -2695.625,
          -2695.625
         ],
         "yaxis": "y"
        },
        {
         "hoverinfo": "text",
         "marker": {
          "color": "rgb(35,205,205)"
         },
         "mode": "lines",
         "type": "scatter",
         "x": [
          0,
          9.056700048474307,
          9.056700048474307,
          0
         ],
         "xaxis": "x",
         "y": [
          -2825,
          -2825,
          -2835,
          -2835
         ],
         "yaxis": "y"
        },
        {
         "hoverinfo": "text",
         "marker": {
          "color": "rgb(35,205,205)"
         },
         "mode": "lines",
         "type": "scatter",
         "x": [
          0,
          13.04113407215949,
          13.04113407215949,
          0
         ],
         "xaxis": "x",
         "y": [
          -2845,
          -2845,
          -2855,
          -2855
         ],
         "yaxis": "y"
        },
        {
         "hoverinfo": "text",
         "marker": {
          "color": "rgb(35,205,205)"
         },
         "mode": "lines",
         "type": "scatter",
         "x": [
          9.056700048474307,
          23.262075009651,
          23.262075009651,
          13.04113407215949
         ],
         "xaxis": "x",
         "y": [
          -2830,
          -2830,
          -2850,
          -2850
         ],
         "yaxis": "y"
        },
        {
         "hoverinfo": "text",
         "marker": {
          "color": "rgb(35,205,205)"
         },
         "mode": "lines",
         "type": "scatter",
         "x": [
          0,
          15.652691356876698,
          15.652691356876698,
          0
         ],
         "xaxis": "x",
         "y": [
          -2875,
          -2875,
          -2885,
          -2885
         ],
         "yaxis": "y"
        },
        {
         "hoverinfo": "text",
         "marker": {
          "color": "rgb(35,205,205)"
         },
         "mode": "lines",
         "type": "scatter",
         "x": [
          0,
          28.302254549466472,
          28.302254549466472,
          15.652691356876698
         ],
         "xaxis": "x",
         "y": [
          -2865,
          -2865,
          -2880,
          -2880
         ],
         "yaxis": "y"
        },
        {
         "hoverinfo": "text",
         "marker": {
          "color": "rgb(35,205,205)"
         },
         "mode": "lines",
         "type": "scatter",
         "x": [
          23.262075009651,
          44.600919776723416,
          44.600919776723416,
          28.302254549466472
         ],
         "xaxis": "x",
         "y": [
          -2840,
          -2840,
          -2872.5,
          -2872.5
         ],
         "yaxis": "y"
        },
        {
         "hoverinfo": "text",
         "marker": {
          "color": "rgb(35,205,205)"
         },
         "mode": "lines",
         "type": "scatter",
         "x": [
          0,
          51.867485585035716,
          51.867485585035716,
          44.600919776723416
         ],
         "xaxis": "x",
         "y": [
          -2815,
          -2815,
          -2856.25,
          -2856.25
         ],
         "yaxis": "y"
        },
        {
         "hoverinfo": "text",
         "marker": {
          "color": "rgb(35,205,205)"
         },
         "mode": "lines",
         "type": "scatter",
         "x": [
          0,
          3.162298761043509,
          3.162298761043509,
          0
         ],
         "xaxis": "x",
         "y": [
          -2895,
          -2895,
          -2905,
          -2905
         ],
         "yaxis": "y"
        },
        {
         "hoverinfo": "text",
         "marker": {
          "color": "rgb(35,205,205)"
         },
         "mode": "lines",
         "type": "scatter",
         "x": [
          0,
          2.2448794023541256,
          2.2448794023541256,
          0
         ],
         "xaxis": "x",
         "y": [
          -2925,
          -2925,
          -2935,
          -2935
         ],
         "yaxis": "y"
        },
        {
         "hoverinfo": "text",
         "marker": {
          "color": "rgb(35,205,205)"
         },
         "mode": "lines",
         "type": "scatter",
         "x": [
          0,
          4.243704938067632,
          4.243704938067632,
          2.2448794023541256
         ],
         "xaxis": "x",
         "y": [
          -2915,
          -2915,
          -2930,
          -2930
         ],
         "yaxis": "y"
        },
        {
         "hoverinfo": "text",
         "marker": {
          "color": "rgb(35,205,205)"
         },
         "mode": "lines",
         "type": "scatter",
         "x": [
          3.162298761043509,
          17.206416238393782,
          17.206416238393782,
          4.243704938067632
         ],
         "xaxis": "x",
         "y": [
          -2900,
          -2900,
          -2922.5,
          -2922.5
         ],
         "yaxis": "y"
        },
        {
         "hoverinfo": "text",
         "marker": {
          "color": "rgb(35,205,205)"
         },
         "mode": "lines",
         "type": "scatter",
         "x": [
          0,
          4.473367678627781,
          4.473367678627781,
          0
         ],
         "xaxis": "x",
         "y": [
          -2945,
          -2945,
          -2955,
          -2955
         ],
         "yaxis": "y"
        },
        {
         "hoverinfo": "text",
         "marker": {
          "color": "rgb(35,205,205)"
         },
         "mode": "lines",
         "type": "scatter",
         "x": [
          0,
          4.243635917327105,
          4.243635917327105,
          0
         ],
         "xaxis": "x",
         "y": [
          -2965,
          -2965,
          -2975,
          -2975
         ],
         "yaxis": "y"
        },
        {
         "hoverinfo": "text",
         "marker": {
          "color": "rgb(35,205,205)"
         },
         "mode": "lines",
         "type": "scatter",
         "x": [
          0,
          5.65759199914753,
          5.65759199914753,
          0
         ],
         "xaxis": "x",
         "y": [
          -2985,
          -2985,
          -2995,
          -2995
         ],
         "yaxis": "y"
        },
        {
         "hoverinfo": "text",
         "marker": {
          "color": "rgb(35,205,205)"
         },
         "mode": "lines",
         "type": "scatter",
         "x": [
          4.243635917327105,
          13.92882471600999,
          13.92882471600999,
          5.65759199914753
         ],
         "xaxis": "x",
         "y": [
          -2970,
          -2970,
          -2990,
          -2990
         ],
         "yaxis": "y"
        },
        {
         "hoverinfo": "text",
         "marker": {
          "color": "rgb(35,205,205)"
         },
         "mode": "lines",
         "type": "scatter",
         "x": [
          4.473367678627781,
          26.907637666339262,
          26.907637666339262,
          13.92882471600999
         ],
         "xaxis": "x",
         "y": [
          -2950,
          -2950,
          -2980,
          -2980
         ],
         "yaxis": "y"
        },
        {
         "hoverinfo": "text",
         "marker": {
          "color": "rgb(35,205,205)"
         },
         "mode": "lines",
         "type": "scatter",
         "x": [
          17.206416238393782,
          60.87744976709307,
          60.87744976709307,
          26.907637666339262
         ],
         "xaxis": "x",
         "y": [
          -2911.25,
          -2911.25,
          -2965,
          -2965
         ],
         "yaxis": "y"
        },
        {
         "hoverinfo": "text",
         "marker": {
          "color": "rgb(35,205,205)"
         },
         "mode": "lines",
         "type": "scatter",
         "x": [
          51.867485585035716,
          90.66997998383115,
          90.66997998383115,
          60.87744976709307
         ],
         "xaxis": "x",
         "y": [
          -2835.625,
          -2835.625,
          -2938.125,
          -2938.125
         ],
         "yaxis": "y"
        },
        {
         "hoverinfo": "text",
         "marker": {
          "color": "rgb(35,205,205)"
         },
         "mode": "lines",
         "type": "scatter",
         "x": [
          0,
          21.93174865705808,
          21.93174865705808,
          0
         ],
         "xaxis": "x",
         "y": [
          -3015,
          -3015,
          -3025,
          -3025
         ],
         "yaxis": "y"
        },
        {
         "hoverinfo": "text",
         "marker": {
          "color": "rgb(35,205,205)"
         },
         "mode": "lines",
         "type": "scatter",
         "x": [
          0,
          44.045432380369995,
          44.045432380369995,
          21.93174865705808
         ],
         "xaxis": "x",
         "y": [
          -3005,
          -3005,
          -3020,
          -3020
         ],
         "yaxis": "y"
        },
        {
         "hoverinfo": "text",
         "marker": {
          "color": "rgb(35,205,205)"
         },
         "mode": "lines",
         "type": "scatter",
         "x": [
          0,
          9.055487076465456,
          9.055487076465456,
          0
         ],
         "xaxis": "x",
         "y": [
          -3035,
          -3035,
          -3045,
          -3045
         ],
         "yaxis": "y"
        },
        {
         "hoverinfo": "text",
         "marker": {
          "color": "rgb(35,205,205)"
         },
         "mode": "lines",
         "type": "scatter",
         "x": [
          0,
          1.43952062198908,
          1.43952062198908,
          0
         ],
         "xaxis": "x",
         "y": [
          -3075,
          -3075,
          -3085,
          -3085
         ],
         "yaxis": "y"
        },
        {
         "hoverinfo": "text",
         "marker": {
          "color": "rgb(35,205,205)"
         },
         "mode": "lines",
         "type": "scatter",
         "x": [
          0,
          6.327329028575433,
          6.327329028575433,
          1.43952062198908
         ],
         "xaxis": "x",
         "y": [
          -3065,
          -3065,
          -3080,
          -3080
         ],
         "yaxis": "y"
        },
        {
         "hoverinfo": "text",
         "marker": {
          "color": "rgb(35,205,205)"
         },
         "mode": "lines",
         "type": "scatter",
         "x": [
          0,
          12.17007740657627,
          12.17007740657627,
          6.327329028575433
         ],
         "xaxis": "x",
         "y": [
          -3055,
          -3055,
          -3072.5,
          -3072.5
         ],
         "yaxis": "y"
        },
        {
         "hoverinfo": "text",
         "marker": {
          "color": "rgb(35,205,205)"
         },
         "mode": "lines",
         "type": "scatter",
         "x": [
          9.055487076465456,
          17.80470507424182,
          17.80470507424182,
          12.17007740657627
         ],
         "xaxis": "x",
         "y": [
          -3040,
          -3040,
          -3063.75,
          -3063.75
         ],
         "yaxis": "y"
        },
        {
         "hoverinfo": "text",
         "marker": {
          "color": "rgb(35,205,205)"
         },
         "mode": "lines",
         "type": "scatter",
         "x": [
          0,
          9.906066652689002,
          9.906066652689002,
          0
         ],
         "xaxis": "x",
         "y": [
          -3105,
          -3105,
          -3115,
          -3115
         ],
         "yaxis": "y"
        },
        {
         "hoverinfo": "text",
         "marker": {
          "color": "rgb(35,205,205)"
         },
         "mode": "lines",
         "type": "scatter",
         "x": [
          0,
          16.124630321666743,
          16.124630321666743,
          9.906066652689002
         ],
         "xaxis": "x",
         "y": [
          -3095,
          -3095,
          -3110,
          -3110
         ],
         "yaxis": "y"
        },
        {
         "hoverinfo": "text",
         "marker": {
          "color": "rgb(35,205,205)"
         },
         "mode": "lines",
         "type": "scatter",
         "x": [
          0,
          5.000000069373848,
          5.000000069373848,
          0
         ],
         "xaxis": "x",
         "y": [
          -3125,
          -3125,
          -3135,
          -3135
         ],
         "yaxis": "y"
        },
        {
         "hoverinfo": "text",
         "marker": {
          "color": "rgb(35,205,205)"
         },
         "mode": "lines",
         "type": "scatter",
         "x": [
          0,
          6.403408359632073,
          6.403408359632073,
          0
         ],
         "xaxis": "x",
         "y": [
          -3145,
          -3145,
          -3155,
          -3155
         ],
         "yaxis": "y"
        },
        {
         "hoverinfo": "text",
         "marker": {
          "color": "rgb(35,205,205)"
         },
         "mode": "lines",
         "type": "scatter",
         "x": [
          5.000000069373848,
          16.970809907708645,
          16.970809907708645,
          6.403408359632073
         ],
         "xaxis": "x",
         "y": [
          -3130,
          -3130,
          -3150,
          -3150
         ],
         "yaxis": "y"
        },
        {
         "hoverinfo": "text",
         "marker": {
          "color": "rgb(35,205,205)"
         },
         "mode": "lines",
         "type": "scatter",
         "x": [
          16.124630321666743,
          32.38875965418378,
          32.38875965418378,
          16.970809907708645
         ],
         "xaxis": "x",
         "y": [
          -3102.5,
          -3102.5,
          -3140,
          -3140
         ],
         "yaxis": "y"
        },
        {
         "hoverinfo": "text",
         "marker": {
          "color": "rgb(35,205,205)"
         },
         "mode": "lines",
         "type": "scatter",
         "x": [
          0,
          6.710183719896981,
          6.710183719896981,
          0
         ],
         "xaxis": "x",
         "y": [
          -3165,
          -3165,
          -3175,
          -3175
         ],
         "yaxis": "y"
        },
        {
         "hoverinfo": "text",
         "marker": {
          "color": "rgb(35,205,205)"
         },
         "mode": "lines",
         "type": "scatter",
         "x": [
          0,
          6.40487394782179,
          6.40487394782179,
          0
         ],
         "xaxis": "x",
         "y": [
          -3195,
          -3195,
          -3205,
          -3205
         ],
         "yaxis": "y"
        },
        {
         "hoverinfo": "text",
         "marker": {
          "color": "rgb(35,205,205)"
         },
         "mode": "lines",
         "type": "scatter",
         "x": [
          0,
          16.03122124795056,
          16.03122124795056,
          6.40487394782179
         ],
         "xaxis": "x",
         "y": [
          -3185,
          -3185,
          -3200,
          -3200
         ],
         "yaxis": "y"
        },
        {
         "hoverinfo": "text",
         "marker": {
          "color": "rgb(35,205,205)"
         },
         "mode": "lines",
         "type": "scatter",
         "x": [
          6.710183719896981,
          32.802441533231125,
          32.802441533231125,
          16.03122124795056
         ],
         "xaxis": "x",
         "y": [
          -3170,
          -3170,
          -3192.5,
          -3192.5
         ],
         "yaxis": "y"
        },
        {
         "hoverinfo": "text",
         "marker": {
          "color": "rgb(35,205,205)"
         },
         "mode": "lines",
         "type": "scatter",
         "x": [
          32.38875965418378,
          54.58946835938365,
          54.58946835938365,
          32.802441533231125
         ],
         "xaxis": "x",
         "y": [
          -3121.25,
          -3121.25,
          -3181.25,
          -3181.25
         ],
         "yaxis": "y"
        },
        {
         "hoverinfo": "text",
         "marker": {
          "color": "rgb(35,205,205)"
         },
         "mode": "lines",
         "type": "scatter",
         "x": [
          17.80470507424182,
          68.15440552530508,
          68.15440552530508,
          54.58946835938365
         ],
         "xaxis": "x",
         "y": [
          -3051.875,
          -3051.875,
          -3151.25,
          -3151.25
         ],
         "yaxis": "y"
        },
        {
         "hoverinfo": "text",
         "marker": {
          "color": "rgb(35,205,205)"
         },
         "mode": "lines",
         "type": "scatter",
         "x": [
          44.045432380369995,
          100.49905499080727,
          100.49905499080727,
          68.15440552530508
         ],
         "xaxis": "x",
         "y": [
          -3012.5,
          -3012.5,
          -3101.5625,
          -3101.5625
         ],
         "yaxis": "y"
        },
        {
         "hoverinfo": "text",
         "marker": {
          "color": "rgb(35,205,205)"
         },
         "mode": "lines",
         "type": "scatter",
         "x": [
          90.66997998383115,
          172.32537424332799,
          172.32537424332799,
          100.49905499080727
         ],
         "xaxis": "x",
         "y": [
          -2886.875,
          -2886.875,
          -3057.03125,
          -3057.03125
         ],
         "yaxis": "y"
        },
        {
         "hoverinfo": "text",
         "marker": {
          "color": "rgb(35,205,205)"
         },
         "mode": "lines",
         "type": "scatter",
         "x": [
          0,
          11.045363334406362,
          11.045363334406362,
          0
         ],
         "xaxis": "x",
         "y": [
          -3235,
          -3235,
          -3245,
          -3245
         ],
         "yaxis": "y"
        },
        {
         "hoverinfo": "text",
         "marker": {
          "color": "rgb(35,205,205)"
         },
         "mode": "lines",
         "type": "scatter",
         "x": [
          0,
          22.671719206200883,
          22.671719206200883,
          11.045363334406362
         ],
         "xaxis": "x",
         "y": [
          -3225,
          -3225,
          -3240,
          -3240
         ],
         "yaxis": "y"
        },
        {
         "hoverinfo": "text",
         "marker": {
          "color": "rgb(35,205,205)"
         },
         "mode": "lines",
         "type": "scatter",
         "x": [
          0,
          32.45002477903815,
          32.45002477903815,
          22.671719206200883
         ],
         "xaxis": "x",
         "y": [
          -3215,
          -3215,
          -3232.5,
          -3232.5
         ],
         "yaxis": "y"
        },
        {
         "hoverinfo": "text",
         "marker": {
          "color": "rgb(35,205,205)"
         },
         "mode": "lines",
         "type": "scatter",
         "x": [
          0,
          7.874007874774967,
          7.874007874774967,
          0
         ],
         "xaxis": "x",
         "y": [
          -3265,
          -3265,
          -3275,
          -3275
         ],
         "yaxis": "y"
        },
        {
         "hoverinfo": "text",
         "marker": {
          "color": "rgb(35,205,205)"
         },
         "mode": "lines",
         "type": "scatter",
         "x": [
          0,
          40.024998892548304,
          40.024998892548304,
          7.874007874774967
         ],
         "xaxis": "x",
         "y": [
          -3255,
          -3255,
          -3270,
          -3270
         ],
         "yaxis": "y"
        },
        {
         "hoverinfo": "text",
         "marker": {
          "color": "rgb(35,205,205)"
         },
         "mode": "lines",
         "type": "scatter",
         "x": [
          32.45002477903815,
          66.28725438124128,
          66.28725438124128,
          40.024998892548304
         ],
         "xaxis": "x",
         "y": [
          -3223.75,
          -3223.75,
          -3262.5,
          -3262.5
         ],
         "yaxis": "y"
        },
        {
         "hoverinfo": "text",
         "marker": {
          "color": "rgb(35,205,205)"
         },
         "mode": "lines",
         "type": "scatter",
         "x": [
          0,
          67.12719176147692,
          67.12719176147692,
          0
         ],
         "xaxis": "x",
         "y": [
          -3285,
          -3285,
          -3295,
          -3295
         ],
         "yaxis": "y"
        },
        {
         "hoverinfo": "text",
         "marker": {
          "color": "rgb(35,205,205)"
         },
         "mode": "lines",
         "type": "scatter",
         "x": [
          66.28725438124128,
          112.92508475278794,
          112.92508475278794,
          67.12719176147692
         ],
         "xaxis": "x",
         "y": [
          -3243.125,
          -3243.125,
          -3290,
          -3290
         ],
         "yaxis": "y"
        },
        {
         "hoverinfo": "text",
         "marker": {
          "color": "rgb(35,205,205)"
         },
         "mode": "lines",
         "type": "scatter",
         "x": [
          0,
          30.61256205045523,
          30.61256205045523,
          0
         ],
         "xaxis": "x",
         "y": [
          -3305,
          -3305,
          -3315,
          -3315
         ],
         "yaxis": "y"
        },
        {
         "hoverinfo": "text",
         "marker": {
          "color": "rgb(35,205,205)"
         },
         "mode": "lines",
         "type": "scatter",
         "x": [
          0,
          5.656917468060821,
          5.656917468060821,
          0
         ],
         "xaxis": "x",
         "y": [
          -3345,
          -3345,
          -3355,
          -3355
         ],
         "yaxis": "y"
        },
        {
         "hoverinfo": "text",
         "marker": {
          "color": "rgb(35,205,205)"
         },
         "mode": "lines",
         "type": "scatter",
         "x": [
          0,
          11.180493139621651,
          11.180493139621651,
          5.656917468060821
         ],
         "xaxis": "x",
         "y": [
          -3335,
          -3335,
          -3350,
          -3350
         ],
         "yaxis": "y"
        },
        {
         "hoverinfo": "text",
         "marker": {
          "color": "rgb(35,205,205)"
         },
         "mode": "lines",
         "type": "scatter",
         "x": [
          0,
          35.608998177046416,
          35.608998177046416,
          11.180493139621651
         ],
         "xaxis": "x",
         "y": [
          -3325,
          -3325,
          -3342.5,
          -3342.5
         ],
         "yaxis": "y"
        },
        {
         "hoverinfo": "text",
         "marker": {
          "color": "rgb(35,205,205)"
         },
         "mode": "lines",
         "type": "scatter",
         "x": [
          30.61256205045523,
          59.48251676130789,
          59.48251676130789,
          35.608998177046416
         ],
         "xaxis": "x",
         "y": [
          -3310,
          -3310,
          -3333.75,
          -3333.75
         ],
         "yaxis": "y"
        },
        {
         "hoverinfo": "text",
         "marker": {
          "color": "rgb(35,205,205)"
         },
         "mode": "lines",
         "type": "scatter",
         "x": [
          0,
          15.002165523916908,
          15.002165523916908,
          0
         ],
         "xaxis": "x",
         "y": [
          -3375,
          -3375,
          -3385,
          -3385
         ],
         "yaxis": "y"
        },
        {
         "hoverinfo": "text",
         "marker": {
          "color": "rgb(35,205,205)"
         },
         "mode": "lines",
         "type": "scatter",
         "x": [
          0,
          23.28215763069148,
          23.28215763069148,
          15.002165523916908
         ],
         "xaxis": "x",
         "y": [
          -3365,
          -3365,
          -3380,
          -3380
         ],
         "yaxis": "y"
        },
        {
         "hoverinfo": "text",
         "marker": {
          "color": "rgb(35,205,205)"
         },
         "mode": "lines",
         "type": "scatter",
         "x": [
          0,
          11.000003439503653,
          11.000003439503653,
          0
         ],
         "xaxis": "x",
         "y": [
          -3395,
          -3395,
          -3405,
          -3405
         ],
         "yaxis": "y"
        },
        {
         "hoverinfo": "text",
         "marker": {
          "color": "rgb(35,205,205)"
         },
         "mode": "lines",
         "type": "scatter",
         "x": [
          0,
          19.84993671312786,
          19.84993671312786,
          0
         ],
         "xaxis": "x",
         "y": [
          -3415,
          -3415,
          -3425,
          -3425
         ],
         "yaxis": "y"
        },
        {
         "hoverinfo": "text",
         "marker": {
          "color": "rgb(35,205,205)"
         },
         "mode": "lines",
         "type": "scatter",
         "x": [
          11.000003439503653,
          31.780900613345125,
          31.780900613345125,
          19.84993671312786
         ],
         "xaxis": "x",
         "y": [
          -3400,
          -3400,
          -3420,
          -3420
         ],
         "yaxis": "y"
        },
        {
         "hoverinfo": "text",
         "marker": {
          "color": "rgb(35,205,205)"
         },
         "mode": "lines",
         "type": "scatter",
         "x": [
          0,
          3.162599235055968,
          3.162599235055968,
          0
         ],
         "xaxis": "x",
         "y": [
          -3455,
          -3455,
          -3465,
          -3465
         ],
         "yaxis": "y"
        },
        {
         "hoverinfo": "text",
         "marker": {
          "color": "rgb(35,205,205)"
         },
         "mode": "lines",
         "type": "scatter",
         "x": [
          0,
          7.810329945514826,
          7.810329945514826,
          3.162599235055968
         ],
         "xaxis": "x",
         "y": [
          -3445,
          -3445,
          -3460,
          -3460
         ],
         "yaxis": "y"
        },
        {
         "hoverinfo": "text",
         "marker": {
          "color": "rgb(35,205,205)"
         },
         "mode": "lines",
         "type": "scatter",
         "x": [
          0,
          19.209383764076936,
          19.209383764076936,
          7.810329945514826
         ],
         "xaxis": "x",
         "y": [
          -3435,
          -3435,
          -3452.5,
          -3452.5
         ],
         "yaxis": "y"
        },
        {
         "hoverinfo": "text",
         "marker": {
          "color": "rgb(35,205,205)"
         },
         "mode": "lines",
         "type": "scatter",
         "x": [
          0,
          8.602328244193973,
          8.602328244193973,
          0
         ],
         "xaxis": "x",
         "y": [
          -3475,
          -3475,
          -3485,
          -3485
         ],
         "yaxis": "y"
        },
        {
         "hoverinfo": "text",
         "marker": {
          "color": "rgb(35,205,205)"
         },
         "mode": "lines",
         "type": "scatter",
         "x": [
          0,
          17.029413393138725,
          17.029413393138725,
          0
         ],
         "xaxis": "x",
         "y": [
          -3495,
          -3495,
          -3505,
          -3505
         ],
         "yaxis": "y"
        },
        {
         "hoverinfo": "text",
         "marker": {
          "color": "rgb(35,205,205)"
         },
         "mode": "lines",
         "type": "scatter",
         "x": [
          8.602328244193973,
          19.949944900834257,
          19.949944900834257,
          17.029413393138725
         ],
         "xaxis": "x",
         "y": [
          -3480,
          -3480,
          -3500,
          -3500
         ],
         "yaxis": "y"
        },
        {
         "hoverinfo": "text",
         "marker": {
          "color": "rgb(35,205,205)"
         },
         "mode": "lines",
         "type": "scatter",
         "x": [
          19.209383764076936,
          42.953469525734235,
          42.953469525734235,
          19.949944900834257
         ],
         "xaxis": "x",
         "y": [
          -3443.75,
          -3443.75,
          -3490,
          -3490
         ],
         "yaxis": "y"
        },
        {
         "hoverinfo": "text",
         "marker": {
          "color": "rgb(35,205,205)"
         },
         "mode": "lines",
         "type": "scatter",
         "x": [
          31.780900613345125,
          64.00787420359688,
          64.00787420359688,
          42.953469525734235
         ],
         "xaxis": "x",
         "y": [
          -3410,
          -3410,
          -3466.875,
          -3466.875
         ],
         "yaxis": "y"
        },
        {
         "hoverinfo": "text",
         "marker": {
          "color": "rgb(35,205,205)"
         },
         "mode": "lines",
         "type": "scatter",
         "x": [
          23.28215763069148,
          74.81979324695342,
          74.81979324695342,
          64.00787420359688
         ],
         "xaxis": "x",
         "y": [
          -3372.5,
          -3372.5,
          -3438.4375,
          -3438.4375
         ],
         "yaxis": "y"
        },
        {
         "hoverinfo": "text",
         "marker": {
          "color": "rgb(35,205,205)"
         },
         "mode": "lines",
         "type": "scatter",
         "x": [
          59.48251676130789,
          115.83609757433757,
          115.83609757433757,
          74.81979324695342
         ],
         "xaxis": "x",
         "y": [
          -3321.875,
          -3321.875,
          -3405.46875,
          -3405.46875
         ],
         "yaxis": "y"
        },
        {
         "hoverinfo": "text",
         "marker": {
          "color": "rgb(35,205,205)"
         },
         "mode": "lines",
         "type": "scatter",
         "x": [
          112.92508475278794,
          173.5771049826433,
          173.5771049826433,
          115.83609757433757
         ],
         "xaxis": "x",
         "y": [
          -3266.5625,
          -3266.5625,
          -3363.671875,
          -3363.671875
         ],
         "yaxis": "y"
        },
        {
         "hoverinfo": "text",
         "marker": {
          "color": "rgb(35,205,205)"
         },
         "mode": "lines",
         "type": "scatter",
         "x": [
          172.32537424332799,
          322.398821835503,
          322.398821835503,
          173.5771049826433
         ],
         "xaxis": "x",
         "y": [
          -2971.953125,
          -2971.953125,
          -3315.1171875,
          -3315.1171875
         ],
         "yaxis": "y"
        },
        {
         "hoverinfo": "text",
         "marker": {
          "color": "rgb(35,205,205)"
         },
         "mode": "lines",
         "type": "scatter",
         "x": [
          197.38546741057732,
          365.7117063245032,
          365.7117063245032,
          322.398821835503
         ],
         "xaxis": "x",
         "y": [
          -2608.6328125,
          -2608.6328125,
          -3143.53515625,
          -3143.53515625
         ],
         "yaxis": "y"
        },
        {
         "hoverinfo": "text",
         "marker": {
          "color": "rgb(35,205,205)"
         },
         "mode": "lines",
         "type": "scatter",
         "x": [
          300.6161808535678,
          508.0021422706559,
          508.0021422706559,
          365.7117063245032
         ],
         "xaxis": "x",
         "y": [
          -2296.015625,
          -2296.015625,
          -2876.083984375,
          -2876.083984375
         ],
         "yaxis": "y"
        },
        {
         "hoverinfo": "text",
         "marker": {
          "color": "rgb(35,205,205)"
         },
         "mode": "lines",
         "type": "scatter",
         "x": [
          0,
          4.472849927582624,
          4.472849927582624,
          0
         ],
         "xaxis": "x",
         "y": [
          -3535,
          -3535,
          -3545,
          -3545
         ],
         "yaxis": "y"
        },
        {
         "hoverinfo": "text",
         "marker": {
          "color": "rgb(35,205,205)"
         },
         "mode": "lines",
         "type": "scatter",
         "x": [
          0,
          21.633307769273337,
          21.633307769273337,
          4.472849927582624
         ],
         "xaxis": "x",
         "y": [
          -3525,
          -3525,
          -3540,
          -3540
         ],
         "yaxis": "y"
        },
        {
         "hoverinfo": "text",
         "marker": {
          "color": "rgb(35,205,205)"
         },
         "mode": "lines",
         "type": "scatter",
         "x": [
          0,
          41.82108167776056,
          41.82108167776056,
          21.633307769273337
         ],
         "xaxis": "x",
         "y": [
          -3515,
          -3515,
          -3532.5,
          -3532.5
         ],
         "yaxis": "y"
        },
        {
         "hoverinfo": "text",
         "marker": {
          "color": "rgb(35,205,205)"
         },
         "mode": "lines",
         "type": "scatter",
         "x": [
          0,
          7.035293647977813,
          7.035293647977813,
          0
         ],
         "xaxis": "x",
         "y": [
          -3565,
          -3565,
          -3575,
          -3575
         ],
         "yaxis": "y"
        },
        {
         "hoverinfo": "text",
         "marker": {
          "color": "rgb(35,205,205)"
         },
         "mode": "lines",
         "type": "scatter",
         "x": [
          0,
          14.422844825595437,
          14.422844825595437,
          7.035293647977813
         ],
         "xaxis": "x",
         "y": [
          -3555,
          -3555,
          -3570,
          -3570
         ],
         "yaxis": "y"
        },
        {
         "hoverinfo": "text",
         "marker": {
          "color": "rgb(35,205,205)"
         },
         "mode": "lines",
         "type": "scatter",
         "x": [
          0,
          11.045945195634431,
          11.045945195634431,
          0
         ],
         "xaxis": "x",
         "y": [
          -3595,
          -3595,
          -3605,
          -3605
         ],
         "yaxis": "y"
        },
        {
         "hoverinfo": "text",
         "marker": {
          "color": "rgb(35,205,205)"
         },
         "mode": "lines",
         "type": "scatter",
         "x": [
          0,
          27.947111781499785,
          27.947111781499785,
          11.045945195634431
         ],
         "xaxis": "x",
         "y": [
          -3585,
          -3585,
          -3600,
          -3600
         ],
         "yaxis": "y"
        },
        {
         "hoverinfo": "text",
         "marker": {
          "color": "rgb(35,205,205)"
         },
         "mode": "lines",
         "type": "scatter",
         "x": [
          14.422844825595437,
          46.957686875288836,
          46.957686875288836,
          27.947111781499785
         ],
         "xaxis": "x",
         "y": [
          -3562.5,
          -3562.5,
          -3592.5,
          -3592.5
         ],
         "yaxis": "y"
        },
        {
         "hoverinfo": "text",
         "marker": {
          "color": "rgb(35,205,205)"
         },
         "mode": "lines",
         "type": "scatter",
         "x": [
          41.82108167776056,
          71.50529953943253,
          71.50529953943253,
          46.957686875288836
         ],
         "xaxis": "x",
         "y": [
          -3523.75,
          -3523.75,
          -3577.5,
          -3577.5
         ],
         "yaxis": "y"
        },
        {
         "hoverinfo": "text",
         "marker": {
          "color": "rgb(35,205,205)"
         },
         "mode": "lines",
         "type": "scatter",
         "x": [
          0,
          19.237388027052965,
          19.237388027052965,
          0
         ],
         "xaxis": "x",
         "y": [
          -3615,
          -3615,
          -3625,
          -3625
         ],
         "yaxis": "y"
        },
        {
         "hoverinfo": "text",
         "marker": {
          "color": "rgb(35,205,205)"
         },
         "mode": "lines",
         "type": "scatter",
         "x": [
          0,
          16.031311240446698,
          16.031311240446698,
          0
         ],
         "xaxis": "x",
         "y": [
          -3645,
          -3645,
          -3655,
          -3655
         ],
         "yaxis": "y"
        },
        {
         "hoverinfo": "text",
         "marker": {
          "color": "rgb(35,205,205)"
         },
         "mode": "lines",
         "type": "scatter",
         "x": [
          0,
          34.00754638812645,
          34.00754638812645,
          16.031311240446698
         ],
         "xaxis": "x",
         "y": [
          -3635,
          -3635,
          -3650,
          -3650
         ],
         "yaxis": "y"
        },
        {
         "hoverinfo": "text",
         "marker": {
          "color": "rgb(35,205,205)"
         },
         "mode": "lines",
         "type": "scatter",
         "x": [
          19.237388027052965,
          45.793050768165486,
          45.793050768165486,
          34.00754638812645
         ],
         "xaxis": "x",
         "y": [
          -3620,
          -3620,
          -3642.5,
          -3642.5
         ],
         "yaxis": "y"
        },
        {
         "hoverinfo": "text",
         "marker": {
          "color": "rgb(35,205,205)"
         },
         "mode": "lines",
         "type": "scatter",
         "x": [
          0,
          9.303567359083711,
          9.303567359083711,
          0
         ],
         "xaxis": "x",
         "y": [
          -3675,
          -3675,
          -3685,
          -3685
         ],
         "yaxis": "y"
        },
        {
         "hoverinfo": "text",
         "marker": {
          "color": "rgb(35,205,205)"
         },
         "mode": "lines",
         "type": "scatter",
         "x": [
          0,
          29.037280157339573,
          29.037280157339573,
          9.303567359083711
         ],
         "xaxis": "x",
         "y": [
          -3665,
          -3665,
          -3680,
          -3680
         ],
         "yaxis": "y"
        },
        {
         "hoverinfo": "text",
         "marker": {
          "color": "rgb(35,205,205)"
         },
         "mode": "lines",
         "type": "scatter",
         "x": [
          0,
          18.626138397847754,
          18.626138397847754,
          0
         ],
         "xaxis": "x",
         "y": [
          -3695,
          -3695,
          -3705,
          -3705
         ],
         "yaxis": "y"
        },
        {
         "hoverinfo": "text",
         "marker": {
          "color": "rgb(35,205,205)"
         },
         "mode": "lines",
         "type": "scatter",
         "x": [
          0,
          8.378898515355596,
          8.378898515355596,
          0
         ],
         "xaxis": "x",
         "y": [
          -3715,
          -3715,
          -3725,
          -3725
         ],
         "yaxis": "y"
        },
        {
         "hoverinfo": "text",
         "marker": {
          "color": "rgb(35,205,205)"
         },
         "mode": "lines",
         "type": "scatter",
         "x": [
          0,
          5.387466720541053,
          5.387466720541053,
          0
         ],
         "xaxis": "x",
         "y": [
          -3745,
          -3745,
          -3755,
          -3755
         ],
         "yaxis": "y"
        },
        {
         "hoverinfo": "text",
         "marker": {
          "color": "rgb(35,205,205)"
         },
         "mode": "lines",
         "type": "scatter",
         "x": [
          0,
          20.47271566119681,
          20.47271566119681,
          5.387466720541053
         ],
         "xaxis": "x",
         "y": [
          -3735,
          -3735,
          -3750,
          -3750
         ],
         "yaxis": "y"
        },
        {
         "hoverinfo": "text",
         "marker": {
          "color": "rgb(35,205,205)"
         },
         "mode": "lines",
         "type": "scatter",
         "x": [
          8.378898515355596,
          33.68109872938303,
          33.68109872938303,
          20.47271566119681
         ],
         "xaxis": "x",
         "y": [
          -3720,
          -3720,
          -3742.5,
          -3742.5
         ],
         "yaxis": "y"
        },
        {
         "hoverinfo": "text",
         "marker": {
          "color": "rgb(35,205,205)"
         },
         "mode": "lines",
         "type": "scatter",
         "x": [
          18.626138397847754,
          50.34803687371434,
          50.34803687371434,
          33.68109872938303
         ],
         "xaxis": "x",
         "y": [
          -3700,
          -3700,
          -3731.25,
          -3731.25
         ],
         "yaxis": "y"
        },
        {
         "hoverinfo": "text",
         "marker": {
          "color": "rgb(35,205,205)"
         },
         "mode": "lines",
         "type": "scatter",
         "x": [
          29.037280157339573,
          74.74460191800038,
          74.74460191800038,
          50.34803687371434
         ],
         "xaxis": "x",
         "y": [
          -3672.5,
          -3672.5,
          -3715.625,
          -3715.625
         ],
         "yaxis": "y"
        },
        {
         "hoverinfo": "text",
         "marker": {
          "color": "rgb(35,205,205)"
         },
         "mode": "lines",
         "type": "scatter",
         "x": [
          45.793050768165486,
          118.44008979823103,
          118.44008979823103,
          74.74460191800038
         ],
         "xaxis": "x",
         "y": [
          -3631.25,
          -3631.25,
          -3694.0625,
          -3694.0625
         ],
         "yaxis": "y"
        },
        {
         "hoverinfo": "text",
         "marker": {
          "color": "rgb(35,205,205)"
         },
         "mode": "lines",
         "type": "scatter",
         "x": [
          71.50529953943253,
          142.08093722681267,
          142.08093722681267,
          118.44008979823103
         ],
         "xaxis": "x",
         "y": [
          -3550.625,
          -3550.625,
          -3662.65625,
          -3662.65625
         ],
         "yaxis": "y"
        },
        {
         "hoverinfo": "text",
         "marker": {
          "color": "rgb(35,205,205)"
         },
         "mode": "lines",
         "type": "scatter",
         "x": [
          0,
          6.367732922498607,
          6.367732922498607,
          0
         ],
         "xaxis": "x",
         "y": [
          -3805,
          -3805,
          -3815,
          -3815
         ],
         "yaxis": "y"
        },
        {
         "hoverinfo": "text",
         "marker": {
          "color": "rgb(35,205,205)"
         },
         "mode": "lines",
         "type": "scatter",
         "x": [
          0,
          11.787335864428991,
          11.787335864428991,
          6.367732922498607
         ],
         "xaxis": "x",
         "y": [
          -3795,
          -3795,
          -3810,
          -3810
         ],
         "yaxis": "y"
        },
        {
         "hoverinfo": "text",
         "marker": {
          "color": "rgb(35,205,205)"
         },
         "mode": "lines",
         "type": "scatter",
         "x": [
          0,
          26.61203025851661,
          26.61203025851661,
          11.787335864428991
         ],
         "xaxis": "x",
         "y": [
          -3785,
          -3785,
          -3802.5,
          -3802.5
         ],
         "yaxis": "y"
        },
        {
         "hoverinfo": "text",
         "marker": {
          "color": "rgb(35,205,205)"
         },
         "mode": "lines",
         "type": "scatter",
         "x": [
          0,
          44.78119078411417,
          44.78119078411417,
          26.61203025851661
         ],
         "xaxis": "x",
         "y": [
          -3775,
          -3775,
          -3793.75,
          -3793.75
         ],
         "yaxis": "y"
        },
        {
         "hoverinfo": "text",
         "marker": {
          "color": "rgb(35,205,205)"
         },
         "mode": "lines",
         "type": "scatter",
         "x": [
          0,
          185.4575972148065,
          185.4575972148065,
          44.78119078411417
         ],
         "xaxis": "x",
         "y": [
          -3765,
          -3765,
          -3784.375,
          -3784.375
         ],
         "yaxis": "y"
        },
        {
         "hoverinfo": "text",
         "marker": {
          "color": "rgb(35,205,205)"
         },
         "mode": "lines",
         "type": "scatter",
         "x": [
          142.08093722681267,
          233.74275147256847,
          233.74275147256847,
          185.4575972148065
         ],
         "xaxis": "x",
         "y": [
          -3606.640625,
          -3606.640625,
          -3774.6875,
          -3774.6875
         ],
         "yaxis": "y"
        },
        {
         "hoverinfo": "text",
         "marker": {
          "color": "rgb(35,205,205)"
         },
         "mode": "lines",
         "type": "scatter",
         "x": [
          0,
          12.694852999855344,
          12.694852999855344,
          0
         ],
         "xaxis": "x",
         "y": [
          -3845,
          -3845,
          -3855,
          -3855
         ],
         "yaxis": "y"
        },
        {
         "hoverinfo": "text",
         "marker": {
          "color": "rgb(35,205,205)"
         },
         "mode": "lines",
         "type": "scatter",
         "x": [
          0,
          25.830747724791504,
          25.830747724791504,
          12.694852999855344
         ],
         "xaxis": "x",
         "y": [
          -3835,
          -3835,
          -3850,
          -3850
         ],
         "yaxis": "y"
        },
        {
         "hoverinfo": "text",
         "marker": {
          "color": "rgb(35,205,205)"
         },
         "mode": "lines",
         "type": "scatter",
         "x": [
          0,
          17.378350046381584,
          17.378350046381584,
          0
         ],
         "xaxis": "x",
         "y": [
          -3885,
          -3885,
          -3895,
          -3895
         ],
         "yaxis": "y"
        },
        {
         "hoverinfo": "text",
         "marker": {
          "color": "rgb(35,205,205)"
         },
         "mode": "lines",
         "type": "scatter",
         "x": [
          0,
          24.166139558242666,
          24.166139558242666,
          17.378350046381584
         ],
         "xaxis": "x",
         "y": [
          -3875,
          -3875,
          -3890,
          -3890
         ],
         "yaxis": "y"
        },
        {
         "hoverinfo": "text",
         "marker": {
          "color": "rgb(35,205,205)"
         },
         "mode": "lines",
         "type": "scatter",
         "x": [
          0,
          51.62366843949618,
          51.62366843949618,
          24.166139558242666
         ],
         "xaxis": "x",
         "y": [
          -3865,
          -3865,
          -3882.5,
          -3882.5
         ],
         "yaxis": "y"
        },
        {
         "hoverinfo": "text",
         "marker": {
          "color": "rgb(35,205,205)"
         },
         "mode": "lines",
         "type": "scatter",
         "x": [
          25.830747724791504,
          76.27744288983219,
          76.27744288983219,
          51.62366843949618
         ],
         "xaxis": "x",
         "y": [
          -3842.5,
          -3842.5,
          -3873.75,
          -3873.75
         ],
         "yaxis": "y"
        },
        {
         "hoverinfo": "text",
         "marker": {
          "color": "rgb(35,205,205)"
         },
         "mode": "lines",
         "type": "scatter",
         "x": [
          0,
          119.60798177157088,
          119.60798177157088,
          76.27744288983219
         ],
         "xaxis": "x",
         "y": [
          -3825,
          -3825,
          -3858.125,
          -3858.125
         ],
         "yaxis": "y"
        },
        {
         "hoverinfo": "text",
         "marker": {
          "color": "rgb(35,205,205)"
         },
         "mode": "lines",
         "type": "scatter",
         "x": [
          0,
          13.567733102592209,
          13.567733102592209,
          0
         ],
         "xaxis": "x",
         "y": [
          -3915,
          -3915,
          -3925,
          -3925
         ],
         "yaxis": "y"
        },
        {
         "hoverinfo": "text",
         "marker": {
          "color": "rgb(35,205,205)"
         },
         "mode": "lines",
         "type": "scatter",
         "x": [
          0,
          36.14149895685294,
          36.14149895685294,
          13.567733102592209
         ],
         "xaxis": "x",
         "y": [
          -3905,
          -3905,
          -3920,
          -3920
         ],
         "yaxis": "y"
        },
        {
         "hoverinfo": "text",
         "marker": {
          "color": "rgb(35,205,205)"
         },
         "mode": "lines",
         "type": "scatter",
         "x": [
          0,
          16.9118521795935,
          16.9118521795935,
          0
         ],
         "xaxis": "x",
         "y": [
          -3935,
          -3935,
          -3945,
          -3945
         ],
         "yaxis": "y"
        },
        {
         "hoverinfo": "text",
         "marker": {
          "color": "rgb(35,205,205)"
         },
         "mode": "lines",
         "type": "scatter",
         "x": [
          0,
          21.40909320256063,
          21.40909320256063,
          0
         ],
         "xaxis": "x",
         "y": [
          -3955,
          -3955,
          -3965,
          -3965
         ],
         "yaxis": "y"
        },
        {
         "hoverinfo": "text",
         "marker": {
          "color": "rgb(35,205,205)"
         },
         "mode": "lines",
         "type": "scatter",
         "x": [
          16.9118521795935,
          47.265369049541135,
          47.265369049541135,
          21.40909320256063
         ],
         "xaxis": "x",
         "y": [
          -3940,
          -3940,
          -3960,
          -3960
         ],
         "yaxis": "y"
        },
        {
         "hoverinfo": "text",
         "marker": {
          "color": "rgb(35,205,205)"
         },
         "mode": "lines",
         "type": "scatter",
         "x": [
          0,
          14.56040505090079,
          14.56040505090079,
          0
         ],
         "xaxis": "x",
         "y": [
          -3995,
          -3995,
          -4005,
          -4005
         ],
         "yaxis": "y"
        },
        {
         "hoverinfo": "text",
         "marker": {
          "color": "rgb(35,205,205)"
         },
         "mode": "lines",
         "type": "scatter",
         "x": [
          0,
          40.76763549443245,
          40.76763549443245,
          14.56040505090079
         ],
         "xaxis": "x",
         "y": [
          -3985,
          -3985,
          -4000,
          -4000
         ],
         "yaxis": "y"
        },
        {
         "hoverinfo": "text",
         "marker": {
          "color": "rgb(35,205,205)"
         },
         "mode": "lines",
         "type": "scatter",
         "x": [
          0,
          61.163862219581766,
          61.163862219581766,
          40.76763549443245
         ],
         "xaxis": "x",
         "y": [
          -3975,
          -3975,
          -3992.5,
          -3992.5
         ],
         "yaxis": "y"
        },
        {
         "hoverinfo": "text",
         "marker": {
          "color": "rgb(35,205,205)"
         },
         "mode": "lines",
         "type": "scatter",
         "x": [
          47.265369049541135,
          92.3537267386262,
          92.3537267386262,
          61.163862219581766
         ],
         "xaxis": "x",
         "y": [
          -3950,
          -3950,
          -3983.75,
          -3983.75
         ],
         "yaxis": "y"
        },
        {
         "hoverinfo": "text",
         "marker": {
          "color": "rgb(35,205,205)"
         },
         "mode": "lines",
         "type": "scatter",
         "x": [
          36.14149895685294,
          121.268778175613,
          121.268778175613,
          92.3537267386262
         ],
         "xaxis": "x",
         "y": [
          -3912.5,
          -3912.5,
          -3966.875,
          -3966.875
         ],
         "yaxis": "y"
        },
        {
         "hoverinfo": "text",
         "marker": {
          "color": "rgb(35,205,205)"
         },
         "mode": "lines",
         "type": "scatter",
         "x": [
          119.60798177157088,
          234.56563405547584,
          234.56563405547584,
          121.268778175613
         ],
         "xaxis": "x",
         "y": [
          -3841.5625,
          -3841.5625,
          -3939.6875,
          -3939.6875
         ],
         "yaxis": "y"
        },
        {
         "hoverinfo": "text",
         "marker": {
          "color": "rgb(35,205,205)"
         },
         "mode": "lines",
         "type": "scatter",
         "x": [
          233.74275147256847,
          351.01811796509264,
          351.01811796509264,
          234.56563405547584
         ],
         "xaxis": "x",
         "y": [
          -3690.6640625,
          -3690.6640625,
          -3890.625,
          -3890.625
         ],
         "yaxis": "y"
        },
        {
         "hoverinfo": "text",
         "marker": {
          "color": "rgb(35,205,205)"
         },
         "mode": "lines",
         "type": "scatter",
         "x": [
          0,
          35.51080562406636,
          35.51080562406636,
          0
         ],
         "xaxis": "x",
         "y": [
          -4015,
          -4015,
          -4025,
          -4025
         ],
         "yaxis": "y"
        },
        {
         "hoverinfo": "text",
         "marker": {
          "color": "rgb(35,205,205)"
         },
         "mode": "lines",
         "type": "scatter",
         "x": [
          0,
          6.082766896854823,
          6.082766896854823,
          0
         ],
         "xaxis": "x",
         "y": [
          -4055,
          -4055,
          -4065,
          -4065
         ],
         "yaxis": "y"
        },
        {
         "hoverinfo": "text",
         "marker": {
          "color": "rgb(35,205,205)"
         },
         "mode": "lines",
         "type": "scatter",
         "x": [
          0,
          12.369490567999403,
          12.369490567999403,
          6.082766896854823
         ],
         "xaxis": "x",
         "y": [
          -4045,
          -4045,
          -4060,
          -4060
         ],
         "yaxis": "y"
        },
        {
         "hoverinfo": "text",
         "marker": {
          "color": "rgb(35,205,205)"
         },
         "mode": "lines",
         "type": "scatter",
         "x": [
          0,
          31.78051606478448,
          31.78051606478448,
          12.369490567999403
         ],
         "xaxis": "x",
         "y": [
          -4035,
          -4035,
          -4052.5,
          -4052.5
         ],
         "yaxis": "y"
        },
        {
         "hoverinfo": "text",
         "marker": {
          "color": "rgb(35,205,205)"
         },
         "mode": "lines",
         "type": "scatter",
         "x": [
          0,
          10.770445833811682,
          10.770445833811682,
          0
         ],
         "xaxis": "x",
         "y": [
          -4085,
          -4085,
          -4095,
          -4095
         ],
         "yaxis": "y"
        },
        {
         "hoverinfo": "text",
         "marker": {
          "color": "rgb(35,205,205)"
         },
         "mode": "lines",
         "type": "scatter",
         "x": [
          0,
          34.68429536179924,
          34.68429536179924,
          10.770445833811682
         ],
         "xaxis": "x",
         "y": [
          -4075,
          -4075,
          -4090,
          -4090
         ],
         "yaxis": "y"
        },
        {
         "hoverinfo": "text",
         "marker": {
          "color": "rgb(35,205,205)"
         },
         "mode": "lines",
         "type": "scatter",
         "x": [
          31.78051606478448,
          62.5220039009392,
          62.5220039009392,
          34.68429536179924
         ],
         "xaxis": "x",
         "y": [
          -4043.75,
          -4043.75,
          -4082.5,
          -4082.5
         ],
         "yaxis": "y"
        },
        {
         "hoverinfo": "text",
         "marker": {
          "color": "rgb(35,205,205)"
         },
         "mode": "lines",
         "type": "scatter",
         "x": [
          35.51080562406636,
          72.83552726940191,
          72.83552726940191,
          62.5220039009392
         ],
         "xaxis": "x",
         "y": [
          -4020,
          -4020,
          -4063.125,
          -4063.125
         ],
         "yaxis": "y"
        },
        {
         "hoverinfo": "text",
         "marker": {
          "color": "rgb(35,205,205)"
         },
         "mode": "lines",
         "type": "scatter",
         "x": [
          0,
          22.3830306418631,
          22.3830306418631,
          0
         ],
         "xaxis": "x",
         "y": [
          -4115,
          -4115,
          -4125,
          -4125
         ],
         "yaxis": "y"
        },
        {
         "hoverinfo": "text",
         "marker": {
          "color": "rgb(35,205,205)"
         },
         "mode": "lines",
         "type": "scatter",
         "x": [
          0,
          29.83292919387446,
          29.83292919387446,
          22.3830306418631
         ],
         "xaxis": "x",
         "y": [
          -4105,
          -4105,
          -4120,
          -4120
         ],
         "yaxis": "y"
        },
        {
         "hoverinfo": "text",
         "marker": {
          "color": "rgb(35,205,205)"
         },
         "mode": "lines",
         "type": "scatter",
         "x": [
          0,
          16.1615085624303,
          16.1615085624303,
          0
         ],
         "xaxis": "x",
         "y": [
          -4135,
          -4135,
          -4145,
          -4145
         ],
         "yaxis": "y"
        },
        {
         "hoverinfo": "text",
         "marker": {
          "color": "rgb(35,205,205)"
         },
         "mode": "lines",
         "type": "scatter",
         "x": [
          0,
          13.930201612126579,
          13.930201612126579,
          0
         ],
         "xaxis": "x",
         "y": [
          -4165,
          -4165,
          -4175,
          -4175
         ],
         "yaxis": "y"
        },
        {
         "hoverinfo": "text",
         "marker": {
          "color": "rgb(35,205,205)"
         },
         "mode": "lines",
         "type": "scatter",
         "x": [
          0,
          31.400707028435747,
          31.400707028435747,
          13.930201612126579
         ],
         "xaxis": "x",
         "y": [
          -4155,
          -4155,
          -4170,
          -4170
         ],
         "yaxis": "y"
        },
        {
         "hoverinfo": "text",
         "marker": {
          "color": "rgb(35,205,205)"
         },
         "mode": "lines",
         "type": "scatter",
         "x": [
          16.1615085624303,
          43.600653109582794,
          43.600653109582794,
          31.400707028435747
         ],
         "xaxis": "x",
         "y": [
          -4140,
          -4140,
          -4162.5,
          -4162.5
         ],
         "yaxis": "y"
        },
        {
         "hoverinfo": "text",
         "marker": {
          "color": "rgb(35,205,205)"
         },
         "mode": "lines",
         "type": "scatter",
         "x": [
          0,
          18.055719977795423,
          18.055719977795423,
          0
         ],
         "xaxis": "x",
         "y": [
          -4195,
          -4195,
          -4205,
          -4205
         ],
         "yaxis": "y"
        },
        {
         "hoverinfo": "text",
         "marker": {
          "color": "rgb(35,205,205)"
         },
         "mode": "lines",
         "type": "scatter",
         "x": [
          0,
          43.70463034849585,
          43.70463034849585,
          18.055719977795423
         ],
         "xaxis": "x",
         "y": [
          -4185,
          -4185,
          -4200,
          -4200
         ],
         "yaxis": "y"
        },
        {
         "hoverinfo": "text",
         "marker": {
          "color": "rgb(35,205,205)"
         },
         "mode": "lines",
         "type": "scatter",
         "x": [
          43.600653109582794,
          87.80675249541449,
          87.80675249541449,
          43.70463034849585
         ],
         "xaxis": "x",
         "y": [
          -4151.25,
          -4151.25,
          -4192.5,
          -4192.5
         ],
         "yaxis": "y"
        },
        {
         "hoverinfo": "text",
         "marker": {
          "color": "rgb(35,205,205)"
         },
         "mode": "lines",
         "type": "scatter",
         "x": [
          29.83292919387446,
          113.70156601078291,
          113.70156601078291,
          87.80675249541449
         ],
         "xaxis": "x",
         "y": [
          -4112.5,
          -4112.5,
          -4171.875,
          -4171.875
         ],
         "yaxis": "y"
        },
        {
         "hoverinfo": "text",
         "marker": {
          "color": "rgb(35,205,205)"
         },
         "mode": "lines",
         "type": "scatter",
         "x": [
          72.83552726940191,
          191.76051455569026,
          191.76051455569026,
          113.70156601078291
         ],
         "xaxis": "x",
         "y": [
          -4041.5625,
          -4041.5625,
          -4142.1875,
          -4142.1875
         ],
         "yaxis": "y"
        },
        {
         "hoverinfo": "text",
         "marker": {
          "color": "rgb(35,205,205)"
         },
         "mode": "lines",
         "type": "scatter",
         "x": [
          0,
          22.293511199474104,
          22.293511199474104,
          0
         ],
         "xaxis": "x",
         "y": [
          -4225,
          -4225,
          -4235,
          -4235
         ],
         "yaxis": "y"
        },
        {
         "hoverinfo": "text",
         "marker": {
          "color": "rgb(35,205,205)"
         },
         "mode": "lines",
         "type": "scatter",
         "x": [
          0,
          34.554365820429695,
          34.554365820429695,
          22.293511199474104
         ],
         "xaxis": "x",
         "y": [
          -4215,
          -4215,
          -4230,
          -4230
         ],
         "yaxis": "y"
        },
        {
         "hoverinfo": "text",
         "marker": {
          "color": "rgb(35,205,205)"
         },
         "mode": "lines",
         "type": "scatter",
         "x": [
          0,
          7.280172904297305,
          7.280172904297305,
          0
         ],
         "xaxis": "x",
         "y": [
          -4255,
          -4255,
          -4265,
          -4265
         ],
         "yaxis": "y"
        },
        {
         "hoverinfo": "text",
         "marker": {
          "color": "rgb(35,205,205)"
         },
         "mode": "lines",
         "type": "scatter",
         "x": [
          0,
          17.117309293901513,
          17.117309293901513,
          7.280172904297305
         ],
         "xaxis": "x",
         "y": [
          -4245,
          -4245,
          -4260,
          -4260
         ],
         "yaxis": "y"
        },
        {
         "hoverinfo": "text",
         "marker": {
          "color": "rgb(35,205,205)"
         },
         "mode": "lines",
         "type": "scatter",
         "x": [
          0,
          14.177458082312805,
          14.177458082312805,
          0
         ],
         "xaxis": "x",
         "y": [
          -4285,
          -4285,
          -4295,
          -4295
         ],
         "yaxis": "y"
        },
        {
         "hoverinfo": "text",
         "marker": {
          "color": "rgb(35,205,205)"
         },
         "mode": "lines",
         "type": "scatter",
         "x": [
          0,
          43.87482286618198,
          43.87482286618198,
          14.177458082312805
         ],
         "xaxis": "x",
         "y": [
          -4275,
          -4275,
          -4290,
          -4290
         ],
         "yaxis": "y"
        },
        {
         "hoverinfo": "text",
         "marker": {
          "color": "rgb(35,205,205)"
         },
         "mode": "lines",
         "type": "scatter",
         "x": [
          17.117309293901513,
          50.3388778643957,
          50.3388778643957,
          43.87482286618198
         ],
         "xaxis": "x",
         "y": [
          -4252.5,
          -4252.5,
          -4282.5,
          -4282.5
         ],
         "yaxis": "y"
        },
        {
         "hoverinfo": "text",
         "marker": {
          "color": "rgb(35,205,205)"
         },
         "mode": "lines",
         "type": "scatter",
         "x": [
          34.554365820429695,
          89.0730360650724,
          89.0730360650724,
          50.3388778643957
         ],
         "xaxis": "x",
         "y": [
          -4222.5,
          -4222.5,
          -4267.5,
          -4267.5
         ],
         "yaxis": "y"
        },
        {
         "hoverinfo": "text",
         "marker": {
          "color": "rgb(35,205,205)"
         },
         "mode": "lines",
         "type": "scatter",
         "x": [
          0,
          16.156307947488283,
          16.156307947488283,
          0
         ],
         "xaxis": "x",
         "y": [
          -4325,
          -4325,
          -4335,
          -4335
         ],
         "yaxis": "y"
        },
        {
         "hoverinfo": "text",
         "marker": {
          "color": "rgb(35,205,205)"
         },
         "mode": "lines",
         "type": "scatter",
         "x": [
          0,
          21.095041410309594,
          21.095041410309594,
          16.156307947488283
         ],
         "xaxis": "x",
         "y": [
          -4315,
          -4315,
          -4330,
          -4330
         ],
         "yaxis": "y"
        },
        {
         "hoverinfo": "text",
         "marker": {
          "color": "rgb(35,205,205)"
         },
         "mode": "lines",
         "type": "scatter",
         "x": [
          0,
          40.11235294585171,
          40.11235294585171,
          21.095041410309594
         ],
         "xaxis": "x",
         "y": [
          -4305,
          -4305,
          -4322.5,
          -4322.5
         ],
         "yaxis": "y"
        },
        {
         "hoverinfo": "text",
         "marker": {
          "color": "rgb(35,205,205)"
         },
         "mode": "lines",
         "type": "scatter",
         "x": [
          0,
          32.311142224838754,
          32.311142224838754,
          0
         ],
         "xaxis": "x",
         "y": [
          -4345,
          -4345,
          -4355,
          -4355
         ],
         "yaxis": "y"
        },
        {
         "hoverinfo": "text",
         "marker": {
          "color": "rgb(35,205,205)"
         },
         "mode": "lines",
         "type": "scatter",
         "x": [
          0,
          18.357848288172775,
          18.357848288172775,
          0
         ],
         "xaxis": "x",
         "y": [
          -4375,
          -4375,
          -4385,
          -4385
         ],
         "yaxis": "y"
        },
        {
         "hoverinfo": "text",
         "marker": {
          "color": "rgb(35,205,205)"
         },
         "mode": "lines",
         "type": "scatter",
         "x": [
          0,
          51.00980803390562,
          51.00980803390562,
          18.357848288172775
         ],
         "xaxis": "x",
         "y": [
          -4365,
          -4365,
          -4380,
          -4380
         ],
         "yaxis": "y"
        },
        {
         "hoverinfo": "text",
         "marker": {
          "color": "rgb(35,205,205)"
         },
         "mode": "lines",
         "type": "scatter",
         "x": [
          32.311142224838754,
          96.51424873180514,
          96.51424873180514,
          51.00980803390562
         ],
         "xaxis": "x",
         "y": [
          -4350,
          -4350,
          -4372.5,
          -4372.5
         ],
         "yaxis": "y"
        },
        {
         "hoverinfo": "text",
         "marker": {
          "color": "rgb(35,205,205)"
         },
         "mode": "lines",
         "type": "scatter",
         "x": [
          40.11235294585171,
          131.4154101736081,
          131.4154101736081,
          96.51424873180514
         ],
         "xaxis": "x",
         "y": [
          -4313.75,
          -4313.75,
          -4361.25,
          -4361.25
         ],
         "yaxis": "y"
        },
        {
         "hoverinfo": "text",
         "marker": {
          "color": "rgb(35,205,205)"
         },
         "mode": "lines",
         "type": "scatter",
         "x": [
          89.0730360650724,
          206.1407454815303,
          206.1407454815303,
          131.4154101736081
         ],
         "xaxis": "x",
         "y": [
          -4245,
          -4245,
          -4337.5,
          -4337.5
         ],
         "yaxis": "y"
        },
        {
         "hoverinfo": "text",
         "marker": {
          "color": "rgb(35,205,205)"
         },
         "mode": "lines",
         "type": "scatter",
         "x": [
          0,
          9.27395010447436,
          9.27395010447436,
          0
         ],
         "xaxis": "x",
         "y": [
          -4415,
          -4415,
          -4425,
          -4425
         ],
         "yaxis": "y"
        },
        {
         "hoverinfo": "text",
         "marker": {
          "color": "rgb(35,205,205)"
         },
         "mode": "lines",
         "type": "scatter",
         "x": [
          0,
          24.228132643276446,
          24.228132643276446,
          9.27395010447436
         ],
         "xaxis": "x",
         "y": [
          -4405,
          -4405,
          -4420,
          -4420
         ],
         "yaxis": "y"
        },
        {
         "hoverinfo": "text",
         "marker": {
          "color": "rgb(35,205,205)"
         },
         "mode": "lines",
         "type": "scatter",
         "x": [
          0,
          48.88765074647291,
          48.88765074647291,
          24.228132643276446
         ],
         "xaxis": "x",
         "y": [
          -4395,
          -4395,
          -4412.5,
          -4412.5
         ],
         "yaxis": "y"
        },
        {
         "hoverinfo": "text",
         "marker": {
          "color": "rgb(35,205,205)"
         },
         "mode": "lines",
         "type": "scatter",
         "x": [
          0,
          21.260625342047987,
          21.260625342047987,
          0
         ],
         "xaxis": "x",
         "y": [
          -4435,
          -4435,
          -4445,
          -4445
         ],
         "yaxis": "y"
        },
        {
         "hoverinfo": "text",
         "marker": {
          "color": "rgb(35,205,205)"
         },
         "mode": "lines",
         "type": "scatter",
         "x": [
          0,
          15.811440228708115,
          15.811440228708115,
          0
         ],
         "xaxis": "x",
         "y": [
          -4465,
          -4465,
          -4475,
          -4475
         ],
         "yaxis": "y"
        },
        {
         "hoverinfo": "text",
         "marker": {
          "color": "rgb(35,205,205)"
         },
         "mode": "lines",
         "type": "scatter",
         "x": [
          0,
          32.832967650407184,
          32.832967650407184,
          15.811440228708115
         ],
         "xaxis": "x",
         "y": [
          -4455,
          -4455,
          -4470,
          -4470
         ],
         "yaxis": "y"
        },
        {
         "hoverinfo": "text",
         "marker": {
          "color": "rgb(35,205,205)"
         },
         "mode": "lines",
         "type": "scatter",
         "x": [
          21.260625342047987,
          72.69802050367427,
          72.69802050367427,
          32.832967650407184
         ],
         "xaxis": "x",
         "y": [
          -4440,
          -4440,
          -4462.5,
          -4462.5
         ],
         "yaxis": "y"
        },
        {
         "hoverinfo": "text",
         "marker": {
          "color": "rgb(35,205,205)"
         },
         "mode": "lines",
         "type": "scatter",
         "x": [
          48.88765074647291,
          132.98497116070263,
          132.98497116070263,
          72.69802050367427
         ],
         "xaxis": "x",
         "y": [
          -4403.75,
          -4403.75,
          -4451.25,
          -4451.25
         ],
         "yaxis": "y"
        },
        {
         "hoverinfo": "text",
         "marker": {
          "color": "rgb(35,205,205)"
         },
         "mode": "lines",
         "type": "scatter",
         "x": [
          0,
          16.492573140534564,
          16.492573140534564,
          0
         ],
         "xaxis": "x",
         "y": [
          -4495,
          -4495,
          -4505,
          -4505
         ],
         "yaxis": "y"
        },
        {
         "hoverinfo": "text",
         "marker": {
          "color": "rgb(35,205,205)"
         },
         "mode": "lines",
         "type": "scatter",
         "x": [
          0,
          25.961528339133324,
          25.961528339133324,
          16.492573140534564
         ],
         "xaxis": "x",
         "y": [
          -4485,
          -4485,
          -4500,
          -4500
         ],
         "yaxis": "y"
        },
        {
         "hoverinfo": "text",
         "marker": {
          "color": "rgb(35,205,205)"
         },
         "mode": "lines",
         "type": "scatter",
         "x": [
          0,
          31.25713441976551,
          31.25713441976551,
          0
         ],
         "xaxis": "x",
         "y": [
          -4515,
          -4515,
          -4525,
          -4525
         ],
         "yaxis": "y"
        },
        {
         "hoverinfo": "text",
         "marker": {
          "color": "rgb(35,205,205)"
         },
         "mode": "lines",
         "type": "scatter",
         "x": [
          25.961528339133324,
          66.61120816933548,
          66.61120816933548,
          31.25713441976551
         ],
         "xaxis": "x",
         "y": [
          -4492.5,
          -4492.5,
          -4520,
          -4520
         ],
         "yaxis": "y"
        },
        {
         "hoverinfo": "text",
         "marker": {
          "color": "rgb(35,205,205)"
         },
         "mode": "lines",
         "type": "scatter",
         "x": [
          0,
          9.848927989968905,
          9.848927989968905,
          0
         ],
         "xaxis": "x",
         "y": [
          -4545,
          -4545,
          -4555,
          -4555
         ],
         "yaxis": "y"
        },
        {
         "hoverinfo": "text",
         "marker": {
          "color": "rgb(35,205,205)"
         },
         "mode": "lines",
         "type": "scatter",
         "x": [
          0,
          13.601880232678779,
          13.601880232678779,
          0
         ],
         "xaxis": "x",
         "y": [
          -4565,
          -4565,
          -4575,
          -4575
         ],
         "yaxis": "y"
        },
        {
         "hoverinfo": "text",
         "marker": {
          "color": "rgb(35,205,205)"
         },
         "mode": "lines",
         "type": "scatter",
         "x": [
          9.848927989968905,
          51.039553487429735,
          51.039553487429735,
          13.601880232678779
         ],
         "xaxis": "x",
         "y": [
          -4550,
          -4550,
          -4570,
          -4570
         ],
         "yaxis": "y"
        },
        {
         "hoverinfo": "text",
         "marker": {
          "color": "rgb(35,205,205)"
         },
         "mode": "lines",
         "type": "scatter",
         "x": [
          0,
          90.60375807791496,
          90.60375807791496,
          51.039553487429735
         ],
         "xaxis": "x",
         "y": [
          -4535,
          -4535,
          -4560,
          -4560
         ],
         "yaxis": "y"
        },
        {
         "hoverinfo": "text",
         "marker": {
          "color": "rgb(35,205,205)"
         },
         "mode": "lines",
         "type": "scatter",
         "x": [
          66.61120816933548,
          155.80126271058015,
          155.80126271058015,
          90.60375807791496
         ],
         "xaxis": "x",
         "y": [
          -4506.25,
          -4506.25,
          -4547.5,
          -4547.5
         ],
         "yaxis": "y"
        },
        {
         "hoverinfo": "text",
         "marker": {
          "color": "rgb(35,205,205)"
         },
         "mode": "lines",
         "type": "scatter",
         "x": [
          132.98497116070263,
          228.03735942179702,
          228.03735942179702,
          155.80126271058015
         ],
         "xaxis": "x",
         "y": [
          -4427.5,
          -4427.5,
          -4526.875,
          -4526.875
         ],
         "yaxis": "y"
        },
        {
         "hoverinfo": "text",
         "marker": {
          "color": "rgb(35,205,205)"
         },
         "mode": "lines",
         "type": "scatter",
         "x": [
          206.1407454815303,
          313.07048282042086,
          313.07048282042086,
          228.03735942179702
         ],
         "xaxis": "x",
         "y": [
          -4291.25,
          -4291.25,
          -4477.1875,
          -4477.1875
         ],
         "yaxis": "y"
        },
        {
         "hoverinfo": "text",
         "marker": {
          "color": "rgb(35,205,205)"
         },
         "mode": "lines",
         "type": "scatter",
         "x": [
          191.76051455569026,
          462.08768194862085,
          462.08768194862085,
          313.07048282042086
         ],
         "xaxis": "x",
         "y": [
          -4091.875,
          -4091.875,
          -4384.21875,
          -4384.21875
         ],
         "yaxis": "y"
        },
        {
         "hoverinfo": "text",
         "marker": {
          "color": "rgb(35,205,205)"
         },
         "mode": "lines",
         "type": "scatter",
         "x": [
          351.01811796509264,
          562.8829045327006,
          562.8829045327006,
          462.08768194862085
         ],
         "xaxis": "x",
         "y": [
          -3790.64453125,
          -3790.64453125,
          -4238.046875,
          -4238.046875
         ],
         "yaxis": "y"
        },
        {
         "hoverinfo": "text",
         "marker": {
          "color": "rgb(35,205,205)"
         },
         "mode": "lines",
         "type": "scatter",
         "x": [
          508.0021422706559,
          810.1097654555098,
          810.1097654555098,
          562.8829045327006
         ],
         "xaxis": "x",
         "y": [
          -2586.0498046875,
          -2586.0498046875,
          -4014.345703125,
          -4014.345703125
         ],
         "yaxis": "y"
        },
        {
         "hoverinfo": "text",
         "marker": {
          "color": "rgb(35,205,205)"
         },
         "mode": "lines",
         "type": "scatter",
         "x": [
          0,
          26.754961771443284,
          26.754961771443284,
          0
         ],
         "xaxis": "x",
         "y": [
          -4605,
          -4605,
          -4615,
          -4615
         ],
         "yaxis": "y"
        },
        {
         "hoverinfo": "text",
         "marker": {
          "color": "rgb(35,205,205)"
         },
         "mode": "lines",
         "type": "scatter",
         "x": [
          0,
          53.56076086632224,
          53.56076086632224,
          26.754961771443284
         ],
         "xaxis": "x",
         "y": [
          -4595,
          -4595,
          -4610,
          -4610
         ],
         "yaxis": "y"
        },
        {
         "hoverinfo": "text",
         "marker": {
          "color": "rgb(35,205,205)"
         },
         "mode": "lines",
         "type": "scatter",
         "x": [
          0,
          321.0101570033237,
          321.0101570033237,
          53.56076086632224
         ],
         "xaxis": "x",
         "y": [
          -4585,
          -4585,
          -4602.5,
          -4602.5
         ],
         "yaxis": "y"
        },
        {
         "hoverinfo": "text",
         "marker": {
          "color": "rgb(35,205,205)"
         },
         "mode": "lines",
         "type": "scatter",
         "x": [
          0,
          14.456933587714339,
          14.456933587714339,
          0
         ],
         "xaxis": "x",
         "y": [
          -4635,
          -4635,
          -4645,
          -4645
         ],
         "yaxis": "y"
        },
        {
         "hoverinfo": "text",
         "marker": {
          "color": "rgb(35,205,205)"
         },
         "mode": "lines",
         "type": "scatter",
         "x": [
          0,
          27.0925502271253,
          27.0925502271253,
          14.456933587714339
         ],
         "xaxis": "x",
         "y": [
          -4625,
          -4625,
          -4640,
          -4640
         ],
         "yaxis": "y"
        },
        {
         "hoverinfo": "text",
         "marker": {
          "color": "rgb(35,205,205)"
         },
         "mode": "lines",
         "type": "scatter",
         "x": [
          0,
          3.741872820257731,
          3.741872820257731,
          0
         ],
         "xaxis": "x",
         "y": [
          -4665,
          -4665,
          -4675,
          -4675
         ],
         "yaxis": "y"
        },
        {
         "hoverinfo": "text",
         "marker": {
          "color": "rgb(35,205,205)"
         },
         "mode": "lines",
         "type": "scatter",
         "x": [
          0,
          6.408636678887187,
          6.408636678887187,
          3.741872820257731
         ],
         "xaxis": "x",
         "y": [
          -4655,
          -4655,
          -4670,
          -4670
         ],
         "yaxis": "y"
        },
        {
         "hoverinfo": "text",
         "marker": {
          "color": "rgb(35,205,205)"
         },
         "mode": "lines",
         "type": "scatter",
         "x": [
          0,
          38.02630787930002,
          38.02630787930002,
          0
         ],
         "xaxis": "x",
         "y": [
          -4685,
          -4685,
          -4695,
          -4695
         ],
         "yaxis": "y"
        },
        {
         "hoverinfo": "text",
         "marker": {
          "color": "rgb(35,205,205)"
         },
         "mode": "lines",
         "type": "scatter",
         "x": [
          6.408636678887187,
          71.85587766221708,
          71.85587766221708,
          38.02630787930002
         ],
         "xaxis": "x",
         "y": [
          -4662.5,
          -4662.5,
          -4690,
          -4690
         ],
         "yaxis": "y"
        },
        {
         "hoverinfo": "text",
         "marker": {
          "color": "rgb(35,205,205)"
         },
         "mode": "lines",
         "type": "scatter",
         "x": [
          27.0925502271253,
          112.27199563505202,
          112.27199563505202,
          71.85587766221708
         ],
         "xaxis": "x",
         "y": [
          -4632.5,
          -4632.5,
          -4676.25,
          -4676.25
         ],
         "yaxis": "y"
        },
        {
         "hoverinfo": "text",
         "marker": {
          "color": "rgb(35,205,205)"
         },
         "mode": "lines",
         "type": "scatter",
         "x": [
          0,
          4.069028814606432,
          4.069028814606432,
          0
         ],
         "xaxis": "x",
         "y": [
          -4715,
          -4715,
          -4725,
          -4725
         ],
         "yaxis": "y"
        },
        {
         "hoverinfo": "text",
         "marker": {
          "color": "rgb(35,205,205)"
         },
         "mode": "lines",
         "type": "scatter",
         "x": [
          0,
          45.568977720489926,
          45.568977720489926,
          4.069028814606432
         ],
         "xaxis": "x",
         "y": [
          -4705,
          -4705,
          -4720,
          -4720
         ],
         "yaxis": "y"
        },
        {
         "hoverinfo": "text",
         "marker": {
          "color": "rgb(35,205,205)"
         },
         "mode": "lines",
         "type": "scatter",
         "x": [
          0,
          34.557793722729,
          34.557793722729,
          0
         ],
         "xaxis": "x",
         "y": [
          -4745,
          -4745,
          -4755,
          -4755
         ],
         "yaxis": "y"
        },
        {
         "hoverinfo": "text",
         "marker": {
          "color": "rgb(35,205,205)"
         },
         "mode": "lines",
         "type": "scatter",
         "x": [
          0,
          76.33290775775612,
          76.33290775775612,
          34.557793722729
         ],
         "xaxis": "x",
         "y": [
          -4735,
          -4735,
          -4750,
          -4750
         ],
         "yaxis": "y"
        },
        {
         "hoverinfo": "text",
         "marker": {
          "color": "rgb(35,205,205)"
         },
         "mode": "lines",
         "type": "scatter",
         "x": [
          45.568977720489926,
          149.34833017658838,
          149.34833017658838,
          76.33290775775612
         ],
         "xaxis": "x",
         "y": [
          -4712.5,
          -4712.5,
          -4742.5,
          -4742.5
         ],
         "yaxis": "y"
        },
        {
         "hoverinfo": "text",
         "marker": {
          "color": "rgb(35,205,205)"
         },
         "mode": "lines",
         "type": "scatter",
         "x": [
          112.27199563505202,
          238.2229845250882,
          238.2229845250882,
          149.34833017658838
         ],
         "xaxis": "x",
         "y": [
          -4654.375,
          -4654.375,
          -4727.5,
          -4727.5
         ],
         "yaxis": "y"
        },
        {
         "hoverinfo": "text",
         "marker": {
          "color": "rgb(35,205,205)"
         },
         "mode": "lines",
         "type": "scatter",
         "x": [
          0,
          27.731037462544183,
          27.731037462544183,
          0
         ],
         "xaxis": "x",
         "y": [
          -4775,
          -4775,
          -4785,
          -4785
         ],
         "yaxis": "y"
        },
        {
         "hoverinfo": "text",
         "marker": {
          "color": "rgb(35,205,205)"
         },
         "mode": "lines",
         "type": "scatter",
         "x": [
          0,
          122.97595795241426,
          122.97595795241426,
          27.731037462544183
         ],
         "xaxis": "x",
         "y": [
          -4765,
          -4765,
          -4780,
          -4780
         ],
         "yaxis": "y"
        },
        {
         "hoverinfo": "text",
         "marker": {
          "color": "rgb(35,205,205)"
         },
         "mode": "lines",
         "type": "scatter",
         "x": [
          0,
          10.496934065277381,
          10.496934065277381,
          0
         ],
         "xaxis": "x",
         "y": [
          -4825,
          -4825,
          -4835,
          -4835
         ],
         "yaxis": "y"
        },
        {
         "hoverinfo": "text",
         "marker": {
          "color": "rgb(35,205,205)"
         },
         "mode": "lines",
         "type": "scatter",
         "x": [
          0,
          17.50881673683308,
          17.50881673683308,
          10.496934065277381
         ],
         "xaxis": "x",
         "y": [
          -4815,
          -4815,
          -4830,
          -4830
         ],
         "yaxis": "y"
        },
        {
         "hoverinfo": "text",
         "marker": {
          "color": "rgb(35,205,205)"
         },
         "mode": "lines",
         "type": "scatter",
         "x": [
          0,
          34.21568631656284,
          34.21568631656284,
          17.50881673683308
         ],
         "xaxis": "x",
         "y": [
          -4805,
          -4805,
          -4822.5,
          -4822.5
         ],
         "yaxis": "y"
        },
        {
         "hoverinfo": "text",
         "marker": {
          "color": "rgb(35,205,205)"
         },
         "mode": "lines",
         "type": "scatter",
         "x": [
          0,
          39.421433148837345,
          39.421433148837345,
          0
         ],
         "xaxis": "x",
         "y": [
          -4845,
          -4845,
          -4855,
          -4855
         ],
         "yaxis": "y"
        },
        {
         "hoverinfo": "text",
         "marker": {
          "color": "rgb(35,205,205)"
         },
         "mode": "lines",
         "type": "scatter",
         "x": [
          34.21568631656284,
          89.194266179115,
          89.194266179115,
          39.421433148837345
         ],
         "xaxis": "x",
         "y": [
          -4813.75,
          -4813.75,
          -4850,
          -4850
         ],
         "yaxis": "y"
        },
        {
         "hoverinfo": "text",
         "marker": {
          "color": "rgb(35,205,205)"
         },
         "mode": "lines",
         "type": "scatter",
         "x": [
          0,
          132.41703502802773,
          132.41703502802773,
          89.194266179115
         ],
         "xaxis": "x",
         "y": [
          -4795,
          -4795,
          -4831.875,
          -4831.875
         ],
         "yaxis": "y"
        },
        {
         "hoverinfo": "text",
         "marker": {
          "color": "rgb(35,205,205)"
         },
         "mode": "lines",
         "type": "scatter",
         "x": [
          122.97595795241426,
          273.15610068113216,
          273.15610068113216,
          132.41703502802773
         ],
         "xaxis": "x",
         "y": [
          -4772.5,
          -4772.5,
          -4813.4375,
          -4813.4375
         ],
         "yaxis": "y"
        },
        {
         "hoverinfo": "text",
         "marker": {
          "color": "rgb(35,205,205)"
         },
         "mode": "lines",
         "type": "scatter",
         "x": [
          238.2229845250882,
          346.34851890358084,
          346.34851890358084,
          273.15610068113216
         ],
         "xaxis": "x",
         "y": [
          -4690.9375,
          -4690.9375,
          -4792.96875,
          -4792.96875
         ],
         "yaxis": "y"
        },
        {
         "hoverinfo": "text",
         "marker": {
          "color": "rgb(35,205,205)"
         },
         "mode": "lines",
         "type": "scatter",
         "x": [
          0,
          20.09987537582153,
          20.09987537582153,
          0
         ],
         "xaxis": "x",
         "y": [
          -4885,
          -4885,
          -4895,
          -4895
         ],
         "yaxis": "y"
        },
        {
         "hoverinfo": "text",
         "marker": {
          "color": "rgb(35,205,205)"
         },
         "mode": "lines",
         "type": "scatter",
         "x": [
          0,
          32.71178503233225,
          32.71178503233225,
          20.09987537582153
         ],
         "xaxis": "x",
         "y": [
          -4875,
          -4875,
          -4890,
          -4890
         ],
         "yaxis": "y"
        },
        {
         "hoverinfo": "text",
         "marker": {
          "color": "rgb(35,205,205)"
         },
         "mode": "lines",
         "type": "scatter",
         "x": [
          0,
          38.40590207583477,
          38.40590207583477,
          32.71178503233225
         ],
         "xaxis": "x",
         "y": [
          -4865,
          -4865,
          -4882.5,
          -4882.5
         ],
         "yaxis": "y"
        },
        {
         "hoverinfo": "text",
         "marker": {
          "color": "rgb(35,205,205)"
         },
         "mode": "lines",
         "type": "scatter",
         "x": [
          0,
          11.490736760476908,
          11.490736760476908,
          0
         ],
         "xaxis": "x",
         "y": [
          -4915,
          -4915,
          -4925,
          -4925
         ],
         "yaxis": "y"
        },
        {
         "hoverinfo": "text",
         "marker": {
          "color": "rgb(35,205,205)"
         },
         "mode": "lines",
         "type": "scatter",
         "x": [
          0,
          20.273285994791955,
          20.273285994791955,
          11.490736760476908
         ],
         "xaxis": "x",
         "y": [
          -4905,
          -4905,
          -4920,
          -4920
         ],
         "yaxis": "y"
        },
        {
         "hoverinfo": "text",
         "marker": {
          "color": "rgb(35,205,205)"
         },
         "mode": "lines",
         "type": "scatter",
         "x": [
          0,
          33.121724630144215,
          33.121724630144215,
          0
         ],
         "xaxis": "x",
         "y": [
          -4935,
          -4935,
          -4945,
          -4945
         ],
         "yaxis": "y"
        },
        {
         "hoverinfo": "text",
         "marker": {
          "color": "rgb(35,205,205)"
         },
         "mode": "lines",
         "type": "scatter",
         "x": [
          20.273285994791955,
          49.20418279056079,
          49.20418279056079,
          33.121724630144215
         ],
         "xaxis": "x",
         "y": [
          -4912.5,
          -4912.5,
          -4940,
          -4940
         ],
         "yaxis": "y"
        },
        {
         "hoverinfo": "text",
         "marker": {
          "color": "rgb(35,205,205)"
         },
         "mode": "lines",
         "type": "scatter",
         "x": [
          0,
          32.95451483076428,
          32.95451483076428,
          0
         ],
         "xaxis": "x",
         "y": [
          -4965,
          -4965,
          -4975,
          -4975
         ],
         "yaxis": "y"
        },
        {
         "hoverinfo": "text",
         "marker": {
          "color": "rgb(35,205,205)"
         },
         "mode": "lines",
         "type": "scatter",
         "x": [
          0,
          52.239913616150254,
          52.239913616150254,
          32.95451483076428
         ],
         "xaxis": "x",
         "y": [
          -4955,
          -4955,
          -4970,
          -4970
         ],
         "yaxis": "y"
        },
        {
         "hoverinfo": "text",
         "marker": {
          "color": "rgb(35,205,205)"
         },
         "mode": "lines",
         "type": "scatter",
         "x": [
          49.20418279056079,
          103.98558289437476,
          103.98558289437476,
          52.239913616150254
         ],
         "xaxis": "x",
         "y": [
          -4926.25,
          -4926.25,
          -4962.5,
          -4962.5
         ],
         "yaxis": "y"
        },
        {
         "hoverinfo": "text",
         "marker": {
          "color": "rgb(35,205,205)"
         },
         "mode": "lines",
         "type": "scatter",
         "x": [
          38.40590207583477,
          156.4452206744067,
          156.4452206744067,
          103.98558289437476
         ],
         "xaxis": "x",
         "y": [
          -4873.75,
          -4873.75,
          -4944.375,
          -4944.375
         ],
         "yaxis": "y"
        },
        {
         "hoverinfo": "text",
         "marker": {
          "color": "rgb(35,205,205)"
         },
         "mode": "lines",
         "type": "scatter",
         "x": [
          0,
          8.366628780759234,
          8.366628780759234,
          0
         ],
         "xaxis": "x",
         "y": [
          -4995,
          -4995,
          -5005,
          -5005
         ],
         "yaxis": "y"
        },
        {
         "hoverinfo": "text",
         "marker": {
          "color": "rgb(35,205,205)"
         },
         "mode": "lines",
         "type": "scatter",
         "x": [
          0,
          17.720045848071585,
          17.720045848071585,
          8.366628780759234
         ],
         "xaxis": "x",
         "y": [
          -4985,
          -4985,
          -5000,
          -5000
         ],
         "yaxis": "y"
        },
        {
         "hoverinfo": "text",
         "marker": {
          "color": "rgb(35,205,205)"
         },
         "mode": "lines",
         "type": "scatter",
         "x": [
          0,
          19.89976045497927,
          19.89976045497927,
          0
         ],
         "xaxis": "x",
         "y": [
          -5025,
          -5025,
          -5035,
          -5035
         ],
         "yaxis": "y"
        },
        {
         "hoverinfo": "text",
         "marker": {
          "color": "rgb(35,205,205)"
         },
         "mode": "lines",
         "type": "scatter",
         "x": [
          0,
          45.088817905199,
          45.088817905199,
          19.89976045497927
         ],
         "xaxis": "x",
         "y": [
          -5015,
          -5015,
          -5030,
          -5030
         ],
         "yaxis": "y"
        },
        {
         "hoverinfo": "text",
         "marker": {
          "color": "rgb(35,205,205)"
         },
         "mode": "lines",
         "type": "scatter",
         "x": [
          17.720045848071585,
          46.88283742732796,
          46.88283742732796,
          45.088817905199
         ],
         "xaxis": "x",
         "y": [
          -4992.5,
          -4992.5,
          -5022.5,
          -5022.5
         ],
         "yaxis": "y"
        },
        {
         "hoverinfo": "text",
         "marker": {
          "color": "rgb(35,205,205)"
         },
         "mode": "lines",
         "type": "scatter",
         "x": [
          0,
          3.6062875837411417,
          3.6062875837411417,
          0
         ],
         "xaxis": "x",
         "y": [
          -5065,
          -5065,
          -5075,
          -5075
         ],
         "yaxis": "y"
        },
        {
         "hoverinfo": "text",
         "marker": {
          "color": "rgb(35,205,205)"
         },
         "mode": "lines",
         "type": "scatter",
         "x": [
          0,
          16.248097902380742,
          16.248097902380742,
          3.6062875837411417
         ],
         "xaxis": "x",
         "y": [
          -5055,
          -5055,
          -5070,
          -5070
         ],
         "yaxis": "y"
        },
        {
         "hoverinfo": "text",
         "marker": {
          "color": "rgb(35,205,205)"
         },
         "mode": "lines",
         "type": "scatter",
         "x": [
          0,
          22.671669932963724,
          22.671669932963724,
          16.248097902380742
         ],
         "xaxis": "x",
         "y": [
          -5045,
          -5045,
          -5062.5,
          -5062.5
         ],
         "yaxis": "y"
        },
        {
         "hoverinfo": "text",
         "marker": {
          "color": "rgb(35,205,205)"
         },
         "mode": "lines",
         "type": "scatter",
         "x": [
          0,
          11.35789984599464,
          11.35789984599464,
          0
         ],
         "xaxis": "x",
         "y": [
          -5085,
          -5085,
          -5095,
          -5095
         ],
         "yaxis": "y"
        },
        {
         "hoverinfo": "text",
         "marker": {
          "color": "rgb(35,205,205)"
         },
         "mode": "lines",
         "type": "scatter",
         "x": [
          0,
          9.434257716502364,
          9.434257716502364,
          0
         ],
         "xaxis": "x",
         "y": [
          -5115,
          -5115,
          -5125,
          -5125
         ],
         "yaxis": "y"
        },
        {
         "hoverinfo": "text",
         "marker": {
          "color": "rgb(35,205,205)"
         },
         "mode": "lines",
         "type": "scatter",
         "x": [
          0,
          16.52302907777041,
          16.52302907777041,
          9.434257716502364
         ],
         "xaxis": "x",
         "y": [
          -5105,
          -5105,
          -5120,
          -5120
         ],
         "yaxis": "y"
        },
        {
         "hoverinfo": "text",
         "marker": {
          "color": "rgb(35,205,205)"
         },
         "mode": "lines",
         "type": "scatter",
         "x": [
          11.35789984599464,
          27.586287092150176,
          27.586287092150176,
          16.52302907777041
         ],
         "xaxis": "x",
         "y": [
          -5090,
          -5090,
          -5112.5,
          -5112.5
         ],
         "yaxis": "y"
        },
        {
         "hoverinfo": "text",
         "marker": {
          "color": "rgb(35,205,205)"
         },
         "mode": "lines",
         "type": "scatter",
         "x": [
          22.671669932963724,
          52.40230016028393,
          52.40230016028393,
          27.586287092150176
         ],
         "xaxis": "x",
         "y": [
          -5053.75,
          -5053.75,
          -5101.25,
          -5101.25
         ],
         "yaxis": "y"
        },
        {
         "hoverinfo": "text",
         "marker": {
          "color": "rgb(35,205,205)"
         },
         "mode": "lines",
         "type": "scatter",
         "x": [
          46.88283742732796,
          83.5524623918762,
          83.5524623918762,
          52.40230016028393
         ],
         "xaxis": "x",
         "y": [
          -5007.5,
          -5007.5,
          -5077.5,
          -5077.5
         ],
         "yaxis": "y"
        },
        {
         "hoverinfo": "text",
         "marker": {
          "color": "rgb(35,205,205)"
         },
         "mode": "lines",
         "type": "scatter",
         "x": [
          0,
          6.930423743987372,
          6.930423743987372,
          0
         ],
         "xaxis": "x",
         "y": [
          -5155,
          -5155,
          -5165,
          -5165
         ],
         "yaxis": "y"
        },
        {
         "hoverinfo": "text",
         "marker": {
          "color": "rgb(35,205,205)"
         },
         "mode": "lines",
         "type": "scatter",
         "x": [
          0,
          17.49296680895244,
          17.49296680895244,
          6.930423743987372
         ],
         "xaxis": "x",
         "y": [
          -5145,
          -5145,
          -5160,
          -5160
         ],
         "yaxis": "y"
        },
        {
         "hoverinfo": "text",
         "marker": {
          "color": "rgb(35,205,205)"
         },
         "mode": "lines",
         "type": "scatter",
         "x": [
          0,
          18.548827643671057,
          18.548827643671057,
          17.49296680895244
         ],
         "xaxis": "x",
         "y": [
          -5135,
          -5135,
          -5152.5,
          -5152.5
         ],
         "yaxis": "y"
        },
        {
         "hoverinfo": "text",
         "marker": {
          "color": "rgb(35,205,205)"
         },
         "mode": "lines",
         "type": "scatter",
         "x": [
          0,
          12.247689633290543,
          12.247689633290543,
          0
         ],
         "xaxis": "x",
         "y": [
          -5185,
          -5185,
          -5195,
          -5195
         ],
         "yaxis": "y"
        },
        {
         "hoverinfo": "text",
         "marker": {
          "color": "rgb(35,205,205)"
         },
         "mode": "lines",
         "type": "scatter",
         "x": [
          0,
          21.470945581830065,
          21.470945581830065,
          12.247689633290543
         ],
         "xaxis": "x",
         "y": [
          -5175,
          -5175,
          -5190,
          -5190
         ],
         "yaxis": "y"
        },
        {
         "hoverinfo": "text",
         "marker": {
          "color": "rgb(35,205,205)"
         },
         "mode": "lines",
         "type": "scatter",
         "x": [
          0,
          10.19813227359977,
          10.19813227359977,
          0
         ],
         "xaxis": "x",
         "y": [
          -5205,
          -5205,
          -5215,
          -5215
         ],
         "yaxis": "y"
        },
        {
         "hoverinfo": "text",
         "marker": {
          "color": "rgb(35,205,205)"
         },
         "mode": "lines",
         "type": "scatter",
         "x": [
          0,
          13.965295345920474,
          13.965295345920474,
          0
         ],
         "xaxis": "x",
         "y": [
          -5225,
          -5225,
          -5235,
          -5235
         ],
         "yaxis": "y"
        },
        {
         "hoverinfo": "text",
         "marker": {
          "color": "rgb(35,205,205)"
         },
         "mode": "lines",
         "type": "scatter",
         "x": [
          10.19813227359977,
          28.91366633815101,
          28.91366633815101,
          13.965295345920474
         ],
         "xaxis": "x",
         "y": [
          -5210,
          -5210,
          -5230,
          -5230
         ],
         "yaxis": "y"
        },
        {
         "hoverinfo": "text",
         "marker": {
          "color": "rgb(35,205,205)"
         },
         "mode": "lines",
         "type": "scatter",
         "x": [
          21.470945581830065,
          48.87742930350474,
          48.87742930350474,
          28.91366633815101
         ],
         "xaxis": "x",
         "y": [
          -5182.5,
          -5182.5,
          -5220,
          -5220
         ],
         "yaxis": "y"
        },
        {
         "hoverinfo": "text",
         "marker": {
          "color": "rgb(35,205,205)"
         },
         "mode": "lines",
         "type": "scatter",
         "x": [
          18.548827643671057,
          59.13543997511253,
          59.13543997511253,
          48.87742930350474
         ],
         "xaxis": "x",
         "y": [
          -5143.75,
          -5143.75,
          -5201.25,
          -5201.25
         ],
         "yaxis": "y"
        },
        {
         "hoverinfo": "text",
         "marker": {
          "color": "rgb(35,205,205)"
         },
         "mode": "lines",
         "type": "scatter",
         "x": [
          0,
          6.708275884546589,
          6.708275884546589,
          0
         ],
         "xaxis": "x",
         "y": [
          -5265,
          -5265,
          -5275,
          -5275
         ],
         "yaxis": "y"
        },
        {
         "hoverinfo": "text",
         "marker": {
          "color": "rgb(35,205,205)"
         },
         "mode": "lines",
         "type": "scatter",
         "x": [
          0,
          19.950082352284095,
          19.950082352284095,
          6.708275884546589
         ],
         "xaxis": "x",
         "y": [
          -5255,
          -5255,
          -5270,
          -5270
         ],
         "yaxis": "y"
        },
        {
         "hoverinfo": "text",
         "marker": {
          "color": "rgb(35,205,205)"
         },
         "mode": "lines",
         "type": "scatter",
         "x": [
          0,
          54.598535677113716,
          54.598535677113716,
          19.950082352284095
         ],
         "xaxis": "x",
         "y": [
          -5245,
          -5245,
          -5262.5,
          -5262.5
         ],
         "yaxis": "y"
        },
        {
         "hoverinfo": "text",
         "marker": {
          "color": "rgb(35,205,205)"
         },
         "mode": "lines",
         "type": "scatter",
         "x": [
          0,
          19.646913244529852,
          19.646913244529852,
          0
         ],
         "xaxis": "x",
         "y": [
          -5295,
          -5295,
          -5305,
          -5305
         ],
         "yaxis": "y"
        },
        {
         "hoverinfo": "text",
         "marker": {
          "color": "rgb(35,205,205)"
         },
         "mode": "lines",
         "type": "scatter",
         "x": [
          0,
          17.465071112371525,
          17.465071112371525,
          0
         ],
         "xaxis": "x",
         "y": [
          -5325,
          -5325,
          -5335,
          -5335
         ],
         "yaxis": "y"
        },
        {
         "hoverinfo": "text",
         "marker": {
          "color": "rgb(35,205,205)"
         },
         "mode": "lines",
         "type": "scatter",
         "x": [
          0,
          29.1552810544669,
          29.1552810544669,
          17.465071112371525
         ],
         "xaxis": "x",
         "y": [
          -5315,
          -5315,
          -5330,
          -5330
         ],
         "yaxis": "y"
        },
        {
         "hoverinfo": "text",
         "marker": {
          "color": "rgb(35,205,205)"
         },
         "mode": "lines",
         "type": "scatter",
         "x": [
          19.646913244529852,
          35.07140655102561,
          35.07140655102561,
          29.1552810544669
         ],
         "xaxis": "x",
         "y": [
          -5300,
          -5300,
          -5322.5,
          -5322.5
         ],
         "yaxis": "y"
        },
        {
         "hoverinfo": "text",
         "marker": {
          "color": "rgb(35,205,205)"
         },
         "mode": "lines",
         "type": "scatter",
         "x": [
          0,
          54.63515529181628,
          54.63515529181628,
          35.07140655102561
         ],
         "xaxis": "x",
         "y": [
          -5285,
          -5285,
          -5311.25,
          -5311.25
         ],
         "yaxis": "y"
        },
        {
         "hoverinfo": "text",
         "marker": {
          "color": "rgb(35,205,205)"
         },
         "mode": "lines",
         "type": "scatter",
         "x": [
          54.598535677113716,
          79.42923128717516,
          79.42923128717516,
          54.63515529181628
         ],
         "xaxis": "x",
         "y": [
          -5253.75,
          -5253.75,
          -5298.125,
          -5298.125
         ],
         "yaxis": "y"
        },
        {
         "hoverinfo": "text",
         "marker": {
          "color": "rgb(35,205,205)"
         },
         "mode": "lines",
         "type": "scatter",
         "x": [
          59.13543997511253,
          105.34705641882357,
          105.34705641882357,
          79.42923128717516
         ],
         "xaxis": "x",
         "y": [
          -5172.5,
          -5172.5,
          -5275.9375,
          -5275.9375
         ],
         "yaxis": "y"
        },
        {
         "hoverinfo": "text",
         "marker": {
          "color": "rgb(35,205,205)"
         },
         "mode": "lines",
         "type": "scatter",
         "x": [
          83.5524623918762,
          197.85616261942397,
          197.85616261942397,
          105.34705641882357
         ],
         "xaxis": "x",
         "y": [
          -5042.5,
          -5042.5,
          -5224.21875,
          -5224.21875
         ],
         "yaxis": "y"
        },
        {
         "hoverinfo": "text",
         "marker": {
          "color": "rgb(35,205,205)"
         },
         "mode": "lines",
         "type": "scatter",
         "x": [
          156.4452206744067,
          230.56911295640884,
          230.56911295640884,
          197.85616261942397
         ],
         "xaxis": "x",
         "y": [
          -4909.0625,
          -4909.0625,
          -5133.359375,
          -5133.359375
         ],
         "yaxis": "y"
        },
        {
         "hoverinfo": "text",
         "marker": {
          "color": "rgb(35,205,205)"
         },
         "mode": "lines",
         "type": "scatter",
         "x": [
          0,
          7.071190270463794,
          7.071190270463794,
          0
         ],
         "xaxis": "x",
         "y": [
          -5355,
          -5355,
          -5365,
          -5365
         ],
         "yaxis": "y"
        },
        {
         "hoverinfo": "text",
         "marker": {
          "color": "rgb(35,205,205)"
         },
         "mode": "lines",
         "type": "scatter",
         "x": [
          0,
          15.000179910471905,
          15.000179910471905,
          7.071190270463794
         ],
         "xaxis": "x",
         "y": [
          -5345,
          -5345,
          -5360,
          -5360
         ],
         "yaxis": "y"
        },
        {
         "hoverinfo": "text",
         "marker": {
          "color": "rgb(35,205,205)"
         },
         "mode": "lines",
         "type": "scatter",
         "x": [
          0,
          7.494705700117608,
          7.494705700117608,
          0
         ],
         "xaxis": "x",
         "y": [
          -5385,
          -5385,
          -5395,
          -5395
         ],
         "yaxis": "y"
        },
        {
         "hoverinfo": "text",
         "marker": {
          "color": "rgb(35,205,205)"
         },
         "mode": "lines",
         "type": "scatter",
         "x": [
          0,
          18.49722070856134,
          18.49722070856134,
          7.494705700117608
         ],
         "xaxis": "x",
         "y": [
          -5375,
          -5375,
          -5390,
          -5390
         ],
         "yaxis": "y"
        },
        {
         "hoverinfo": "text",
         "marker": {
          "color": "rgb(35,205,205)"
         },
         "mode": "lines",
         "type": "scatter",
         "x": [
          15.000179910471905,
          36.891739202540556,
          36.891739202540556,
          18.49722070856134
         ],
         "xaxis": "x",
         "y": [
          -5352.5,
          -5352.5,
          -5382.5,
          -5382.5
         ],
         "yaxis": "y"
        },
        {
         "hoverinfo": "text",
         "marker": {
          "color": "rgb(35,205,205)"
         },
         "mode": "lines",
         "type": "scatter",
         "x": [
          0,
          6.167030930702777,
          6.167030930702777,
          0
         ],
         "xaxis": "x",
         "y": [
          -5415,
          -5415,
          -5425,
          -5425
         ],
         "yaxis": "y"
        },
        {
         "hoverinfo": "text",
         "marker": {
          "color": "rgb(35,205,205)"
         },
         "mode": "lines",
         "type": "scatter",
         "x": [
          0,
          21.470926301663518,
          21.470926301663518,
          6.167030930702777
         ],
         "xaxis": "x",
         "y": [
          -5405,
          -5405,
          -5420,
          -5420
         ],
         "yaxis": "y"
        },
        {
         "hoverinfo": "text",
         "marker": {
          "color": "rgb(35,205,205)"
         },
         "mode": "lines",
         "type": "scatter",
         "x": [
          0,
          6.164448175355986,
          6.164448175355986,
          0
         ],
         "xaxis": "x",
         "y": [
          -5445,
          -5445,
          -5455,
          -5455
         ],
         "yaxis": "y"
        },
        {
         "hoverinfo": "text",
         "marker": {
          "color": "rgb(35,205,205)"
         },
         "mode": "lines",
         "type": "scatter",
         "x": [
          0,
          8.835948623650191,
          8.835948623650191,
          0
         ],
         "xaxis": "x",
         "y": [
          -5475,
          -5475,
          -5485,
          -5485
         ],
         "yaxis": "y"
        },
        {
         "hoverinfo": "text",
         "marker": {
          "color": "rgb(35,205,205)"
         },
         "mode": "lines",
         "type": "scatter",
         "x": [
          0,
          10.440349527243027,
          10.440349527243027,
          8.835948623650191
         ],
         "xaxis": "x",
         "y": [
          -5465,
          -5465,
          -5480,
          -5480
         ],
         "yaxis": "y"
        },
        {
         "hoverinfo": "text",
         "marker": {
          "color": "rgb(35,205,205)"
         },
         "mode": "lines",
         "type": "scatter",
         "x": [
          6.164448175355986,
          15.780017374084421,
          15.780017374084421,
          10.440349527243027
         ],
         "xaxis": "x",
         "y": [
          -5450,
          -5450,
          -5472.5,
          -5472.5
         ],
         "yaxis": "y"
        },
        {
         "hoverinfo": "text",
         "marker": {
          "color": "rgb(35,205,205)"
         },
         "mode": "lines",
         "type": "scatter",
         "x": [
          0,
          28.60074284518064,
          28.60074284518064,
          15.780017374084421
         ],
         "xaxis": "x",
         "y": [
          -5435,
          -5435,
          -5461.25,
          -5461.25
         ],
         "yaxis": "y"
        },
        {
         "hoverinfo": "text",
         "marker": {
          "color": "rgb(35,205,205)"
         },
         "mode": "lines",
         "type": "scatter",
         "x": [
          21.470926301663518,
          38.32762821852987,
          38.32762821852987,
          28.60074284518064
         ],
         "xaxis": "x",
         "y": [
          -5412.5,
          -5412.5,
          -5448.125,
          -5448.125
         ],
         "yaxis": "y"
        },
        {
         "hoverinfo": "text",
         "marker": {
          "color": "rgb(35,205,205)"
         },
         "mode": "lines",
         "type": "scatter",
         "x": [
          36.891739202540556,
          59.068221332478174,
          59.068221332478174,
          38.32762821852987
         ],
         "xaxis": "x",
         "y": [
          -5367.5,
          -5367.5,
          -5430.3125,
          -5430.3125
         ],
         "yaxis": "y"
        },
        {
         "hoverinfo": "text",
         "marker": {
          "color": "rgb(35,205,205)"
         },
         "mode": "lines",
         "type": "scatter",
         "x": [
          0,
          20.493922754799797,
          20.493922754799797,
          0
         ],
         "xaxis": "x",
         "y": [
          -5505,
          -5505,
          -5515,
          -5515
         ],
         "yaxis": "y"
        },
        {
         "hoverinfo": "text",
         "marker": {
          "color": "rgb(35,205,205)"
         },
         "mode": "lines",
         "type": "scatter",
         "x": [
          0,
          43.97771113191017,
          43.97771113191017,
          20.493922754799797
         ],
         "xaxis": "x",
         "y": [
          -5495,
          -5495,
          -5510,
          -5510
         ],
         "yaxis": "y"
        },
        {
         "hoverinfo": "text",
         "marker": {
          "color": "rgb(35,205,205)"
         },
         "mode": "lines",
         "type": "scatter",
         "x": [
          0,
          19.442243193801954,
          19.442243193801954,
          0
         ],
         "xaxis": "x",
         "y": [
          -5525,
          -5525,
          -5535,
          -5535
         ],
         "yaxis": "y"
        },
        {
         "hoverinfo": "text",
         "marker": {
          "color": "rgb(35,205,205)"
         },
         "mode": "lines",
         "type": "scatter",
         "x": [
          0,
          9.96069452042144,
          9.96069452042144,
          0
         ],
         "xaxis": "x",
         "y": [
          -5555,
          -5555,
          -5565,
          -5565
         ],
         "yaxis": "y"
        },
        {
         "hoverinfo": "text",
         "marker": {
          "color": "rgb(35,205,205)"
         },
         "mode": "lines",
         "type": "scatter",
         "x": [
          0,
          3.3243849762496236,
          3.3243849762496236,
          0
         ],
         "xaxis": "x",
         "y": [
          -5585,
          -5585,
          -5595,
          -5595
         ],
         "yaxis": "y"
        },
        {
         "hoverinfo": "text",
         "marker": {
          "color": "rgb(35,205,205)"
         },
         "mode": "lines",
         "type": "scatter",
         "x": [
          0,
          16.031846047344665,
          16.031846047344665,
          3.3243849762496236
         ],
         "xaxis": "x",
         "y": [
          -5575,
          -5575,
          -5590,
          -5590
         ],
         "yaxis": "y"
        },
        {
         "hoverinfo": "text",
         "marker": {
          "color": "rgb(35,205,205)"
         },
         "mode": "lines",
         "type": "scatter",
         "x": [
          9.96069452042144,
          19.899842068658003,
          19.899842068658003,
          16.031846047344665
         ],
         "xaxis": "x",
         "y": [
          -5560,
          -5560,
          -5582.5,
          -5582.5
         ],
         "yaxis": "y"
        },
        {
         "hoverinfo": "text",
         "marker": {
          "color": "rgb(35,205,205)"
         },
         "mode": "lines",
         "type": "scatter",
         "x": [
          0,
          28.620951528333677,
          28.620951528333677,
          19.899842068658003
         ],
         "xaxis": "x",
         "y": [
          -5545,
          -5545,
          -5571.25,
          -5571.25
         ],
         "yaxis": "y"
        },
        {
         "hoverinfo": "text",
         "marker": {
          "color": "rgb(35,205,205)"
         },
         "mode": "lines",
         "type": "scatter",
         "x": [
          19.442243193801954,
          45.75008540185197,
          45.75008540185197,
          28.620951528333677
         ],
         "xaxis": "x",
         "y": [
          -5530,
          -5530,
          -5558.125,
          -5558.125
         ],
         "yaxis": "y"
        },
        {
         "hoverinfo": "text",
         "marker": {
          "color": "rgb(35,205,205)"
         },
         "mode": "lines",
         "type": "scatter",
         "x": [
          43.97771113191017,
          84.22600708835213,
          84.22600708835213,
          45.75008540185197
         ],
         "xaxis": "x",
         "y": [
          -5502.5,
          -5502.5,
          -5544.0625,
          -5544.0625
         ],
         "yaxis": "y"
        },
        {
         "hoverinfo": "text",
         "marker": {
          "color": "rgb(35,205,205)"
         },
         "mode": "lines",
         "type": "scatter",
         "x": [
          59.068221332478174,
          102.60434558421491,
          102.60434558421491,
          84.22600708835213
         ],
         "xaxis": "x",
         "y": [
          -5398.90625,
          -5398.90625,
          -5523.28125,
          -5523.28125
         ],
         "yaxis": "y"
        },
        {
         "hoverinfo": "text",
         "marker": {
          "color": "rgb(35,205,205)"
         },
         "mode": "lines",
         "type": "scatter",
         "x": [
          0,
          12.248888816820205,
          12.248888816820205,
          0
         ],
         "xaxis": "x",
         "y": [
          -5605,
          -5605,
          -5615,
          -5615
         ],
         "yaxis": "y"
        },
        {
         "hoverinfo": "text",
         "marker": {
          "color": "rgb(35,205,205)"
         },
         "mode": "lines",
         "type": "scatter",
         "x": [
          0,
          60.17526299736303,
          60.17526299736303,
          0
         ],
         "xaxis": "x",
         "y": [
          -5625,
          -5625,
          -5635,
          -5635
         ],
         "yaxis": "y"
        },
        {
         "hoverinfo": "text",
         "marker": {
          "color": "rgb(35,205,205)"
         },
         "mode": "lines",
         "type": "scatter",
         "x": [
          12.248888816820205,
          117.47905425330507,
          117.47905425330507,
          60.17526299736303
         ],
         "xaxis": "x",
         "y": [
          -5610,
          -5610,
          -5630,
          -5630
         ],
         "yaxis": "y"
        },
        {
         "hoverinfo": "text",
         "marker": {
          "color": "rgb(35,205,205)"
         },
         "mode": "lines",
         "type": "scatter",
         "x": [
          0,
          35.86146953463593,
          35.86146953463593,
          0
         ],
         "xaxis": "x",
         "y": [
          -5655,
          -5655,
          -5665,
          -5665
         ],
         "yaxis": "y"
        },
        {
         "hoverinfo": "text",
         "marker": {
          "color": "rgb(35,205,205)"
         },
         "mode": "lines",
         "type": "scatter",
         "x": [
          0,
          71.4496995791005,
          71.4496995791005,
          35.86146953463593
         ],
         "xaxis": "x",
         "y": [
          -5645,
          -5645,
          -5660,
          -5660
         ],
         "yaxis": "y"
        },
        {
         "hoverinfo": "text",
         "marker": {
          "color": "rgb(35,205,205)"
         },
         "mode": "lines",
         "type": "scatter",
         "x": [
          0,
          13.038408637068748,
          13.038408637068748,
          0
         ],
         "xaxis": "x",
         "y": [
          -5685,
          -5685,
          -5695,
          -5695
         ],
         "yaxis": "y"
        },
        {
         "hoverinfo": "text",
         "marker": {
          "color": "rgb(35,205,205)"
         },
         "mode": "lines",
         "type": "scatter",
         "x": [
          0,
          17.578410624711676,
          17.578410624711676,
          0
         ],
         "xaxis": "x",
         "y": [
          -5705,
          -5705,
          -5715,
          -5715
         ],
         "yaxis": "y"
        },
        {
         "hoverinfo": "text",
         "marker": {
          "color": "rgb(35,205,205)"
         },
         "mode": "lines",
         "type": "scatter",
         "x": [
          13.038408637068748,
          33.43667766921638,
          33.43667766921638,
          17.578410624711676
         ],
         "xaxis": "x",
         "y": [
          -5690,
          -5690,
          -5710,
          -5710
         ],
         "yaxis": "y"
        },
        {
         "hoverinfo": "text",
         "marker": {
          "color": "rgb(35,205,205)"
         },
         "mode": "lines",
         "type": "scatter",
         "x": [
          0,
          53.49878997662391,
          53.49878997662391,
          33.43667766921638
         ],
         "xaxis": "x",
         "y": [
          -5675,
          -5675,
          -5700,
          -5700
         ],
         "yaxis": "y"
        },
        {
         "hoverinfo": "text",
         "marker": {
          "color": "rgb(35,205,205)"
         },
         "mode": "lines",
         "type": "scatter",
         "x": [
          0,
          10.049879406600228,
          10.049879406600228,
          0
         ],
         "xaxis": "x",
         "y": [
          -5735,
          -5735,
          -5745,
          -5745
         ],
         "yaxis": "y"
        },
        {
         "hoverinfo": "text",
         "marker": {
          "color": "rgb(35,205,205)"
         },
         "mode": "lines",
         "type": "scatter",
         "x": [
          0,
          15.362744054318458,
          15.362744054318458,
          10.049879406600228
         ],
         "xaxis": "x",
         "y": [
          -5725,
          -5725,
          -5740,
          -5740
         ],
         "yaxis": "y"
        },
        {
         "hoverinfo": "text",
         "marker": {
          "color": "rgb(35,205,205)"
         },
         "mode": "lines",
         "type": "scatter",
         "x": [
          0,
          11.789836829385093,
          11.789836829385093,
          0
         ],
         "xaxis": "x",
         "y": [
          -5765,
          -5765,
          -5775,
          -5775
         ],
         "yaxis": "y"
        },
        {
         "hoverinfo": "text",
         "marker": {
          "color": "rgb(35,205,205)"
         },
         "mode": "lines",
         "type": "scatter",
         "x": [
          0,
          20.125155851988843,
          20.125155851988843,
          11.789836829385093
         ],
         "xaxis": "x",
         "y": [
          -5755,
          -5755,
          -5770,
          -5770
         ],
         "yaxis": "y"
        },
        {
         "hoverinfo": "text",
         "marker": {
          "color": "rgb(35,205,205)"
         },
         "mode": "lines",
         "type": "scatter",
         "x": [
          15.362744054318458,
          24.659936208948697,
          24.659936208948697,
          20.125155851988843
         ],
         "xaxis": "x",
         "y": [
          -5732.5,
          -5732.5,
          -5762.5,
          -5762.5
         ],
         "yaxis": "y"
        },
        {
         "hoverinfo": "text",
         "marker": {
          "color": "rgb(35,205,205)"
         },
         "mode": "lines",
         "type": "scatter",
         "x": [
          0,
          4.243873919133777,
          4.243873919133777,
          0
         ],
         "xaxis": "x",
         "y": [
          -5795,
          -5795,
          -5805,
          -5805
         ],
         "yaxis": "y"
        },
        {
         "hoverinfo": "text",
         "marker": {
          "color": "rgb(35,205,205)"
         },
         "mode": "lines",
         "type": "scatter",
         "x": [
          0,
          12.76773647607213,
          12.76773647607213,
          4.243873919133777
         ],
         "xaxis": "x",
         "y": [
          -5785,
          -5785,
          -5800,
          -5800
         ],
         "yaxis": "y"
        },
        {
         "hoverinfo": "text",
         "marker": {
          "color": "rgb(35,205,205)"
         },
         "mode": "lines",
         "type": "scatter",
         "x": [
          0,
          4.12374318557969,
          4.12374318557969,
          0
         ],
         "xaxis": "x",
         "y": [
          -5825,
          -5825,
          -5835,
          -5835
         ],
         "yaxis": "y"
        },
        {
         "hoverinfo": "text",
         "marker": {
          "color": "rgb(35,205,205)"
         },
         "mode": "lines",
         "type": "scatter",
         "x": [
          0,
          12.689238997450722,
          12.689238997450722,
          4.12374318557969
         ],
         "xaxis": "x",
         "y": [
          -5815,
          -5815,
          -5830,
          -5830
         ],
         "yaxis": "y"
        },
        {
         "hoverinfo": "text",
         "marker": {
          "color": "rgb(35,205,205)"
         },
         "mode": "lines",
         "type": "scatter",
         "x": [
          0,
          14.799241613173404,
          14.799241613173404,
          0
         ],
         "xaxis": "x",
         "y": [
          -5845,
          -5845,
          -5855,
          -5855
         ],
         "yaxis": "y"
        },
        {
         "hoverinfo": "text",
         "marker": {
          "color": "rgb(35,205,205)"
         },
         "mode": "lines",
         "type": "scatter",
         "x": [
          12.689238997450722,
          20.347283418859334,
          20.347283418859334,
          14.799241613173404
         ],
         "xaxis": "x",
         "y": [
          -5822.5,
          -5822.5,
          -5850,
          -5850
         ],
         "yaxis": "y"
        },
        {
         "hoverinfo": "text",
         "marker": {
          "color": "rgb(35,205,205)"
         },
         "mode": "lines",
         "type": "scatter",
         "x": [
          12.76773647607213,
          33.286952898566526,
          33.286952898566526,
          20.347283418859334
         ],
         "xaxis": "x",
         "y": [
          -5792.5,
          -5792.5,
          -5836.25,
          -5836.25
         ],
         "yaxis": "y"
        },
        {
         "hoverinfo": "text",
         "marker": {
          "color": "rgb(35,205,205)"
         },
         "mode": "lines",
         "type": "scatter",
         "x": [
          24.659936208948697,
          55.30839899652414,
          55.30839899652414,
          33.286952898566526
         ],
         "xaxis": "x",
         "y": [
          -5747.5,
          -5747.5,
          -5814.375,
          -5814.375
         ],
         "yaxis": "y"
        },
        {
         "hoverinfo": "text",
         "marker": {
          "color": "rgb(35,205,205)"
         },
         "mode": "lines",
         "type": "scatter",
         "x": [
          53.49878997662391,
          96.5040347902571,
          96.5040347902571,
          55.30839899652414
         ],
         "xaxis": "x",
         "y": [
          -5687.5,
          -5687.5,
          -5780.9375,
          -5780.9375
         ],
         "yaxis": "y"
        },
        {
         "hoverinfo": "text",
         "marker": {
          "color": "rgb(35,205,205)"
         },
         "mode": "lines",
         "type": "scatter",
         "x": [
          71.4496995791005,
          117.74988568981763,
          117.74988568981763,
          96.5040347902571
         ],
         "xaxis": "x",
         "y": [
          -5652.5,
          -5652.5,
          -5734.21875,
          -5734.21875
         ],
         "yaxis": "y"
        },
        {
         "hoverinfo": "text",
         "marker": {
          "color": "rgb(35,205,205)"
         },
         "mode": "lines",
         "type": "scatter",
         "x": [
          117.47905425330507,
          173.1968201903263,
          173.1968201903263,
          117.74988568981763
         ],
         "xaxis": "x",
         "y": [
          -5620,
          -5620,
          -5693.359375,
          -5693.359375
         ],
         "yaxis": "y"
        },
        {
         "hoverinfo": "text",
         "marker": {
          "color": "rgb(35,205,205)"
         },
         "mode": "lines",
         "type": "scatter",
         "x": [
          102.60434558421491,
          239.00837055206856,
          239.00837055206856,
          173.1968201903263
         ],
         "xaxis": "x",
         "y": [
          -5461.09375,
          -5461.09375,
          -5656.6796875,
          -5656.6796875
         ],
         "yaxis": "y"
        },
        {
         "hoverinfo": "text",
         "marker": {
          "color": "rgb(35,205,205)"
         },
         "mode": "lines",
         "type": "scatter",
         "x": [
          230.56911295640884,
          374.64061122384027,
          374.64061122384027,
          239.00837055206856
         ],
         "xaxis": "x",
         "y": [
          -5021.2109375,
          -5021.2109375,
          -5558.88671875,
          -5558.88671875
         ],
         "yaxis": "y"
        },
        {
         "hoverinfo": "text",
         "marker": {
          "color": "rgb(35,205,205)"
         },
         "mode": "lines",
         "type": "scatter",
         "x": [
          346.34851890358084,
          582.6336817403997,
          582.6336817403997,
          374.64061122384027
         ],
         "xaxis": "x",
         "y": [
          -4741.953125,
          -4741.953125,
          -5290.048828125,
          -5290.048828125
         ],
         "yaxis": "y"
        },
        {
         "hoverinfo": "text",
         "marker": {
          "color": "rgb(35,205,205)"
         },
         "mode": "lines",
         "type": "scatter",
         "x": [
          321.0101570033237,
          996.7079244430562,
          996.7079244430562,
          582.6336817403997
         ],
         "xaxis": "x",
         "y": [
          -4593.75,
          -4593.75,
          -5016.0009765625,
          -5016.0009765625
         ],
         "yaxis": "y"
        },
        {
         "hoverinfo": "text",
         "marker": {
          "color": "rgb(35,205,205)"
         },
         "mode": "lines",
         "type": "scatter",
         "x": [
          810.1097654555098,
          1016.5532786856214,
          1016.5532786856214,
          996.7079244430562
         ],
         "xaxis": "x",
         "y": [
          -3300.19775390625,
          -3300.19775390625,
          -4804.87548828125,
          -4804.87548828125
         ],
         "yaxis": "y"
        },
        {
         "hoverinfo": "text",
         "marker": {
          "color": "rgb(0,116,217)"
         },
         "mode": "lines",
         "type": "scatter",
         "x": [
          675.4635460326696,
          1394.212343413841,
          1394.212343413841,
          1016.5532786856214
         ],
         "xaxis": "x",
         "y": [
          -1292.3095703125,
          -1292.3095703125,
          -4052.53662109375,
          -4052.53662109375
         ],
         "yaxis": "y"
        },
        {
         "hoverinfo": "text",
         "marker": {
          "color": "rgb(0,116,217)"
         },
         "mode": "lines",
         "type": "scatter",
         "x": [
          626.7480321100915,
          1742.3653953346184,
          1742.3653953346184,
          1394.212343413841
         ],
         "xaxis": "x",
         "y": [
          -115.986328125,
          -115.986328125,
          -2672.423095703125,
          -2672.423095703125
         ],
         "yaxis": "y"
        }
       ],
       "layout": {
        "autosize": false,
        "height": 5000,
        "hovermode": "closest",
        "showlegend": false,
        "template": {
         "data": {
          "bar": [
           {
            "error_x": {
             "color": "#2a3f5f"
            },
            "error_y": {
             "color": "#2a3f5f"
            },
            "marker": {
             "line": {
              "color": "#E5ECF6",
              "width": 0.5
             },
             "pattern": {
              "fillmode": "overlay",
              "size": 10,
              "solidity": 0.2
             }
            },
            "type": "bar"
           }
          ],
          "barpolar": [
           {
            "marker": {
             "line": {
              "color": "#E5ECF6",
              "width": 0.5
             },
             "pattern": {
              "fillmode": "overlay",
              "size": 10,
              "solidity": 0.2
             }
            },
            "type": "barpolar"
           }
          ],
          "carpet": [
           {
            "aaxis": {
             "endlinecolor": "#2a3f5f",
             "gridcolor": "white",
             "linecolor": "white",
             "minorgridcolor": "white",
             "startlinecolor": "#2a3f5f"
            },
            "baxis": {
             "endlinecolor": "#2a3f5f",
             "gridcolor": "white",
             "linecolor": "white",
             "minorgridcolor": "white",
             "startlinecolor": "#2a3f5f"
            },
            "type": "carpet"
           }
          ],
          "choropleth": [
           {
            "colorbar": {
             "outlinewidth": 0,
             "ticks": ""
            },
            "type": "choropleth"
           }
          ],
          "contour": [
           {
            "colorbar": {
             "outlinewidth": 0,
             "ticks": ""
            },
            "colorscale": [
             [
              0,
              "#0d0887"
             ],
             [
              0.1111111111111111,
              "#46039f"
             ],
             [
              0.2222222222222222,
              "#7201a8"
             ],
             [
              0.3333333333333333,
              "#9c179e"
             ],
             [
              0.4444444444444444,
              "#bd3786"
             ],
             [
              0.5555555555555556,
              "#d8576b"
             ],
             [
              0.6666666666666666,
              "#ed7953"
             ],
             [
              0.7777777777777778,
              "#fb9f3a"
             ],
             [
              0.8888888888888888,
              "#fdca26"
             ],
             [
              1,
              "#f0f921"
             ]
            ],
            "type": "contour"
           }
          ],
          "contourcarpet": [
           {
            "colorbar": {
             "outlinewidth": 0,
             "ticks": ""
            },
            "type": "contourcarpet"
           }
          ],
          "heatmap": [
           {
            "colorbar": {
             "outlinewidth": 0,
             "ticks": ""
            },
            "colorscale": [
             [
              0,
              "#0d0887"
             ],
             [
              0.1111111111111111,
              "#46039f"
             ],
             [
              0.2222222222222222,
              "#7201a8"
             ],
             [
              0.3333333333333333,
              "#9c179e"
             ],
             [
              0.4444444444444444,
              "#bd3786"
             ],
             [
              0.5555555555555556,
              "#d8576b"
             ],
             [
              0.6666666666666666,
              "#ed7953"
             ],
             [
              0.7777777777777778,
              "#fb9f3a"
             ],
             [
              0.8888888888888888,
              "#fdca26"
             ],
             [
              1,
              "#f0f921"
             ]
            ],
            "type": "heatmap"
           }
          ],
          "heatmapgl": [
           {
            "colorbar": {
             "outlinewidth": 0,
             "ticks": ""
            },
            "colorscale": [
             [
              0,
              "#0d0887"
             ],
             [
              0.1111111111111111,
              "#46039f"
             ],
             [
              0.2222222222222222,
              "#7201a8"
             ],
             [
              0.3333333333333333,
              "#9c179e"
             ],
             [
              0.4444444444444444,
              "#bd3786"
             ],
             [
              0.5555555555555556,
              "#d8576b"
             ],
             [
              0.6666666666666666,
              "#ed7953"
             ],
             [
              0.7777777777777778,
              "#fb9f3a"
             ],
             [
              0.8888888888888888,
              "#fdca26"
             ],
             [
              1,
              "#f0f921"
             ]
            ],
            "type": "heatmapgl"
           }
          ],
          "histogram": [
           {
            "marker": {
             "pattern": {
              "fillmode": "overlay",
              "size": 10,
              "solidity": 0.2
             }
            },
            "type": "histogram"
           }
          ],
          "histogram2d": [
           {
            "colorbar": {
             "outlinewidth": 0,
             "ticks": ""
            },
            "colorscale": [
             [
              0,
              "#0d0887"
             ],
             [
              0.1111111111111111,
              "#46039f"
             ],
             [
              0.2222222222222222,
              "#7201a8"
             ],
             [
              0.3333333333333333,
              "#9c179e"
             ],
             [
              0.4444444444444444,
              "#bd3786"
             ],
             [
              0.5555555555555556,
              "#d8576b"
             ],
             [
              0.6666666666666666,
              "#ed7953"
             ],
             [
              0.7777777777777778,
              "#fb9f3a"
             ],
             [
              0.8888888888888888,
              "#fdca26"
             ],
             [
              1,
              "#f0f921"
             ]
            ],
            "type": "histogram2d"
           }
          ],
          "histogram2dcontour": [
           {
            "colorbar": {
             "outlinewidth": 0,
             "ticks": ""
            },
            "colorscale": [
             [
              0,
              "#0d0887"
             ],
             [
              0.1111111111111111,
              "#46039f"
             ],
             [
              0.2222222222222222,
              "#7201a8"
             ],
             [
              0.3333333333333333,
              "#9c179e"
             ],
             [
              0.4444444444444444,
              "#bd3786"
             ],
             [
              0.5555555555555556,
              "#d8576b"
             ],
             [
              0.6666666666666666,
              "#ed7953"
             ],
             [
              0.7777777777777778,
              "#fb9f3a"
             ],
             [
              0.8888888888888888,
              "#fdca26"
             ],
             [
              1,
              "#f0f921"
             ]
            ],
            "type": "histogram2dcontour"
           }
          ],
          "mesh3d": [
           {
            "colorbar": {
             "outlinewidth": 0,
             "ticks": ""
            },
            "type": "mesh3d"
           }
          ],
          "parcoords": [
           {
            "line": {
             "colorbar": {
              "outlinewidth": 0,
              "ticks": ""
             }
            },
            "type": "parcoords"
           }
          ],
          "pie": [
           {
            "automargin": true,
            "type": "pie"
           }
          ],
          "scatter": [
           {
            "fillpattern": {
             "fillmode": "overlay",
             "size": 10,
             "solidity": 0.2
            },
            "type": "scatter"
           }
          ],
          "scatter3d": [
           {
            "line": {
             "colorbar": {
              "outlinewidth": 0,
              "ticks": ""
             }
            },
            "marker": {
             "colorbar": {
              "outlinewidth": 0,
              "ticks": ""
             }
            },
            "type": "scatter3d"
           }
          ],
          "scattercarpet": [
           {
            "marker": {
             "colorbar": {
              "outlinewidth": 0,
              "ticks": ""
             }
            },
            "type": "scattercarpet"
           }
          ],
          "scattergeo": [
           {
            "marker": {
             "colorbar": {
              "outlinewidth": 0,
              "ticks": ""
             }
            },
            "type": "scattergeo"
           }
          ],
          "scattergl": [
           {
            "marker": {
             "colorbar": {
              "outlinewidth": 0,
              "ticks": ""
             }
            },
            "type": "scattergl"
           }
          ],
          "scattermapbox": [
           {
            "marker": {
             "colorbar": {
              "outlinewidth": 0,
              "ticks": ""
             }
            },
            "type": "scattermapbox"
           }
          ],
          "scatterpolar": [
           {
            "marker": {
             "colorbar": {
              "outlinewidth": 0,
              "ticks": ""
             }
            },
            "type": "scatterpolar"
           }
          ],
          "scatterpolargl": [
           {
            "marker": {
             "colorbar": {
              "outlinewidth": 0,
              "ticks": ""
             }
            },
            "type": "scatterpolargl"
           }
          ],
          "scatterternary": [
           {
            "marker": {
             "colorbar": {
              "outlinewidth": 0,
              "ticks": ""
             }
            },
            "type": "scatterternary"
           }
          ],
          "surface": [
           {
            "colorbar": {
             "outlinewidth": 0,
             "ticks": ""
            },
            "colorscale": [
             [
              0,
              "#0d0887"
             ],
             [
              0.1111111111111111,
              "#46039f"
             ],
             [
              0.2222222222222222,
              "#7201a8"
             ],
             [
              0.3333333333333333,
              "#9c179e"
             ],
             [
              0.4444444444444444,
              "#bd3786"
             ],
             [
              0.5555555555555556,
              "#d8576b"
             ],
             [
              0.6666666666666666,
              "#ed7953"
             ],
             [
              0.7777777777777778,
              "#fb9f3a"
             ],
             [
              0.8888888888888888,
              "#fdca26"
             ],
             [
              1,
              "#f0f921"
             ]
            ],
            "type": "surface"
           }
          ],
          "table": [
           {
            "cells": {
             "fill": {
              "color": "#EBF0F8"
             },
             "line": {
              "color": "white"
             }
            },
            "header": {
             "fill": {
              "color": "#C8D4E3"
             },
             "line": {
              "color": "white"
             }
            },
            "type": "table"
           }
          ]
         },
         "layout": {
          "annotationdefaults": {
           "arrowcolor": "#2a3f5f",
           "arrowhead": 0,
           "arrowwidth": 1
          },
          "autotypenumbers": "strict",
          "coloraxis": {
           "colorbar": {
            "outlinewidth": 0,
            "ticks": ""
           }
          },
          "colorscale": {
           "diverging": [
            [
             0,
             "#8e0152"
            ],
            [
             0.1,
             "#c51b7d"
            ],
            [
             0.2,
             "#de77ae"
            ],
            [
             0.3,
             "#f1b6da"
            ],
            [
             0.4,
             "#fde0ef"
            ],
            [
             0.5,
             "#f7f7f7"
            ],
            [
             0.6,
             "#e6f5d0"
            ],
            [
             0.7,
             "#b8e186"
            ],
            [
             0.8,
             "#7fbc41"
            ],
            [
             0.9,
             "#4d9221"
            ],
            [
             1,
             "#276419"
            ]
           ],
           "sequential": [
            [
             0,
             "#0d0887"
            ],
            [
             0.1111111111111111,
             "#46039f"
            ],
            [
             0.2222222222222222,
             "#7201a8"
            ],
            [
             0.3333333333333333,
             "#9c179e"
            ],
            [
             0.4444444444444444,
             "#bd3786"
            ],
            [
             0.5555555555555556,
             "#d8576b"
            ],
            [
             0.6666666666666666,
             "#ed7953"
            ],
            [
             0.7777777777777778,
             "#fb9f3a"
            ],
            [
             0.8888888888888888,
             "#fdca26"
            ],
            [
             1,
             "#f0f921"
            ]
           ],
           "sequentialminus": [
            [
             0,
             "#0d0887"
            ],
            [
             0.1111111111111111,
             "#46039f"
            ],
            [
             0.2222222222222222,
             "#7201a8"
            ],
            [
             0.3333333333333333,
             "#9c179e"
            ],
            [
             0.4444444444444444,
             "#bd3786"
            ],
            [
             0.5555555555555556,
             "#d8576b"
            ],
            [
             0.6666666666666666,
             "#ed7953"
            ],
            [
             0.7777777777777778,
             "#fb9f3a"
            ],
            [
             0.8888888888888888,
             "#fdca26"
            ],
            [
             1,
             "#f0f921"
            ]
           ]
          },
          "colorway": [
           "#636efa",
           "#EF553B",
           "#00cc96",
           "#ab63fa",
           "#FFA15A",
           "#19d3f3",
           "#FF6692",
           "#B6E880",
           "#FF97FF",
           "#FECB52"
          ],
          "font": {
           "color": "#2a3f5f"
          },
          "geo": {
           "bgcolor": "white",
           "lakecolor": "white",
           "landcolor": "#E5ECF6",
           "showlakes": true,
           "showland": true,
           "subunitcolor": "white"
          },
          "hoverlabel": {
           "align": "left"
          },
          "hovermode": "closest",
          "mapbox": {
           "style": "light"
          },
          "paper_bgcolor": "white",
          "plot_bgcolor": "#E5ECF6",
          "polar": {
           "angularaxis": {
            "gridcolor": "white",
            "linecolor": "white",
            "ticks": ""
           },
           "bgcolor": "#E5ECF6",
           "radialaxis": {
            "gridcolor": "white",
            "linecolor": "white",
            "ticks": ""
           }
          },
          "scene": {
           "xaxis": {
            "backgroundcolor": "#E5ECF6",
            "gridcolor": "white",
            "gridwidth": 2,
            "linecolor": "white",
            "showbackground": true,
            "ticks": "",
            "zerolinecolor": "white"
           },
           "yaxis": {
            "backgroundcolor": "#E5ECF6",
            "gridcolor": "white",
            "gridwidth": 2,
            "linecolor": "white",
            "showbackground": true,
            "ticks": "",
            "zerolinecolor": "white"
           },
           "zaxis": {
            "backgroundcolor": "#E5ECF6",
            "gridcolor": "white",
            "gridwidth": 2,
            "linecolor": "white",
            "showbackground": true,
            "ticks": "",
            "zerolinecolor": "white"
           }
          },
          "shapedefaults": {
           "line": {
            "color": "#2a3f5f"
           }
          },
          "ternary": {
           "aaxis": {
            "gridcolor": "white",
            "linecolor": "white",
            "ticks": ""
           },
           "baxis": {
            "gridcolor": "white",
            "linecolor": "white",
            "ticks": ""
           },
           "bgcolor": "#E5ECF6",
           "caxis": {
            "gridcolor": "white",
            "linecolor": "white",
            "ticks": ""
           }
          },
          "title": {
           "x": 0.05
          },
          "xaxis": {
           "automargin": true,
           "gridcolor": "white",
           "linecolor": "white",
           "ticks": "",
           "title": {
            "standoff": 15
           },
           "zerolinecolor": "white",
           "zerolinewidth": 2
          },
          "yaxis": {
           "automargin": true,
           "gridcolor": "white",
           "linecolor": "white",
           "ticks": "",
           "title": {
            "standoff": 15
           },
           "zerolinecolor": "white",
           "zerolinewidth": 2
          }
         }
        },
        "title": {
         "text": "Food ClusterDenodrogam (Euclidean)"
        },
        "width": null,
        "xaxis": {
         "mirror": "allticks",
         "rangemode": "tozero",
         "showgrid": false,
         "showline": true,
         "showticklabels": true,
         "ticks": "outside",
         "type": "linear",
         "zeroline": false
        },
        "yaxis": {
         "mirror": "allticks",
         "rangemode": "tozero",
         "showgrid": false,
         "showline": true,
         "showticklabels": true,
         "tickmode": "array",
         "ticks": "outside",
         "ticktext": [
          "578",
          "581",
          "582",
          "556",
          "561",
          "575",
          "571",
          "574",
          "547",
          "541",
          "544",
          "523",
          "537",
          "539",
          "551",
          "559",
          "542",
          "563",
          "529",
          "501",
          "555",
          "507",
          "522",
          "536",
          "545",
          "554",
          "550",
          "553",
          "564",
          "567",
          "570",
          "580",
          "558",
          "566",
          "572",
          "552",
          "569",
          "560",
          "546",
          "512",
          "534",
          "535",
          "508",
          "483",
          "498",
          "499",
          "467",
          "505",
          "510",
          "524",
          "496",
          "528",
          "487",
          "488",
          "513",
          "511",
          "518",
          "521",
          "530",
          "504",
          "516",
          "441",
          "442",
          "500",
          "455",
          "491",
          "278",
          "393",
          "265",
          "433",
          "49",
          "56",
          "292",
          "137",
          "363",
          "30",
          "494",
          "379",
          "70",
          "84",
          "40",
          "177",
          "6",
          "36",
          "251",
          "479",
          "238",
          "253",
          "27",
          "230",
          "256",
          "67",
          "91",
          "206",
          "377",
          "423",
          "161",
          "309",
          "468",
          "515",
          "289",
          "307",
          "167",
          "241",
          "216",
          "287",
          "7",
          "202",
          "223",
          "444",
          "300",
          "171",
          "478",
          "526",
          "158",
          "474",
          "497",
          "347",
          "418",
          "142",
          "199",
          "123",
          "151",
          "16",
          "21",
          "33",
          "248",
          "327",
          "102",
          "304",
          "341",
          "368",
          "74",
          "99",
          "79",
          "268",
          "60",
          "64",
          "72",
          "90",
          "136",
          "181",
          "81",
          "71",
          "258",
          "104",
          "15",
          "35",
          "3",
          "13",
          "4",
          "5",
          "159",
          "131",
          "205",
          "115",
          "294",
          "110",
          "12",
          "452",
          "39",
          "53",
          "20",
          "23",
          "93",
          "176",
          "25",
          "2",
          "14",
          "41",
          "46",
          "0",
          "28",
          "1",
          "50",
          "132",
          "8",
          "9",
          "259",
          "475",
          "503",
          "448",
          "400",
          "402",
          "324",
          "211",
          "276",
          "180",
          "272",
          "196",
          "306",
          "430",
          "95",
          "480",
          "78",
          "156",
          "43",
          "388",
          "18",
          "66",
          "76",
          "96",
          "86",
          "32",
          "54",
          "73",
          "62",
          "365",
          "88",
          "244",
          "344",
          "217",
          "182",
          "169",
          "264",
          "125",
          "175",
          "267",
          "148",
          "154",
          "204",
          "153",
          "302",
          "118",
          "143",
          "270",
          "155",
          "164",
          "160",
          "184",
          "135",
          "188",
          "301",
          "225",
          "229",
          "299",
          "233",
          "235",
          "337",
          "186",
          "213",
          "411",
          "328",
          "366",
          "353",
          "421",
          "262",
          "322",
          "261",
          "114",
          "370",
          "69",
          "198",
          "126",
          "245",
          "187",
          "149",
          "195",
          "214",
          "240",
          "350",
          "179",
          "481",
          "100",
          "133",
          "146",
          "173",
          "45",
          "63",
          "75",
          "80",
          "83",
          "111",
          "113",
          "24",
          "55",
          "48",
          "57",
          "138",
          "98",
          "157",
          "128",
          "339",
          "389",
          "239",
          "362",
          "166",
          "37",
          "121",
          "375",
          "383",
          "330",
          "139",
          "288",
          "77",
          "172",
          "34",
          "130",
          "144",
          "221",
          "150",
          "103",
          "140",
          "106",
          "145",
          "290",
          "191",
          "17",
          "254",
          "279",
          "26",
          "315",
          "193",
          "194",
          "52",
          "117",
          "122",
          "252",
          "134",
          "129",
          "247",
          "107",
          "163",
          "87",
          "94",
          "85",
          "108",
          "109",
          "116",
          "296",
          "61",
          "326",
          "10",
          "31",
          "92",
          "119",
          "59",
          "42",
          "263",
          "68",
          "82",
          "97",
          "222",
          "11",
          "29",
          "19",
          "65",
          "38",
          "44",
          "22",
          "51",
          "454",
          "446",
          "447",
          "456",
          "465",
          "449",
          "506",
          "443",
          "406",
          "424",
          "462",
          "490",
          "519",
          "476",
          "485",
          "502",
          "472",
          "517",
          "549",
          "565",
          "527",
          "538",
          "532",
          "520",
          "525",
          "540",
          "562",
          "576",
          "573",
          "557",
          "568",
          "413",
          "329",
          "358",
          "450",
          "354",
          "334",
          "317",
          "351",
          "360",
          "409",
          "460",
          "357",
          "387",
          "312",
          "458",
          "395",
          "356",
          "333",
          "359",
          "112",
          "224",
          "89",
          "124",
          "47",
          "58",
          "101",
          "120",
          "162",
          "141",
          "183",
          "189",
          "297",
          "432",
          "280",
          "243",
          "349",
          "185",
          "318",
          "355",
          "228",
          "174",
          "197",
          "281",
          "236",
          "250",
          "218",
          "192",
          "208",
          "313",
          "369",
          "321",
          "376",
          "234",
          "291",
          "271",
          "219",
          "286",
          "170",
          "152",
          "127",
          "190",
          "105",
          "210",
          "147",
          "168",
          "201",
          "325",
          "314",
          "338",
          "212",
          "274",
          "396",
          "200",
          "231",
          "283",
          "331",
          "585",
          "579",
          "583",
          "584",
          "401",
          "378",
          "392",
          "437",
          "470",
          "473",
          "364",
          "367",
          "407",
          "405",
          "531",
          "509",
          "426",
          "492",
          "451",
          "486",
          "495",
          "577",
          "514",
          "533",
          "493",
          "543",
          "461",
          "484",
          "380",
          "342",
          "399",
          "415",
          "284",
          "237",
          "336",
          "242",
          "348",
          "319",
          "269",
          "273",
          "215",
          "209",
          "227",
          "232",
          "255",
          "266",
          "220",
          "203",
          "165",
          "226",
          "246",
          "275",
          "178",
          "207",
          "257",
          "305",
          "310",
          "335",
          "390",
          "316",
          "298",
          "332",
          "303",
          "323",
          "311",
          "371",
          "277",
          "285",
          "308",
          "320",
          "249",
          "260",
          "282",
          "293",
          "295",
          "361",
          "416",
          "398",
          "408",
          "410",
          "404",
          "471",
          "445",
          "440",
          "466",
          "427",
          "435",
          "439",
          "417",
          "420",
          "464",
          "453",
          "414",
          "419",
          "422",
          "428",
          "548",
          "431",
          "489",
          "469",
          "457",
          "482",
          "459",
          "477",
          "384",
          "438",
          "436",
          "381",
          "429",
          "463",
          "372",
          "374",
          "394",
          "403",
          "385",
          "343",
          "346",
          "397",
          "425",
          "434",
          "382",
          "340",
          "373",
          "352",
          "391",
          "412",
          "345",
          "386"
         ],
         "tickvals": [
          -5,
          -15,
          -25,
          -35,
          -45,
          -55,
          -65,
          -75,
          -85,
          -95,
          -105,
          -115,
          -125,
          -135,
          -145,
          -155,
          -165,
          -175,
          -185,
          -195,
          -205,
          -215,
          -225,
          -235,
          -245,
          -255,
          -265,
          -275,
          -285,
          -295,
          -305,
          -315,
          -325,
          -335,
          -345,
          -355,
          -365,
          -375,
          -385,
          -395,
          -405,
          -415,
          -425,
          -435,
          -445,
          -455,
          -465,
          -475,
          -485,
          -495,
          -505,
          -515,
          -525,
          -535,
          -545,
          -555,
          -565,
          -575,
          -585,
          -595,
          -605,
          -615,
          -625,
          -635,
          -645,
          -655,
          -665,
          -675,
          -685,
          -695,
          -705,
          -715,
          -725,
          -735,
          -745,
          -755,
          -765,
          -775,
          -785,
          -795,
          -805,
          -815,
          -825,
          -835,
          -845,
          -855,
          -865,
          -875,
          -885,
          -895,
          -905,
          -915,
          -925,
          -935,
          -945,
          -955,
          -965,
          -975,
          -985,
          -995,
          -1005,
          -1015,
          -1025,
          -1035,
          -1045,
          -1055,
          -1065,
          -1075,
          -1085,
          -1095,
          -1105,
          -1115,
          -1125,
          -1135,
          -1145,
          -1155,
          -1165,
          -1175,
          -1185,
          -1195,
          -1205,
          -1215,
          -1225,
          -1235,
          -1245,
          -1255,
          -1265,
          -1275,
          -1285,
          -1295,
          -1305,
          -1315,
          -1325,
          -1335,
          -1345,
          -1355,
          -1365,
          -1375,
          -1385,
          -1395,
          -1405,
          -1415,
          -1425,
          -1435,
          -1445,
          -1455,
          -1465,
          -1475,
          -1485,
          -1495,
          -1505,
          -1515,
          -1525,
          -1535,
          -1545,
          -1555,
          -1565,
          -1575,
          -1585,
          -1595,
          -1605,
          -1615,
          -1625,
          -1635,
          -1645,
          -1655,
          -1665,
          -1675,
          -1685,
          -1695,
          -1705,
          -1715,
          -1725,
          -1735,
          -1745,
          -1755,
          -1765,
          -1775,
          -1785,
          -1795,
          -1805,
          -1815,
          -1825,
          -1835,
          -1845,
          -1855,
          -1865,
          -1875,
          -1885,
          -1895,
          -1905,
          -1915,
          -1925,
          -1935,
          -1945,
          -1955,
          -1965,
          -1975,
          -1985,
          -1995,
          -2005,
          -2015,
          -2025,
          -2035,
          -2045,
          -2055,
          -2065,
          -2075,
          -2085,
          -2095,
          -2105,
          -2115,
          -2125,
          -2135,
          -2145,
          -2155,
          -2165,
          -2175,
          -2185,
          -2195,
          -2205,
          -2215,
          -2225,
          -2235,
          -2245,
          -2255,
          -2265,
          -2275,
          -2285,
          -2295,
          -2305,
          -2315,
          -2325,
          -2335,
          -2345,
          -2355,
          -2365,
          -2375,
          -2385,
          -2395,
          -2405,
          -2415,
          -2425,
          -2435,
          -2445,
          -2455,
          -2465,
          -2475,
          -2485,
          -2495,
          -2505,
          -2515,
          -2525,
          -2535,
          -2545,
          -2555,
          -2565,
          -2575,
          -2585,
          -2595,
          -2605,
          -2615,
          -2625,
          -2635,
          -2645,
          -2655,
          -2665,
          -2675,
          -2685,
          -2695,
          -2705,
          -2715,
          -2725,
          -2735,
          -2745,
          -2755,
          -2765,
          -2775,
          -2785,
          -2795,
          -2805,
          -2815,
          -2825,
          -2835,
          -2845,
          -2855,
          -2865,
          -2875,
          -2885,
          -2895,
          -2905,
          -2915,
          -2925,
          -2935,
          -2945,
          -2955,
          -2965,
          -2975,
          -2985,
          -2995,
          -3005,
          -3015,
          -3025,
          -3035,
          -3045,
          -3055,
          -3065,
          -3075,
          -3085,
          -3095,
          -3105,
          -3115,
          -3125,
          -3135,
          -3145,
          -3155,
          -3165,
          -3175,
          -3185,
          -3195,
          -3205,
          -3215,
          -3225,
          -3235,
          -3245,
          -3255,
          -3265,
          -3275,
          -3285,
          -3295,
          -3305,
          -3315,
          -3325,
          -3335,
          -3345,
          -3355,
          -3365,
          -3375,
          -3385,
          -3395,
          -3405,
          -3415,
          -3425,
          -3435,
          -3445,
          -3455,
          -3465,
          -3475,
          -3485,
          -3495,
          -3505,
          -3515,
          -3525,
          -3535,
          -3545,
          -3555,
          -3565,
          -3575,
          -3585,
          -3595,
          -3605,
          -3615,
          -3625,
          -3635,
          -3645,
          -3655,
          -3665,
          -3675,
          -3685,
          -3695,
          -3705,
          -3715,
          -3725,
          -3735,
          -3745,
          -3755,
          -3765,
          -3775,
          -3785,
          -3795,
          -3805,
          -3815,
          -3825,
          -3835,
          -3845,
          -3855,
          -3865,
          -3875,
          -3885,
          -3895,
          -3905,
          -3915,
          -3925,
          -3935,
          -3945,
          -3955,
          -3965,
          -3975,
          -3985,
          -3995,
          -4005,
          -4015,
          -4025,
          -4035,
          -4045,
          -4055,
          -4065,
          -4075,
          -4085,
          -4095,
          -4105,
          -4115,
          -4125,
          -4135,
          -4145,
          -4155,
          -4165,
          -4175,
          -4185,
          -4195,
          -4205,
          -4215,
          -4225,
          -4235,
          -4245,
          -4255,
          -4265,
          -4275,
          -4285,
          -4295,
          -4305,
          -4315,
          -4325,
          -4335,
          -4345,
          -4355,
          -4365,
          -4375,
          -4385,
          -4395,
          -4405,
          -4415,
          -4425,
          -4435,
          -4445,
          -4455,
          -4465,
          -4475,
          -4485,
          -4495,
          -4505,
          -4515,
          -4525,
          -4535,
          -4545,
          -4555,
          -4565,
          -4575,
          -4585,
          -4595,
          -4605,
          -4615,
          -4625,
          -4635,
          -4645,
          -4655,
          -4665,
          -4675,
          -4685,
          -4695,
          -4705,
          -4715,
          -4725,
          -4735,
          -4745,
          -4755,
          -4765,
          -4775,
          -4785,
          -4795,
          -4805,
          -4815,
          -4825,
          -4835,
          -4845,
          -4855,
          -4865,
          -4875,
          -4885,
          -4895,
          -4905,
          -4915,
          -4925,
          -4935,
          -4945,
          -4955,
          -4965,
          -4975,
          -4985,
          -4995,
          -5005,
          -5015,
          -5025,
          -5035,
          -5045,
          -5055,
          -5065,
          -5075,
          -5085,
          -5095,
          -5105,
          -5115,
          -5125,
          -5135,
          -5145,
          -5155,
          -5165,
          -5175,
          -5185,
          -5195,
          -5205,
          -5215,
          -5225,
          -5235,
          -5245,
          -5255,
          -5265,
          -5275,
          -5285,
          -5295,
          -5305,
          -5315,
          -5325,
          -5335,
          -5345,
          -5355,
          -5365,
          -5375,
          -5385,
          -5395,
          -5405,
          -5415,
          -5425,
          -5435,
          -5445,
          -5455,
          -5465,
          -5475,
          -5485,
          -5495,
          -5505,
          -5515,
          -5525,
          -5535,
          -5545,
          -5555,
          -5565,
          -5575,
          -5585,
          -5595,
          -5605,
          -5615,
          -5625,
          -5635,
          -5645,
          -5655,
          -5665,
          -5675,
          -5685,
          -5695,
          -5705,
          -5715,
          -5725,
          -5735,
          -5745,
          -5755,
          -5765,
          -5775,
          -5785,
          -5795,
          -5805,
          -5815,
          -5825,
          -5835,
          -5845,
          -5855
         ],
         "type": "linear",
         "zeroline": false
        }
       }
      },
      "text/html": [
       "<div>                            <div id=\"894f4ac0-dc7b-421a-ac3b-555680c0cec2\" class=\"plotly-graph-div\" style=\"height:5000px; width:infpx;\"></div>            <script type=\"text/javascript\">                require([\"plotly\"], function(Plotly) {                    window.PLOTLYENV=window.PLOTLYENV || {};                                    if (document.getElementById(\"894f4ac0-dc7b-421a-ac3b-555680c0cec2\")) {                    Plotly.newPlot(                        \"894f4ac0-dc7b-421a-ac3b-555680c0cec2\",                        [{\"hoverinfo\":\"text\",\"marker\":{\"color\":\"rgb(61,153,112)\"},\"mode\":\"lines\",\"x\":[0.0,20.67577650925126,20.67577650925126,0.0],\"xaxis\":\"x\",\"y\":[-15.0,-15.0,-25.0,-25.0],\"yaxis\":\"y\",\"type\":\"scatter\"},{\"hoverinfo\":\"text\",\"marker\":{\"color\":\"rgb(61,153,112)\"},\"mode\":\"lines\",\"x\":[0.0,44.47580207531498,44.47580207531498,20.67577650925126],\"xaxis\":\"x\",\"y\":[-5.0,-5.0,-20.0,-20.0],\"yaxis\":\"y\",\"type\":\"scatter\"},{\"hoverinfo\":\"text\",\"marker\":{\"color\":\"rgb(61,153,112)\"},\"mode\":\"lines\",\"x\":[0.0,17.200703185828868,17.200703185828868,0.0],\"xaxis\":\"x\",\"y\":[-35.0,-35.0,-45.0,-45.0],\"yaxis\":\"y\",\"type\":\"scatter\"},{\"hoverinfo\":\"text\",\"marker\":{\"color\":\"rgb(61,153,112)\"},\"mode\":\"lines\",\"x\":[0.0,30.770180836579577,30.770180836579577,0.0],\"xaxis\":\"x\",\"y\":[-65.0,-65.0,-75.0,-75.0],\"yaxis\":\"y\",\"type\":\"scatter\"},{\"hoverinfo\":\"text\",\"marker\":{\"color\":\"rgb(61,153,112)\"},\"mode\":\"lines\",\"x\":[0.0,61.965196719578614,61.965196719578614,30.770180836579577],\"xaxis\":\"x\",\"y\":[-55.0,-55.0,-70.0,-70.0],\"yaxis\":\"y\",\"type\":\"scatter\"},{\"hoverinfo\":\"text\",\"marker\":{\"color\":\"rgb(61,153,112)\"},\"mode\":\"lines\",\"x\":[0.0,22.584056858224447,22.584056858224447,0.0],\"xaxis\":\"x\",\"y\":[-95.0,-95.0,-105.0,-105.0],\"yaxis\":\"y\",\"type\":\"scatter\"},{\"hoverinfo\":\"text\",\"marker\":{\"color\":\"rgb(61,153,112)\"},\"mode\":\"lines\",\"x\":[0.0,68.206505475913,68.206505475913,22.584056858224447],\"xaxis\":\"x\",\"y\":[-85.0,-85.0,-100.0,-100.0],\"yaxis\":\"y\",\"type\":\"scatter\"},{\"hoverinfo\":\"text\",\"marker\":{\"color\":\"rgb(61,153,112)\"},\"mode\":\"lines\",\"x\":[61.965196719578614,124.25057379192668,124.25057379192668,68.206505475913],\"xaxis\":\"x\",\"y\":[-62.5,-62.5,-92.5,-92.5],\"yaxis\":\"y\",\"type\":\"scatter\"},{\"hoverinfo\":\"text\",\"marker\":{\"color\":\"rgb(61,153,112)\"},\"mode\":\"lines\",\"x\":[17.200703185828868,164.86390298812657,164.86390298812657,124.25057379192668],\"xaxis\":\"x\",\"y\":[-40.0,-40.0,-77.5,-77.5],\"yaxis\":\"y\",\"type\":\"scatter\"},{\"hoverinfo\":\"text\",\"marker\":{\"color\":\"rgb(61,153,112)\"},\"mode\":\"lines\",\"x\":[0.0,17.49623666788158,17.49623666788158,0.0],\"xaxis\":\"x\",\"y\":[-125.0,-125.0,-135.0,-135.0],\"yaxis\":\"y\",\"type\":\"scatter\"},{\"hoverinfo\":\"text\",\"marker\":{\"color\":\"rgb(61,153,112)\"},\"mode\":\"lines\",\"x\":[0.0,23.079598161491717,23.079598161491717,17.49623666788158],\"xaxis\":\"x\",\"y\":[-115.0,-115.0,-130.0,-130.0],\"yaxis\":\"y\",\"type\":\"scatter\"},{\"hoverinfo\":\"text\",\"marker\":{\"color\":\"rgb(61,153,112)\"},\"mode\":\"lines\",\"x\":[0.0,6.405065922865006,6.405065922865006,0.0],\"xaxis\":\"x\",\"y\":[-165.0,-165.0,-175.0,-175.0],\"yaxis\":\"y\",\"type\":\"scatter\"},{\"hoverinfo\":\"text\",\"marker\":{\"color\":\"rgb(61,153,112)\"},\"mode\":\"lines\",\"x\":[0.0,9.81842839883094,9.81842839883094,6.405065922865006],\"xaxis\":\"x\",\"y\":[-155.0,-155.0,-170.0,-170.0],\"yaxis\":\"y\",\"type\":\"scatter\"},{\"hoverinfo\":\"text\",\"marker\":{\"color\":\"rgb(61,153,112)\"},\"mode\":\"lines\",\"x\":[0.0,24.545189670190428,24.545189670190428,9.81842839883094],\"xaxis\":\"x\",\"y\":[-145.0,-145.0,-162.5,-162.5],\"yaxis\":\"y\",\"type\":\"scatter\"},{\"hoverinfo\":\"text\",\"marker\":{\"color\":\"rgb(61,153,112)\"},\"mode\":\"lines\",\"x\":[23.079598161491717,43.17809307844852,43.17809307844852,24.545189670190428],\"xaxis\":\"x\",\"y\":[-122.5,-122.5,-153.75,-153.75],\"yaxis\":\"y\",\"type\":\"scatter\"},{\"hoverinfo\":\"text\",\"marker\":{\"color\":\"rgb(61,153,112)\"},\"mode\":\"lines\",\"x\":[0.0,8.545571054812552,8.545571054812552,0.0],\"xaxis\":\"x\",\"y\":[-195.0,-195.0,-205.0,-205.0],\"yaxis\":\"y\",\"type\":\"scatter\"},{\"hoverinfo\":\"text\",\"marker\":{\"color\":\"rgb(61,153,112)\"},\"mode\":\"lines\",\"x\":[0.0,10.303102247863862,10.303102247863862,0.0],\"xaxis\":\"x\",\"y\":[-215.0,-215.0,-225.0,-225.0],\"yaxis\":\"y\",\"type\":\"scatter\"},{\"hoverinfo\":\"text\",\"marker\":{\"color\":\"rgb(61,153,112)\"},\"mode\":\"lines\",\"x\":[8.545571054812552,21.08542809466079,21.08542809466079,10.303102247863862],\"xaxis\":\"x\",\"y\":[-200.0,-200.0,-220.0,-220.0],\"yaxis\":\"y\",\"type\":\"scatter\"},{\"hoverinfo\":\"text\",\"marker\":{\"color\":\"rgb(61,153,112)\"},\"mode\":\"lines\",\"x\":[0.0,23.008544774577857,23.008544774577857,21.08542809466079],\"xaxis\":\"x\",\"y\":[-185.0,-185.0,-210.0,-210.0],\"yaxis\":\"y\",\"type\":\"scatter\"},{\"hoverinfo\":\"text\",\"marker\":{\"color\":\"rgb(61,153,112)\"},\"mode\":\"lines\",\"x\":[0.0,8.697921300786826,8.697921300786826,0.0],\"xaxis\":\"x\",\"y\":[-235.0,-235.0,-245.0,-245.0],\"yaxis\":\"y\",\"type\":\"scatter\"},{\"hoverinfo\":\"text\",\"marker\":{\"color\":\"rgb(61,153,112)\"},\"mode\":\"lines\",\"x\":[0.0,13.041701802851922,13.041701802851922,0.0],\"xaxis\":\"x\",\"y\":[-265.0,-265.0,-275.0,-275.0],\"yaxis\":\"y\",\"type\":\"scatter\"},{\"hoverinfo\":\"text\",\"marker\":{\"color\":\"rgb(61,153,112)\"},\"mode\":\"lines\",\"x\":[0.0,22.158519808218944,22.158519808218944,13.041701802851922],\"xaxis\":\"x\",\"y\":[-255.0,-255.0,-270.0,-270.0],\"yaxis\":\"y\",\"type\":\"scatter\"},{\"hoverinfo\":\"text\",\"marker\":{\"color\":\"rgb(61,153,112)\"},\"mode\":\"lines\",\"x\":[8.697921300786826,31.296872472646772,31.296872472646772,22.158519808218944],\"xaxis\":\"x\",\"y\":[-240.0,-240.0,-262.5,-262.5],\"yaxis\":\"y\",\"type\":\"scatter\"},{\"hoverinfo\":\"text\",\"marker\":{\"color\":\"rgb(61,153,112)\"},\"mode\":\"lines\",\"x\":[23.008544774577857,50.740715403329354,50.740715403329354,31.296872472646772],\"xaxis\":\"x\",\"y\":[-197.5,-197.5,-251.25,-251.25],\"yaxis\":\"y\",\"type\":\"scatter\"},{\"hoverinfo\":\"text\",\"marker\":{\"color\":\"rgb(61,153,112)\"},\"mode\":\"lines\",\"x\":[43.17809307844852,89.13016361314503,89.13016361314503,50.740715403329354],\"xaxis\":\"x\",\"y\":[-138.125,-138.125,-224.375,-224.375],\"yaxis\":\"y\",\"type\":\"scatter\"},{\"hoverinfo\":\"text\",\"marker\":{\"color\":\"rgb(61,153,112)\"},\"mode\":\"lines\",\"x\":[0.0,14.528972246986298,14.528972246986298,0.0],\"xaxis\":\"x\",\"y\":[-285.0,-285.0,-295.0,-295.0],\"yaxis\":\"y\",\"type\":\"scatter\"},{\"hoverinfo\":\"text\",\"marker\":{\"color\":\"rgb(61,153,112)\"},\"mode\":\"lines\",\"x\":[0.0,21.0811976654714,21.0811976654714,0.0],\"xaxis\":\"x\",\"y\":[-305.0,-305.0,-315.0,-315.0],\"yaxis\":\"y\",\"type\":\"scatter\"},{\"hoverinfo\":\"text\",\"marker\":{\"color\":\"rgb(61,153,112)\"},\"mode\":\"lines\",\"x\":[0.0,4.131317029920235,4.131317029920235,0.0],\"xaxis\":\"x\",\"y\":[-335.0,-335.0,-345.0,-345.0],\"yaxis\":\"y\",\"type\":\"scatter\"},{\"hoverinfo\":\"text\",\"marker\":{\"color\":\"rgb(61,153,112)\"},\"mode\":\"lines\",\"x\":[0.0,10.843729190800955,10.843729190800955,4.131317029920235],\"xaxis\":\"x\",\"y\":[-325.0,-325.0,-340.0,-340.0],\"yaxis\":\"y\",\"type\":\"scatter\"},{\"hoverinfo\":\"text\",\"marker\":{\"color\":\"rgb(61,153,112)\"},\"mode\":\"lines\",\"x\":[0.0,14.84025389099217,14.84025389099217,0.0],\"xaxis\":\"x\",\"y\":[-355.0,-355.0,-365.0,-365.0],\"yaxis\":\"y\",\"type\":\"scatter\"},{\"hoverinfo\":\"text\",\"marker\":{\"color\":\"rgb(61,153,112)\"},\"mode\":\"lines\",\"x\":[10.843729190800955,30.335949954504013,30.335949954504013,14.84025389099217],\"xaxis\":\"x\",\"y\":[-332.5,-332.5,-360.0,-360.0],\"yaxis\":\"y\",\"type\":\"scatter\"},{\"hoverinfo\":\"text\",\"marker\":{\"color\":\"rgb(61,153,112)\"},\"mode\":\"lines\",\"x\":[21.0811976654714,58.13113516130177,58.13113516130177,30.335949954504013],\"xaxis\":\"x\",\"y\":[-310.0,-310.0,-346.25,-346.25],\"yaxis\":\"y\",\"type\":\"scatter\"},{\"hoverinfo\":\"text\",\"marker\":{\"color\":\"rgb(61,153,112)\"},\"mode\":\"lines\",\"x\":[14.528972246986298,105.94676293643447,105.94676293643447,58.13113516130177],\"xaxis\":\"x\",\"y\":[-290.0,-290.0,-328.125,-328.125],\"yaxis\":\"y\",\"type\":\"scatter\"},{\"hoverinfo\":\"text\",\"marker\":{\"color\":\"rgb(61,153,112)\"},\"mode\":\"lines\",\"x\":[89.13016361314503,140.33199270666884,140.33199270666884,105.94676293643447],\"xaxis\":\"x\",\"y\":[-181.25,-181.25,-309.0625,-309.0625],\"yaxis\":\"y\",\"type\":\"scatter\"},{\"hoverinfo\":\"text\",\"marker\":{\"color\":\"rgb(61,153,112)\"},\"mode\":\"lines\",\"x\":[0.0,12.688959795475656,12.688959795475656,0.0],\"xaxis\":\"x\",\"y\":[-405.0,-405.0,-415.0,-415.0],\"yaxis\":\"y\",\"type\":\"scatter\"},{\"hoverinfo\":\"text\",\"marker\":{\"color\":\"rgb(61,153,112)\"},\"mode\":\"lines\",\"x\":[0.0,23.055291798817237,23.055291798817237,12.688959795475656],\"xaxis\":\"x\",\"y\":[-395.0,-395.0,-410.0,-410.0],\"yaxis\":\"y\",\"type\":\"scatter\"},{\"hoverinfo\":\"text\",\"marker\":{\"color\":\"rgb(61,153,112)\"},\"mode\":\"lines\",\"x\":[0.0,38.632908578091794,38.632908578091794,23.055291798817237],\"xaxis\":\"x\",\"y\":[-385.0,-385.0,-402.5,-402.5],\"yaxis\":\"y\",\"type\":\"scatter\"},{\"hoverinfo\":\"text\",\"marker\":{\"color\":\"rgb(61,153,112)\"},\"mode\":\"lines\",\"x\":[0.0,55.82998310200976,55.82998310200976,38.632908578091794],\"xaxis\":\"x\",\"y\":[-375.0,-375.0,-393.75,-393.75],\"yaxis\":\"y\",\"type\":\"scatter\"},{\"hoverinfo\":\"text\",\"marker\":{\"color\":\"rgb(61,153,112)\"},\"mode\":\"lines\",\"x\":[0.0,9.952450201991656,9.952450201991656,0.0],\"xaxis\":\"x\",\"y\":[-435.0,-435.0,-445.0,-445.0],\"yaxis\":\"y\",\"type\":\"scatter\"},{\"hoverinfo\":\"text\",\"marker\":{\"color\":\"rgb(61,153,112)\"},\"mode\":\"lines\",\"x\":[0.0,10.000587916174469,10.000587916174469,0.0],\"xaxis\":\"x\",\"y\":[-475.0,-475.0,-485.0,-485.0],\"yaxis\":\"y\",\"type\":\"scatter\"},{\"hoverinfo\":\"text\",\"marker\":{\"color\":\"rgb(61,153,112)\"},\"mode\":\"lines\",\"x\":[0.0,20.085106563665086,20.085106563665086,10.000587916174469],\"xaxis\":\"x\",\"y\":[-465.0,-465.0,-480.0,-480.0],\"yaxis\":\"y\",\"type\":\"scatter\"},{\"hoverinfo\":\"text\",\"marker\":{\"color\":\"rgb(61,153,112)\"},\"mode\":\"lines\",\"x\":[0.0,23.36705839523158,23.36705839523158,20.085106563665086],\"xaxis\":\"x\",\"y\":[-455.0,-455.0,-472.5,-472.5],\"yaxis\":\"y\",\"type\":\"scatter\"},{\"hoverinfo\":\"text\",\"marker\":{\"color\":\"rgb(61,153,112)\"},\"mode\":\"lines\",\"x\":[9.952450201991656,25.476580158929103,25.476580158929103,23.36705839523158],\"xaxis\":\"x\",\"y\":[-440.0,-440.0,-463.75,-463.75],\"yaxis\":\"y\",\"type\":\"scatter\"},{\"hoverinfo\":\"text\",\"marker\":{\"color\":\"rgb(61,153,112)\"},\"mode\":\"lines\",\"x\":[0.0,36.45999926414755,36.45999926414755,25.476580158929103],\"xaxis\":\"x\",\"y\":[-425.0,-425.0,-451.875,-451.875],\"yaxis\":\"y\",\"type\":\"scatter\"},{\"hoverinfo\":\"text\",\"marker\":{\"color\":\"rgb(61,153,112)\"},\"mode\":\"lines\",\"x\":[0.0,16.421575756148748,16.421575756148748,0.0],\"xaxis\":\"x\",\"y\":[-505.0,-505.0,-515.0,-515.0],\"yaxis\":\"y\",\"type\":\"scatter\"},{\"hoverinfo\":\"text\",\"marker\":{\"color\":\"rgb(61,153,112)\"},\"mode\":\"lines\",\"x\":[0.0,28.231332553332784,28.231332553332784,16.421575756148748],\"xaxis\":\"x\",\"y\":[-495.0,-495.0,-510.0,-510.0],\"yaxis\":\"y\",\"type\":\"scatter\"},{\"hoverinfo\":\"text\",\"marker\":{\"color\":\"rgb(61,153,112)\"},\"mode\":\"lines\",\"x\":[0.0,12.68858136153087,12.68858136153087,0.0],\"xaxis\":\"x\",\"y\":[-525.0,-525.0,-535.0,-535.0],\"yaxis\":\"y\",\"type\":\"scatter\"},{\"hoverinfo\":\"text\",\"marker\":{\"color\":\"rgb(61,153,112)\"},\"mode\":\"lines\",\"x\":[0.0,8.124446803258216,8.124446803258216,0.0],\"xaxis\":\"x\",\"y\":[-565.0,-565.0,-575.0,-575.0],\"yaxis\":\"y\",\"type\":\"scatter\"},{\"hoverinfo\":\"text\",\"marker\":{\"color\":\"rgb(61,153,112)\"},\"mode\":\"lines\",\"x\":[0.0,11.577201402541126,11.577201402541126,8.124446803258216],\"xaxis\":\"x\",\"y\":[-555.0,-555.0,-570.0,-570.0],\"yaxis\":\"y\",\"type\":\"scatter\"},{\"hoverinfo\":\"text\",\"marker\":{\"color\":\"rgb(61,153,112)\"},\"mode\":\"lines\",\"x\":[0.0,23.17335837915704,23.17335837915704,11.577201402541126],\"xaxis\":\"x\",\"y\":[-545.0,-545.0,-562.5,-562.5],\"yaxis\":\"y\",\"type\":\"scatter\"},{\"hoverinfo\":\"text\",\"marker\":{\"color\":\"rgb(61,153,112)\"},\"mode\":\"lines\",\"x\":[12.68858136153087,34.54306888872481,34.54306888872481,23.17335837915704],\"xaxis\":\"x\",\"y\":[-530.0,-530.0,-553.75,-553.75],\"yaxis\":\"y\",\"type\":\"scatter\"},{\"hoverinfo\":\"text\",\"marker\":{\"color\":\"rgb(61,153,112)\"},\"mode\":\"lines\",\"x\":[28.231332553332784,60.097844207276246,60.097844207276246,34.54306888872481],\"xaxis\":\"x\",\"y\":[-502.5,-502.5,-541.875,-541.875],\"yaxis\":\"y\",\"type\":\"scatter\"},{\"hoverinfo\":\"text\",\"marker\":{\"color\":\"rgb(61,153,112)\"},\"mode\":\"lines\",\"x\":[36.45999926414755,65.84128914134006,65.84128914134006,60.097844207276246],\"xaxis\":\"x\",\"y\":[-438.4375,-438.4375,-522.1875,-522.1875],\"yaxis\":\"y\",\"type\":\"scatter\"},{\"hoverinfo\":\"text\",\"marker\":{\"color\":\"rgb(61,153,112)\"},\"mode\":\"lines\",\"x\":[55.82998310200976,102.63719107474257,102.63719107474257,65.84128914134006],\"xaxis\":\"x\",\"y\":[-384.375,-384.375,-480.3125,-480.3125],\"yaxis\":\"y\",\"type\":\"scatter\"},{\"hoverinfo\":\"text\",\"marker\":{\"color\":\"rgb(61,153,112)\"},\"mode\":\"lines\",\"x\":[0.0,22.71563719364822,22.71563719364822,0.0],\"xaxis\":\"x\",\"y\":[-615.0,-615.0,-625.0,-625.0],\"yaxis\":\"y\",\"type\":\"scatter\"},{\"hoverinfo\":\"text\",\"marker\":{\"color\":\"rgb(61,153,112)\"},\"mode\":\"lines\",\"x\":[0.0,29.23946931758499,29.23946931758499,22.71563719364822],\"xaxis\":\"x\",\"y\":[-605.0,-605.0,-620.0,-620.0],\"yaxis\":\"y\",\"type\":\"scatter\"},{\"hoverinfo\":\"text\",\"marker\":{\"color\":\"rgb(61,153,112)\"},\"mode\":\"lines\",\"x\":[0.0,12.004280462662091,12.004280462662091,0.0],\"xaxis\":\"x\",\"y\":[-645.0,-645.0,-655.0,-655.0],\"yaxis\":\"y\",\"type\":\"scatter\"},{\"hoverinfo\":\"text\",\"marker\":{\"color\":\"rgb(61,153,112)\"},\"mode\":\"lines\",\"x\":[0.0,35.12884594339845,35.12884594339845,12.004280462662091],\"xaxis\":\"x\",\"y\":[-635.0,-635.0,-650.0,-650.0],\"yaxis\":\"y\",\"type\":\"scatter\"},{\"hoverinfo\":\"text\",\"marker\":{\"color\":\"rgb(61,153,112)\"},\"mode\":\"lines\",\"x\":[29.23946931758499,62.77041290097191,62.77041290097191,35.12884594339845],\"xaxis\":\"x\",\"y\":[-612.5,-612.5,-642.5,-642.5],\"yaxis\":\"y\",\"type\":\"scatter\"},{\"hoverinfo\":\"text\",\"marker\":{\"color\":\"rgb(61,153,112)\"},\"mode\":\"lines\",\"x\":[0.0,92.5527388283747,92.5527388283747,62.77041290097191],\"xaxis\":\"x\",\"y\":[-595.0,-595.0,-627.5,-627.5],\"yaxis\":\"y\",\"type\":\"scatter\"},{\"hoverinfo\":\"text\",\"marker\":{\"color\":\"rgb(61,153,112)\"},\"mode\":\"lines\",\"x\":[0.0,130.00180257683704,130.00180257683704,92.5527388283747],\"xaxis\":\"x\",\"y\":[-585.0,-585.0,-611.25,-611.25],\"yaxis\":\"y\",\"type\":\"scatter\"},{\"hoverinfo\":\"text\",\"marker\":{\"color\":\"rgb(61,153,112)\"},\"mode\":\"lines\",\"x\":[102.63719107474257,158.48767593628293,158.48767593628293,130.00180257683704],\"xaxis\":\"x\",\"y\":[-432.34375,-432.34375,-598.125,-598.125],\"yaxis\":\"y\",\"type\":\"scatter\"},{\"hoverinfo\":\"text\",\"marker\":{\"color\":\"rgb(61,153,112)\"},\"mode\":\"lines\",\"x\":[140.33199270666884,244.39670657485516,244.39670657485516,158.48767593628293],\"xaxis\":\"x\",\"y\":[-245.15625,-245.15625,-515.234375,-515.234375],\"yaxis\":\"y\",\"type\":\"scatter\"},{\"hoverinfo\":\"text\",\"marker\":{\"color\":\"rgb(61,153,112)\"},\"mode\":\"lines\",\"x\":[164.86390298812657,355.2850602189951,355.2850602189951,244.39670657485516],\"xaxis\":\"x\",\"y\":[-58.75,-58.75,-380.1953125,-380.1953125],\"yaxis\":\"y\",\"type\":\"scatter\"},{\"hoverinfo\":\"text\",\"marker\":{\"color\":\"rgb(61,153,112)\"},\"mode\":\"lines\",\"x\":[44.47580207531498,626.7480321100915,626.7480321100915,355.2850602189951],\"xaxis\":\"x\",\"y\":[-12.5,-12.5,-219.47265625,-219.47265625],\"yaxis\":\"y\",\"type\":\"scatter\"},{\"hoverinfo\":\"text\",\"marker\":{\"color\":\"rgb(255,65,54)\"},\"mode\":\"lines\",\"x\":[0.0,1.4477346775496378,1.4477346775496378,0.0],\"xaxis\":\"x\",\"y\":[-665.0,-665.0,-675.0,-675.0],\"yaxis\":\"y\",\"type\":\"scatter\"},{\"hoverinfo\":\"text\",\"marker\":{\"color\":\"rgb(255,65,54)\"},\"mode\":\"lines\",\"x\":[0.0,10.451871649243994,10.451871649243994,0.0],\"xaxis\":\"x\",\"y\":[-685.0,-685.0,-695.0,-695.0],\"yaxis\":\"y\",\"type\":\"scatter\"},{\"hoverinfo\":\"text\",\"marker\":{\"color\":\"rgb(255,65,54)\"},\"mode\":\"lines\",\"x\":[1.4477346775496378,12.046079702321155,12.046079702321155,10.451871649243994],\"xaxis\":\"x\",\"y\":[-670.0,-670.0,-690.0,-690.0],\"yaxis\":\"y\",\"type\":\"scatter\"},{\"hoverinfo\":\"text\",\"marker\":{\"color\":\"rgb(255,65,54)\"},\"mode\":\"lines\",\"x\":[0.0,5.000002780903294,5.000002780903294,0.0],\"xaxis\":\"x\",\"y\":[-705.0,-705.0,-715.0,-715.0],\"yaxis\":\"y\",\"type\":\"scatter\"},{\"hoverinfo\":\"text\",\"marker\":{\"color\":\"rgb(255,65,54)\"},\"mode\":\"lines\",\"x\":[0.0,2.8559911007329672,2.8559911007329672,0.0],\"xaxis\":\"x\",\"y\":[-735.0,-735.0,-745.0,-745.0],\"yaxis\":\"y\",\"type\":\"scatter\"},{\"hoverinfo\":\"text\",\"marker\":{\"color\":\"rgb(255,65,54)\"},\"mode\":\"lines\",\"x\":[0.0,10.199664096685286,10.199664096685286,2.8559911007329672],\"xaxis\":\"x\",\"y\":[-725.0,-725.0,-740.0,-740.0],\"yaxis\":\"y\",\"type\":\"scatter\"},{\"hoverinfo\":\"text\",\"marker\":{\"color\":\"rgb(255,65,54)\"},\"mode\":\"lines\",\"x\":[5.000002780903294,17.69821977197229,17.69821977197229,10.199664096685286],\"xaxis\":\"x\",\"y\":[-710.0,-710.0,-732.5,-732.5],\"yaxis\":\"y\",\"type\":\"scatter\"},{\"hoverinfo\":\"text\",\"marker\":{\"color\":\"rgb(255,65,54)\"},\"mode\":\"lines\",\"x\":[12.046079702321155,39.59861925658798,39.59861925658798,17.69821977197229],\"xaxis\":\"x\",\"y\":[-680.0,-680.0,-721.25,-721.25],\"yaxis\":\"y\",\"type\":\"scatter\"},{\"hoverinfo\":\"text\",\"marker\":{\"color\":\"rgb(255,65,54)\"},\"mode\":\"lines\",\"x\":[0.0,10.70754418527356,10.70754418527356,0.0],\"xaxis\":\"x\",\"y\":[-755.0,-755.0,-765.0,-765.0],\"yaxis\":\"y\",\"type\":\"scatter\"},{\"hoverinfo\":\"text\",\"marker\":{\"color\":\"rgb(255,65,54)\"},\"mode\":\"lines\",\"x\":[0.0,1.4142542218479242,1.4142542218479242,0.0],\"xaxis\":\"x\",\"y\":[-785.0,-785.0,-795.0,-795.0],\"yaxis\":\"y\",\"type\":\"scatter\"},{\"hoverinfo\":\"text\",\"marker\":{\"color\":\"rgb(255,65,54)\"},\"mode\":\"lines\",\"x\":[0.0,6.343921121181168,6.343921121181168,1.4142542218479242],\"xaxis\":\"x\",\"y\":[-775.0,-775.0,-790.0,-790.0],\"yaxis\":\"y\",\"type\":\"scatter\"},{\"hoverinfo\":\"text\",\"marker\":{\"color\":\"rgb(255,65,54)\"},\"mode\":\"lines\",\"x\":[0.0,2.2409067878535005,2.2409067878535005,0.0],\"xaxis\":\"x\",\"y\":[-805.0,-805.0,-815.0,-815.0],\"yaxis\":\"y\",\"type\":\"scatter\"},{\"hoverinfo\":\"text\",\"marker\":{\"color\":\"rgb(255,65,54)\"},\"mode\":\"lines\",\"x\":[0.0,2.828699432460715,2.828699432460715,0.0],\"xaxis\":\"x\",\"y\":[-825.0,-825.0,-835.0,-835.0],\"yaxis\":\"y\",\"type\":\"scatter\"},{\"hoverinfo\":\"text\",\"marker\":{\"color\":\"rgb(255,65,54)\"},\"mode\":\"lines\",\"x\":[2.2409067878535005,8.48528173410436,8.48528173410436,2.828699432460715],\"xaxis\":\"x\",\"y\":[-810.0,-810.0,-830.0,-830.0],\"yaxis\":\"y\",\"type\":\"scatter\"},{\"hoverinfo\":\"text\",\"marker\":{\"color\":\"rgb(255,65,54)\"},\"mode\":\"lines\",\"x\":[6.343921121181168,17.125673237947755,17.125673237947755,8.48528173410436],\"xaxis\":\"x\",\"y\":[-782.5,-782.5,-820.0,-820.0],\"yaxis\":\"y\",\"type\":\"scatter\"},{\"hoverinfo\":\"text\",\"marker\":{\"color\":\"rgb(255,65,54)\"},\"mode\":\"lines\",\"x\":[10.70754418527356,24.791788115566227,24.791788115566227,17.125673237947755],\"xaxis\":\"x\",\"y\":[-760.0,-760.0,-801.25,-801.25],\"yaxis\":\"y\",\"type\":\"scatter\"},{\"hoverinfo\":\"text\",\"marker\":{\"color\":\"rgb(255,65,54)\"},\"mode\":\"lines\",\"x\":[0.0,10.630180216856388,10.630180216856388,0.0],\"xaxis\":\"x\",\"y\":[-865.0,-865.0,-875.0,-875.0],\"yaxis\":\"y\",\"type\":\"scatter\"},{\"hoverinfo\":\"text\",\"marker\":{\"color\":\"rgb(255,65,54)\"},\"mode\":\"lines\",\"x\":[0.0,17.28557936922227,17.28557936922227,10.630180216856388],\"xaxis\":\"x\",\"y\":[-855.0,-855.0,-870.0,-870.0],\"yaxis\":\"y\",\"type\":\"scatter\"},{\"hoverinfo\":\"text\",\"marker\":{\"color\":\"rgb(255,65,54)\"},\"mode\":\"lines\",\"x\":[0.0,2.836908154654588,2.836908154654588,0.0],\"xaxis\":\"x\",\"y\":[-885.0,-885.0,-895.0,-895.0],\"yaxis\":\"y\",\"type\":\"scatter\"},{\"hoverinfo\":\"text\",\"marker\":{\"color\":\"rgb(255,65,54)\"},\"mode\":\"lines\",\"x\":[0.0,3.164774643331507,3.164774643331507,0.0],\"xaxis\":\"x\",\"y\":[-925.0,-925.0,-935.0,-935.0],\"yaxis\":\"y\",\"type\":\"scatter\"},{\"hoverinfo\":\"text\",\"marker\":{\"color\":\"rgb(255,65,54)\"},\"mode\":\"lines\",\"x\":[0.0,5.385212349134503,5.385212349134503,3.164774643331507],\"xaxis\":\"x\",\"y\":[-915.0,-915.0,-930.0,-930.0],\"yaxis\":\"y\",\"type\":\"scatter\"},{\"hoverinfo\":\"text\",\"marker\":{\"color\":\"rgb(255,65,54)\"},\"mode\":\"lines\",\"x\":[0.0,8.546280374459512,8.546280374459512,5.385212349134503],\"xaxis\":\"x\",\"y\":[-905.0,-905.0,-922.5,-922.5],\"yaxis\":\"y\",\"type\":\"scatter\"},{\"hoverinfo\":\"text\",\"marker\":{\"color\":\"rgb(255,65,54)\"},\"mode\":\"lines\",\"x\":[2.836908154654588,23.345917189899776,23.345917189899776,8.546280374459512],\"xaxis\":\"x\",\"y\":[-890.0,-890.0,-913.75,-913.75],\"yaxis\":\"y\",\"type\":\"scatter\"},{\"hoverinfo\":\"text\",\"marker\":{\"color\":\"rgb(255,65,54)\"},\"mode\":\"lines\",\"x\":[17.28557936922227,35.22783150293941,35.22783150293941,23.345917189899776],\"xaxis\":\"x\",\"y\":[-862.5,-862.5,-901.875,-901.875],\"yaxis\":\"y\",\"type\":\"scatter\"},{\"hoverinfo\":\"text\",\"marker\":{\"color\":\"rgb(255,65,54)\"},\"mode\":\"lines\",\"x\":[0.0,46.647615334872526,46.647615334872526,35.22783150293941],\"xaxis\":\"x\",\"y\":[-845.0,-845.0,-882.1875,-882.1875],\"yaxis\":\"y\",\"type\":\"scatter\"},{\"hoverinfo\":\"text\",\"marker\":{\"color\":\"rgb(255,65,54)\"},\"mode\":\"lines\",\"x\":[24.791788115566227,67.23129765492646,67.23129765492646,46.647615334872526],\"xaxis\":\"x\",\"y\":[-780.625,-780.625,-863.59375,-863.59375],\"yaxis\":\"y\",\"type\":\"scatter\"},{\"hoverinfo\":\"text\",\"marker\":{\"color\":\"rgb(255,65,54)\"},\"mode\":\"lines\",\"x\":[39.59861925658798,106.06635511181784,106.06635511181784,67.23129765492646],\"xaxis\":\"x\",\"y\":[-700.625,-700.625,-822.109375,-822.109375],\"yaxis\":\"y\",\"type\":\"scatter\"},{\"hoverinfo\":\"text\",\"marker\":{\"color\":\"rgb(255,65,54)\"},\"mode\":\"lines\",\"x\":[0.0,2.2455429629687256,2.2455429629687256,0.0],\"xaxis\":\"x\",\"y\":[-945.0,-945.0,-955.0,-955.0],\"yaxis\":\"y\",\"type\":\"scatter\"},{\"hoverinfo\":\"text\",\"marker\":{\"color\":\"rgb(255,65,54)\"},\"mode\":\"lines\",\"x\":[0.0,3.611924559953521,3.611924559953521,0.0],\"xaxis\":\"x\",\"y\":[-965.0,-965.0,-975.0,-975.0],\"yaxis\":\"y\",\"type\":\"scatter\"},{\"hoverinfo\":\"text\",\"marker\":{\"color\":\"rgb(255,65,54)\"},\"mode\":\"lines\",\"x\":[0.0,4.187629307599151,4.187629307599151,0.0],\"xaxis\":\"x\",\"y\":[-985.0,-985.0,-995.0,-995.0],\"yaxis\":\"y\",\"type\":\"scatter\"},{\"hoverinfo\":\"text\",\"marker\":{\"color\":\"rgb(255,65,54)\"},\"mode\":\"lines\",\"x\":[3.611924559953521,16.786617964504725,16.786617964504725,4.187629307599151],\"xaxis\":\"x\",\"y\":[-970.0,-970.0,-990.0,-990.0],\"yaxis\":\"y\",\"type\":\"scatter\"},{\"hoverinfo\":\"text\",\"marker\":{\"color\":\"rgb(255,65,54)\"},\"mode\":\"lines\",\"x\":[2.2455429629687256,27.809647029273883,27.809647029273883,16.786617964504725],\"xaxis\":\"x\",\"y\":[-950.0,-950.0,-980.0,-980.0],\"yaxis\":\"y\",\"type\":\"scatter\"},{\"hoverinfo\":\"text\",\"marker\":{\"color\":\"rgb(255,65,54)\"},\"mode\":\"lines\",\"x\":[0.0,10.440356979225394,10.440356979225394,0.0],\"xaxis\":\"x\",\"y\":[-1005.0,-1005.0,-1015.0,-1015.0],\"yaxis\":\"y\",\"type\":\"scatter\"},{\"hoverinfo\":\"text\",\"marker\":{\"color\":\"rgb(255,65,54)\"},\"mode\":\"lines\",\"x\":[0.0,4.243611165303241,4.243611165303241,0.0],\"xaxis\":\"x\",\"y\":[-1025.0,-1025.0,-1035.0,-1035.0],\"yaxis\":\"y\",\"type\":\"scatter\"},{\"hoverinfo\":\"text\",\"marker\":{\"color\":\"rgb(255,65,54)\"},\"mode\":\"lines\",\"x\":[0.0,3.1641526653855894,3.1641526653855894,0.0],\"xaxis\":\"x\",\"y\":[-1045.0,-1045.0,-1055.0,-1055.0],\"yaxis\":\"y\",\"type\":\"scatter\"},{\"hoverinfo\":\"text\",\"marker\":{\"color\":\"rgb(255,65,54)\"},\"mode\":\"lines\",\"x\":[0.0,5.103547134117119,5.103547134117119,0.0],\"xaxis\":\"x\",\"y\":[-1065.0,-1065.0,-1075.0,-1075.0],\"yaxis\":\"y\",\"type\":\"scatter\"},{\"hoverinfo\":\"text\",\"marker\":{\"color\":\"rgb(255,65,54)\"},\"mode\":\"lines\",\"x\":[3.1641526653855894,11.314401838174158,11.314401838174158,5.103547134117119],\"xaxis\":\"x\",\"y\":[-1050.0,-1050.0,-1070.0,-1070.0],\"yaxis\":\"y\",\"type\":\"scatter\"},{\"hoverinfo\":\"text\",\"marker\":{\"color\":\"rgb(255,65,54)\"},\"mode\":\"lines\",\"x\":[4.243611165303241,23.43134820212734,23.43134820212734,11.314401838174158],\"xaxis\":\"x\",\"y\":[-1030.0,-1030.0,-1060.0,-1060.0],\"yaxis\":\"y\",\"type\":\"scatter\"},{\"hoverinfo\":\"text\",\"marker\":{\"color\":\"rgb(255,65,54)\"},\"mode\":\"lines\",\"x\":[10.440356979225394,30.08324577137163,30.08324577137163,23.43134820212734],\"xaxis\":\"x\",\"y\":[-1010.0,-1010.0,-1045.0,-1045.0],\"yaxis\":\"y\",\"type\":\"scatter\"},{\"hoverinfo\":\"text\",\"marker\":{\"color\":\"rgb(255,65,54)\"},\"mode\":\"lines\",\"x\":[27.809647029273883,67.89842607181477,67.89842607181477,30.08324577137163],\"xaxis\":\"x\",\"y\":[-965.0,-965.0,-1027.5,-1027.5],\"yaxis\":\"y\",\"type\":\"scatter\"},{\"hoverinfo\":\"text\",\"marker\":{\"color\":\"rgb(255,65,54)\"},\"mode\":\"lines\",\"x\":[0.0,11.331535124039355,11.331535124039355,0.0],\"xaxis\":\"x\",\"y\":[-1085.0,-1085.0,-1095.0,-1095.0],\"yaxis\":\"y\",\"type\":\"scatter\"},{\"hoverinfo\":\"text\",\"marker\":{\"color\":\"rgb(255,65,54)\"},\"mode\":\"lines\",\"x\":[0.0,3.3016425950243646,3.3016425950243646,0.0],\"xaxis\":\"x\",\"y\":[-1125.0,-1125.0,-1135.0,-1135.0],\"yaxis\":\"y\",\"type\":\"scatter\"},{\"hoverinfo\":\"text\",\"marker\":{\"color\":\"rgb(255,65,54)\"},\"mode\":\"lines\",\"x\":[0.0,4.875557166974881,4.875557166974881,3.3016425950243646],\"xaxis\":\"x\",\"y\":[-1115.0,-1115.0,-1130.0,-1130.0],\"yaxis\":\"y\",\"type\":\"scatter\"},{\"hoverinfo\":\"text\",\"marker\":{\"color\":\"rgb(255,65,54)\"},\"mode\":\"lines\",\"x\":[0.0,12.53136580366607,12.53136580366607,4.875557166974881],\"xaxis\":\"x\",\"y\":[-1105.0,-1105.0,-1122.5,-1122.5],\"yaxis\":\"y\",\"type\":\"scatter\"},{\"hoverinfo\":\"text\",\"marker\":{\"color\":\"rgb(255,65,54)\"},\"mode\":\"lines\",\"x\":[11.331535124039355,23.05527340444687,23.05527340444687,12.53136580366607],\"xaxis\":\"x\",\"y\":[-1090.0,-1090.0,-1113.75,-1113.75],\"yaxis\":\"y\",\"type\":\"scatter\"},{\"hoverinfo\":\"text\",\"marker\":{\"color\":\"rgb(255,65,54)\"},\"mode\":\"lines\",\"x\":[0.0,1.4384364589971315,1.4384364589971315,0.0],\"xaxis\":\"x\",\"y\":[-1155.0,-1155.0,-1165.0,-1165.0],\"yaxis\":\"y\",\"type\":\"scatter\"},{\"hoverinfo\":\"text\",\"marker\":{\"color\":\"rgb(255,65,54)\"},\"mode\":\"lines\",\"x\":[0.0,5.146936207412577,5.146936207412577,1.4384364589971315],\"xaxis\":\"x\",\"y\":[-1145.0,-1145.0,-1160.0,-1160.0],\"yaxis\":\"y\",\"type\":\"scatter\"},{\"hoverinfo\":\"text\",\"marker\":{\"color\":\"rgb(255,65,54)\"},\"mode\":\"lines\",\"x\":[0.0,6.407737284529891,6.407737284529891,0.0],\"xaxis\":\"x\",\"y\":[-1175.0,-1175.0,-1185.0,-1185.0],\"yaxis\":\"y\",\"type\":\"scatter\"},{\"hoverinfo\":\"text\",\"marker\":{\"color\":\"rgb(255,65,54)\"},\"mode\":\"lines\",\"x\":[5.146936207412577,17.700658816285326,17.700658816285326,6.407737284529891],\"xaxis\":\"x\",\"y\":[-1152.5,-1152.5,-1180.0,-1180.0],\"yaxis\":\"y\",\"type\":\"scatter\"},{\"hoverinfo\":\"text\",\"marker\":{\"color\":\"rgb(255,65,54)\"},\"mode\":\"lines\",\"x\":[0.0,6.324886228925141,6.324886228925141,0.0],\"xaxis\":\"x\",\"y\":[-1195.0,-1195.0,-1205.0,-1205.0],\"yaxis\":\"y\",\"type\":\"scatter\"},{\"hoverinfo\":\"text\",\"marker\":{\"color\":\"rgb(255,65,54)\"},\"mode\":\"lines\",\"x\":[0.0,7.810312637107464,7.810312637107464,0.0],\"xaxis\":\"x\",\"y\":[-1215.0,-1215.0,-1225.0,-1225.0],\"yaxis\":\"y\",\"type\":\"scatter\"},{\"hoverinfo\":\"text\",\"marker\":{\"color\":\"rgb(255,65,54)\"},\"mode\":\"lines\",\"x\":[6.324886228925141,20.248640522351668,20.248640522351668,7.810312637107464],\"xaxis\":\"x\",\"y\":[-1200.0,-1200.0,-1220.0,-1220.0],\"yaxis\":\"y\",\"type\":\"scatter\"},{\"hoverinfo\":\"text\",\"marker\":{\"color\":\"rgb(255,65,54)\"},\"mode\":\"lines\",\"x\":[17.700658816285326,46.66906711108643,46.66906711108643,20.248640522351668],\"xaxis\":\"x\",\"y\":[-1166.25,-1166.25,-1210.0,-1210.0],\"yaxis\":\"y\",\"type\":\"scatter\"},{\"hoverinfo\":\"text\",\"marker\":{\"color\":\"rgb(255,65,54)\"},\"mode\":\"lines\",\"x\":[23.05527340444687,82.02783748466354,82.02783748466354,46.66906711108643],\"xaxis\":\"x\",\"y\":[-1101.875,-1101.875,-1188.125,-1188.125],\"yaxis\":\"y\",\"type\":\"scatter\"},{\"hoverinfo\":\"text\",\"marker\":{\"color\":\"rgb(255,65,54)\"},\"mode\":\"lines\",\"x\":[67.89842607181477,163.3808036402437,163.3808036402437,82.02783748466354],\"xaxis\":\"x\",\"y\":[-996.25,-996.25,-1145.0,-1145.0],\"yaxis\":\"y\",\"type\":\"scatter\"},{\"hoverinfo\":\"text\",\"marker\":{\"color\":\"rgb(255,65,54)\"},\"mode\":\"lines\",\"x\":[106.06635511181784,282.84394457759174,282.84394457759174,163.3808036402437],\"xaxis\":\"x\",\"y\":[-761.3671875,-761.3671875,-1070.625,-1070.625],\"yaxis\":\"y\",\"type\":\"scatter\"},{\"hoverinfo\":\"text\",\"marker\":{\"color\":\"rgb(255,65,54)\"},\"mode\":\"lines\",\"x\":[0.0,2.2361036664897287,2.2361036664897287,0.0],\"xaxis\":\"x\",\"y\":[-1245.0,-1245.0,-1255.0,-1255.0],\"yaxis\":\"y\",\"type\":\"scatter\"},{\"hoverinfo\":\"text\",\"marker\":{\"color\":\"rgb(255,65,54)\"},\"mode\":\"lines\",\"x\":[0.0,6.082765888917386,6.082765888917386,2.2361036664897287],\"xaxis\":\"x\",\"y\":[-1235.0,-1235.0,-1250.0,-1250.0],\"yaxis\":\"y\",\"type\":\"scatter\"},{\"hoverinfo\":\"text\",\"marker\":{\"color\":\"rgb(255,65,54)\"},\"mode\":\"lines\",\"x\":[0.0,3.6157709788486914,3.6157709788486914,0.0],\"xaxis\":\"x\",\"y\":[-1285.0,-1285.0,-1295.0,-1295.0],\"yaxis\":\"y\",\"type\":\"scatter\"},{\"hoverinfo\":\"text\",\"marker\":{\"color\":\"rgb(255,65,54)\"},\"mode\":\"lines\",\"x\":[0.0,9.22500352030847,9.22500352030847,3.6157709788486914],\"xaxis\":\"x\",\"y\":[-1275.0,-1275.0,-1290.0,-1290.0],\"yaxis\":\"y\",\"type\":\"scatter\"},{\"hoverinfo\":\"text\",\"marker\":{\"color\":\"rgb(255,65,54)\"},\"mode\":\"lines\",\"x\":[0.0,15.033946213567292,15.033946213567292,9.22500352030847],\"xaxis\":\"x\",\"y\":[-1265.0,-1265.0,-1282.5,-1282.5],\"yaxis\":\"y\",\"type\":\"scatter\"},{\"hoverinfo\":\"text\",\"marker\":{\"color\":\"rgb(255,65,54)\"},\"mode\":\"lines\",\"x\":[6.082765888917386,25.061250180880666,25.061250180880666,15.033946213567292],\"xaxis\":\"x\",\"y\":[-1242.5,-1242.5,-1273.75,-1273.75],\"yaxis\":\"y\",\"type\":\"scatter\"},{\"hoverinfo\":\"text\",\"marker\":{\"color\":\"rgb(255,65,54)\"},\"mode\":\"lines\",\"x\":[0.0,20.025153547597334,20.025153547597334,0.0],\"xaxis\":\"x\",\"y\":[-1305.0,-1305.0,-1315.0,-1315.0],\"yaxis\":\"y\",\"type\":\"scatter\"},{\"hoverinfo\":\"text\",\"marker\":{\"color\":\"rgb(255,65,54)\"},\"mode\":\"lines\",\"x\":[0.0,5.656911894313085,5.656911894313085,0.0],\"xaxis\":\"x\",\"y\":[-1325.0,-1325.0,-1335.0,-1335.0],\"yaxis\":\"y\",\"type\":\"scatter\"},{\"hoverinfo\":\"text\",\"marker\":{\"color\":\"rgb(255,65,54)\"},\"mode\":\"lines\",\"x\":[0.0,4.478211198112867,4.478211198112867,0.0],\"xaxis\":\"x\",\"y\":[-1345.0,-1345.0,-1355.0,-1355.0],\"yaxis\":\"y\",\"type\":\"scatter\"},{\"hoverinfo\":\"text\",\"marker\":{\"color\":\"rgb(255,65,54)\"},\"mode\":\"lines\",\"x\":[0.0,2.828431997807522,2.828431997807522,0.0],\"xaxis\":\"x\",\"y\":[-1365.0,-1365.0,-1375.0,-1375.0],\"yaxis\":\"y\",\"type\":\"scatter\"},{\"hoverinfo\":\"text\",\"marker\":{\"color\":\"rgb(255,65,54)\"},\"mode\":\"lines\",\"x\":[0.0,2.8284912078739954,2.8284912078739954,0.0],\"xaxis\":\"x\",\"y\":[-1385.0,-1385.0,-1395.0,-1395.0],\"yaxis\":\"y\",\"type\":\"scatter\"},{\"hoverinfo\":\"text\",\"marker\":{\"color\":\"rgb(255,65,54)\"},\"mode\":\"lines\",\"x\":[2.828431997807522,8.485284944847058,8.485284944847058,2.8284912078739954],\"xaxis\":\"x\",\"y\":[-1370.0,-1370.0,-1390.0,-1390.0],\"yaxis\":\"y\",\"type\":\"scatter\"},{\"hoverinfo\":\"text\",\"marker\":{\"color\":\"rgb(255,65,54)\"},\"mode\":\"lines\",\"x\":[4.478211198112867,16.280682705143338,16.280682705143338,8.485284944847058],\"xaxis\":\"x\",\"y\":[-1350.0,-1350.0,-1380.0,-1380.0],\"yaxis\":\"y\",\"type\":\"scatter\"},{\"hoverinfo\":\"text\",\"marker\":{\"color\":\"rgb(255,65,54)\"},\"mode\":\"lines\",\"x\":[5.656911894313085,19.798992408049823,19.798992408049823,16.280682705143338],\"xaxis\":\"x\",\"y\":[-1330.0,-1330.0,-1365.0,-1365.0],\"yaxis\":\"y\",\"type\":\"scatter\"},{\"hoverinfo\":\"text\",\"marker\":{\"color\":\"rgb(255,65,54)\"},\"mode\":\"lines\",\"x\":[0.0,4.4724493012456605,4.4724493012456605,0.0],\"xaxis\":\"x\",\"y\":[-1405.0,-1405.0,-1415.0,-1415.0],\"yaxis\":\"y\",\"type\":\"scatter\"},{\"hoverinfo\":\"text\",\"marker\":{\"color\":\"rgb(255,65,54)\"},\"mode\":\"lines\",\"x\":[0.0,4.477638397959716,4.477638397959716,0.0],\"xaxis\":\"x\",\"y\":[-1435.0,-1435.0,-1445.0,-1445.0],\"yaxis\":\"y\",\"type\":\"scatter\"},{\"hoverinfo\":\"text\",\"marker\":{\"color\":\"rgb(255,65,54)\"},\"mode\":\"lines\",\"x\":[0.0,9.899496809958277,9.899496809958277,4.477638397959716],\"xaxis\":\"x\",\"y\":[-1425.0,-1425.0,-1440.0,-1440.0],\"yaxis\":\"y\",\"type\":\"scatter\"},{\"hoverinfo\":\"text\",\"marker\":{\"color\":\"rgb(255,65,54)\"},\"mode\":\"lines\",\"x\":[4.4724493012456605,21.213497459834738,21.213497459834738,9.899496809958277],\"xaxis\":\"x\",\"y\":[-1410.0,-1410.0,-1432.5,-1432.5],\"yaxis\":\"y\",\"type\":\"scatter\"},{\"hoverinfo\":\"text\",\"marker\":{\"color\":\"rgb(255,65,54)\"},\"mode\":\"lines\",\"x\":[19.798992408049823,48.08326126620494,48.08326126620494,21.213497459834738],\"xaxis\":\"x\",\"y\":[-1347.5,-1347.5,-1421.25,-1421.25],\"yaxis\":\"y\",\"type\":\"scatter\"},{\"hoverinfo\":\"text\",\"marker\":{\"color\":\"rgb(255,65,54)\"},\"mode\":\"lines\",\"x\":[20.025153547597334,76.89747825135353,76.89747825135353,48.08326126620494],\"xaxis\":\"x\",\"y\":[-1310.0,-1310.0,-1384.375,-1384.375],\"yaxis\":\"y\",\"type\":\"scatter\"},{\"hoverinfo\":\"text\",\"marker\":{\"color\":\"rgb(255,65,54)\"},\"mode\":\"lines\",\"x\":[25.061250180880666,82.22700760281063,82.22700760281063,76.89747825135353],\"xaxis\":\"x\",\"y\":[-1258.125,-1258.125,-1347.1875,-1347.1875],\"yaxis\":\"y\",\"type\":\"scatter\"},{\"hoverinfo\":\"text\",\"marker\":{\"color\":\"rgb(255,65,54)\"},\"mode\":\"lines\",\"x\":[0.0,6.0828048234924035,6.0828048234924035,0.0],\"xaxis\":\"x\",\"y\":[-1465.0,-1465.0,-1475.0,-1475.0],\"yaxis\":\"y\",\"type\":\"scatter\"},{\"hoverinfo\":\"text\",\"marker\":{\"color\":\"rgb(255,65,54)\"},\"mode\":\"lines\",\"x\":[0.0,18.357777211736654,18.357777211736654,6.0828048234924035],\"xaxis\":\"x\",\"y\":[-1455.0,-1455.0,-1470.0,-1470.0],\"yaxis\":\"y\",\"type\":\"scatter\"},{\"hoverinfo\":\"text\",\"marker\":{\"color\":\"rgb(255,65,54)\"},\"mode\":\"lines\",\"x\":[0.0,5.000030046825744,5.000030046825744,0.0],\"xaxis\":\"x\",\"y\":[-1485.0,-1485.0,-1495.0,-1495.0],\"yaxis\":\"y\",\"type\":\"scatter\"},{\"hoverinfo\":\"text\",\"marker\":{\"color\":\"rgb(255,65,54)\"},\"mode\":\"lines\",\"x\":[0.0,9.219544503582048,9.219544503582048,0.0],\"xaxis\":\"x\",\"y\":[-1505.0,-1505.0,-1515.0,-1515.0],\"yaxis\":\"y\",\"type\":\"scatter\"},{\"hoverinfo\":\"text\",\"marker\":{\"color\":\"rgb(255,65,54)\"},\"mode\":\"lines\",\"x\":[5.000030046825744,30.413816594814765,30.413816594814765,9.219544503582048],\"xaxis\":\"x\",\"y\":[-1490.0,-1490.0,-1510.0,-1510.0],\"yaxis\":\"y\",\"type\":\"scatter\"},{\"hoverinfo\":\"text\",\"marker\":{\"color\":\"rgb(255,65,54)\"},\"mode\":\"lines\",\"x\":[18.357777211736654,40.025132741326345,40.025132741326345,30.413816594814765],\"xaxis\":\"x\",\"y\":[-1462.5,-1462.5,-1500.0,-1500.0],\"yaxis\":\"y\",\"type\":\"scatter\"},{\"hoverinfo\":\"text\",\"marker\":{\"color\":\"rgb(255,65,54)\"},\"mode\":\"lines\",\"x\":[0.0,1.41693209243704,1.41693209243704,0.0],\"xaxis\":\"x\",\"y\":[-1535.0,-1535.0,-1545.0,-1545.0],\"yaxis\":\"y\",\"type\":\"scatter\"},{\"hoverinfo\":\"text\",\"marker\":{\"color\":\"rgb(255,65,54)\"},\"mode\":\"lines\",\"x\":[0.0,3.171527204309273,3.171527204309273,0.0],\"xaxis\":\"x\",\"y\":[-1555.0,-1555.0,-1565.0,-1565.0],\"yaxis\":\"y\",\"type\":\"scatter\"},{\"hoverinfo\":\"text\",\"marker\":{\"color\":\"rgb(255,65,54)\"},\"mode\":\"lines\",\"x\":[1.41693209243704,6.324580267111605,6.324580267111605,3.171527204309273],\"xaxis\":\"x\",\"y\":[-1540.0,-1540.0,-1560.0,-1560.0],\"yaxis\":\"y\",\"type\":\"scatter\"},{\"hoverinfo\":\"text\",\"marker\":{\"color\":\"rgb(255,65,54)\"},\"mode\":\"lines\",\"x\":[0.0,12.041653504165687,12.041653504165687,6.324580267111605],\"xaxis\":\"x\",\"y\":[-1525.0,-1525.0,-1550.0,-1550.0],\"yaxis\":\"y\",\"type\":\"scatter\"},{\"hoverinfo\":\"text\",\"marker\":{\"color\":\"rgb(255,65,54)\"},\"mode\":\"lines\",\"x\":[0.0,18.380872518770133,18.380872518770133,0.0],\"xaxis\":\"x\",\"y\":[-1585.0,-1585.0,-1595.0,-1595.0],\"yaxis\":\"y\",\"type\":\"scatter\"},{\"hoverinfo\":\"text\",\"marker\":{\"color\":\"rgb(255,65,54)\"},\"mode\":\"lines\",\"x\":[0.0,26.627236996761404,26.627236996761404,18.380872518770133],\"xaxis\":\"x\",\"y\":[-1575.0,-1575.0,-1590.0,-1590.0],\"yaxis\":\"y\",\"type\":\"scatter\"},{\"hoverinfo\":\"text\",\"marker\":{\"color\":\"rgb(255,65,54)\"},\"mode\":\"lines\",\"x\":[12.041653504165687,56.00914939745504,56.00914939745504,26.627236996761404],\"xaxis\":\"x\",\"y\":[-1537.5,-1537.5,-1582.5,-1582.5],\"yaxis\":\"y\",\"type\":\"scatter\"},{\"hoverinfo\":\"text\",\"marker\":{\"color\":\"rgb(255,65,54)\"},\"mode\":\"lines\",\"x\":[0.0,5.099041103826876,5.099041103826876,0.0],\"xaxis\":\"x\",\"y\":[-1605.0,-1605.0,-1615.0,-1615.0],\"yaxis\":\"y\",\"type\":\"scatter\"},{\"hoverinfo\":\"text\",\"marker\":{\"color\":\"rgb(255,65,54)\"},\"mode\":\"lines\",\"x\":[0.0,11.70470011410376,11.70470011410376,0.0],\"xaxis\":\"x\",\"y\":[-1625.0,-1625.0,-1635.0,-1635.0],\"yaxis\":\"y\",\"type\":\"scatter\"},{\"hoverinfo\":\"text\",\"marker\":{\"color\":\"rgb(255,65,54)\"},\"mode\":\"lines\",\"x\":[0.0,16.553200073310126,16.553200073310126,0.0],\"xaxis\":\"x\",\"y\":[-1645.0,-1645.0,-1655.0,-1655.0],\"yaxis\":\"y\",\"type\":\"scatter\"},{\"hoverinfo\":\"text\",\"marker\":{\"color\":\"rgb(255,65,54)\"},\"mode\":\"lines\",\"x\":[11.70470011410376,25.000536778302596,25.000536778302596,16.553200073310126],\"xaxis\":\"x\",\"y\":[-1630.0,-1630.0,-1650.0,-1650.0],\"yaxis\":\"y\",\"type\":\"scatter\"},{\"hoverinfo\":\"text\",\"marker\":{\"color\":\"rgb(255,65,54)\"},\"mode\":\"lines\",\"x\":[5.099041103826876,36.769572078007634,36.769572078007634,25.000536778302596],\"xaxis\":\"x\",\"y\":[-1610.0,-1610.0,-1640.0,-1640.0],\"yaxis\":\"y\",\"type\":\"scatter\"},{\"hoverinfo\":\"text\",\"marker\":{\"color\":\"rgb(255,65,54)\"},\"mode\":\"lines\",\"x\":[0.0,1.4143954719351002,1.4143954719351002,0.0],\"xaxis\":\"x\",\"y\":[-1675.0,-1675.0,-1685.0,-1685.0],\"yaxis\":\"y\",\"type\":\"scatter\"},{\"hoverinfo\":\"text\",\"marker\":{\"color\":\"rgb(255,65,54)\"},\"mode\":\"lines\",\"x\":[0.0,5.385282805778598,5.385282805778598,1.4143954719351002],\"xaxis\":\"x\",\"y\":[-1665.0,-1665.0,-1680.0,-1680.0],\"yaxis\":\"y\",\"type\":\"scatter\"},{\"hoverinfo\":\"text\",\"marker\":{\"color\":\"rgb(255,65,54)\"},\"mode\":\"lines\",\"x\":[0.0,11.180340519948924,11.180340519948924,0.0],\"xaxis\":\"x\",\"y\":[-1695.0,-1695.0,-1705.0,-1705.0],\"yaxis\":\"y\",\"type\":\"scatter\"},{\"hoverinfo\":\"text\",\"marker\":{\"color\":\"rgb(255,65,54)\"},\"mode\":\"lines\",\"x\":[5.385282805778598,25.632017371445556,25.632017371445556,11.180340519948924],\"xaxis\":\"x\",\"y\":[-1672.5,-1672.5,-1700.0,-1700.0],\"yaxis\":\"y\",\"type\":\"scatter\"},{\"hoverinfo\":\"text\",\"marker\":{\"color\":\"rgb(255,65,54)\"},\"mode\":\"lines\",\"x\":[0.0,5.657066916067138,5.657066916067138,0.0],\"xaxis\":\"x\",\"y\":[-1715.0,-1715.0,-1725.0,-1725.0],\"yaxis\":\"y\",\"type\":\"scatter\"},{\"hoverinfo\":\"text\",\"marker\":{\"color\":\"rgb(255,65,54)\"},\"mode\":\"lines\",\"x\":[0.0,7.211381246802162,7.211381246802162,0.0],\"xaxis\":\"x\",\"y\":[-1735.0,-1735.0,-1745.0,-1745.0],\"yaxis\":\"y\",\"type\":\"scatter\"},{\"hoverinfo\":\"text\",\"marker\":{\"color\":\"rgb(255,65,54)\"},\"mode\":\"lines\",\"x\":[5.657066916067138,12.369532362735537,12.369532362735537,7.211381246802162],\"xaxis\":\"x\",\"y\":[-1720.0,-1720.0,-1740.0,-1740.0],\"yaxis\":\"y\",\"type\":\"scatter\"},{\"hoverinfo\":\"text\",\"marker\":{\"color\":\"rgb(255,65,54)\"},\"mode\":\"lines\",\"x\":[0.0,8.485281412482868,8.485281412482868,0.0],\"xaxis\":\"x\",\"y\":[-1765.0,-1765.0,-1775.0,-1775.0],\"yaxis\":\"y\",\"type\":\"scatter\"},{\"hoverinfo\":\"text\",\"marker\":{\"color\":\"rgb(255,65,54)\"},\"mode\":\"lines\",\"x\":[0.0,13.929001268248912,13.929001268248912,8.485281412482868],\"xaxis\":\"x\",\"y\":[-1755.0,-1755.0,-1770.0,-1770.0],\"yaxis\":\"y\",\"type\":\"scatter\"},{\"hoverinfo\":\"text\",\"marker\":{\"color\":\"rgb(255,65,54)\"},\"mode\":\"lines\",\"x\":[12.369532362735537,33.241546820669164,33.241546820669164,13.929001268248912],\"xaxis\":\"x\",\"y\":[-1730.0,-1730.0,-1762.5,-1762.5],\"yaxis\":\"y\",\"type\":\"scatter\"},{\"hoverinfo\":\"text\",\"marker\":{\"color\":\"rgb(255,65,54)\"},\"mode\":\"lines\",\"x\":[25.632017371445556,56.824331983762114,56.824331983762114,33.241546820669164],\"xaxis\":\"x\",\"y\":[-1686.25,-1686.25,-1746.25,-1746.25],\"yaxis\":\"y\",\"type\":\"scatter\"},{\"hoverinfo\":\"text\",\"marker\":{\"color\":\"rgb(255,65,54)\"},\"mode\":\"lines\",\"x\":[36.769572078007634,76.16430723916942,76.16430723916942,56.824331983762114],\"xaxis\":\"x\",\"y\":[-1625.0,-1625.0,-1716.25,-1716.25],\"yaxis\":\"y\",\"type\":\"scatter\"},{\"hoverinfo\":\"text\",\"marker\":{\"color\":\"rgb(255,65,54)\"},\"mode\":\"lines\",\"x\":[56.00914939745504,93.14516289749807,93.14516289749807,76.16430723916942],\"xaxis\":\"x\",\"y\":[-1560.0,-1560.0,-1670.625,-1670.625],\"yaxis\":\"y\",\"type\":\"scatter\"},{\"hoverinfo\":\"text\",\"marker\":{\"color\":\"rgb(255,65,54)\"},\"mode\":\"lines\",\"x\":[40.025132741326345,125.93660514409903,125.93660514409903,93.14516289749807],\"xaxis\":\"x\",\"y\":[-1481.25,-1481.25,-1615.3125,-1615.3125],\"yaxis\":\"y\",\"type\":\"scatter\"},{\"hoverinfo\":\"text\",\"marker\":{\"color\":\"rgb(255,65,54)\"},\"mode\":\"lines\",\"x\":[82.22700760281063,227.6883963318295,227.6883963318295,125.93660514409903],\"xaxis\":\"x\",\"y\":[-1302.65625,-1302.65625,-1548.28125,-1548.28125],\"yaxis\":\"y\",\"type\":\"scatter\"},{\"hoverinfo\":\"text\",\"marker\":{\"color\":\"rgb(255,65,54)\"},\"mode\":\"lines\",\"x\":[0.0,22.488224019617697,22.488224019617697,0.0],\"xaxis\":\"x\",\"y\":[-1785.0,-1785.0,-1795.0,-1795.0],\"yaxis\":\"y\",\"type\":\"scatter\"},{\"hoverinfo\":\"text\",\"marker\":{\"color\":\"rgb(255,65,54)\"},\"mode\":\"lines\",\"x\":[0.0,3.1623055205076462,3.1623055205076462,0.0],\"xaxis\":\"x\",\"y\":[-1825.0,-1825.0,-1835.0,-1835.0],\"yaxis\":\"y\",\"type\":\"scatter\"},{\"hoverinfo\":\"text\",\"marker\":{\"color\":\"rgb(255,65,54)\"},\"mode\":\"lines\",\"x\":[0.0,25.49616104652004,25.49616104652004,3.1623055205076462],\"xaxis\":\"x\",\"y\":[-1815.0,-1815.0,-1830.0,-1830.0],\"yaxis\":\"y\",\"type\":\"scatter\"},{\"hoverinfo\":\"text\",\"marker\":{\"color\":\"rgb(255,65,54)\"},\"mode\":\"lines\",\"x\":[0.0,3.607757730949179,3.607757730949179,0.0],\"xaxis\":\"x\",\"y\":[-1875.0,-1875.0,-1885.0,-1885.0],\"yaxis\":\"y\",\"type\":\"scatter\"},{\"hoverinfo\":\"text\",\"marker\":{\"color\":\"rgb(255,65,54)\"},\"mode\":\"lines\",\"x\":[0.0,7.810251335467716,7.810251335467716,3.607757730949179],\"xaxis\":\"x\",\"y\":[-1865.0,-1865.0,-1880.0,-1880.0],\"yaxis\":\"y\",\"type\":\"scatter\"},{\"hoverinfo\":\"text\",\"marker\":{\"color\":\"rgb(255,65,54)\"},\"mode\":\"lines\",\"x\":[0.0,9.850356074349186,9.850356074349186,0.0],\"xaxis\":\"x\",\"y\":[-1895.0,-1895.0,-1905.0,-1905.0],\"yaxis\":\"y\",\"type\":\"scatter\"},{\"hoverinfo\":\"text\",\"marker\":{\"color\":\"rgb(255,65,54)\"},\"mode\":\"lines\",\"x\":[7.810251335467716,17.262775568199704,17.262775568199704,9.850356074349186],\"xaxis\":\"x\",\"y\":[-1872.5,-1872.5,-1900.0,-1900.0],\"yaxis\":\"y\",\"type\":\"scatter\"},{\"hoverinfo\":\"text\",\"marker\":{\"color\":\"rgb(255,65,54)\"},\"mode\":\"lines\",\"x\":[0.0,21.540666236141135,21.540666236141135,17.262775568199704],\"xaxis\":\"x\",\"y\":[-1855.0,-1855.0,-1886.25,-1886.25],\"yaxis\":\"y\",\"type\":\"scatter\"},{\"hoverinfo\":\"text\",\"marker\":{\"color\":\"rgb(255,65,54)\"},\"mode\":\"lines\",\"x\":[0.0,34.54036966565802,34.54036966565802,21.540666236141135],\"xaxis\":\"x\",\"y\":[-1845.0,-1845.0,-1870.625,-1870.625],\"yaxis\":\"y\",\"type\":\"scatter\"},{\"hoverinfo\":\"text\",\"marker\":{\"color\":\"rgb(255,65,54)\"},\"mode\":\"lines\",\"x\":[25.49616104652004,54.149686401402334,54.149686401402334,34.54036966565802],\"xaxis\":\"x\",\"y\":[-1822.5,-1822.5,-1857.8125,-1857.8125],\"yaxis\":\"y\",\"type\":\"scatter\"},{\"hoverinfo\":\"text\",\"marker\":{\"color\":\"rgb(255,65,54)\"},\"mode\":\"lines\",\"x\":[0.0,107.23253296201018,107.23253296201018,54.149686401402334],\"xaxis\":\"x\",\"y\":[-1805.0,-1805.0,-1840.15625,-1840.15625],\"yaxis\":\"y\",\"type\":\"scatter\"},{\"hoverinfo\":\"text\",\"marker\":{\"color\":\"rgb(255,65,54)\"},\"mode\":\"lines\",\"x\":[22.488224019617697,172.62714848392693,172.62714848392693,107.23253296201018],\"xaxis\":\"x\",\"y\":[-1790.0,-1790.0,-1822.578125,-1822.578125],\"yaxis\":\"y\",\"type\":\"scatter\"},{\"hoverinfo\":\"text\",\"marker\":{\"color\":\"rgb(255,65,54)\"},\"mode\":\"lines\",\"x\":[0.0,30.102641241512348,30.102641241512348,0.0],\"xaxis\":\"x\",\"y\":[-1925.0,-1925.0,-1935.0,-1935.0],\"yaxis\":\"y\",\"type\":\"scatter\"},{\"hoverinfo\":\"text\",\"marker\":{\"color\":\"rgb(255,65,54)\"},\"mode\":\"lines\",\"x\":[0.0,84.58217710341775,84.58217710341775,30.102641241512348],\"xaxis\":\"x\",\"y\":[-1915.0,-1915.0,-1930.0,-1930.0],\"yaxis\":\"y\",\"type\":\"scatter\"},{\"hoverinfo\":\"text\",\"marker\":{\"color\":\"rgb(255,65,54)\"},\"mode\":\"lines\",\"x\":[0.0,5.385825366155663,5.385825366155663,0.0],\"xaxis\":\"x\",\"y\":[-1945.0,-1945.0,-1955.0,-1955.0],\"yaxis\":\"y\",\"type\":\"scatter\"},{\"hoverinfo\":\"text\",\"marker\":{\"color\":\"rgb(255,65,54)\"},\"mode\":\"lines\",\"x\":[0.0,6.403288517493219,6.403288517493219,0.0],\"xaxis\":\"x\",\"y\":[-1985.0,-1985.0,-1995.0,-1995.0],\"yaxis\":\"y\",\"type\":\"scatter\"},{\"hoverinfo\":\"text\",\"marker\":{\"color\":\"rgb(255,65,54)\"},\"mode\":\"lines\",\"x\":[0.0,20.624022867372364,20.624022867372364,6.403288517493219],\"xaxis\":\"x\",\"y\":[-1975.0,-1975.0,-1990.0,-1990.0],\"yaxis\":\"y\",\"type\":\"scatter\"},{\"hoverinfo\":\"text\",\"marker\":{\"color\":\"rgb(255,65,54)\"},\"mode\":\"lines\",\"x\":[0.0,32.015632745651665,32.015632745651665,20.624022867372364],\"xaxis\":\"x\",\"y\":[-1965.0,-1965.0,-1982.5,-1982.5],\"yaxis\":\"y\",\"type\":\"scatter\"},{\"hoverinfo\":\"text\",\"marker\":{\"color\":\"rgb(255,65,54)\"},\"mode\":\"lines\",\"x\":[5.385825366155663,51.86540449156454,51.86540449156454,32.015632745651665],\"xaxis\":\"x\",\"y\":[-1950.0,-1950.0,-1973.75,-1973.75],\"yaxis\":\"y\",\"type\":\"scatter\"},{\"hoverinfo\":\"text\",\"marker\":{\"color\":\"rgb(255,65,54)\"},\"mode\":\"lines\",\"x\":[0.0,20.223759686524346,20.223759686524346,0.0],\"xaxis\":\"x\",\"y\":[-2005.0,-2005.0,-2015.0,-2015.0],\"yaxis\":\"y\",\"type\":\"scatter\"},{\"hoverinfo\":\"text\",\"marker\":{\"color\":\"rgb(255,65,54)\"},\"mode\":\"lines\",\"x\":[0.0,7.071099979253257,7.071099979253257,0.0],\"xaxis\":\"x\",\"y\":[-2035.0,-2035.0,-2045.0,-2045.0],\"yaxis\":\"y\",\"type\":\"scatter\"},{\"hoverinfo\":\"text\",\"marker\":{\"color\":\"rgb(255,65,54)\"},\"mode\":\"lines\",\"x\":[0.0,27.166172168412498,27.166172168412498,7.071099979253257],\"xaxis\":\"x\",\"y\":[-2025.0,-2025.0,-2040.0,-2040.0],\"yaxis\":\"y\",\"type\":\"scatter\"},{\"hoverinfo\":\"text\",\"marker\":{\"color\":\"rgb(255,65,54)\"},\"mode\":\"lines\",\"x\":[20.223759686524346,66.61081053716426,66.61081053716426,27.166172168412498],\"xaxis\":\"x\",\"y\":[-2010.0,-2010.0,-2032.5,-2032.5],\"yaxis\":\"y\",\"type\":\"scatter\"},{\"hoverinfo\":\"text\",\"marker\":{\"color\":\"rgb(255,65,54)\"},\"mode\":\"lines\",\"x\":[51.86540449156454,95.80712824595618,95.80712824595618,66.61081053716426],\"xaxis\":\"x\",\"y\":[-1961.875,-1961.875,-2021.25,-2021.25],\"yaxis\":\"y\",\"type\":\"scatter\"},{\"hoverinfo\":\"text\",\"marker\":{\"color\":\"rgb(255,65,54)\"},\"mode\":\"lines\",\"x\":[84.58217710341775,143.27314288462475,143.27314288462475,95.80712824595618],\"xaxis\":\"x\",\"y\":[-1922.5,-1922.5,-1991.5625,-1991.5625],\"yaxis\":\"y\",\"type\":\"scatter\"},{\"hoverinfo\":\"text\",\"marker\":{\"color\":\"rgb(255,65,54)\"},\"mode\":\"lines\",\"x\":[0.0,34.67314252517533,34.67314252517533,0.0],\"xaxis\":\"x\",\"y\":[-2065.0,-2065.0,-2075.0,-2075.0],\"yaxis\":\"y\",\"type\":\"scatter\"},{\"hoverinfo\":\"text\",\"marker\":{\"color\":\"rgb(255,65,54)\"},\"mode\":\"lines\",\"x\":[0.0,62.771133118214905,62.771133118214905,34.67314252517533],\"xaxis\":\"x\",\"y\":[-2055.0,-2055.0,-2070.0,-2070.0],\"yaxis\":\"y\",\"type\":\"scatter\"},{\"hoverinfo\":\"text\",\"marker\":{\"color\":\"rgb(255,65,54)\"},\"mode\":\"lines\",\"x\":[0.0,37.44385263326569,37.44385263326569,0.0],\"xaxis\":\"x\",\"y\":[-2095.0,-2095.0,-2105.0,-2105.0],\"yaxis\":\"y\",\"type\":\"scatter\"},{\"hoverinfo\":\"text\",\"marker\":{\"color\":\"rgb(255,65,54)\"},\"mode\":\"lines\",\"x\":[0.0,90.60434854825817,90.60434854825817,37.44385263326569],\"xaxis\":\"x\",\"y\":[-2085.0,-2085.0,-2100.0,-2100.0],\"yaxis\":\"y\",\"type\":\"scatter\"},{\"hoverinfo\":\"text\",\"marker\":{\"color\":\"rgb(255,65,54)\"},\"mode\":\"lines\",\"x\":[62.771133118214905,161.52448782864374,161.52448782864374,90.60434854825817],\"xaxis\":\"x\",\"y\":[-2062.5,-2062.5,-2092.5,-2092.5],\"yaxis\":\"y\",\"type\":\"scatter\"},{\"hoverinfo\":\"text\",\"marker\":{\"color\":\"rgb(255,65,54)\"},\"mode\":\"lines\",\"x\":[143.27314288462475,255.63450472768204,255.63450472768204,161.52448782864374],\"xaxis\":\"x\",\"y\":[-1957.03125,-1957.03125,-2077.5,-2077.5],\"yaxis\":\"y\",\"type\":\"scatter\"},{\"hoverinfo\":\"text\",\"marker\":{\"color\":\"rgb(255,65,54)\"},\"mode\":\"lines\",\"x\":[172.62714848392693,322.34460443307296,322.34460443307296,255.63450472768204],\"xaxis\":\"x\",\"y\":[-1806.2890625,-1806.2890625,-2017.265625,-2017.265625],\"yaxis\":\"y\",\"type\":\"scatter\"},{\"hoverinfo\":\"text\",\"marker\":{\"color\":\"rgb(255,65,54)\"},\"mode\":\"lines\",\"x\":[227.6883963318295,421.7356993621571,421.7356993621571,322.34460443307296],\"xaxis\":\"x\",\"y\":[-1425.46875,-1425.46875,-1911.77734375,-1911.77734375],\"yaxis\":\"y\",\"type\":\"scatter\"},{\"hoverinfo\":\"text\",\"marker\":{\"color\":\"rgb(255,65,54)\"},\"mode\":\"lines\",\"x\":[282.84394457759174,675.4635460326696,675.4635460326696,421.7356993621571],\"xaxis\":\"x\",\"y\":[-915.99609375,-915.99609375,-1668.623046875,-1668.623046875],\"yaxis\":\"y\",\"type\":\"scatter\"},{\"hoverinfo\":\"text\",\"marker\":{\"color\":\"rgb(35,205,205)\"},\"mode\":\"lines\",\"x\":[0.0,11.446303717692627,11.446303717692627,0.0],\"xaxis\":\"x\",\"y\":[-2135.0,-2135.0,-2145.0,-2145.0],\"yaxis\":\"y\",\"type\":\"scatter\"},{\"hoverinfo\":\"text\",\"marker\":{\"color\":\"rgb(35,205,205)\"},\"mode\":\"lines\",\"x\":[0.0,20.34700105045916,20.34700105045916,11.446303717692627],\"xaxis\":\"x\",\"y\":[-2125.0,-2125.0,-2140.0,-2140.0],\"yaxis\":\"y\",\"type\":\"scatter\"},{\"hoverinfo\":\"text\",\"marker\":{\"color\":\"rgb(35,205,205)\"},\"mode\":\"lines\",\"x\":[0.0,29.291662567740172,29.291662567740172,20.34700105045916],\"xaxis\":\"x\",\"y\":[-2115.0,-2115.0,-2132.5,-2132.5],\"yaxis\":\"y\",\"type\":\"scatter\"},{\"hoverinfo\":\"text\",\"marker\":{\"color\":\"rgb(35,205,205)\"},\"mode\":\"lines\",\"x\":[0.0,16.763160240096543,16.763160240096543,0.0],\"xaxis\":\"x\",\"y\":[-2155.0,-2155.0,-2165.0,-2165.0],\"yaxis\":\"y\",\"type\":\"scatter\"},{\"hoverinfo\":\"text\",\"marker\":{\"color\":\"rgb(35,205,205)\"},\"mode\":\"lines\",\"x\":[0.0,8.485284795180442,8.485284795180442,0.0],\"xaxis\":\"x\",\"y\":[-2185.0,-2185.0,-2195.0,-2195.0],\"yaxis\":\"y\",\"type\":\"scatter\"},{\"hoverinfo\":\"text\",\"marker\":{\"color\":\"rgb(35,205,205)\"},\"mode\":\"lines\",\"x\":[0.0,21.024343557287725,21.024343557287725,8.485284795180442],\"xaxis\":\"x\",\"y\":[-2175.0,-2175.0,-2190.0,-2190.0],\"yaxis\":\"y\",\"type\":\"scatter\"},{\"hoverinfo\":\"text\",\"marker\":{\"color\":\"rgb(35,205,205)\"},\"mode\":\"lines\",\"x\":[16.763160240096543,43.42850740870178,43.42850740870178,21.024343557287725],\"xaxis\":\"x\",\"y\":[-2160.0,-2160.0,-2182.5,-2182.5],\"yaxis\":\"y\",\"type\":\"scatter\"},{\"hoverinfo\":\"text\",\"marker\":{\"color\":\"rgb(35,205,205)\"},\"mode\":\"lines\",\"x\":[29.291662567740172,64.17168365537806,64.17168365537806,43.42850740870178],\"xaxis\":\"x\",\"y\":[-2123.75,-2123.75,-2171.25,-2171.25],\"yaxis\":\"y\",\"type\":\"scatter\"},{\"hoverinfo\":\"text\",\"marker\":{\"color\":\"rgb(35,205,205)\"},\"mode\":\"lines\",\"x\":[0.0,23.281841629372945,23.281841629372945,0.0],\"xaxis\":\"x\",\"y\":[-2215.0,-2215.0,-2225.0,-2225.0],\"yaxis\":\"y\",\"type\":\"scatter\"},{\"hoverinfo\":\"text\",\"marker\":{\"color\":\"rgb(35,205,205)\"},\"mode\":\"lines\",\"x\":[0.0,41.41259924686843,41.41259924686843,23.281841629372945],\"xaxis\":\"x\",\"y\":[-2205.0,-2205.0,-2220.0,-2220.0],\"yaxis\":\"y\",\"type\":\"scatter\"},{\"hoverinfo\":\"text\",\"marker\":{\"color\":\"rgb(35,205,205)\"},\"mode\":\"lines\",\"x\":[0.0,10.817906182487123,10.817906182487123,0.0],\"xaxis\":\"x\",\"y\":[-2245.0,-2245.0,-2255.0,-2255.0],\"yaxis\":\"y\",\"type\":\"scatter\"},{\"hoverinfo\":\"text\",\"marker\":{\"color\":\"rgb(35,205,205)\"},\"mode\":\"lines\",\"x\":[0.0,23.43155812448175,23.43155812448175,10.817906182487123],\"xaxis\":\"x\",\"y\":[-2235.0,-2235.0,-2250.0,-2250.0],\"yaxis\":\"y\",\"type\":\"scatter\"},{\"hoverinfo\":\"text\",\"marker\":{\"color\":\"rgb(35,205,205)\"},\"mode\":\"lines\",\"x\":[0.0,5.385170819789433,5.385170819789433,0.0],\"xaxis\":\"x\",\"y\":[-2265.0,-2265.0,-2275.0,-2275.0],\"yaxis\":\"y\",\"type\":\"scatter\"},{\"hoverinfo\":\"text\",\"marker\":{\"color\":\"rgb(35,205,205)\"},\"mode\":\"lines\",\"x\":[0.0,11.04539962793805,11.04539962793805,0.0],\"xaxis\":\"x\",\"y\":[-2285.0,-2285.0,-2295.0,-2295.0],\"yaxis\":\"y\",\"type\":\"scatter\"},{\"hoverinfo\":\"text\",\"marker\":{\"color\":\"rgb(35,205,205)\"},\"mode\":\"lines\",\"x\":[0.0,11.445709183125707,11.445709183125707,0.0],\"xaxis\":\"x\",\"y\":[-2305.0,-2305.0,-2315.0,-2315.0],\"yaxis\":\"y\",\"type\":\"scatter\"},{\"hoverinfo\":\"text\",\"marker\":{\"color\":\"rgb(35,205,205)\"},\"mode\":\"lines\",\"x\":[11.04539962793805,23.853721298261554,23.853721298261554,11.445709183125707],\"xaxis\":\"x\",\"y\":[-2290.0,-2290.0,-2310.0,-2310.0],\"yaxis\":\"y\",\"type\":\"scatter\"},{\"hoverinfo\":\"text\",\"marker\":{\"color\":\"rgb(35,205,205)\"},\"mode\":\"lines\",\"x\":[5.385170819789433,31.717515138719605,31.717515138719605,23.853721298261554],\"xaxis\":\"x\",\"y\":[-2270.0,-2270.0,-2300.0,-2300.0],\"yaxis\":\"y\",\"type\":\"scatter\"},{\"hoverinfo\":\"text\",\"marker\":{\"color\":\"rgb(35,205,205)\"},\"mode\":\"lines\",\"x\":[23.43155812448175,66.60340149240723,66.60340149240723,31.717515138719605],\"xaxis\":\"x\",\"y\":[-2242.5,-2242.5,-2285.0,-2285.0],\"yaxis\":\"y\",\"type\":\"scatter\"},{\"hoverinfo\":\"text\",\"marker\":{\"color\":\"rgb(35,205,205)\"},\"mode\":\"lines\",\"x\":[41.41259924686843,99.4535518516543,99.4535518516543,66.60340149240723],\"xaxis\":\"x\",\"y\":[-2212.5,-2212.5,-2263.75,-2263.75],\"yaxis\":\"y\",\"type\":\"scatter\"},{\"hoverinfo\":\"text\",\"marker\":{\"color\":\"rgb(35,205,205)\"},\"mode\":\"lines\",\"x\":[64.17168365537806,128.4134450077775,128.4134450077775,99.4535518516543],\"xaxis\":\"x\",\"y\":[-2147.5,-2147.5,-2238.125,-2238.125],\"yaxis\":\"y\",\"type\":\"scatter\"},{\"hoverinfo\":\"text\",\"marker\":{\"color\":\"rgb(35,205,205)\"},\"mode\":\"lines\",\"x\":[0.0,24.207437521318464,24.207437521318464,0.0],\"xaxis\":\"x\",\"y\":[-2335.0,-2335.0,-2345.0,-2345.0],\"yaxis\":\"y\",\"type\":\"scatter\"},{\"hoverinfo\":\"text\",\"marker\":{\"color\":\"rgb(35,205,205)\"},\"mode\":\"lines\",\"x\":[0.0,30.03356716279322,30.03356716279322,24.207437521318464],\"xaxis\":\"x\",\"y\":[-2325.0,-2325.0,-2340.0,-2340.0],\"yaxis\":\"y\",\"type\":\"scatter\"},{\"hoverinfo\":\"text\",\"marker\":{\"color\":\"rgb(35,205,205)\"},\"mode\":\"lines\",\"x\":[0.0,4.476787148483113,4.476787148483113,0.0],\"xaxis\":\"x\",\"y\":[-2375.0,-2375.0,-2385.0,-2385.0],\"yaxis\":\"y\",\"type\":\"scatter\"},{\"hoverinfo\":\"text\",\"marker\":{\"color\":\"rgb(35,205,205)\"},\"mode\":\"lines\",\"x\":[0.0,13.601470608177609,13.601470608177609,4.476787148483113],\"xaxis\":\"x\",\"y\":[-2365.0,-2365.0,-2380.0,-2380.0],\"yaxis\":\"y\",\"type\":\"scatter\"},{\"hoverinfo\":\"text\",\"marker\":{\"color\":\"rgb(35,205,205)\"},\"mode\":\"lines\",\"x\":[0.0,21.28409154579906,21.28409154579906,13.601470608177609],\"xaxis\":\"x\",\"y\":[-2355.0,-2355.0,-2372.5,-2372.5],\"yaxis\":\"y\",\"type\":\"scatter\"},{\"hoverinfo\":\"text\",\"marker\":{\"color\":\"rgb(35,205,205)\"},\"mode\":\"lines\",\"x\":[0.0,26.419702729533096,26.419702729533096,0.0],\"xaxis\":\"x\",\"y\":[-2395.0,-2395.0,-2405.0,-2405.0],\"yaxis\":\"y\",\"type\":\"scatter\"},{\"hoverinfo\":\"text\",\"marker\":{\"color\":\"rgb(35,205,205)\"},\"mode\":\"lines\",\"x\":[21.28409154579906,63.15855128177964,63.15855128177964,26.419702729533096],\"xaxis\":\"x\",\"y\":[-2363.75,-2363.75,-2400.0,-2400.0],\"yaxis\":\"y\",\"type\":\"scatter\"},{\"hoverinfo\":\"text\",\"marker\":{\"color\":\"rgb(35,205,205)\"},\"mode\":\"lines\",\"x\":[30.03356716279322,98.59514273966168,98.59514273966168,63.15855128177964],\"xaxis\":\"x\",\"y\":[-2332.5,-2332.5,-2381.875,-2381.875],\"yaxis\":\"y\",\"type\":\"scatter\"},{\"hoverinfo\":\"text\",\"marker\":{\"color\":\"rgb(35,205,205)\"},\"mode\":\"lines\",\"x\":[0.0,26.57095816667574,26.57095816667574,0.0],\"xaxis\":\"x\",\"y\":[-2425.0,-2425.0,-2435.0,-2435.0],\"yaxis\":\"y\",\"type\":\"scatter\"},{\"hoverinfo\":\"text\",\"marker\":{\"color\":\"rgb(35,205,205)\"},\"mode\":\"lines\",\"x\":[0.0,51.196447041580186,51.196447041580186,26.57095816667574],\"xaxis\":\"x\",\"y\":[-2415.0,-2415.0,-2430.0,-2430.0],\"yaxis\":\"y\",\"type\":\"scatter\"},{\"hoverinfo\":\"text\",\"marker\":{\"color\":\"rgb(35,205,205)\"},\"mode\":\"lines\",\"x\":[0.0,20.348667168769598,20.348667168769598,0.0],\"xaxis\":\"x\",\"y\":[-2445.0,-2445.0,-2455.0,-2455.0],\"yaxis\":\"y\",\"type\":\"scatter\"},{\"hoverinfo\":\"text\",\"marker\":{\"color\":\"rgb(35,205,205)\"},\"mode\":\"lines\",\"x\":[0.0,28.089383058591643,28.089383058591643,0.0],\"xaxis\":\"x\",\"y\":[-2465.0,-2465.0,-2475.0,-2475.0],\"yaxis\":\"y\",\"type\":\"scatter\"},{\"hoverinfo\":\"text\",\"marker\":{\"color\":\"rgb(35,205,205)\"},\"mode\":\"lines\",\"x\":[20.348667168769598,74.46618521513436,74.46618521513436,28.089383058591643],\"xaxis\":\"x\",\"y\":[-2450.0,-2450.0,-2470.0,-2470.0],\"yaxis\":\"y\",\"type\":\"scatter\"},{\"hoverinfo\":\"text\",\"marker\":{\"color\":\"rgb(35,205,205)\"},\"mode\":\"lines\",\"x\":[51.196447041580186,135.62448165702997,135.62448165702997,74.46618521513436],\"xaxis\":\"x\",\"y\":[-2422.5,-2422.5,-2460.0,-2460.0],\"yaxis\":\"y\",\"type\":\"scatter\"},{\"hoverinfo\":\"text\",\"marker\":{\"color\":\"rgb(35,205,205)\"},\"mode\":\"lines\",\"x\":[98.59514273966168,181.24379342930504,181.24379342930504,135.62448165702997],\"xaxis\":\"x\",\"y\":[-2357.1875,-2357.1875,-2441.25,-2441.25],\"yaxis\":\"y\",\"type\":\"scatter\"},{\"hoverinfo\":\"text\",\"marker\":{\"color\":\"rgb(35,205,205)\"},\"mode\":\"lines\",\"x\":[128.4134450077775,300.6161808535678,300.6161808535678,181.24379342930504],\"xaxis\":\"x\",\"y\":[-2192.8125,-2192.8125,-2399.21875,-2399.21875],\"yaxis\":\"y\",\"type\":\"scatter\"},{\"hoverinfo\":\"text\",\"marker\":{\"color\":\"rgb(35,205,205)\"},\"mode\":\"lines\",\"x\":[0.0,12.377190621184761,12.377190621184761,0.0],\"xaxis\":\"x\",\"y\":[-2495.0,-2495.0,-2505.0,-2505.0],\"yaxis\":\"y\",\"type\":\"scatter\"},{\"hoverinfo\":\"text\",\"marker\":{\"color\":\"rgb(35,205,205)\"},\"mode\":\"lines\",\"x\":[0.0,28.461634363173733,28.461634363173733,12.377190621184761],\"xaxis\":\"x\",\"y\":[-2485.0,-2485.0,-2500.0,-2500.0],\"yaxis\":\"y\",\"type\":\"scatter\"},{\"hoverinfo\":\"text\",\"marker\":{\"color\":\"rgb(35,205,205)\"},\"mode\":\"lines\",\"x\":[0.0,4.244873805307304,4.244873805307304,0.0],\"xaxis\":\"x\",\"y\":[-2515.0,-2515.0,-2525.0,-2525.0],\"yaxis\":\"y\",\"type\":\"scatter\"},{\"hoverinfo\":\"text\",\"marker\":{\"color\":\"rgb(35,205,205)\"},\"mode\":\"lines\",\"x\":[0.0,8.063538852543935,8.063538852543935,0.0],\"xaxis\":\"x\",\"y\":[-2535.0,-2535.0,-2545.0,-2545.0],\"yaxis\":\"y\",\"type\":\"scatter\"},{\"hoverinfo\":\"text\",\"marker\":{\"color\":\"rgb(35,205,205)\"},\"mode\":\"lines\",\"x\":[4.244873805307304,20.615614362194037,20.615614362194037,8.063538852543935],\"xaxis\":\"x\",\"y\":[-2520.0,-2520.0,-2540.0,-2540.0],\"yaxis\":\"y\",\"type\":\"scatter\"},{\"hoverinfo\":\"text\",\"marker\":{\"color\":\"rgb(35,205,205)\"},\"mode\":\"lines\",\"x\":[0.0,3.1623460233918603,3.1623460233918603,0.0],\"xaxis\":\"x\",\"y\":[-2575.0,-2575.0,-2585.0,-2585.0],\"yaxis\":\"y\",\"type\":\"scatter\"},{\"hoverinfo\":\"text\",\"marker\":{\"color\":\"rgb(35,205,205)\"},\"mode\":\"lines\",\"x\":[0.0,9.434277281218872,9.434277281218872,3.1623460233918603],\"xaxis\":\"x\",\"y\":[-2565.0,-2565.0,-2580.0,-2580.0],\"yaxis\":\"y\",\"type\":\"scatter\"},{\"hoverinfo\":\"text\",\"marker\":{\"color\":\"rgb(35,205,205)\"},\"mode\":\"lines\",\"x\":[0.0,4.359908542987608,4.359908542987608,0.0],\"xaxis\":\"x\",\"y\":[-2615.0,-2615.0,-2625.0,-2625.0],\"yaxis\":\"y\",\"type\":\"scatter\"},{\"hoverinfo\":\"text\",\"marker\":{\"color\":\"rgb(35,205,205)\"},\"mode\":\"lines\",\"x\":[0.0,5.1079369599650875,5.1079369599650875,4.359908542987608],\"xaxis\":\"x\",\"y\":[-2605.0,-2605.0,-2620.0,-2620.0],\"yaxis\":\"y\",\"type\":\"scatter\"},{\"hoverinfo\":\"text\",\"marker\":{\"color\":\"rgb(35,205,205)\"},\"mode\":\"lines\",\"x\":[0.0,12.728131985434572,12.728131985434572,5.1079369599650875],\"xaxis\":\"x\",\"y\":[-2595.0,-2595.0,-2612.5,-2612.5],\"yaxis\":\"y\",\"type\":\"scatter\"},{\"hoverinfo\":\"text\",\"marker\":{\"color\":\"rgb(35,205,205)\"},\"mode\":\"lines\",\"x\":[9.434277281218872,27.586250462289684,27.586250462289684,12.728131985434572],\"xaxis\":\"x\",\"y\":[-2572.5,-2572.5,-2603.75,-2603.75],\"yaxis\":\"y\",\"type\":\"scatter\"},{\"hoverinfo\":\"text\",\"marker\":{\"color\":\"rgb(35,205,205)\"},\"mode\":\"lines\",\"x\":[0.0,43.56608431754345,43.56608431754345,27.586250462289684],\"xaxis\":\"x\",\"y\":[-2555.0,-2555.0,-2588.125,-2588.125],\"yaxis\":\"y\",\"type\":\"scatter\"},{\"hoverinfo\":\"text\",\"marker\":{\"color\":\"rgb(35,205,205)\"},\"mode\":\"lines\",\"x\":[20.615614362194037,53.90735470581388,53.90735470581388,43.56608431754345],\"xaxis\":\"x\",\"y\":[-2530.0,-2530.0,-2571.5625,-2571.5625],\"yaxis\":\"y\",\"type\":\"scatter\"},{\"hoverinfo\":\"text\",\"marker\":{\"color\":\"rgb(35,205,205)\"},\"mode\":\"lines\",\"x\":[28.461634363173733,101.79391594599785,101.79391594599785,53.90735470581388],\"xaxis\":\"x\",\"y\":[-2492.5,-2492.5,-2550.78125,-2550.78125],\"yaxis\":\"y\",\"type\":\"scatter\"},{\"hoverinfo\":\"text\",\"marker\":{\"color\":\"rgb(35,205,205)\"},\"mode\":\"lines\",\"x\":[0.0,16.673362704690447,16.673362704690447,0.0],\"xaxis\":\"x\",\"y\":[-2635.0,-2635.0,-2645.0,-2645.0],\"yaxis\":\"y\",\"type\":\"scatter\"},{\"hoverinfo\":\"text\",\"marker\":{\"color\":\"rgb(35,205,205)\"},\"mode\":\"lines\",\"x\":[0.0,30.01667868711218,30.01667868711218,0.0],\"xaxis\":\"x\",\"y\":[-2655.0,-2655.0,-2665.0,-2665.0],\"yaxis\":\"y\",\"type\":\"scatter\"},{\"hoverinfo\":\"text\",\"marker\":{\"color\":\"rgb(35,205,205)\"},\"mode\":\"lines\",\"x\":[16.673362704690447,51.90378105981401,51.90378105981401,30.01667868711218],\"xaxis\":\"x\",\"y\":[-2640.0,-2640.0,-2660.0,-2660.0],\"yaxis\":\"y\",\"type\":\"scatter\"},{\"hoverinfo\":\"text\",\"marker\":{\"color\":\"rgb(35,205,205)\"},\"mode\":\"lines\",\"x\":[0.0,8.306639075086462,8.306639075086462,0.0],\"xaxis\":\"x\",\"y\":[-2675.0,-2675.0,-2685.0,-2685.0],\"yaxis\":\"y\",\"type\":\"scatter\"},{\"hoverinfo\":\"text\",\"marker\":{\"color\":\"rgb(35,205,205)\"},\"mode\":\"lines\",\"x\":[0.0,10.630146054875015,10.630146054875015,0.0],\"xaxis\":\"x\",\"y\":[-2695.0,-2695.0,-2705.0,-2705.0],\"yaxis\":\"y\",\"type\":\"scatter\"},{\"hoverinfo\":\"text\",\"marker\":{\"color\":\"rgb(35,205,205)\"},\"mode\":\"lines\",\"x\":[8.306639075086462,21.400955422661053,21.400955422661053,10.630146054875015],\"xaxis\":\"x\",\"y\":[-2680.0,-2680.0,-2700.0,-2700.0],\"yaxis\":\"y\",\"type\":\"scatter\"},{\"hoverinfo\":\"text\",\"marker\":{\"color\":\"rgb(35,205,205)\"},\"mode\":\"lines\",\"x\":[0.0,9.433981283219271,9.433981283219271,0.0],\"xaxis\":\"x\",\"y\":[-2725.0,-2725.0,-2735.0,-2735.0],\"yaxis\":\"y\",\"type\":\"scatter\"},{\"hoverinfo\":\"text\",\"marker\":{\"color\":\"rgb(35,205,205)\"},\"mode\":\"lines\",\"x\":[0.0,23.216394291113133,23.216394291113133,9.433981283219271],\"xaxis\":\"x\",\"y\":[-2715.0,-2715.0,-2730.0,-2730.0],\"yaxis\":\"y\",\"type\":\"scatter\"},{\"hoverinfo\":\"text\",\"marker\":{\"color\":\"rgb(35,205,205)\"},\"mode\":\"lines\",\"x\":[21.400955422661053,40.360922030454745,40.360922030454745,23.216394291113133],\"xaxis\":\"x\",\"y\":[-2690.0,-2690.0,-2722.5,-2722.5],\"yaxis\":\"y\",\"type\":\"scatter\"},{\"hoverinfo\":\"text\",\"marker\":{\"color\":\"rgb(35,205,205)\"},\"mode\":\"lines\",\"x\":[0.0,5.09911068451162,5.09911068451162,0.0],\"xaxis\":\"x\",\"y\":[-2745.0,-2745.0,-2755.0,-2755.0],\"yaxis\":\"y\",\"type\":\"scatter\"},{\"hoverinfo\":\"text\",\"marker\":{\"color\":\"rgb(35,205,205)\"},\"mode\":\"lines\",\"x\":[0.0,13.747728574267407,13.747728574267407,0.0],\"xaxis\":\"x\",\"y\":[-2765.0,-2765.0,-2775.0,-2775.0],\"yaxis\":\"y\",\"type\":\"scatter\"},{\"hoverinfo\":\"text\",\"marker\":{\"color\":\"rgb(35,205,205)\"},\"mode\":\"lines\",\"x\":[5.09911068451162,24.4336033555319,24.4336033555319,13.747728574267407],\"xaxis\":\"x\",\"y\":[-2750.0,-2750.0,-2770.0,-2770.0],\"yaxis\":\"y\",\"type\":\"scatter\"},{\"hoverinfo\":\"text\",\"marker\":{\"color\":\"rgb(35,205,205)\"},\"mode\":\"lines\",\"x\":[0.0,15.937515755782476,15.937515755782476,0.0],\"xaxis\":\"x\",\"y\":[-2795.0,-2795.0,-2805.0,-2805.0],\"yaxis\":\"y\",\"type\":\"scatter\"},{\"hoverinfo\":\"text\",\"marker\":{\"color\":\"rgb(35,205,205)\"},\"mode\":\"lines\",\"x\":[0.0,26.47643621525003,26.47643621525003,15.937515755782476],\"xaxis\":\"x\",\"y\":[-2785.0,-2785.0,-2800.0,-2800.0],\"yaxis\":\"y\",\"type\":\"scatter\"},{\"hoverinfo\":\"text\",\"marker\":{\"color\":\"rgb(35,205,205)\"},\"mode\":\"lines\",\"x\":[24.4336033555319,50.97076944502135,50.97076944502135,26.47643621525003],\"xaxis\":\"x\",\"y\":[-2760.0,-2760.0,-2792.5,-2792.5],\"yaxis\":\"y\",\"type\":\"scatter\"},{\"hoverinfo\":\"text\",\"marker\":{\"color\":\"rgb(35,205,205)\"},\"mode\":\"lines\",\"x\":[40.360922030454745,66.51316252392331,66.51316252392331,50.97076944502135],\"xaxis\":\"x\",\"y\":[-2706.25,-2706.25,-2776.25,-2776.25],\"yaxis\":\"y\",\"type\":\"scatter\"},{\"hoverinfo\":\"text\",\"marker\":{\"color\":\"rgb(35,205,205)\"},\"mode\":\"lines\",\"x\":[51.90378105981401,136.97810603027082,136.97810603027082,66.51316252392331],\"xaxis\":\"x\",\"y\":[-2650.0,-2650.0,-2741.25,-2741.25],\"yaxis\":\"y\",\"type\":\"scatter\"},{\"hoverinfo\":\"text\",\"marker\":{\"color\":\"rgb(35,205,205)\"},\"mode\":\"lines\",\"x\":[101.79391594599785,197.38546741057732,197.38546741057732,136.97810603027082],\"xaxis\":\"x\",\"y\":[-2521.640625,-2521.640625,-2695.625,-2695.625],\"yaxis\":\"y\",\"type\":\"scatter\"},{\"hoverinfo\":\"text\",\"marker\":{\"color\":\"rgb(35,205,205)\"},\"mode\":\"lines\",\"x\":[0.0,9.056700048474307,9.056700048474307,0.0],\"xaxis\":\"x\",\"y\":[-2825.0,-2825.0,-2835.0,-2835.0],\"yaxis\":\"y\",\"type\":\"scatter\"},{\"hoverinfo\":\"text\",\"marker\":{\"color\":\"rgb(35,205,205)\"},\"mode\":\"lines\",\"x\":[0.0,13.04113407215949,13.04113407215949,0.0],\"xaxis\":\"x\",\"y\":[-2845.0,-2845.0,-2855.0,-2855.0],\"yaxis\":\"y\",\"type\":\"scatter\"},{\"hoverinfo\":\"text\",\"marker\":{\"color\":\"rgb(35,205,205)\"},\"mode\":\"lines\",\"x\":[9.056700048474307,23.262075009651,23.262075009651,13.04113407215949],\"xaxis\":\"x\",\"y\":[-2830.0,-2830.0,-2850.0,-2850.0],\"yaxis\":\"y\",\"type\":\"scatter\"},{\"hoverinfo\":\"text\",\"marker\":{\"color\":\"rgb(35,205,205)\"},\"mode\":\"lines\",\"x\":[0.0,15.652691356876698,15.652691356876698,0.0],\"xaxis\":\"x\",\"y\":[-2875.0,-2875.0,-2885.0,-2885.0],\"yaxis\":\"y\",\"type\":\"scatter\"},{\"hoverinfo\":\"text\",\"marker\":{\"color\":\"rgb(35,205,205)\"},\"mode\":\"lines\",\"x\":[0.0,28.302254549466472,28.302254549466472,15.652691356876698],\"xaxis\":\"x\",\"y\":[-2865.0,-2865.0,-2880.0,-2880.0],\"yaxis\":\"y\",\"type\":\"scatter\"},{\"hoverinfo\":\"text\",\"marker\":{\"color\":\"rgb(35,205,205)\"},\"mode\":\"lines\",\"x\":[23.262075009651,44.600919776723416,44.600919776723416,28.302254549466472],\"xaxis\":\"x\",\"y\":[-2840.0,-2840.0,-2872.5,-2872.5],\"yaxis\":\"y\",\"type\":\"scatter\"},{\"hoverinfo\":\"text\",\"marker\":{\"color\":\"rgb(35,205,205)\"},\"mode\":\"lines\",\"x\":[0.0,51.867485585035716,51.867485585035716,44.600919776723416],\"xaxis\":\"x\",\"y\":[-2815.0,-2815.0,-2856.25,-2856.25],\"yaxis\":\"y\",\"type\":\"scatter\"},{\"hoverinfo\":\"text\",\"marker\":{\"color\":\"rgb(35,205,205)\"},\"mode\":\"lines\",\"x\":[0.0,3.162298761043509,3.162298761043509,0.0],\"xaxis\":\"x\",\"y\":[-2895.0,-2895.0,-2905.0,-2905.0],\"yaxis\":\"y\",\"type\":\"scatter\"},{\"hoverinfo\":\"text\",\"marker\":{\"color\":\"rgb(35,205,205)\"},\"mode\":\"lines\",\"x\":[0.0,2.2448794023541256,2.2448794023541256,0.0],\"xaxis\":\"x\",\"y\":[-2925.0,-2925.0,-2935.0,-2935.0],\"yaxis\":\"y\",\"type\":\"scatter\"},{\"hoverinfo\":\"text\",\"marker\":{\"color\":\"rgb(35,205,205)\"},\"mode\":\"lines\",\"x\":[0.0,4.243704938067632,4.243704938067632,2.2448794023541256],\"xaxis\":\"x\",\"y\":[-2915.0,-2915.0,-2930.0,-2930.0],\"yaxis\":\"y\",\"type\":\"scatter\"},{\"hoverinfo\":\"text\",\"marker\":{\"color\":\"rgb(35,205,205)\"},\"mode\":\"lines\",\"x\":[3.162298761043509,17.206416238393782,17.206416238393782,4.243704938067632],\"xaxis\":\"x\",\"y\":[-2900.0,-2900.0,-2922.5,-2922.5],\"yaxis\":\"y\",\"type\":\"scatter\"},{\"hoverinfo\":\"text\",\"marker\":{\"color\":\"rgb(35,205,205)\"},\"mode\":\"lines\",\"x\":[0.0,4.473367678627781,4.473367678627781,0.0],\"xaxis\":\"x\",\"y\":[-2945.0,-2945.0,-2955.0,-2955.0],\"yaxis\":\"y\",\"type\":\"scatter\"},{\"hoverinfo\":\"text\",\"marker\":{\"color\":\"rgb(35,205,205)\"},\"mode\":\"lines\",\"x\":[0.0,4.243635917327105,4.243635917327105,0.0],\"xaxis\":\"x\",\"y\":[-2965.0,-2965.0,-2975.0,-2975.0],\"yaxis\":\"y\",\"type\":\"scatter\"},{\"hoverinfo\":\"text\",\"marker\":{\"color\":\"rgb(35,205,205)\"},\"mode\":\"lines\",\"x\":[0.0,5.65759199914753,5.65759199914753,0.0],\"xaxis\":\"x\",\"y\":[-2985.0,-2985.0,-2995.0,-2995.0],\"yaxis\":\"y\",\"type\":\"scatter\"},{\"hoverinfo\":\"text\",\"marker\":{\"color\":\"rgb(35,205,205)\"},\"mode\":\"lines\",\"x\":[4.243635917327105,13.92882471600999,13.92882471600999,5.65759199914753],\"xaxis\":\"x\",\"y\":[-2970.0,-2970.0,-2990.0,-2990.0],\"yaxis\":\"y\",\"type\":\"scatter\"},{\"hoverinfo\":\"text\",\"marker\":{\"color\":\"rgb(35,205,205)\"},\"mode\":\"lines\",\"x\":[4.473367678627781,26.907637666339262,26.907637666339262,13.92882471600999],\"xaxis\":\"x\",\"y\":[-2950.0,-2950.0,-2980.0,-2980.0],\"yaxis\":\"y\",\"type\":\"scatter\"},{\"hoverinfo\":\"text\",\"marker\":{\"color\":\"rgb(35,205,205)\"},\"mode\":\"lines\",\"x\":[17.206416238393782,60.87744976709307,60.87744976709307,26.907637666339262],\"xaxis\":\"x\",\"y\":[-2911.25,-2911.25,-2965.0,-2965.0],\"yaxis\":\"y\",\"type\":\"scatter\"},{\"hoverinfo\":\"text\",\"marker\":{\"color\":\"rgb(35,205,205)\"},\"mode\":\"lines\",\"x\":[51.867485585035716,90.66997998383115,90.66997998383115,60.87744976709307],\"xaxis\":\"x\",\"y\":[-2835.625,-2835.625,-2938.125,-2938.125],\"yaxis\":\"y\",\"type\":\"scatter\"},{\"hoverinfo\":\"text\",\"marker\":{\"color\":\"rgb(35,205,205)\"},\"mode\":\"lines\",\"x\":[0.0,21.93174865705808,21.93174865705808,0.0],\"xaxis\":\"x\",\"y\":[-3015.0,-3015.0,-3025.0,-3025.0],\"yaxis\":\"y\",\"type\":\"scatter\"},{\"hoverinfo\":\"text\",\"marker\":{\"color\":\"rgb(35,205,205)\"},\"mode\":\"lines\",\"x\":[0.0,44.045432380369995,44.045432380369995,21.93174865705808],\"xaxis\":\"x\",\"y\":[-3005.0,-3005.0,-3020.0,-3020.0],\"yaxis\":\"y\",\"type\":\"scatter\"},{\"hoverinfo\":\"text\",\"marker\":{\"color\":\"rgb(35,205,205)\"},\"mode\":\"lines\",\"x\":[0.0,9.055487076465456,9.055487076465456,0.0],\"xaxis\":\"x\",\"y\":[-3035.0,-3035.0,-3045.0,-3045.0],\"yaxis\":\"y\",\"type\":\"scatter\"},{\"hoverinfo\":\"text\",\"marker\":{\"color\":\"rgb(35,205,205)\"},\"mode\":\"lines\",\"x\":[0.0,1.43952062198908,1.43952062198908,0.0],\"xaxis\":\"x\",\"y\":[-3075.0,-3075.0,-3085.0,-3085.0],\"yaxis\":\"y\",\"type\":\"scatter\"},{\"hoverinfo\":\"text\",\"marker\":{\"color\":\"rgb(35,205,205)\"},\"mode\":\"lines\",\"x\":[0.0,6.327329028575433,6.327329028575433,1.43952062198908],\"xaxis\":\"x\",\"y\":[-3065.0,-3065.0,-3080.0,-3080.0],\"yaxis\":\"y\",\"type\":\"scatter\"},{\"hoverinfo\":\"text\",\"marker\":{\"color\":\"rgb(35,205,205)\"},\"mode\":\"lines\",\"x\":[0.0,12.17007740657627,12.17007740657627,6.327329028575433],\"xaxis\":\"x\",\"y\":[-3055.0,-3055.0,-3072.5,-3072.5],\"yaxis\":\"y\",\"type\":\"scatter\"},{\"hoverinfo\":\"text\",\"marker\":{\"color\":\"rgb(35,205,205)\"},\"mode\":\"lines\",\"x\":[9.055487076465456,17.80470507424182,17.80470507424182,12.17007740657627],\"xaxis\":\"x\",\"y\":[-3040.0,-3040.0,-3063.75,-3063.75],\"yaxis\":\"y\",\"type\":\"scatter\"},{\"hoverinfo\":\"text\",\"marker\":{\"color\":\"rgb(35,205,205)\"},\"mode\":\"lines\",\"x\":[0.0,9.906066652689002,9.906066652689002,0.0],\"xaxis\":\"x\",\"y\":[-3105.0,-3105.0,-3115.0,-3115.0],\"yaxis\":\"y\",\"type\":\"scatter\"},{\"hoverinfo\":\"text\",\"marker\":{\"color\":\"rgb(35,205,205)\"},\"mode\":\"lines\",\"x\":[0.0,16.124630321666743,16.124630321666743,9.906066652689002],\"xaxis\":\"x\",\"y\":[-3095.0,-3095.0,-3110.0,-3110.0],\"yaxis\":\"y\",\"type\":\"scatter\"},{\"hoverinfo\":\"text\",\"marker\":{\"color\":\"rgb(35,205,205)\"},\"mode\":\"lines\",\"x\":[0.0,5.000000069373848,5.000000069373848,0.0],\"xaxis\":\"x\",\"y\":[-3125.0,-3125.0,-3135.0,-3135.0],\"yaxis\":\"y\",\"type\":\"scatter\"},{\"hoverinfo\":\"text\",\"marker\":{\"color\":\"rgb(35,205,205)\"},\"mode\":\"lines\",\"x\":[0.0,6.403408359632073,6.403408359632073,0.0],\"xaxis\":\"x\",\"y\":[-3145.0,-3145.0,-3155.0,-3155.0],\"yaxis\":\"y\",\"type\":\"scatter\"},{\"hoverinfo\":\"text\",\"marker\":{\"color\":\"rgb(35,205,205)\"},\"mode\":\"lines\",\"x\":[5.000000069373848,16.970809907708645,16.970809907708645,6.403408359632073],\"xaxis\":\"x\",\"y\":[-3130.0,-3130.0,-3150.0,-3150.0],\"yaxis\":\"y\",\"type\":\"scatter\"},{\"hoverinfo\":\"text\",\"marker\":{\"color\":\"rgb(35,205,205)\"},\"mode\":\"lines\",\"x\":[16.124630321666743,32.38875965418378,32.38875965418378,16.970809907708645],\"xaxis\":\"x\",\"y\":[-3102.5,-3102.5,-3140.0,-3140.0],\"yaxis\":\"y\",\"type\":\"scatter\"},{\"hoverinfo\":\"text\",\"marker\":{\"color\":\"rgb(35,205,205)\"},\"mode\":\"lines\",\"x\":[0.0,6.710183719896981,6.710183719896981,0.0],\"xaxis\":\"x\",\"y\":[-3165.0,-3165.0,-3175.0,-3175.0],\"yaxis\":\"y\",\"type\":\"scatter\"},{\"hoverinfo\":\"text\",\"marker\":{\"color\":\"rgb(35,205,205)\"},\"mode\":\"lines\",\"x\":[0.0,6.40487394782179,6.40487394782179,0.0],\"xaxis\":\"x\",\"y\":[-3195.0,-3195.0,-3205.0,-3205.0],\"yaxis\":\"y\",\"type\":\"scatter\"},{\"hoverinfo\":\"text\",\"marker\":{\"color\":\"rgb(35,205,205)\"},\"mode\":\"lines\",\"x\":[0.0,16.03122124795056,16.03122124795056,6.40487394782179],\"xaxis\":\"x\",\"y\":[-3185.0,-3185.0,-3200.0,-3200.0],\"yaxis\":\"y\",\"type\":\"scatter\"},{\"hoverinfo\":\"text\",\"marker\":{\"color\":\"rgb(35,205,205)\"},\"mode\":\"lines\",\"x\":[6.710183719896981,32.802441533231125,32.802441533231125,16.03122124795056],\"xaxis\":\"x\",\"y\":[-3170.0,-3170.0,-3192.5,-3192.5],\"yaxis\":\"y\",\"type\":\"scatter\"},{\"hoverinfo\":\"text\",\"marker\":{\"color\":\"rgb(35,205,205)\"},\"mode\":\"lines\",\"x\":[32.38875965418378,54.58946835938365,54.58946835938365,32.802441533231125],\"xaxis\":\"x\",\"y\":[-3121.25,-3121.25,-3181.25,-3181.25],\"yaxis\":\"y\",\"type\":\"scatter\"},{\"hoverinfo\":\"text\",\"marker\":{\"color\":\"rgb(35,205,205)\"},\"mode\":\"lines\",\"x\":[17.80470507424182,68.15440552530508,68.15440552530508,54.58946835938365],\"xaxis\":\"x\",\"y\":[-3051.875,-3051.875,-3151.25,-3151.25],\"yaxis\":\"y\",\"type\":\"scatter\"},{\"hoverinfo\":\"text\",\"marker\":{\"color\":\"rgb(35,205,205)\"},\"mode\":\"lines\",\"x\":[44.045432380369995,100.49905499080727,100.49905499080727,68.15440552530508],\"xaxis\":\"x\",\"y\":[-3012.5,-3012.5,-3101.5625,-3101.5625],\"yaxis\":\"y\",\"type\":\"scatter\"},{\"hoverinfo\":\"text\",\"marker\":{\"color\":\"rgb(35,205,205)\"},\"mode\":\"lines\",\"x\":[90.66997998383115,172.32537424332799,172.32537424332799,100.49905499080727],\"xaxis\":\"x\",\"y\":[-2886.875,-2886.875,-3057.03125,-3057.03125],\"yaxis\":\"y\",\"type\":\"scatter\"},{\"hoverinfo\":\"text\",\"marker\":{\"color\":\"rgb(35,205,205)\"},\"mode\":\"lines\",\"x\":[0.0,11.045363334406362,11.045363334406362,0.0],\"xaxis\":\"x\",\"y\":[-3235.0,-3235.0,-3245.0,-3245.0],\"yaxis\":\"y\",\"type\":\"scatter\"},{\"hoverinfo\":\"text\",\"marker\":{\"color\":\"rgb(35,205,205)\"},\"mode\":\"lines\",\"x\":[0.0,22.671719206200883,22.671719206200883,11.045363334406362],\"xaxis\":\"x\",\"y\":[-3225.0,-3225.0,-3240.0,-3240.0],\"yaxis\":\"y\",\"type\":\"scatter\"},{\"hoverinfo\":\"text\",\"marker\":{\"color\":\"rgb(35,205,205)\"},\"mode\":\"lines\",\"x\":[0.0,32.45002477903815,32.45002477903815,22.671719206200883],\"xaxis\":\"x\",\"y\":[-3215.0,-3215.0,-3232.5,-3232.5],\"yaxis\":\"y\",\"type\":\"scatter\"},{\"hoverinfo\":\"text\",\"marker\":{\"color\":\"rgb(35,205,205)\"},\"mode\":\"lines\",\"x\":[0.0,7.874007874774967,7.874007874774967,0.0],\"xaxis\":\"x\",\"y\":[-3265.0,-3265.0,-3275.0,-3275.0],\"yaxis\":\"y\",\"type\":\"scatter\"},{\"hoverinfo\":\"text\",\"marker\":{\"color\":\"rgb(35,205,205)\"},\"mode\":\"lines\",\"x\":[0.0,40.024998892548304,40.024998892548304,7.874007874774967],\"xaxis\":\"x\",\"y\":[-3255.0,-3255.0,-3270.0,-3270.0],\"yaxis\":\"y\",\"type\":\"scatter\"},{\"hoverinfo\":\"text\",\"marker\":{\"color\":\"rgb(35,205,205)\"},\"mode\":\"lines\",\"x\":[32.45002477903815,66.28725438124128,66.28725438124128,40.024998892548304],\"xaxis\":\"x\",\"y\":[-3223.75,-3223.75,-3262.5,-3262.5],\"yaxis\":\"y\",\"type\":\"scatter\"},{\"hoverinfo\":\"text\",\"marker\":{\"color\":\"rgb(35,205,205)\"},\"mode\":\"lines\",\"x\":[0.0,67.12719176147692,67.12719176147692,0.0],\"xaxis\":\"x\",\"y\":[-3285.0,-3285.0,-3295.0,-3295.0],\"yaxis\":\"y\",\"type\":\"scatter\"},{\"hoverinfo\":\"text\",\"marker\":{\"color\":\"rgb(35,205,205)\"},\"mode\":\"lines\",\"x\":[66.28725438124128,112.92508475278794,112.92508475278794,67.12719176147692],\"xaxis\":\"x\",\"y\":[-3243.125,-3243.125,-3290.0,-3290.0],\"yaxis\":\"y\",\"type\":\"scatter\"},{\"hoverinfo\":\"text\",\"marker\":{\"color\":\"rgb(35,205,205)\"},\"mode\":\"lines\",\"x\":[0.0,30.61256205045523,30.61256205045523,0.0],\"xaxis\":\"x\",\"y\":[-3305.0,-3305.0,-3315.0,-3315.0],\"yaxis\":\"y\",\"type\":\"scatter\"},{\"hoverinfo\":\"text\",\"marker\":{\"color\":\"rgb(35,205,205)\"},\"mode\":\"lines\",\"x\":[0.0,5.656917468060821,5.656917468060821,0.0],\"xaxis\":\"x\",\"y\":[-3345.0,-3345.0,-3355.0,-3355.0],\"yaxis\":\"y\",\"type\":\"scatter\"},{\"hoverinfo\":\"text\",\"marker\":{\"color\":\"rgb(35,205,205)\"},\"mode\":\"lines\",\"x\":[0.0,11.180493139621651,11.180493139621651,5.656917468060821],\"xaxis\":\"x\",\"y\":[-3335.0,-3335.0,-3350.0,-3350.0],\"yaxis\":\"y\",\"type\":\"scatter\"},{\"hoverinfo\":\"text\",\"marker\":{\"color\":\"rgb(35,205,205)\"},\"mode\":\"lines\",\"x\":[0.0,35.608998177046416,35.608998177046416,11.180493139621651],\"xaxis\":\"x\",\"y\":[-3325.0,-3325.0,-3342.5,-3342.5],\"yaxis\":\"y\",\"type\":\"scatter\"},{\"hoverinfo\":\"text\",\"marker\":{\"color\":\"rgb(35,205,205)\"},\"mode\":\"lines\",\"x\":[30.61256205045523,59.48251676130789,59.48251676130789,35.608998177046416],\"xaxis\":\"x\",\"y\":[-3310.0,-3310.0,-3333.75,-3333.75],\"yaxis\":\"y\",\"type\":\"scatter\"},{\"hoverinfo\":\"text\",\"marker\":{\"color\":\"rgb(35,205,205)\"},\"mode\":\"lines\",\"x\":[0.0,15.002165523916908,15.002165523916908,0.0],\"xaxis\":\"x\",\"y\":[-3375.0,-3375.0,-3385.0,-3385.0],\"yaxis\":\"y\",\"type\":\"scatter\"},{\"hoverinfo\":\"text\",\"marker\":{\"color\":\"rgb(35,205,205)\"},\"mode\":\"lines\",\"x\":[0.0,23.28215763069148,23.28215763069148,15.002165523916908],\"xaxis\":\"x\",\"y\":[-3365.0,-3365.0,-3380.0,-3380.0],\"yaxis\":\"y\",\"type\":\"scatter\"},{\"hoverinfo\":\"text\",\"marker\":{\"color\":\"rgb(35,205,205)\"},\"mode\":\"lines\",\"x\":[0.0,11.000003439503653,11.000003439503653,0.0],\"xaxis\":\"x\",\"y\":[-3395.0,-3395.0,-3405.0,-3405.0],\"yaxis\":\"y\",\"type\":\"scatter\"},{\"hoverinfo\":\"text\",\"marker\":{\"color\":\"rgb(35,205,205)\"},\"mode\":\"lines\",\"x\":[0.0,19.84993671312786,19.84993671312786,0.0],\"xaxis\":\"x\",\"y\":[-3415.0,-3415.0,-3425.0,-3425.0],\"yaxis\":\"y\",\"type\":\"scatter\"},{\"hoverinfo\":\"text\",\"marker\":{\"color\":\"rgb(35,205,205)\"},\"mode\":\"lines\",\"x\":[11.000003439503653,31.780900613345125,31.780900613345125,19.84993671312786],\"xaxis\":\"x\",\"y\":[-3400.0,-3400.0,-3420.0,-3420.0],\"yaxis\":\"y\",\"type\":\"scatter\"},{\"hoverinfo\":\"text\",\"marker\":{\"color\":\"rgb(35,205,205)\"},\"mode\":\"lines\",\"x\":[0.0,3.162599235055968,3.162599235055968,0.0],\"xaxis\":\"x\",\"y\":[-3455.0,-3455.0,-3465.0,-3465.0],\"yaxis\":\"y\",\"type\":\"scatter\"},{\"hoverinfo\":\"text\",\"marker\":{\"color\":\"rgb(35,205,205)\"},\"mode\":\"lines\",\"x\":[0.0,7.810329945514826,7.810329945514826,3.162599235055968],\"xaxis\":\"x\",\"y\":[-3445.0,-3445.0,-3460.0,-3460.0],\"yaxis\":\"y\",\"type\":\"scatter\"},{\"hoverinfo\":\"text\",\"marker\":{\"color\":\"rgb(35,205,205)\"},\"mode\":\"lines\",\"x\":[0.0,19.209383764076936,19.209383764076936,7.810329945514826],\"xaxis\":\"x\",\"y\":[-3435.0,-3435.0,-3452.5,-3452.5],\"yaxis\":\"y\",\"type\":\"scatter\"},{\"hoverinfo\":\"text\",\"marker\":{\"color\":\"rgb(35,205,205)\"},\"mode\":\"lines\",\"x\":[0.0,8.602328244193973,8.602328244193973,0.0],\"xaxis\":\"x\",\"y\":[-3475.0,-3475.0,-3485.0,-3485.0],\"yaxis\":\"y\",\"type\":\"scatter\"},{\"hoverinfo\":\"text\",\"marker\":{\"color\":\"rgb(35,205,205)\"},\"mode\":\"lines\",\"x\":[0.0,17.029413393138725,17.029413393138725,0.0],\"xaxis\":\"x\",\"y\":[-3495.0,-3495.0,-3505.0,-3505.0],\"yaxis\":\"y\",\"type\":\"scatter\"},{\"hoverinfo\":\"text\",\"marker\":{\"color\":\"rgb(35,205,205)\"},\"mode\":\"lines\",\"x\":[8.602328244193973,19.949944900834257,19.949944900834257,17.029413393138725],\"xaxis\":\"x\",\"y\":[-3480.0,-3480.0,-3500.0,-3500.0],\"yaxis\":\"y\",\"type\":\"scatter\"},{\"hoverinfo\":\"text\",\"marker\":{\"color\":\"rgb(35,205,205)\"},\"mode\":\"lines\",\"x\":[19.209383764076936,42.953469525734235,42.953469525734235,19.949944900834257],\"xaxis\":\"x\",\"y\":[-3443.75,-3443.75,-3490.0,-3490.0],\"yaxis\":\"y\",\"type\":\"scatter\"},{\"hoverinfo\":\"text\",\"marker\":{\"color\":\"rgb(35,205,205)\"},\"mode\":\"lines\",\"x\":[31.780900613345125,64.00787420359688,64.00787420359688,42.953469525734235],\"xaxis\":\"x\",\"y\":[-3410.0,-3410.0,-3466.875,-3466.875],\"yaxis\":\"y\",\"type\":\"scatter\"},{\"hoverinfo\":\"text\",\"marker\":{\"color\":\"rgb(35,205,205)\"},\"mode\":\"lines\",\"x\":[23.28215763069148,74.81979324695342,74.81979324695342,64.00787420359688],\"xaxis\":\"x\",\"y\":[-3372.5,-3372.5,-3438.4375,-3438.4375],\"yaxis\":\"y\",\"type\":\"scatter\"},{\"hoverinfo\":\"text\",\"marker\":{\"color\":\"rgb(35,205,205)\"},\"mode\":\"lines\",\"x\":[59.48251676130789,115.83609757433757,115.83609757433757,74.81979324695342],\"xaxis\":\"x\",\"y\":[-3321.875,-3321.875,-3405.46875,-3405.46875],\"yaxis\":\"y\",\"type\":\"scatter\"},{\"hoverinfo\":\"text\",\"marker\":{\"color\":\"rgb(35,205,205)\"},\"mode\":\"lines\",\"x\":[112.92508475278794,173.5771049826433,173.5771049826433,115.83609757433757],\"xaxis\":\"x\",\"y\":[-3266.5625,-3266.5625,-3363.671875,-3363.671875],\"yaxis\":\"y\",\"type\":\"scatter\"},{\"hoverinfo\":\"text\",\"marker\":{\"color\":\"rgb(35,205,205)\"},\"mode\":\"lines\",\"x\":[172.32537424332799,322.398821835503,322.398821835503,173.5771049826433],\"xaxis\":\"x\",\"y\":[-2971.953125,-2971.953125,-3315.1171875,-3315.1171875],\"yaxis\":\"y\",\"type\":\"scatter\"},{\"hoverinfo\":\"text\",\"marker\":{\"color\":\"rgb(35,205,205)\"},\"mode\":\"lines\",\"x\":[197.38546741057732,365.7117063245032,365.7117063245032,322.398821835503],\"xaxis\":\"x\",\"y\":[-2608.6328125,-2608.6328125,-3143.53515625,-3143.53515625],\"yaxis\":\"y\",\"type\":\"scatter\"},{\"hoverinfo\":\"text\",\"marker\":{\"color\":\"rgb(35,205,205)\"},\"mode\":\"lines\",\"x\":[300.6161808535678,508.0021422706559,508.0021422706559,365.7117063245032],\"xaxis\":\"x\",\"y\":[-2296.015625,-2296.015625,-2876.083984375,-2876.083984375],\"yaxis\":\"y\",\"type\":\"scatter\"},{\"hoverinfo\":\"text\",\"marker\":{\"color\":\"rgb(35,205,205)\"},\"mode\":\"lines\",\"x\":[0.0,4.472849927582624,4.472849927582624,0.0],\"xaxis\":\"x\",\"y\":[-3535.0,-3535.0,-3545.0,-3545.0],\"yaxis\":\"y\",\"type\":\"scatter\"},{\"hoverinfo\":\"text\",\"marker\":{\"color\":\"rgb(35,205,205)\"},\"mode\":\"lines\",\"x\":[0.0,21.633307769273337,21.633307769273337,4.472849927582624],\"xaxis\":\"x\",\"y\":[-3525.0,-3525.0,-3540.0,-3540.0],\"yaxis\":\"y\",\"type\":\"scatter\"},{\"hoverinfo\":\"text\",\"marker\":{\"color\":\"rgb(35,205,205)\"},\"mode\":\"lines\",\"x\":[0.0,41.82108167776056,41.82108167776056,21.633307769273337],\"xaxis\":\"x\",\"y\":[-3515.0,-3515.0,-3532.5,-3532.5],\"yaxis\":\"y\",\"type\":\"scatter\"},{\"hoverinfo\":\"text\",\"marker\":{\"color\":\"rgb(35,205,205)\"},\"mode\":\"lines\",\"x\":[0.0,7.035293647977813,7.035293647977813,0.0],\"xaxis\":\"x\",\"y\":[-3565.0,-3565.0,-3575.0,-3575.0],\"yaxis\":\"y\",\"type\":\"scatter\"},{\"hoverinfo\":\"text\",\"marker\":{\"color\":\"rgb(35,205,205)\"},\"mode\":\"lines\",\"x\":[0.0,14.422844825595437,14.422844825595437,7.035293647977813],\"xaxis\":\"x\",\"y\":[-3555.0,-3555.0,-3570.0,-3570.0],\"yaxis\":\"y\",\"type\":\"scatter\"},{\"hoverinfo\":\"text\",\"marker\":{\"color\":\"rgb(35,205,205)\"},\"mode\":\"lines\",\"x\":[0.0,11.045945195634431,11.045945195634431,0.0],\"xaxis\":\"x\",\"y\":[-3595.0,-3595.0,-3605.0,-3605.0],\"yaxis\":\"y\",\"type\":\"scatter\"},{\"hoverinfo\":\"text\",\"marker\":{\"color\":\"rgb(35,205,205)\"},\"mode\":\"lines\",\"x\":[0.0,27.947111781499785,27.947111781499785,11.045945195634431],\"xaxis\":\"x\",\"y\":[-3585.0,-3585.0,-3600.0,-3600.0],\"yaxis\":\"y\",\"type\":\"scatter\"},{\"hoverinfo\":\"text\",\"marker\":{\"color\":\"rgb(35,205,205)\"},\"mode\":\"lines\",\"x\":[14.422844825595437,46.957686875288836,46.957686875288836,27.947111781499785],\"xaxis\":\"x\",\"y\":[-3562.5,-3562.5,-3592.5,-3592.5],\"yaxis\":\"y\",\"type\":\"scatter\"},{\"hoverinfo\":\"text\",\"marker\":{\"color\":\"rgb(35,205,205)\"},\"mode\":\"lines\",\"x\":[41.82108167776056,71.50529953943253,71.50529953943253,46.957686875288836],\"xaxis\":\"x\",\"y\":[-3523.75,-3523.75,-3577.5,-3577.5],\"yaxis\":\"y\",\"type\":\"scatter\"},{\"hoverinfo\":\"text\",\"marker\":{\"color\":\"rgb(35,205,205)\"},\"mode\":\"lines\",\"x\":[0.0,19.237388027052965,19.237388027052965,0.0],\"xaxis\":\"x\",\"y\":[-3615.0,-3615.0,-3625.0,-3625.0],\"yaxis\":\"y\",\"type\":\"scatter\"},{\"hoverinfo\":\"text\",\"marker\":{\"color\":\"rgb(35,205,205)\"},\"mode\":\"lines\",\"x\":[0.0,16.031311240446698,16.031311240446698,0.0],\"xaxis\":\"x\",\"y\":[-3645.0,-3645.0,-3655.0,-3655.0],\"yaxis\":\"y\",\"type\":\"scatter\"},{\"hoverinfo\":\"text\",\"marker\":{\"color\":\"rgb(35,205,205)\"},\"mode\":\"lines\",\"x\":[0.0,34.00754638812645,34.00754638812645,16.031311240446698],\"xaxis\":\"x\",\"y\":[-3635.0,-3635.0,-3650.0,-3650.0],\"yaxis\":\"y\",\"type\":\"scatter\"},{\"hoverinfo\":\"text\",\"marker\":{\"color\":\"rgb(35,205,205)\"},\"mode\":\"lines\",\"x\":[19.237388027052965,45.793050768165486,45.793050768165486,34.00754638812645],\"xaxis\":\"x\",\"y\":[-3620.0,-3620.0,-3642.5,-3642.5],\"yaxis\":\"y\",\"type\":\"scatter\"},{\"hoverinfo\":\"text\",\"marker\":{\"color\":\"rgb(35,205,205)\"},\"mode\":\"lines\",\"x\":[0.0,9.303567359083711,9.303567359083711,0.0],\"xaxis\":\"x\",\"y\":[-3675.0,-3675.0,-3685.0,-3685.0],\"yaxis\":\"y\",\"type\":\"scatter\"},{\"hoverinfo\":\"text\",\"marker\":{\"color\":\"rgb(35,205,205)\"},\"mode\":\"lines\",\"x\":[0.0,29.037280157339573,29.037280157339573,9.303567359083711],\"xaxis\":\"x\",\"y\":[-3665.0,-3665.0,-3680.0,-3680.0],\"yaxis\":\"y\",\"type\":\"scatter\"},{\"hoverinfo\":\"text\",\"marker\":{\"color\":\"rgb(35,205,205)\"},\"mode\":\"lines\",\"x\":[0.0,18.626138397847754,18.626138397847754,0.0],\"xaxis\":\"x\",\"y\":[-3695.0,-3695.0,-3705.0,-3705.0],\"yaxis\":\"y\",\"type\":\"scatter\"},{\"hoverinfo\":\"text\",\"marker\":{\"color\":\"rgb(35,205,205)\"},\"mode\":\"lines\",\"x\":[0.0,8.378898515355596,8.378898515355596,0.0],\"xaxis\":\"x\",\"y\":[-3715.0,-3715.0,-3725.0,-3725.0],\"yaxis\":\"y\",\"type\":\"scatter\"},{\"hoverinfo\":\"text\",\"marker\":{\"color\":\"rgb(35,205,205)\"},\"mode\":\"lines\",\"x\":[0.0,5.387466720541053,5.387466720541053,0.0],\"xaxis\":\"x\",\"y\":[-3745.0,-3745.0,-3755.0,-3755.0],\"yaxis\":\"y\",\"type\":\"scatter\"},{\"hoverinfo\":\"text\",\"marker\":{\"color\":\"rgb(35,205,205)\"},\"mode\":\"lines\",\"x\":[0.0,20.47271566119681,20.47271566119681,5.387466720541053],\"xaxis\":\"x\",\"y\":[-3735.0,-3735.0,-3750.0,-3750.0],\"yaxis\":\"y\",\"type\":\"scatter\"},{\"hoverinfo\":\"text\",\"marker\":{\"color\":\"rgb(35,205,205)\"},\"mode\":\"lines\",\"x\":[8.378898515355596,33.68109872938303,33.68109872938303,20.47271566119681],\"xaxis\":\"x\",\"y\":[-3720.0,-3720.0,-3742.5,-3742.5],\"yaxis\":\"y\",\"type\":\"scatter\"},{\"hoverinfo\":\"text\",\"marker\":{\"color\":\"rgb(35,205,205)\"},\"mode\":\"lines\",\"x\":[18.626138397847754,50.34803687371434,50.34803687371434,33.68109872938303],\"xaxis\":\"x\",\"y\":[-3700.0,-3700.0,-3731.25,-3731.25],\"yaxis\":\"y\",\"type\":\"scatter\"},{\"hoverinfo\":\"text\",\"marker\":{\"color\":\"rgb(35,205,205)\"},\"mode\":\"lines\",\"x\":[29.037280157339573,74.74460191800038,74.74460191800038,50.34803687371434],\"xaxis\":\"x\",\"y\":[-3672.5,-3672.5,-3715.625,-3715.625],\"yaxis\":\"y\",\"type\":\"scatter\"},{\"hoverinfo\":\"text\",\"marker\":{\"color\":\"rgb(35,205,205)\"},\"mode\":\"lines\",\"x\":[45.793050768165486,118.44008979823103,118.44008979823103,74.74460191800038],\"xaxis\":\"x\",\"y\":[-3631.25,-3631.25,-3694.0625,-3694.0625],\"yaxis\":\"y\",\"type\":\"scatter\"},{\"hoverinfo\":\"text\",\"marker\":{\"color\":\"rgb(35,205,205)\"},\"mode\":\"lines\",\"x\":[71.50529953943253,142.08093722681267,142.08093722681267,118.44008979823103],\"xaxis\":\"x\",\"y\":[-3550.625,-3550.625,-3662.65625,-3662.65625],\"yaxis\":\"y\",\"type\":\"scatter\"},{\"hoverinfo\":\"text\",\"marker\":{\"color\":\"rgb(35,205,205)\"},\"mode\":\"lines\",\"x\":[0.0,6.367732922498607,6.367732922498607,0.0],\"xaxis\":\"x\",\"y\":[-3805.0,-3805.0,-3815.0,-3815.0],\"yaxis\":\"y\",\"type\":\"scatter\"},{\"hoverinfo\":\"text\",\"marker\":{\"color\":\"rgb(35,205,205)\"},\"mode\":\"lines\",\"x\":[0.0,11.787335864428991,11.787335864428991,6.367732922498607],\"xaxis\":\"x\",\"y\":[-3795.0,-3795.0,-3810.0,-3810.0],\"yaxis\":\"y\",\"type\":\"scatter\"},{\"hoverinfo\":\"text\",\"marker\":{\"color\":\"rgb(35,205,205)\"},\"mode\":\"lines\",\"x\":[0.0,26.61203025851661,26.61203025851661,11.787335864428991],\"xaxis\":\"x\",\"y\":[-3785.0,-3785.0,-3802.5,-3802.5],\"yaxis\":\"y\",\"type\":\"scatter\"},{\"hoverinfo\":\"text\",\"marker\":{\"color\":\"rgb(35,205,205)\"},\"mode\":\"lines\",\"x\":[0.0,44.78119078411417,44.78119078411417,26.61203025851661],\"xaxis\":\"x\",\"y\":[-3775.0,-3775.0,-3793.75,-3793.75],\"yaxis\":\"y\",\"type\":\"scatter\"},{\"hoverinfo\":\"text\",\"marker\":{\"color\":\"rgb(35,205,205)\"},\"mode\":\"lines\",\"x\":[0.0,185.4575972148065,185.4575972148065,44.78119078411417],\"xaxis\":\"x\",\"y\":[-3765.0,-3765.0,-3784.375,-3784.375],\"yaxis\":\"y\",\"type\":\"scatter\"},{\"hoverinfo\":\"text\",\"marker\":{\"color\":\"rgb(35,205,205)\"},\"mode\":\"lines\",\"x\":[142.08093722681267,233.74275147256847,233.74275147256847,185.4575972148065],\"xaxis\":\"x\",\"y\":[-3606.640625,-3606.640625,-3774.6875,-3774.6875],\"yaxis\":\"y\",\"type\":\"scatter\"},{\"hoverinfo\":\"text\",\"marker\":{\"color\":\"rgb(35,205,205)\"},\"mode\":\"lines\",\"x\":[0.0,12.694852999855344,12.694852999855344,0.0],\"xaxis\":\"x\",\"y\":[-3845.0,-3845.0,-3855.0,-3855.0],\"yaxis\":\"y\",\"type\":\"scatter\"},{\"hoverinfo\":\"text\",\"marker\":{\"color\":\"rgb(35,205,205)\"},\"mode\":\"lines\",\"x\":[0.0,25.830747724791504,25.830747724791504,12.694852999855344],\"xaxis\":\"x\",\"y\":[-3835.0,-3835.0,-3850.0,-3850.0],\"yaxis\":\"y\",\"type\":\"scatter\"},{\"hoverinfo\":\"text\",\"marker\":{\"color\":\"rgb(35,205,205)\"},\"mode\":\"lines\",\"x\":[0.0,17.378350046381584,17.378350046381584,0.0],\"xaxis\":\"x\",\"y\":[-3885.0,-3885.0,-3895.0,-3895.0],\"yaxis\":\"y\",\"type\":\"scatter\"},{\"hoverinfo\":\"text\",\"marker\":{\"color\":\"rgb(35,205,205)\"},\"mode\":\"lines\",\"x\":[0.0,24.166139558242666,24.166139558242666,17.378350046381584],\"xaxis\":\"x\",\"y\":[-3875.0,-3875.0,-3890.0,-3890.0],\"yaxis\":\"y\",\"type\":\"scatter\"},{\"hoverinfo\":\"text\",\"marker\":{\"color\":\"rgb(35,205,205)\"},\"mode\":\"lines\",\"x\":[0.0,51.62366843949618,51.62366843949618,24.166139558242666],\"xaxis\":\"x\",\"y\":[-3865.0,-3865.0,-3882.5,-3882.5],\"yaxis\":\"y\",\"type\":\"scatter\"},{\"hoverinfo\":\"text\",\"marker\":{\"color\":\"rgb(35,205,205)\"},\"mode\":\"lines\",\"x\":[25.830747724791504,76.27744288983219,76.27744288983219,51.62366843949618],\"xaxis\":\"x\",\"y\":[-3842.5,-3842.5,-3873.75,-3873.75],\"yaxis\":\"y\",\"type\":\"scatter\"},{\"hoverinfo\":\"text\",\"marker\":{\"color\":\"rgb(35,205,205)\"},\"mode\":\"lines\",\"x\":[0.0,119.60798177157088,119.60798177157088,76.27744288983219],\"xaxis\":\"x\",\"y\":[-3825.0,-3825.0,-3858.125,-3858.125],\"yaxis\":\"y\",\"type\":\"scatter\"},{\"hoverinfo\":\"text\",\"marker\":{\"color\":\"rgb(35,205,205)\"},\"mode\":\"lines\",\"x\":[0.0,13.567733102592209,13.567733102592209,0.0],\"xaxis\":\"x\",\"y\":[-3915.0,-3915.0,-3925.0,-3925.0],\"yaxis\":\"y\",\"type\":\"scatter\"},{\"hoverinfo\":\"text\",\"marker\":{\"color\":\"rgb(35,205,205)\"},\"mode\":\"lines\",\"x\":[0.0,36.14149895685294,36.14149895685294,13.567733102592209],\"xaxis\":\"x\",\"y\":[-3905.0,-3905.0,-3920.0,-3920.0],\"yaxis\":\"y\",\"type\":\"scatter\"},{\"hoverinfo\":\"text\",\"marker\":{\"color\":\"rgb(35,205,205)\"},\"mode\":\"lines\",\"x\":[0.0,16.9118521795935,16.9118521795935,0.0],\"xaxis\":\"x\",\"y\":[-3935.0,-3935.0,-3945.0,-3945.0],\"yaxis\":\"y\",\"type\":\"scatter\"},{\"hoverinfo\":\"text\",\"marker\":{\"color\":\"rgb(35,205,205)\"},\"mode\":\"lines\",\"x\":[0.0,21.40909320256063,21.40909320256063,0.0],\"xaxis\":\"x\",\"y\":[-3955.0,-3955.0,-3965.0,-3965.0],\"yaxis\":\"y\",\"type\":\"scatter\"},{\"hoverinfo\":\"text\",\"marker\":{\"color\":\"rgb(35,205,205)\"},\"mode\":\"lines\",\"x\":[16.9118521795935,47.265369049541135,47.265369049541135,21.40909320256063],\"xaxis\":\"x\",\"y\":[-3940.0,-3940.0,-3960.0,-3960.0],\"yaxis\":\"y\",\"type\":\"scatter\"},{\"hoverinfo\":\"text\",\"marker\":{\"color\":\"rgb(35,205,205)\"},\"mode\":\"lines\",\"x\":[0.0,14.56040505090079,14.56040505090079,0.0],\"xaxis\":\"x\",\"y\":[-3995.0,-3995.0,-4005.0,-4005.0],\"yaxis\":\"y\",\"type\":\"scatter\"},{\"hoverinfo\":\"text\",\"marker\":{\"color\":\"rgb(35,205,205)\"},\"mode\":\"lines\",\"x\":[0.0,40.76763549443245,40.76763549443245,14.56040505090079],\"xaxis\":\"x\",\"y\":[-3985.0,-3985.0,-4000.0,-4000.0],\"yaxis\":\"y\",\"type\":\"scatter\"},{\"hoverinfo\":\"text\",\"marker\":{\"color\":\"rgb(35,205,205)\"},\"mode\":\"lines\",\"x\":[0.0,61.163862219581766,61.163862219581766,40.76763549443245],\"xaxis\":\"x\",\"y\":[-3975.0,-3975.0,-3992.5,-3992.5],\"yaxis\":\"y\",\"type\":\"scatter\"},{\"hoverinfo\":\"text\",\"marker\":{\"color\":\"rgb(35,205,205)\"},\"mode\":\"lines\",\"x\":[47.265369049541135,92.3537267386262,92.3537267386262,61.163862219581766],\"xaxis\":\"x\",\"y\":[-3950.0,-3950.0,-3983.75,-3983.75],\"yaxis\":\"y\",\"type\":\"scatter\"},{\"hoverinfo\":\"text\",\"marker\":{\"color\":\"rgb(35,205,205)\"},\"mode\":\"lines\",\"x\":[36.14149895685294,121.268778175613,121.268778175613,92.3537267386262],\"xaxis\":\"x\",\"y\":[-3912.5,-3912.5,-3966.875,-3966.875],\"yaxis\":\"y\",\"type\":\"scatter\"},{\"hoverinfo\":\"text\",\"marker\":{\"color\":\"rgb(35,205,205)\"},\"mode\":\"lines\",\"x\":[119.60798177157088,234.56563405547584,234.56563405547584,121.268778175613],\"xaxis\":\"x\",\"y\":[-3841.5625,-3841.5625,-3939.6875,-3939.6875],\"yaxis\":\"y\",\"type\":\"scatter\"},{\"hoverinfo\":\"text\",\"marker\":{\"color\":\"rgb(35,205,205)\"},\"mode\":\"lines\",\"x\":[233.74275147256847,351.01811796509264,351.01811796509264,234.56563405547584],\"xaxis\":\"x\",\"y\":[-3690.6640625,-3690.6640625,-3890.625,-3890.625],\"yaxis\":\"y\",\"type\":\"scatter\"},{\"hoverinfo\":\"text\",\"marker\":{\"color\":\"rgb(35,205,205)\"},\"mode\":\"lines\",\"x\":[0.0,35.51080562406636,35.51080562406636,0.0],\"xaxis\":\"x\",\"y\":[-4015.0,-4015.0,-4025.0,-4025.0],\"yaxis\":\"y\",\"type\":\"scatter\"},{\"hoverinfo\":\"text\",\"marker\":{\"color\":\"rgb(35,205,205)\"},\"mode\":\"lines\",\"x\":[0.0,6.082766896854823,6.082766896854823,0.0],\"xaxis\":\"x\",\"y\":[-4055.0,-4055.0,-4065.0,-4065.0],\"yaxis\":\"y\",\"type\":\"scatter\"},{\"hoverinfo\":\"text\",\"marker\":{\"color\":\"rgb(35,205,205)\"},\"mode\":\"lines\",\"x\":[0.0,12.369490567999403,12.369490567999403,6.082766896854823],\"xaxis\":\"x\",\"y\":[-4045.0,-4045.0,-4060.0,-4060.0],\"yaxis\":\"y\",\"type\":\"scatter\"},{\"hoverinfo\":\"text\",\"marker\":{\"color\":\"rgb(35,205,205)\"},\"mode\":\"lines\",\"x\":[0.0,31.78051606478448,31.78051606478448,12.369490567999403],\"xaxis\":\"x\",\"y\":[-4035.0,-4035.0,-4052.5,-4052.5],\"yaxis\":\"y\",\"type\":\"scatter\"},{\"hoverinfo\":\"text\",\"marker\":{\"color\":\"rgb(35,205,205)\"},\"mode\":\"lines\",\"x\":[0.0,10.770445833811682,10.770445833811682,0.0],\"xaxis\":\"x\",\"y\":[-4085.0,-4085.0,-4095.0,-4095.0],\"yaxis\":\"y\",\"type\":\"scatter\"},{\"hoverinfo\":\"text\",\"marker\":{\"color\":\"rgb(35,205,205)\"},\"mode\":\"lines\",\"x\":[0.0,34.68429536179924,34.68429536179924,10.770445833811682],\"xaxis\":\"x\",\"y\":[-4075.0,-4075.0,-4090.0,-4090.0],\"yaxis\":\"y\",\"type\":\"scatter\"},{\"hoverinfo\":\"text\",\"marker\":{\"color\":\"rgb(35,205,205)\"},\"mode\":\"lines\",\"x\":[31.78051606478448,62.5220039009392,62.5220039009392,34.68429536179924],\"xaxis\":\"x\",\"y\":[-4043.75,-4043.75,-4082.5,-4082.5],\"yaxis\":\"y\",\"type\":\"scatter\"},{\"hoverinfo\":\"text\",\"marker\":{\"color\":\"rgb(35,205,205)\"},\"mode\":\"lines\",\"x\":[35.51080562406636,72.83552726940191,72.83552726940191,62.5220039009392],\"xaxis\":\"x\",\"y\":[-4020.0,-4020.0,-4063.125,-4063.125],\"yaxis\":\"y\",\"type\":\"scatter\"},{\"hoverinfo\":\"text\",\"marker\":{\"color\":\"rgb(35,205,205)\"},\"mode\":\"lines\",\"x\":[0.0,22.3830306418631,22.3830306418631,0.0],\"xaxis\":\"x\",\"y\":[-4115.0,-4115.0,-4125.0,-4125.0],\"yaxis\":\"y\",\"type\":\"scatter\"},{\"hoverinfo\":\"text\",\"marker\":{\"color\":\"rgb(35,205,205)\"},\"mode\":\"lines\",\"x\":[0.0,29.83292919387446,29.83292919387446,22.3830306418631],\"xaxis\":\"x\",\"y\":[-4105.0,-4105.0,-4120.0,-4120.0],\"yaxis\":\"y\",\"type\":\"scatter\"},{\"hoverinfo\":\"text\",\"marker\":{\"color\":\"rgb(35,205,205)\"},\"mode\":\"lines\",\"x\":[0.0,16.1615085624303,16.1615085624303,0.0],\"xaxis\":\"x\",\"y\":[-4135.0,-4135.0,-4145.0,-4145.0],\"yaxis\":\"y\",\"type\":\"scatter\"},{\"hoverinfo\":\"text\",\"marker\":{\"color\":\"rgb(35,205,205)\"},\"mode\":\"lines\",\"x\":[0.0,13.930201612126579,13.930201612126579,0.0],\"xaxis\":\"x\",\"y\":[-4165.0,-4165.0,-4175.0,-4175.0],\"yaxis\":\"y\",\"type\":\"scatter\"},{\"hoverinfo\":\"text\",\"marker\":{\"color\":\"rgb(35,205,205)\"},\"mode\":\"lines\",\"x\":[0.0,31.400707028435747,31.400707028435747,13.930201612126579],\"xaxis\":\"x\",\"y\":[-4155.0,-4155.0,-4170.0,-4170.0],\"yaxis\":\"y\",\"type\":\"scatter\"},{\"hoverinfo\":\"text\",\"marker\":{\"color\":\"rgb(35,205,205)\"},\"mode\":\"lines\",\"x\":[16.1615085624303,43.600653109582794,43.600653109582794,31.400707028435747],\"xaxis\":\"x\",\"y\":[-4140.0,-4140.0,-4162.5,-4162.5],\"yaxis\":\"y\",\"type\":\"scatter\"},{\"hoverinfo\":\"text\",\"marker\":{\"color\":\"rgb(35,205,205)\"},\"mode\":\"lines\",\"x\":[0.0,18.055719977795423,18.055719977795423,0.0],\"xaxis\":\"x\",\"y\":[-4195.0,-4195.0,-4205.0,-4205.0],\"yaxis\":\"y\",\"type\":\"scatter\"},{\"hoverinfo\":\"text\",\"marker\":{\"color\":\"rgb(35,205,205)\"},\"mode\":\"lines\",\"x\":[0.0,43.70463034849585,43.70463034849585,18.055719977795423],\"xaxis\":\"x\",\"y\":[-4185.0,-4185.0,-4200.0,-4200.0],\"yaxis\":\"y\",\"type\":\"scatter\"},{\"hoverinfo\":\"text\",\"marker\":{\"color\":\"rgb(35,205,205)\"},\"mode\":\"lines\",\"x\":[43.600653109582794,87.80675249541449,87.80675249541449,43.70463034849585],\"xaxis\":\"x\",\"y\":[-4151.25,-4151.25,-4192.5,-4192.5],\"yaxis\":\"y\",\"type\":\"scatter\"},{\"hoverinfo\":\"text\",\"marker\":{\"color\":\"rgb(35,205,205)\"},\"mode\":\"lines\",\"x\":[29.83292919387446,113.70156601078291,113.70156601078291,87.80675249541449],\"xaxis\":\"x\",\"y\":[-4112.5,-4112.5,-4171.875,-4171.875],\"yaxis\":\"y\",\"type\":\"scatter\"},{\"hoverinfo\":\"text\",\"marker\":{\"color\":\"rgb(35,205,205)\"},\"mode\":\"lines\",\"x\":[72.83552726940191,191.76051455569026,191.76051455569026,113.70156601078291],\"xaxis\":\"x\",\"y\":[-4041.5625,-4041.5625,-4142.1875,-4142.1875],\"yaxis\":\"y\",\"type\":\"scatter\"},{\"hoverinfo\":\"text\",\"marker\":{\"color\":\"rgb(35,205,205)\"},\"mode\":\"lines\",\"x\":[0.0,22.293511199474104,22.293511199474104,0.0],\"xaxis\":\"x\",\"y\":[-4225.0,-4225.0,-4235.0,-4235.0],\"yaxis\":\"y\",\"type\":\"scatter\"},{\"hoverinfo\":\"text\",\"marker\":{\"color\":\"rgb(35,205,205)\"},\"mode\":\"lines\",\"x\":[0.0,34.554365820429695,34.554365820429695,22.293511199474104],\"xaxis\":\"x\",\"y\":[-4215.0,-4215.0,-4230.0,-4230.0],\"yaxis\":\"y\",\"type\":\"scatter\"},{\"hoverinfo\":\"text\",\"marker\":{\"color\":\"rgb(35,205,205)\"},\"mode\":\"lines\",\"x\":[0.0,7.280172904297305,7.280172904297305,0.0],\"xaxis\":\"x\",\"y\":[-4255.0,-4255.0,-4265.0,-4265.0],\"yaxis\":\"y\",\"type\":\"scatter\"},{\"hoverinfo\":\"text\",\"marker\":{\"color\":\"rgb(35,205,205)\"},\"mode\":\"lines\",\"x\":[0.0,17.117309293901513,17.117309293901513,7.280172904297305],\"xaxis\":\"x\",\"y\":[-4245.0,-4245.0,-4260.0,-4260.0],\"yaxis\":\"y\",\"type\":\"scatter\"},{\"hoverinfo\":\"text\",\"marker\":{\"color\":\"rgb(35,205,205)\"},\"mode\":\"lines\",\"x\":[0.0,14.177458082312805,14.177458082312805,0.0],\"xaxis\":\"x\",\"y\":[-4285.0,-4285.0,-4295.0,-4295.0],\"yaxis\":\"y\",\"type\":\"scatter\"},{\"hoverinfo\":\"text\",\"marker\":{\"color\":\"rgb(35,205,205)\"},\"mode\":\"lines\",\"x\":[0.0,43.87482286618198,43.87482286618198,14.177458082312805],\"xaxis\":\"x\",\"y\":[-4275.0,-4275.0,-4290.0,-4290.0],\"yaxis\":\"y\",\"type\":\"scatter\"},{\"hoverinfo\":\"text\",\"marker\":{\"color\":\"rgb(35,205,205)\"},\"mode\":\"lines\",\"x\":[17.117309293901513,50.3388778643957,50.3388778643957,43.87482286618198],\"xaxis\":\"x\",\"y\":[-4252.5,-4252.5,-4282.5,-4282.5],\"yaxis\":\"y\",\"type\":\"scatter\"},{\"hoverinfo\":\"text\",\"marker\":{\"color\":\"rgb(35,205,205)\"},\"mode\":\"lines\",\"x\":[34.554365820429695,89.0730360650724,89.0730360650724,50.3388778643957],\"xaxis\":\"x\",\"y\":[-4222.5,-4222.5,-4267.5,-4267.5],\"yaxis\":\"y\",\"type\":\"scatter\"},{\"hoverinfo\":\"text\",\"marker\":{\"color\":\"rgb(35,205,205)\"},\"mode\":\"lines\",\"x\":[0.0,16.156307947488283,16.156307947488283,0.0],\"xaxis\":\"x\",\"y\":[-4325.0,-4325.0,-4335.0,-4335.0],\"yaxis\":\"y\",\"type\":\"scatter\"},{\"hoverinfo\":\"text\",\"marker\":{\"color\":\"rgb(35,205,205)\"},\"mode\":\"lines\",\"x\":[0.0,21.095041410309594,21.095041410309594,16.156307947488283],\"xaxis\":\"x\",\"y\":[-4315.0,-4315.0,-4330.0,-4330.0],\"yaxis\":\"y\",\"type\":\"scatter\"},{\"hoverinfo\":\"text\",\"marker\":{\"color\":\"rgb(35,205,205)\"},\"mode\":\"lines\",\"x\":[0.0,40.11235294585171,40.11235294585171,21.095041410309594],\"xaxis\":\"x\",\"y\":[-4305.0,-4305.0,-4322.5,-4322.5],\"yaxis\":\"y\",\"type\":\"scatter\"},{\"hoverinfo\":\"text\",\"marker\":{\"color\":\"rgb(35,205,205)\"},\"mode\":\"lines\",\"x\":[0.0,32.311142224838754,32.311142224838754,0.0],\"xaxis\":\"x\",\"y\":[-4345.0,-4345.0,-4355.0,-4355.0],\"yaxis\":\"y\",\"type\":\"scatter\"},{\"hoverinfo\":\"text\",\"marker\":{\"color\":\"rgb(35,205,205)\"},\"mode\":\"lines\",\"x\":[0.0,18.357848288172775,18.357848288172775,0.0],\"xaxis\":\"x\",\"y\":[-4375.0,-4375.0,-4385.0,-4385.0],\"yaxis\":\"y\",\"type\":\"scatter\"},{\"hoverinfo\":\"text\",\"marker\":{\"color\":\"rgb(35,205,205)\"},\"mode\":\"lines\",\"x\":[0.0,51.00980803390562,51.00980803390562,18.357848288172775],\"xaxis\":\"x\",\"y\":[-4365.0,-4365.0,-4380.0,-4380.0],\"yaxis\":\"y\",\"type\":\"scatter\"},{\"hoverinfo\":\"text\",\"marker\":{\"color\":\"rgb(35,205,205)\"},\"mode\":\"lines\",\"x\":[32.311142224838754,96.51424873180514,96.51424873180514,51.00980803390562],\"xaxis\":\"x\",\"y\":[-4350.0,-4350.0,-4372.5,-4372.5],\"yaxis\":\"y\",\"type\":\"scatter\"},{\"hoverinfo\":\"text\",\"marker\":{\"color\":\"rgb(35,205,205)\"},\"mode\":\"lines\",\"x\":[40.11235294585171,131.4154101736081,131.4154101736081,96.51424873180514],\"xaxis\":\"x\",\"y\":[-4313.75,-4313.75,-4361.25,-4361.25],\"yaxis\":\"y\",\"type\":\"scatter\"},{\"hoverinfo\":\"text\",\"marker\":{\"color\":\"rgb(35,205,205)\"},\"mode\":\"lines\",\"x\":[89.0730360650724,206.1407454815303,206.1407454815303,131.4154101736081],\"xaxis\":\"x\",\"y\":[-4245.0,-4245.0,-4337.5,-4337.5],\"yaxis\":\"y\",\"type\":\"scatter\"},{\"hoverinfo\":\"text\",\"marker\":{\"color\":\"rgb(35,205,205)\"},\"mode\":\"lines\",\"x\":[0.0,9.27395010447436,9.27395010447436,0.0],\"xaxis\":\"x\",\"y\":[-4415.0,-4415.0,-4425.0,-4425.0],\"yaxis\":\"y\",\"type\":\"scatter\"},{\"hoverinfo\":\"text\",\"marker\":{\"color\":\"rgb(35,205,205)\"},\"mode\":\"lines\",\"x\":[0.0,24.228132643276446,24.228132643276446,9.27395010447436],\"xaxis\":\"x\",\"y\":[-4405.0,-4405.0,-4420.0,-4420.0],\"yaxis\":\"y\",\"type\":\"scatter\"},{\"hoverinfo\":\"text\",\"marker\":{\"color\":\"rgb(35,205,205)\"},\"mode\":\"lines\",\"x\":[0.0,48.88765074647291,48.88765074647291,24.228132643276446],\"xaxis\":\"x\",\"y\":[-4395.0,-4395.0,-4412.5,-4412.5],\"yaxis\":\"y\",\"type\":\"scatter\"},{\"hoverinfo\":\"text\",\"marker\":{\"color\":\"rgb(35,205,205)\"},\"mode\":\"lines\",\"x\":[0.0,21.260625342047987,21.260625342047987,0.0],\"xaxis\":\"x\",\"y\":[-4435.0,-4435.0,-4445.0,-4445.0],\"yaxis\":\"y\",\"type\":\"scatter\"},{\"hoverinfo\":\"text\",\"marker\":{\"color\":\"rgb(35,205,205)\"},\"mode\":\"lines\",\"x\":[0.0,15.811440228708115,15.811440228708115,0.0],\"xaxis\":\"x\",\"y\":[-4465.0,-4465.0,-4475.0,-4475.0],\"yaxis\":\"y\",\"type\":\"scatter\"},{\"hoverinfo\":\"text\",\"marker\":{\"color\":\"rgb(35,205,205)\"},\"mode\":\"lines\",\"x\":[0.0,32.832967650407184,32.832967650407184,15.811440228708115],\"xaxis\":\"x\",\"y\":[-4455.0,-4455.0,-4470.0,-4470.0],\"yaxis\":\"y\",\"type\":\"scatter\"},{\"hoverinfo\":\"text\",\"marker\":{\"color\":\"rgb(35,205,205)\"},\"mode\":\"lines\",\"x\":[21.260625342047987,72.69802050367427,72.69802050367427,32.832967650407184],\"xaxis\":\"x\",\"y\":[-4440.0,-4440.0,-4462.5,-4462.5],\"yaxis\":\"y\",\"type\":\"scatter\"},{\"hoverinfo\":\"text\",\"marker\":{\"color\":\"rgb(35,205,205)\"},\"mode\":\"lines\",\"x\":[48.88765074647291,132.98497116070263,132.98497116070263,72.69802050367427],\"xaxis\":\"x\",\"y\":[-4403.75,-4403.75,-4451.25,-4451.25],\"yaxis\":\"y\",\"type\":\"scatter\"},{\"hoverinfo\":\"text\",\"marker\":{\"color\":\"rgb(35,205,205)\"},\"mode\":\"lines\",\"x\":[0.0,16.492573140534564,16.492573140534564,0.0],\"xaxis\":\"x\",\"y\":[-4495.0,-4495.0,-4505.0,-4505.0],\"yaxis\":\"y\",\"type\":\"scatter\"},{\"hoverinfo\":\"text\",\"marker\":{\"color\":\"rgb(35,205,205)\"},\"mode\":\"lines\",\"x\":[0.0,25.961528339133324,25.961528339133324,16.492573140534564],\"xaxis\":\"x\",\"y\":[-4485.0,-4485.0,-4500.0,-4500.0],\"yaxis\":\"y\",\"type\":\"scatter\"},{\"hoverinfo\":\"text\",\"marker\":{\"color\":\"rgb(35,205,205)\"},\"mode\":\"lines\",\"x\":[0.0,31.25713441976551,31.25713441976551,0.0],\"xaxis\":\"x\",\"y\":[-4515.0,-4515.0,-4525.0,-4525.0],\"yaxis\":\"y\",\"type\":\"scatter\"},{\"hoverinfo\":\"text\",\"marker\":{\"color\":\"rgb(35,205,205)\"},\"mode\":\"lines\",\"x\":[25.961528339133324,66.61120816933548,66.61120816933548,31.25713441976551],\"xaxis\":\"x\",\"y\":[-4492.5,-4492.5,-4520.0,-4520.0],\"yaxis\":\"y\",\"type\":\"scatter\"},{\"hoverinfo\":\"text\",\"marker\":{\"color\":\"rgb(35,205,205)\"},\"mode\":\"lines\",\"x\":[0.0,9.848927989968905,9.848927989968905,0.0],\"xaxis\":\"x\",\"y\":[-4545.0,-4545.0,-4555.0,-4555.0],\"yaxis\":\"y\",\"type\":\"scatter\"},{\"hoverinfo\":\"text\",\"marker\":{\"color\":\"rgb(35,205,205)\"},\"mode\":\"lines\",\"x\":[0.0,13.601880232678779,13.601880232678779,0.0],\"xaxis\":\"x\",\"y\":[-4565.0,-4565.0,-4575.0,-4575.0],\"yaxis\":\"y\",\"type\":\"scatter\"},{\"hoverinfo\":\"text\",\"marker\":{\"color\":\"rgb(35,205,205)\"},\"mode\":\"lines\",\"x\":[9.848927989968905,51.039553487429735,51.039553487429735,13.601880232678779],\"xaxis\":\"x\",\"y\":[-4550.0,-4550.0,-4570.0,-4570.0],\"yaxis\":\"y\",\"type\":\"scatter\"},{\"hoverinfo\":\"text\",\"marker\":{\"color\":\"rgb(35,205,205)\"},\"mode\":\"lines\",\"x\":[0.0,90.60375807791496,90.60375807791496,51.039553487429735],\"xaxis\":\"x\",\"y\":[-4535.0,-4535.0,-4560.0,-4560.0],\"yaxis\":\"y\",\"type\":\"scatter\"},{\"hoverinfo\":\"text\",\"marker\":{\"color\":\"rgb(35,205,205)\"},\"mode\":\"lines\",\"x\":[66.61120816933548,155.80126271058015,155.80126271058015,90.60375807791496],\"xaxis\":\"x\",\"y\":[-4506.25,-4506.25,-4547.5,-4547.5],\"yaxis\":\"y\",\"type\":\"scatter\"},{\"hoverinfo\":\"text\",\"marker\":{\"color\":\"rgb(35,205,205)\"},\"mode\":\"lines\",\"x\":[132.98497116070263,228.03735942179702,228.03735942179702,155.80126271058015],\"xaxis\":\"x\",\"y\":[-4427.5,-4427.5,-4526.875,-4526.875],\"yaxis\":\"y\",\"type\":\"scatter\"},{\"hoverinfo\":\"text\",\"marker\":{\"color\":\"rgb(35,205,205)\"},\"mode\":\"lines\",\"x\":[206.1407454815303,313.07048282042086,313.07048282042086,228.03735942179702],\"xaxis\":\"x\",\"y\":[-4291.25,-4291.25,-4477.1875,-4477.1875],\"yaxis\":\"y\",\"type\":\"scatter\"},{\"hoverinfo\":\"text\",\"marker\":{\"color\":\"rgb(35,205,205)\"},\"mode\":\"lines\",\"x\":[191.76051455569026,462.08768194862085,462.08768194862085,313.07048282042086],\"xaxis\":\"x\",\"y\":[-4091.875,-4091.875,-4384.21875,-4384.21875],\"yaxis\":\"y\",\"type\":\"scatter\"},{\"hoverinfo\":\"text\",\"marker\":{\"color\":\"rgb(35,205,205)\"},\"mode\":\"lines\",\"x\":[351.01811796509264,562.8829045327006,562.8829045327006,462.08768194862085],\"xaxis\":\"x\",\"y\":[-3790.64453125,-3790.64453125,-4238.046875,-4238.046875],\"yaxis\":\"y\",\"type\":\"scatter\"},{\"hoverinfo\":\"text\",\"marker\":{\"color\":\"rgb(35,205,205)\"},\"mode\":\"lines\",\"x\":[508.0021422706559,810.1097654555098,810.1097654555098,562.8829045327006],\"xaxis\":\"x\",\"y\":[-2586.0498046875,-2586.0498046875,-4014.345703125,-4014.345703125],\"yaxis\":\"y\",\"type\":\"scatter\"},{\"hoverinfo\":\"text\",\"marker\":{\"color\":\"rgb(35,205,205)\"},\"mode\":\"lines\",\"x\":[0.0,26.754961771443284,26.754961771443284,0.0],\"xaxis\":\"x\",\"y\":[-4605.0,-4605.0,-4615.0,-4615.0],\"yaxis\":\"y\",\"type\":\"scatter\"},{\"hoverinfo\":\"text\",\"marker\":{\"color\":\"rgb(35,205,205)\"},\"mode\":\"lines\",\"x\":[0.0,53.56076086632224,53.56076086632224,26.754961771443284],\"xaxis\":\"x\",\"y\":[-4595.0,-4595.0,-4610.0,-4610.0],\"yaxis\":\"y\",\"type\":\"scatter\"},{\"hoverinfo\":\"text\",\"marker\":{\"color\":\"rgb(35,205,205)\"},\"mode\":\"lines\",\"x\":[0.0,321.0101570033237,321.0101570033237,53.56076086632224],\"xaxis\":\"x\",\"y\":[-4585.0,-4585.0,-4602.5,-4602.5],\"yaxis\":\"y\",\"type\":\"scatter\"},{\"hoverinfo\":\"text\",\"marker\":{\"color\":\"rgb(35,205,205)\"},\"mode\":\"lines\",\"x\":[0.0,14.456933587714339,14.456933587714339,0.0],\"xaxis\":\"x\",\"y\":[-4635.0,-4635.0,-4645.0,-4645.0],\"yaxis\":\"y\",\"type\":\"scatter\"},{\"hoverinfo\":\"text\",\"marker\":{\"color\":\"rgb(35,205,205)\"},\"mode\":\"lines\",\"x\":[0.0,27.0925502271253,27.0925502271253,14.456933587714339],\"xaxis\":\"x\",\"y\":[-4625.0,-4625.0,-4640.0,-4640.0],\"yaxis\":\"y\",\"type\":\"scatter\"},{\"hoverinfo\":\"text\",\"marker\":{\"color\":\"rgb(35,205,205)\"},\"mode\":\"lines\",\"x\":[0.0,3.741872820257731,3.741872820257731,0.0],\"xaxis\":\"x\",\"y\":[-4665.0,-4665.0,-4675.0,-4675.0],\"yaxis\":\"y\",\"type\":\"scatter\"},{\"hoverinfo\":\"text\",\"marker\":{\"color\":\"rgb(35,205,205)\"},\"mode\":\"lines\",\"x\":[0.0,6.408636678887187,6.408636678887187,3.741872820257731],\"xaxis\":\"x\",\"y\":[-4655.0,-4655.0,-4670.0,-4670.0],\"yaxis\":\"y\",\"type\":\"scatter\"},{\"hoverinfo\":\"text\",\"marker\":{\"color\":\"rgb(35,205,205)\"},\"mode\":\"lines\",\"x\":[0.0,38.02630787930002,38.02630787930002,0.0],\"xaxis\":\"x\",\"y\":[-4685.0,-4685.0,-4695.0,-4695.0],\"yaxis\":\"y\",\"type\":\"scatter\"},{\"hoverinfo\":\"text\",\"marker\":{\"color\":\"rgb(35,205,205)\"},\"mode\":\"lines\",\"x\":[6.408636678887187,71.85587766221708,71.85587766221708,38.02630787930002],\"xaxis\":\"x\",\"y\":[-4662.5,-4662.5,-4690.0,-4690.0],\"yaxis\":\"y\",\"type\":\"scatter\"},{\"hoverinfo\":\"text\",\"marker\":{\"color\":\"rgb(35,205,205)\"},\"mode\":\"lines\",\"x\":[27.0925502271253,112.27199563505202,112.27199563505202,71.85587766221708],\"xaxis\":\"x\",\"y\":[-4632.5,-4632.5,-4676.25,-4676.25],\"yaxis\":\"y\",\"type\":\"scatter\"},{\"hoverinfo\":\"text\",\"marker\":{\"color\":\"rgb(35,205,205)\"},\"mode\":\"lines\",\"x\":[0.0,4.069028814606432,4.069028814606432,0.0],\"xaxis\":\"x\",\"y\":[-4715.0,-4715.0,-4725.0,-4725.0],\"yaxis\":\"y\",\"type\":\"scatter\"},{\"hoverinfo\":\"text\",\"marker\":{\"color\":\"rgb(35,205,205)\"},\"mode\":\"lines\",\"x\":[0.0,45.568977720489926,45.568977720489926,4.069028814606432],\"xaxis\":\"x\",\"y\":[-4705.0,-4705.0,-4720.0,-4720.0],\"yaxis\":\"y\",\"type\":\"scatter\"},{\"hoverinfo\":\"text\",\"marker\":{\"color\":\"rgb(35,205,205)\"},\"mode\":\"lines\",\"x\":[0.0,34.557793722729,34.557793722729,0.0],\"xaxis\":\"x\",\"y\":[-4745.0,-4745.0,-4755.0,-4755.0],\"yaxis\":\"y\",\"type\":\"scatter\"},{\"hoverinfo\":\"text\",\"marker\":{\"color\":\"rgb(35,205,205)\"},\"mode\":\"lines\",\"x\":[0.0,76.33290775775612,76.33290775775612,34.557793722729],\"xaxis\":\"x\",\"y\":[-4735.0,-4735.0,-4750.0,-4750.0],\"yaxis\":\"y\",\"type\":\"scatter\"},{\"hoverinfo\":\"text\",\"marker\":{\"color\":\"rgb(35,205,205)\"},\"mode\":\"lines\",\"x\":[45.568977720489926,149.34833017658838,149.34833017658838,76.33290775775612],\"xaxis\":\"x\",\"y\":[-4712.5,-4712.5,-4742.5,-4742.5],\"yaxis\":\"y\",\"type\":\"scatter\"},{\"hoverinfo\":\"text\",\"marker\":{\"color\":\"rgb(35,205,205)\"},\"mode\":\"lines\",\"x\":[112.27199563505202,238.2229845250882,238.2229845250882,149.34833017658838],\"xaxis\":\"x\",\"y\":[-4654.375,-4654.375,-4727.5,-4727.5],\"yaxis\":\"y\",\"type\":\"scatter\"},{\"hoverinfo\":\"text\",\"marker\":{\"color\":\"rgb(35,205,205)\"},\"mode\":\"lines\",\"x\":[0.0,27.731037462544183,27.731037462544183,0.0],\"xaxis\":\"x\",\"y\":[-4775.0,-4775.0,-4785.0,-4785.0],\"yaxis\":\"y\",\"type\":\"scatter\"},{\"hoverinfo\":\"text\",\"marker\":{\"color\":\"rgb(35,205,205)\"},\"mode\":\"lines\",\"x\":[0.0,122.97595795241426,122.97595795241426,27.731037462544183],\"xaxis\":\"x\",\"y\":[-4765.0,-4765.0,-4780.0,-4780.0],\"yaxis\":\"y\",\"type\":\"scatter\"},{\"hoverinfo\":\"text\",\"marker\":{\"color\":\"rgb(35,205,205)\"},\"mode\":\"lines\",\"x\":[0.0,10.496934065277381,10.496934065277381,0.0],\"xaxis\":\"x\",\"y\":[-4825.0,-4825.0,-4835.0,-4835.0],\"yaxis\":\"y\",\"type\":\"scatter\"},{\"hoverinfo\":\"text\",\"marker\":{\"color\":\"rgb(35,205,205)\"},\"mode\":\"lines\",\"x\":[0.0,17.50881673683308,17.50881673683308,10.496934065277381],\"xaxis\":\"x\",\"y\":[-4815.0,-4815.0,-4830.0,-4830.0],\"yaxis\":\"y\",\"type\":\"scatter\"},{\"hoverinfo\":\"text\",\"marker\":{\"color\":\"rgb(35,205,205)\"},\"mode\":\"lines\",\"x\":[0.0,34.21568631656284,34.21568631656284,17.50881673683308],\"xaxis\":\"x\",\"y\":[-4805.0,-4805.0,-4822.5,-4822.5],\"yaxis\":\"y\",\"type\":\"scatter\"},{\"hoverinfo\":\"text\",\"marker\":{\"color\":\"rgb(35,205,205)\"},\"mode\":\"lines\",\"x\":[0.0,39.421433148837345,39.421433148837345,0.0],\"xaxis\":\"x\",\"y\":[-4845.0,-4845.0,-4855.0,-4855.0],\"yaxis\":\"y\",\"type\":\"scatter\"},{\"hoverinfo\":\"text\",\"marker\":{\"color\":\"rgb(35,205,205)\"},\"mode\":\"lines\",\"x\":[34.21568631656284,89.194266179115,89.194266179115,39.421433148837345],\"xaxis\":\"x\",\"y\":[-4813.75,-4813.75,-4850.0,-4850.0],\"yaxis\":\"y\",\"type\":\"scatter\"},{\"hoverinfo\":\"text\",\"marker\":{\"color\":\"rgb(35,205,205)\"},\"mode\":\"lines\",\"x\":[0.0,132.41703502802773,132.41703502802773,89.194266179115],\"xaxis\":\"x\",\"y\":[-4795.0,-4795.0,-4831.875,-4831.875],\"yaxis\":\"y\",\"type\":\"scatter\"},{\"hoverinfo\":\"text\",\"marker\":{\"color\":\"rgb(35,205,205)\"},\"mode\":\"lines\",\"x\":[122.97595795241426,273.15610068113216,273.15610068113216,132.41703502802773],\"xaxis\":\"x\",\"y\":[-4772.5,-4772.5,-4813.4375,-4813.4375],\"yaxis\":\"y\",\"type\":\"scatter\"},{\"hoverinfo\":\"text\",\"marker\":{\"color\":\"rgb(35,205,205)\"},\"mode\":\"lines\",\"x\":[238.2229845250882,346.34851890358084,346.34851890358084,273.15610068113216],\"xaxis\":\"x\",\"y\":[-4690.9375,-4690.9375,-4792.96875,-4792.96875],\"yaxis\":\"y\",\"type\":\"scatter\"},{\"hoverinfo\":\"text\",\"marker\":{\"color\":\"rgb(35,205,205)\"},\"mode\":\"lines\",\"x\":[0.0,20.09987537582153,20.09987537582153,0.0],\"xaxis\":\"x\",\"y\":[-4885.0,-4885.0,-4895.0,-4895.0],\"yaxis\":\"y\",\"type\":\"scatter\"},{\"hoverinfo\":\"text\",\"marker\":{\"color\":\"rgb(35,205,205)\"},\"mode\":\"lines\",\"x\":[0.0,32.71178503233225,32.71178503233225,20.09987537582153],\"xaxis\":\"x\",\"y\":[-4875.0,-4875.0,-4890.0,-4890.0],\"yaxis\":\"y\",\"type\":\"scatter\"},{\"hoverinfo\":\"text\",\"marker\":{\"color\":\"rgb(35,205,205)\"},\"mode\":\"lines\",\"x\":[0.0,38.40590207583477,38.40590207583477,32.71178503233225],\"xaxis\":\"x\",\"y\":[-4865.0,-4865.0,-4882.5,-4882.5],\"yaxis\":\"y\",\"type\":\"scatter\"},{\"hoverinfo\":\"text\",\"marker\":{\"color\":\"rgb(35,205,205)\"},\"mode\":\"lines\",\"x\":[0.0,11.490736760476908,11.490736760476908,0.0],\"xaxis\":\"x\",\"y\":[-4915.0,-4915.0,-4925.0,-4925.0],\"yaxis\":\"y\",\"type\":\"scatter\"},{\"hoverinfo\":\"text\",\"marker\":{\"color\":\"rgb(35,205,205)\"},\"mode\":\"lines\",\"x\":[0.0,20.273285994791955,20.273285994791955,11.490736760476908],\"xaxis\":\"x\",\"y\":[-4905.0,-4905.0,-4920.0,-4920.0],\"yaxis\":\"y\",\"type\":\"scatter\"},{\"hoverinfo\":\"text\",\"marker\":{\"color\":\"rgb(35,205,205)\"},\"mode\":\"lines\",\"x\":[0.0,33.121724630144215,33.121724630144215,0.0],\"xaxis\":\"x\",\"y\":[-4935.0,-4935.0,-4945.0,-4945.0],\"yaxis\":\"y\",\"type\":\"scatter\"},{\"hoverinfo\":\"text\",\"marker\":{\"color\":\"rgb(35,205,205)\"},\"mode\":\"lines\",\"x\":[20.273285994791955,49.20418279056079,49.20418279056079,33.121724630144215],\"xaxis\":\"x\",\"y\":[-4912.5,-4912.5,-4940.0,-4940.0],\"yaxis\":\"y\",\"type\":\"scatter\"},{\"hoverinfo\":\"text\",\"marker\":{\"color\":\"rgb(35,205,205)\"},\"mode\":\"lines\",\"x\":[0.0,32.95451483076428,32.95451483076428,0.0],\"xaxis\":\"x\",\"y\":[-4965.0,-4965.0,-4975.0,-4975.0],\"yaxis\":\"y\",\"type\":\"scatter\"},{\"hoverinfo\":\"text\",\"marker\":{\"color\":\"rgb(35,205,205)\"},\"mode\":\"lines\",\"x\":[0.0,52.239913616150254,52.239913616150254,32.95451483076428],\"xaxis\":\"x\",\"y\":[-4955.0,-4955.0,-4970.0,-4970.0],\"yaxis\":\"y\",\"type\":\"scatter\"},{\"hoverinfo\":\"text\",\"marker\":{\"color\":\"rgb(35,205,205)\"},\"mode\":\"lines\",\"x\":[49.20418279056079,103.98558289437476,103.98558289437476,52.239913616150254],\"xaxis\":\"x\",\"y\":[-4926.25,-4926.25,-4962.5,-4962.5],\"yaxis\":\"y\",\"type\":\"scatter\"},{\"hoverinfo\":\"text\",\"marker\":{\"color\":\"rgb(35,205,205)\"},\"mode\":\"lines\",\"x\":[38.40590207583477,156.4452206744067,156.4452206744067,103.98558289437476],\"xaxis\":\"x\",\"y\":[-4873.75,-4873.75,-4944.375,-4944.375],\"yaxis\":\"y\",\"type\":\"scatter\"},{\"hoverinfo\":\"text\",\"marker\":{\"color\":\"rgb(35,205,205)\"},\"mode\":\"lines\",\"x\":[0.0,8.366628780759234,8.366628780759234,0.0],\"xaxis\":\"x\",\"y\":[-4995.0,-4995.0,-5005.0,-5005.0],\"yaxis\":\"y\",\"type\":\"scatter\"},{\"hoverinfo\":\"text\",\"marker\":{\"color\":\"rgb(35,205,205)\"},\"mode\":\"lines\",\"x\":[0.0,17.720045848071585,17.720045848071585,8.366628780759234],\"xaxis\":\"x\",\"y\":[-4985.0,-4985.0,-5000.0,-5000.0],\"yaxis\":\"y\",\"type\":\"scatter\"},{\"hoverinfo\":\"text\",\"marker\":{\"color\":\"rgb(35,205,205)\"},\"mode\":\"lines\",\"x\":[0.0,19.89976045497927,19.89976045497927,0.0],\"xaxis\":\"x\",\"y\":[-5025.0,-5025.0,-5035.0,-5035.0],\"yaxis\":\"y\",\"type\":\"scatter\"},{\"hoverinfo\":\"text\",\"marker\":{\"color\":\"rgb(35,205,205)\"},\"mode\":\"lines\",\"x\":[0.0,45.088817905199,45.088817905199,19.89976045497927],\"xaxis\":\"x\",\"y\":[-5015.0,-5015.0,-5030.0,-5030.0],\"yaxis\":\"y\",\"type\":\"scatter\"},{\"hoverinfo\":\"text\",\"marker\":{\"color\":\"rgb(35,205,205)\"},\"mode\":\"lines\",\"x\":[17.720045848071585,46.88283742732796,46.88283742732796,45.088817905199],\"xaxis\":\"x\",\"y\":[-4992.5,-4992.5,-5022.5,-5022.5],\"yaxis\":\"y\",\"type\":\"scatter\"},{\"hoverinfo\":\"text\",\"marker\":{\"color\":\"rgb(35,205,205)\"},\"mode\":\"lines\",\"x\":[0.0,3.6062875837411417,3.6062875837411417,0.0],\"xaxis\":\"x\",\"y\":[-5065.0,-5065.0,-5075.0,-5075.0],\"yaxis\":\"y\",\"type\":\"scatter\"},{\"hoverinfo\":\"text\",\"marker\":{\"color\":\"rgb(35,205,205)\"},\"mode\":\"lines\",\"x\":[0.0,16.248097902380742,16.248097902380742,3.6062875837411417],\"xaxis\":\"x\",\"y\":[-5055.0,-5055.0,-5070.0,-5070.0],\"yaxis\":\"y\",\"type\":\"scatter\"},{\"hoverinfo\":\"text\",\"marker\":{\"color\":\"rgb(35,205,205)\"},\"mode\":\"lines\",\"x\":[0.0,22.671669932963724,22.671669932963724,16.248097902380742],\"xaxis\":\"x\",\"y\":[-5045.0,-5045.0,-5062.5,-5062.5],\"yaxis\":\"y\",\"type\":\"scatter\"},{\"hoverinfo\":\"text\",\"marker\":{\"color\":\"rgb(35,205,205)\"},\"mode\":\"lines\",\"x\":[0.0,11.35789984599464,11.35789984599464,0.0],\"xaxis\":\"x\",\"y\":[-5085.0,-5085.0,-5095.0,-5095.0],\"yaxis\":\"y\",\"type\":\"scatter\"},{\"hoverinfo\":\"text\",\"marker\":{\"color\":\"rgb(35,205,205)\"},\"mode\":\"lines\",\"x\":[0.0,9.434257716502364,9.434257716502364,0.0],\"xaxis\":\"x\",\"y\":[-5115.0,-5115.0,-5125.0,-5125.0],\"yaxis\":\"y\",\"type\":\"scatter\"},{\"hoverinfo\":\"text\",\"marker\":{\"color\":\"rgb(35,205,205)\"},\"mode\":\"lines\",\"x\":[0.0,16.52302907777041,16.52302907777041,9.434257716502364],\"xaxis\":\"x\",\"y\":[-5105.0,-5105.0,-5120.0,-5120.0],\"yaxis\":\"y\",\"type\":\"scatter\"},{\"hoverinfo\":\"text\",\"marker\":{\"color\":\"rgb(35,205,205)\"},\"mode\":\"lines\",\"x\":[11.35789984599464,27.586287092150176,27.586287092150176,16.52302907777041],\"xaxis\":\"x\",\"y\":[-5090.0,-5090.0,-5112.5,-5112.5],\"yaxis\":\"y\",\"type\":\"scatter\"},{\"hoverinfo\":\"text\",\"marker\":{\"color\":\"rgb(35,205,205)\"},\"mode\":\"lines\",\"x\":[22.671669932963724,52.40230016028393,52.40230016028393,27.586287092150176],\"xaxis\":\"x\",\"y\":[-5053.75,-5053.75,-5101.25,-5101.25],\"yaxis\":\"y\",\"type\":\"scatter\"},{\"hoverinfo\":\"text\",\"marker\":{\"color\":\"rgb(35,205,205)\"},\"mode\":\"lines\",\"x\":[46.88283742732796,83.5524623918762,83.5524623918762,52.40230016028393],\"xaxis\":\"x\",\"y\":[-5007.5,-5007.5,-5077.5,-5077.5],\"yaxis\":\"y\",\"type\":\"scatter\"},{\"hoverinfo\":\"text\",\"marker\":{\"color\":\"rgb(35,205,205)\"},\"mode\":\"lines\",\"x\":[0.0,6.930423743987372,6.930423743987372,0.0],\"xaxis\":\"x\",\"y\":[-5155.0,-5155.0,-5165.0,-5165.0],\"yaxis\":\"y\",\"type\":\"scatter\"},{\"hoverinfo\":\"text\",\"marker\":{\"color\":\"rgb(35,205,205)\"},\"mode\":\"lines\",\"x\":[0.0,17.49296680895244,17.49296680895244,6.930423743987372],\"xaxis\":\"x\",\"y\":[-5145.0,-5145.0,-5160.0,-5160.0],\"yaxis\":\"y\",\"type\":\"scatter\"},{\"hoverinfo\":\"text\",\"marker\":{\"color\":\"rgb(35,205,205)\"},\"mode\":\"lines\",\"x\":[0.0,18.548827643671057,18.548827643671057,17.49296680895244],\"xaxis\":\"x\",\"y\":[-5135.0,-5135.0,-5152.5,-5152.5],\"yaxis\":\"y\",\"type\":\"scatter\"},{\"hoverinfo\":\"text\",\"marker\":{\"color\":\"rgb(35,205,205)\"},\"mode\":\"lines\",\"x\":[0.0,12.247689633290543,12.247689633290543,0.0],\"xaxis\":\"x\",\"y\":[-5185.0,-5185.0,-5195.0,-5195.0],\"yaxis\":\"y\",\"type\":\"scatter\"},{\"hoverinfo\":\"text\",\"marker\":{\"color\":\"rgb(35,205,205)\"},\"mode\":\"lines\",\"x\":[0.0,21.470945581830065,21.470945581830065,12.247689633290543],\"xaxis\":\"x\",\"y\":[-5175.0,-5175.0,-5190.0,-5190.0],\"yaxis\":\"y\",\"type\":\"scatter\"},{\"hoverinfo\":\"text\",\"marker\":{\"color\":\"rgb(35,205,205)\"},\"mode\":\"lines\",\"x\":[0.0,10.19813227359977,10.19813227359977,0.0],\"xaxis\":\"x\",\"y\":[-5205.0,-5205.0,-5215.0,-5215.0],\"yaxis\":\"y\",\"type\":\"scatter\"},{\"hoverinfo\":\"text\",\"marker\":{\"color\":\"rgb(35,205,205)\"},\"mode\":\"lines\",\"x\":[0.0,13.965295345920474,13.965295345920474,0.0],\"xaxis\":\"x\",\"y\":[-5225.0,-5225.0,-5235.0,-5235.0],\"yaxis\":\"y\",\"type\":\"scatter\"},{\"hoverinfo\":\"text\",\"marker\":{\"color\":\"rgb(35,205,205)\"},\"mode\":\"lines\",\"x\":[10.19813227359977,28.91366633815101,28.91366633815101,13.965295345920474],\"xaxis\":\"x\",\"y\":[-5210.0,-5210.0,-5230.0,-5230.0],\"yaxis\":\"y\",\"type\":\"scatter\"},{\"hoverinfo\":\"text\",\"marker\":{\"color\":\"rgb(35,205,205)\"},\"mode\":\"lines\",\"x\":[21.470945581830065,48.87742930350474,48.87742930350474,28.91366633815101],\"xaxis\":\"x\",\"y\":[-5182.5,-5182.5,-5220.0,-5220.0],\"yaxis\":\"y\",\"type\":\"scatter\"},{\"hoverinfo\":\"text\",\"marker\":{\"color\":\"rgb(35,205,205)\"},\"mode\":\"lines\",\"x\":[18.548827643671057,59.13543997511253,59.13543997511253,48.87742930350474],\"xaxis\":\"x\",\"y\":[-5143.75,-5143.75,-5201.25,-5201.25],\"yaxis\":\"y\",\"type\":\"scatter\"},{\"hoverinfo\":\"text\",\"marker\":{\"color\":\"rgb(35,205,205)\"},\"mode\":\"lines\",\"x\":[0.0,6.708275884546589,6.708275884546589,0.0],\"xaxis\":\"x\",\"y\":[-5265.0,-5265.0,-5275.0,-5275.0],\"yaxis\":\"y\",\"type\":\"scatter\"},{\"hoverinfo\":\"text\",\"marker\":{\"color\":\"rgb(35,205,205)\"},\"mode\":\"lines\",\"x\":[0.0,19.950082352284095,19.950082352284095,6.708275884546589],\"xaxis\":\"x\",\"y\":[-5255.0,-5255.0,-5270.0,-5270.0],\"yaxis\":\"y\",\"type\":\"scatter\"},{\"hoverinfo\":\"text\",\"marker\":{\"color\":\"rgb(35,205,205)\"},\"mode\":\"lines\",\"x\":[0.0,54.598535677113716,54.598535677113716,19.950082352284095],\"xaxis\":\"x\",\"y\":[-5245.0,-5245.0,-5262.5,-5262.5],\"yaxis\":\"y\",\"type\":\"scatter\"},{\"hoverinfo\":\"text\",\"marker\":{\"color\":\"rgb(35,205,205)\"},\"mode\":\"lines\",\"x\":[0.0,19.646913244529852,19.646913244529852,0.0],\"xaxis\":\"x\",\"y\":[-5295.0,-5295.0,-5305.0,-5305.0],\"yaxis\":\"y\",\"type\":\"scatter\"},{\"hoverinfo\":\"text\",\"marker\":{\"color\":\"rgb(35,205,205)\"},\"mode\":\"lines\",\"x\":[0.0,17.465071112371525,17.465071112371525,0.0],\"xaxis\":\"x\",\"y\":[-5325.0,-5325.0,-5335.0,-5335.0],\"yaxis\":\"y\",\"type\":\"scatter\"},{\"hoverinfo\":\"text\",\"marker\":{\"color\":\"rgb(35,205,205)\"},\"mode\":\"lines\",\"x\":[0.0,29.1552810544669,29.1552810544669,17.465071112371525],\"xaxis\":\"x\",\"y\":[-5315.0,-5315.0,-5330.0,-5330.0],\"yaxis\":\"y\",\"type\":\"scatter\"},{\"hoverinfo\":\"text\",\"marker\":{\"color\":\"rgb(35,205,205)\"},\"mode\":\"lines\",\"x\":[19.646913244529852,35.07140655102561,35.07140655102561,29.1552810544669],\"xaxis\":\"x\",\"y\":[-5300.0,-5300.0,-5322.5,-5322.5],\"yaxis\":\"y\",\"type\":\"scatter\"},{\"hoverinfo\":\"text\",\"marker\":{\"color\":\"rgb(35,205,205)\"},\"mode\":\"lines\",\"x\":[0.0,54.63515529181628,54.63515529181628,35.07140655102561],\"xaxis\":\"x\",\"y\":[-5285.0,-5285.0,-5311.25,-5311.25],\"yaxis\":\"y\",\"type\":\"scatter\"},{\"hoverinfo\":\"text\",\"marker\":{\"color\":\"rgb(35,205,205)\"},\"mode\":\"lines\",\"x\":[54.598535677113716,79.42923128717516,79.42923128717516,54.63515529181628],\"xaxis\":\"x\",\"y\":[-5253.75,-5253.75,-5298.125,-5298.125],\"yaxis\":\"y\",\"type\":\"scatter\"},{\"hoverinfo\":\"text\",\"marker\":{\"color\":\"rgb(35,205,205)\"},\"mode\":\"lines\",\"x\":[59.13543997511253,105.34705641882357,105.34705641882357,79.42923128717516],\"xaxis\":\"x\",\"y\":[-5172.5,-5172.5,-5275.9375,-5275.9375],\"yaxis\":\"y\",\"type\":\"scatter\"},{\"hoverinfo\":\"text\",\"marker\":{\"color\":\"rgb(35,205,205)\"},\"mode\":\"lines\",\"x\":[83.5524623918762,197.85616261942397,197.85616261942397,105.34705641882357],\"xaxis\":\"x\",\"y\":[-5042.5,-5042.5,-5224.21875,-5224.21875],\"yaxis\":\"y\",\"type\":\"scatter\"},{\"hoverinfo\":\"text\",\"marker\":{\"color\":\"rgb(35,205,205)\"},\"mode\":\"lines\",\"x\":[156.4452206744067,230.56911295640884,230.56911295640884,197.85616261942397],\"xaxis\":\"x\",\"y\":[-4909.0625,-4909.0625,-5133.359375,-5133.359375],\"yaxis\":\"y\",\"type\":\"scatter\"},{\"hoverinfo\":\"text\",\"marker\":{\"color\":\"rgb(35,205,205)\"},\"mode\":\"lines\",\"x\":[0.0,7.071190270463794,7.071190270463794,0.0],\"xaxis\":\"x\",\"y\":[-5355.0,-5355.0,-5365.0,-5365.0],\"yaxis\":\"y\",\"type\":\"scatter\"},{\"hoverinfo\":\"text\",\"marker\":{\"color\":\"rgb(35,205,205)\"},\"mode\":\"lines\",\"x\":[0.0,15.000179910471905,15.000179910471905,7.071190270463794],\"xaxis\":\"x\",\"y\":[-5345.0,-5345.0,-5360.0,-5360.0],\"yaxis\":\"y\",\"type\":\"scatter\"},{\"hoverinfo\":\"text\",\"marker\":{\"color\":\"rgb(35,205,205)\"},\"mode\":\"lines\",\"x\":[0.0,7.494705700117608,7.494705700117608,0.0],\"xaxis\":\"x\",\"y\":[-5385.0,-5385.0,-5395.0,-5395.0],\"yaxis\":\"y\",\"type\":\"scatter\"},{\"hoverinfo\":\"text\",\"marker\":{\"color\":\"rgb(35,205,205)\"},\"mode\":\"lines\",\"x\":[0.0,18.49722070856134,18.49722070856134,7.494705700117608],\"xaxis\":\"x\",\"y\":[-5375.0,-5375.0,-5390.0,-5390.0],\"yaxis\":\"y\",\"type\":\"scatter\"},{\"hoverinfo\":\"text\",\"marker\":{\"color\":\"rgb(35,205,205)\"},\"mode\":\"lines\",\"x\":[15.000179910471905,36.891739202540556,36.891739202540556,18.49722070856134],\"xaxis\":\"x\",\"y\":[-5352.5,-5352.5,-5382.5,-5382.5],\"yaxis\":\"y\",\"type\":\"scatter\"},{\"hoverinfo\":\"text\",\"marker\":{\"color\":\"rgb(35,205,205)\"},\"mode\":\"lines\",\"x\":[0.0,6.167030930702777,6.167030930702777,0.0],\"xaxis\":\"x\",\"y\":[-5415.0,-5415.0,-5425.0,-5425.0],\"yaxis\":\"y\",\"type\":\"scatter\"},{\"hoverinfo\":\"text\",\"marker\":{\"color\":\"rgb(35,205,205)\"},\"mode\":\"lines\",\"x\":[0.0,21.470926301663518,21.470926301663518,6.167030930702777],\"xaxis\":\"x\",\"y\":[-5405.0,-5405.0,-5420.0,-5420.0],\"yaxis\":\"y\",\"type\":\"scatter\"},{\"hoverinfo\":\"text\",\"marker\":{\"color\":\"rgb(35,205,205)\"},\"mode\":\"lines\",\"x\":[0.0,6.164448175355986,6.164448175355986,0.0],\"xaxis\":\"x\",\"y\":[-5445.0,-5445.0,-5455.0,-5455.0],\"yaxis\":\"y\",\"type\":\"scatter\"},{\"hoverinfo\":\"text\",\"marker\":{\"color\":\"rgb(35,205,205)\"},\"mode\":\"lines\",\"x\":[0.0,8.835948623650191,8.835948623650191,0.0],\"xaxis\":\"x\",\"y\":[-5475.0,-5475.0,-5485.0,-5485.0],\"yaxis\":\"y\",\"type\":\"scatter\"},{\"hoverinfo\":\"text\",\"marker\":{\"color\":\"rgb(35,205,205)\"},\"mode\":\"lines\",\"x\":[0.0,10.440349527243027,10.440349527243027,8.835948623650191],\"xaxis\":\"x\",\"y\":[-5465.0,-5465.0,-5480.0,-5480.0],\"yaxis\":\"y\",\"type\":\"scatter\"},{\"hoverinfo\":\"text\",\"marker\":{\"color\":\"rgb(35,205,205)\"},\"mode\":\"lines\",\"x\":[6.164448175355986,15.780017374084421,15.780017374084421,10.440349527243027],\"xaxis\":\"x\",\"y\":[-5450.0,-5450.0,-5472.5,-5472.5],\"yaxis\":\"y\",\"type\":\"scatter\"},{\"hoverinfo\":\"text\",\"marker\":{\"color\":\"rgb(35,205,205)\"},\"mode\":\"lines\",\"x\":[0.0,28.60074284518064,28.60074284518064,15.780017374084421],\"xaxis\":\"x\",\"y\":[-5435.0,-5435.0,-5461.25,-5461.25],\"yaxis\":\"y\",\"type\":\"scatter\"},{\"hoverinfo\":\"text\",\"marker\":{\"color\":\"rgb(35,205,205)\"},\"mode\":\"lines\",\"x\":[21.470926301663518,38.32762821852987,38.32762821852987,28.60074284518064],\"xaxis\":\"x\",\"y\":[-5412.5,-5412.5,-5448.125,-5448.125],\"yaxis\":\"y\",\"type\":\"scatter\"},{\"hoverinfo\":\"text\",\"marker\":{\"color\":\"rgb(35,205,205)\"},\"mode\":\"lines\",\"x\":[36.891739202540556,59.068221332478174,59.068221332478174,38.32762821852987],\"xaxis\":\"x\",\"y\":[-5367.5,-5367.5,-5430.3125,-5430.3125],\"yaxis\":\"y\",\"type\":\"scatter\"},{\"hoverinfo\":\"text\",\"marker\":{\"color\":\"rgb(35,205,205)\"},\"mode\":\"lines\",\"x\":[0.0,20.493922754799797,20.493922754799797,0.0],\"xaxis\":\"x\",\"y\":[-5505.0,-5505.0,-5515.0,-5515.0],\"yaxis\":\"y\",\"type\":\"scatter\"},{\"hoverinfo\":\"text\",\"marker\":{\"color\":\"rgb(35,205,205)\"},\"mode\":\"lines\",\"x\":[0.0,43.97771113191017,43.97771113191017,20.493922754799797],\"xaxis\":\"x\",\"y\":[-5495.0,-5495.0,-5510.0,-5510.0],\"yaxis\":\"y\",\"type\":\"scatter\"},{\"hoverinfo\":\"text\",\"marker\":{\"color\":\"rgb(35,205,205)\"},\"mode\":\"lines\",\"x\":[0.0,19.442243193801954,19.442243193801954,0.0],\"xaxis\":\"x\",\"y\":[-5525.0,-5525.0,-5535.0,-5535.0],\"yaxis\":\"y\",\"type\":\"scatter\"},{\"hoverinfo\":\"text\",\"marker\":{\"color\":\"rgb(35,205,205)\"},\"mode\":\"lines\",\"x\":[0.0,9.96069452042144,9.96069452042144,0.0],\"xaxis\":\"x\",\"y\":[-5555.0,-5555.0,-5565.0,-5565.0],\"yaxis\":\"y\",\"type\":\"scatter\"},{\"hoverinfo\":\"text\",\"marker\":{\"color\":\"rgb(35,205,205)\"},\"mode\":\"lines\",\"x\":[0.0,3.3243849762496236,3.3243849762496236,0.0],\"xaxis\":\"x\",\"y\":[-5585.0,-5585.0,-5595.0,-5595.0],\"yaxis\":\"y\",\"type\":\"scatter\"},{\"hoverinfo\":\"text\",\"marker\":{\"color\":\"rgb(35,205,205)\"},\"mode\":\"lines\",\"x\":[0.0,16.031846047344665,16.031846047344665,3.3243849762496236],\"xaxis\":\"x\",\"y\":[-5575.0,-5575.0,-5590.0,-5590.0],\"yaxis\":\"y\",\"type\":\"scatter\"},{\"hoverinfo\":\"text\",\"marker\":{\"color\":\"rgb(35,205,205)\"},\"mode\":\"lines\",\"x\":[9.96069452042144,19.899842068658003,19.899842068658003,16.031846047344665],\"xaxis\":\"x\",\"y\":[-5560.0,-5560.0,-5582.5,-5582.5],\"yaxis\":\"y\",\"type\":\"scatter\"},{\"hoverinfo\":\"text\",\"marker\":{\"color\":\"rgb(35,205,205)\"},\"mode\":\"lines\",\"x\":[0.0,28.620951528333677,28.620951528333677,19.899842068658003],\"xaxis\":\"x\",\"y\":[-5545.0,-5545.0,-5571.25,-5571.25],\"yaxis\":\"y\",\"type\":\"scatter\"},{\"hoverinfo\":\"text\",\"marker\":{\"color\":\"rgb(35,205,205)\"},\"mode\":\"lines\",\"x\":[19.442243193801954,45.75008540185197,45.75008540185197,28.620951528333677],\"xaxis\":\"x\",\"y\":[-5530.0,-5530.0,-5558.125,-5558.125],\"yaxis\":\"y\",\"type\":\"scatter\"},{\"hoverinfo\":\"text\",\"marker\":{\"color\":\"rgb(35,205,205)\"},\"mode\":\"lines\",\"x\":[43.97771113191017,84.22600708835213,84.22600708835213,45.75008540185197],\"xaxis\":\"x\",\"y\":[-5502.5,-5502.5,-5544.0625,-5544.0625],\"yaxis\":\"y\",\"type\":\"scatter\"},{\"hoverinfo\":\"text\",\"marker\":{\"color\":\"rgb(35,205,205)\"},\"mode\":\"lines\",\"x\":[59.068221332478174,102.60434558421491,102.60434558421491,84.22600708835213],\"xaxis\":\"x\",\"y\":[-5398.90625,-5398.90625,-5523.28125,-5523.28125],\"yaxis\":\"y\",\"type\":\"scatter\"},{\"hoverinfo\":\"text\",\"marker\":{\"color\":\"rgb(35,205,205)\"},\"mode\":\"lines\",\"x\":[0.0,12.248888816820205,12.248888816820205,0.0],\"xaxis\":\"x\",\"y\":[-5605.0,-5605.0,-5615.0,-5615.0],\"yaxis\":\"y\",\"type\":\"scatter\"},{\"hoverinfo\":\"text\",\"marker\":{\"color\":\"rgb(35,205,205)\"},\"mode\":\"lines\",\"x\":[0.0,60.17526299736303,60.17526299736303,0.0],\"xaxis\":\"x\",\"y\":[-5625.0,-5625.0,-5635.0,-5635.0],\"yaxis\":\"y\",\"type\":\"scatter\"},{\"hoverinfo\":\"text\",\"marker\":{\"color\":\"rgb(35,205,205)\"},\"mode\":\"lines\",\"x\":[12.248888816820205,117.47905425330507,117.47905425330507,60.17526299736303],\"xaxis\":\"x\",\"y\":[-5610.0,-5610.0,-5630.0,-5630.0],\"yaxis\":\"y\",\"type\":\"scatter\"},{\"hoverinfo\":\"text\",\"marker\":{\"color\":\"rgb(35,205,205)\"},\"mode\":\"lines\",\"x\":[0.0,35.86146953463593,35.86146953463593,0.0],\"xaxis\":\"x\",\"y\":[-5655.0,-5655.0,-5665.0,-5665.0],\"yaxis\":\"y\",\"type\":\"scatter\"},{\"hoverinfo\":\"text\",\"marker\":{\"color\":\"rgb(35,205,205)\"},\"mode\":\"lines\",\"x\":[0.0,71.4496995791005,71.4496995791005,35.86146953463593],\"xaxis\":\"x\",\"y\":[-5645.0,-5645.0,-5660.0,-5660.0],\"yaxis\":\"y\",\"type\":\"scatter\"},{\"hoverinfo\":\"text\",\"marker\":{\"color\":\"rgb(35,205,205)\"},\"mode\":\"lines\",\"x\":[0.0,13.038408637068748,13.038408637068748,0.0],\"xaxis\":\"x\",\"y\":[-5685.0,-5685.0,-5695.0,-5695.0],\"yaxis\":\"y\",\"type\":\"scatter\"},{\"hoverinfo\":\"text\",\"marker\":{\"color\":\"rgb(35,205,205)\"},\"mode\":\"lines\",\"x\":[0.0,17.578410624711676,17.578410624711676,0.0],\"xaxis\":\"x\",\"y\":[-5705.0,-5705.0,-5715.0,-5715.0],\"yaxis\":\"y\",\"type\":\"scatter\"},{\"hoverinfo\":\"text\",\"marker\":{\"color\":\"rgb(35,205,205)\"},\"mode\":\"lines\",\"x\":[13.038408637068748,33.43667766921638,33.43667766921638,17.578410624711676],\"xaxis\":\"x\",\"y\":[-5690.0,-5690.0,-5710.0,-5710.0],\"yaxis\":\"y\",\"type\":\"scatter\"},{\"hoverinfo\":\"text\",\"marker\":{\"color\":\"rgb(35,205,205)\"},\"mode\":\"lines\",\"x\":[0.0,53.49878997662391,53.49878997662391,33.43667766921638],\"xaxis\":\"x\",\"y\":[-5675.0,-5675.0,-5700.0,-5700.0],\"yaxis\":\"y\",\"type\":\"scatter\"},{\"hoverinfo\":\"text\",\"marker\":{\"color\":\"rgb(35,205,205)\"},\"mode\":\"lines\",\"x\":[0.0,10.049879406600228,10.049879406600228,0.0],\"xaxis\":\"x\",\"y\":[-5735.0,-5735.0,-5745.0,-5745.0],\"yaxis\":\"y\",\"type\":\"scatter\"},{\"hoverinfo\":\"text\",\"marker\":{\"color\":\"rgb(35,205,205)\"},\"mode\":\"lines\",\"x\":[0.0,15.362744054318458,15.362744054318458,10.049879406600228],\"xaxis\":\"x\",\"y\":[-5725.0,-5725.0,-5740.0,-5740.0],\"yaxis\":\"y\",\"type\":\"scatter\"},{\"hoverinfo\":\"text\",\"marker\":{\"color\":\"rgb(35,205,205)\"},\"mode\":\"lines\",\"x\":[0.0,11.789836829385093,11.789836829385093,0.0],\"xaxis\":\"x\",\"y\":[-5765.0,-5765.0,-5775.0,-5775.0],\"yaxis\":\"y\",\"type\":\"scatter\"},{\"hoverinfo\":\"text\",\"marker\":{\"color\":\"rgb(35,205,205)\"},\"mode\":\"lines\",\"x\":[0.0,20.125155851988843,20.125155851988843,11.789836829385093],\"xaxis\":\"x\",\"y\":[-5755.0,-5755.0,-5770.0,-5770.0],\"yaxis\":\"y\",\"type\":\"scatter\"},{\"hoverinfo\":\"text\",\"marker\":{\"color\":\"rgb(35,205,205)\"},\"mode\":\"lines\",\"x\":[15.362744054318458,24.659936208948697,24.659936208948697,20.125155851988843],\"xaxis\":\"x\",\"y\":[-5732.5,-5732.5,-5762.5,-5762.5],\"yaxis\":\"y\",\"type\":\"scatter\"},{\"hoverinfo\":\"text\",\"marker\":{\"color\":\"rgb(35,205,205)\"},\"mode\":\"lines\",\"x\":[0.0,4.243873919133777,4.243873919133777,0.0],\"xaxis\":\"x\",\"y\":[-5795.0,-5795.0,-5805.0,-5805.0],\"yaxis\":\"y\",\"type\":\"scatter\"},{\"hoverinfo\":\"text\",\"marker\":{\"color\":\"rgb(35,205,205)\"},\"mode\":\"lines\",\"x\":[0.0,12.76773647607213,12.76773647607213,4.243873919133777],\"xaxis\":\"x\",\"y\":[-5785.0,-5785.0,-5800.0,-5800.0],\"yaxis\":\"y\",\"type\":\"scatter\"},{\"hoverinfo\":\"text\",\"marker\":{\"color\":\"rgb(35,205,205)\"},\"mode\":\"lines\",\"x\":[0.0,4.12374318557969,4.12374318557969,0.0],\"xaxis\":\"x\",\"y\":[-5825.0,-5825.0,-5835.0,-5835.0],\"yaxis\":\"y\",\"type\":\"scatter\"},{\"hoverinfo\":\"text\",\"marker\":{\"color\":\"rgb(35,205,205)\"},\"mode\":\"lines\",\"x\":[0.0,12.689238997450722,12.689238997450722,4.12374318557969],\"xaxis\":\"x\",\"y\":[-5815.0,-5815.0,-5830.0,-5830.0],\"yaxis\":\"y\",\"type\":\"scatter\"},{\"hoverinfo\":\"text\",\"marker\":{\"color\":\"rgb(35,205,205)\"},\"mode\":\"lines\",\"x\":[0.0,14.799241613173404,14.799241613173404,0.0],\"xaxis\":\"x\",\"y\":[-5845.0,-5845.0,-5855.0,-5855.0],\"yaxis\":\"y\",\"type\":\"scatter\"},{\"hoverinfo\":\"text\",\"marker\":{\"color\":\"rgb(35,205,205)\"},\"mode\":\"lines\",\"x\":[12.689238997450722,20.347283418859334,20.347283418859334,14.799241613173404],\"xaxis\":\"x\",\"y\":[-5822.5,-5822.5,-5850.0,-5850.0],\"yaxis\":\"y\",\"type\":\"scatter\"},{\"hoverinfo\":\"text\",\"marker\":{\"color\":\"rgb(35,205,205)\"},\"mode\":\"lines\",\"x\":[12.76773647607213,33.286952898566526,33.286952898566526,20.347283418859334],\"xaxis\":\"x\",\"y\":[-5792.5,-5792.5,-5836.25,-5836.25],\"yaxis\":\"y\",\"type\":\"scatter\"},{\"hoverinfo\":\"text\",\"marker\":{\"color\":\"rgb(35,205,205)\"},\"mode\":\"lines\",\"x\":[24.659936208948697,55.30839899652414,55.30839899652414,33.286952898566526],\"xaxis\":\"x\",\"y\":[-5747.5,-5747.5,-5814.375,-5814.375],\"yaxis\":\"y\",\"type\":\"scatter\"},{\"hoverinfo\":\"text\",\"marker\":{\"color\":\"rgb(35,205,205)\"},\"mode\":\"lines\",\"x\":[53.49878997662391,96.5040347902571,96.5040347902571,55.30839899652414],\"xaxis\":\"x\",\"y\":[-5687.5,-5687.5,-5780.9375,-5780.9375],\"yaxis\":\"y\",\"type\":\"scatter\"},{\"hoverinfo\":\"text\",\"marker\":{\"color\":\"rgb(35,205,205)\"},\"mode\":\"lines\",\"x\":[71.4496995791005,117.74988568981763,117.74988568981763,96.5040347902571],\"xaxis\":\"x\",\"y\":[-5652.5,-5652.5,-5734.21875,-5734.21875],\"yaxis\":\"y\",\"type\":\"scatter\"},{\"hoverinfo\":\"text\",\"marker\":{\"color\":\"rgb(35,205,205)\"},\"mode\":\"lines\",\"x\":[117.47905425330507,173.1968201903263,173.1968201903263,117.74988568981763],\"xaxis\":\"x\",\"y\":[-5620.0,-5620.0,-5693.359375,-5693.359375],\"yaxis\":\"y\",\"type\":\"scatter\"},{\"hoverinfo\":\"text\",\"marker\":{\"color\":\"rgb(35,205,205)\"},\"mode\":\"lines\",\"x\":[102.60434558421491,239.00837055206856,239.00837055206856,173.1968201903263],\"xaxis\":\"x\",\"y\":[-5461.09375,-5461.09375,-5656.6796875,-5656.6796875],\"yaxis\":\"y\",\"type\":\"scatter\"},{\"hoverinfo\":\"text\",\"marker\":{\"color\":\"rgb(35,205,205)\"},\"mode\":\"lines\",\"x\":[230.56911295640884,374.64061122384027,374.64061122384027,239.00837055206856],\"xaxis\":\"x\",\"y\":[-5021.2109375,-5021.2109375,-5558.88671875,-5558.88671875],\"yaxis\":\"y\",\"type\":\"scatter\"},{\"hoverinfo\":\"text\",\"marker\":{\"color\":\"rgb(35,205,205)\"},\"mode\":\"lines\",\"x\":[346.34851890358084,582.6336817403997,582.6336817403997,374.64061122384027],\"xaxis\":\"x\",\"y\":[-4741.953125,-4741.953125,-5290.048828125,-5290.048828125],\"yaxis\":\"y\",\"type\":\"scatter\"},{\"hoverinfo\":\"text\",\"marker\":{\"color\":\"rgb(35,205,205)\"},\"mode\":\"lines\",\"x\":[321.0101570033237,996.7079244430562,996.7079244430562,582.6336817403997],\"xaxis\":\"x\",\"y\":[-4593.75,-4593.75,-5016.0009765625,-5016.0009765625],\"yaxis\":\"y\",\"type\":\"scatter\"},{\"hoverinfo\":\"text\",\"marker\":{\"color\":\"rgb(35,205,205)\"},\"mode\":\"lines\",\"x\":[810.1097654555098,1016.5532786856214,1016.5532786856214,996.7079244430562],\"xaxis\":\"x\",\"y\":[-3300.19775390625,-3300.19775390625,-4804.87548828125,-4804.87548828125],\"yaxis\":\"y\",\"type\":\"scatter\"},{\"hoverinfo\":\"text\",\"marker\":{\"color\":\"rgb(0,116,217)\"},\"mode\":\"lines\",\"x\":[675.4635460326696,1394.212343413841,1394.212343413841,1016.5532786856214],\"xaxis\":\"x\",\"y\":[-1292.3095703125,-1292.3095703125,-4052.53662109375,-4052.53662109375],\"yaxis\":\"y\",\"type\":\"scatter\"},{\"hoverinfo\":\"text\",\"marker\":{\"color\":\"rgb(0,116,217)\"},\"mode\":\"lines\",\"x\":[626.7480321100915,1742.3653953346184,1742.3653953346184,1394.212343413841],\"xaxis\":\"x\",\"y\":[-115.986328125,-115.986328125,-2672.423095703125,-2672.423095703125],\"yaxis\":\"y\",\"type\":\"scatter\"}],                        {\"autosize\":false,\"height\":5000,\"hovermode\":\"closest\",\"showlegend\":false,\"width\":null,\"xaxis\":{\"mirror\":\"allticks\",\"rangemode\":\"tozero\",\"showgrid\":false,\"showline\":true,\"showticklabels\":true,\"ticks\":\"outside\",\"type\":\"linear\",\"zeroline\":false},\"yaxis\":{\"mirror\":\"allticks\",\"rangemode\":\"tozero\",\"showgrid\":false,\"showline\":true,\"showticklabels\":true,\"tickmode\":\"array\",\"ticks\":\"outside\",\"ticktext\":[\"578\",\"581\",\"582\",\"556\",\"561\",\"575\",\"571\",\"574\",\"547\",\"541\",\"544\",\"523\",\"537\",\"539\",\"551\",\"559\",\"542\",\"563\",\"529\",\"501\",\"555\",\"507\",\"522\",\"536\",\"545\",\"554\",\"550\",\"553\",\"564\",\"567\",\"570\",\"580\",\"558\",\"566\",\"572\",\"552\",\"569\",\"560\",\"546\",\"512\",\"534\",\"535\",\"508\",\"483\",\"498\",\"499\",\"467\",\"505\",\"510\",\"524\",\"496\",\"528\",\"487\",\"488\",\"513\",\"511\",\"518\",\"521\",\"530\",\"504\",\"516\",\"441\",\"442\",\"500\",\"455\",\"491\",\"278\",\"393\",\"265\",\"433\",\"49\",\"56\",\"292\",\"137\",\"363\",\"30\",\"494\",\"379\",\"70\",\"84\",\"40\",\"177\",\"6\",\"36\",\"251\",\"479\",\"238\",\"253\",\"27\",\"230\",\"256\",\"67\",\"91\",\"206\",\"377\",\"423\",\"161\",\"309\",\"468\",\"515\",\"289\",\"307\",\"167\",\"241\",\"216\",\"287\",\"7\",\"202\",\"223\",\"444\",\"300\",\"171\",\"478\",\"526\",\"158\",\"474\",\"497\",\"347\",\"418\",\"142\",\"199\",\"123\",\"151\",\"16\",\"21\",\"33\",\"248\",\"327\",\"102\",\"304\",\"341\",\"368\",\"74\",\"99\",\"79\",\"268\",\"60\",\"64\",\"72\",\"90\",\"136\",\"181\",\"81\",\"71\",\"258\",\"104\",\"15\",\"35\",\"3\",\"13\",\"4\",\"5\",\"159\",\"131\",\"205\",\"115\",\"294\",\"110\",\"12\",\"452\",\"39\",\"53\",\"20\",\"23\",\"93\",\"176\",\"25\",\"2\",\"14\",\"41\",\"46\",\"0\",\"28\",\"1\",\"50\",\"132\",\"8\",\"9\",\"259\",\"475\",\"503\",\"448\",\"400\",\"402\",\"324\",\"211\",\"276\",\"180\",\"272\",\"196\",\"306\",\"430\",\"95\",\"480\",\"78\",\"156\",\"43\",\"388\",\"18\",\"66\",\"76\",\"96\",\"86\",\"32\",\"54\",\"73\",\"62\",\"365\",\"88\",\"244\",\"344\",\"217\",\"182\",\"169\",\"264\",\"125\",\"175\",\"267\",\"148\",\"154\",\"204\",\"153\",\"302\",\"118\",\"143\",\"270\",\"155\",\"164\",\"160\",\"184\",\"135\",\"188\",\"301\",\"225\",\"229\",\"299\",\"233\",\"235\",\"337\",\"186\",\"213\",\"411\",\"328\",\"366\",\"353\",\"421\",\"262\",\"322\",\"261\",\"114\",\"370\",\"69\",\"198\",\"126\",\"245\",\"187\",\"149\",\"195\",\"214\",\"240\",\"350\",\"179\",\"481\",\"100\",\"133\",\"146\",\"173\",\"45\",\"63\",\"75\",\"80\",\"83\",\"111\",\"113\",\"24\",\"55\",\"48\",\"57\",\"138\",\"98\",\"157\",\"128\",\"339\",\"389\",\"239\",\"362\",\"166\",\"37\",\"121\",\"375\",\"383\",\"330\",\"139\",\"288\",\"77\",\"172\",\"34\",\"130\",\"144\",\"221\",\"150\",\"103\",\"140\",\"106\",\"145\",\"290\",\"191\",\"17\",\"254\",\"279\",\"26\",\"315\",\"193\",\"194\",\"52\",\"117\",\"122\",\"252\",\"134\",\"129\",\"247\",\"107\",\"163\",\"87\",\"94\",\"85\",\"108\",\"109\",\"116\",\"296\",\"61\",\"326\",\"10\",\"31\",\"92\",\"119\",\"59\",\"42\",\"263\",\"68\",\"82\",\"97\",\"222\",\"11\",\"29\",\"19\",\"65\",\"38\",\"44\",\"22\",\"51\",\"454\",\"446\",\"447\",\"456\",\"465\",\"449\",\"506\",\"443\",\"406\",\"424\",\"462\",\"490\",\"519\",\"476\",\"485\",\"502\",\"472\",\"517\",\"549\",\"565\",\"527\",\"538\",\"532\",\"520\",\"525\",\"540\",\"562\",\"576\",\"573\",\"557\",\"568\",\"413\",\"329\",\"358\",\"450\",\"354\",\"334\",\"317\",\"351\",\"360\",\"409\",\"460\",\"357\",\"387\",\"312\",\"458\",\"395\",\"356\",\"333\",\"359\",\"112\",\"224\",\"89\",\"124\",\"47\",\"58\",\"101\",\"120\",\"162\",\"141\",\"183\",\"189\",\"297\",\"432\",\"280\",\"243\",\"349\",\"185\",\"318\",\"355\",\"228\",\"174\",\"197\",\"281\",\"236\",\"250\",\"218\",\"192\",\"208\",\"313\",\"369\",\"321\",\"376\",\"234\",\"291\",\"271\",\"219\",\"286\",\"170\",\"152\",\"127\",\"190\",\"105\",\"210\",\"147\",\"168\",\"201\",\"325\",\"314\",\"338\",\"212\",\"274\",\"396\",\"200\",\"231\",\"283\",\"331\",\"585\",\"579\",\"583\",\"584\",\"401\",\"378\",\"392\",\"437\",\"470\",\"473\",\"364\",\"367\",\"407\",\"405\",\"531\",\"509\",\"426\",\"492\",\"451\",\"486\",\"495\",\"577\",\"514\",\"533\",\"493\",\"543\",\"461\",\"484\",\"380\",\"342\",\"399\",\"415\",\"284\",\"237\",\"336\",\"242\",\"348\",\"319\",\"269\",\"273\",\"215\",\"209\",\"227\",\"232\",\"255\",\"266\",\"220\",\"203\",\"165\",\"226\",\"246\",\"275\",\"178\",\"207\",\"257\",\"305\",\"310\",\"335\",\"390\",\"316\",\"298\",\"332\",\"303\",\"323\",\"311\",\"371\",\"277\",\"285\",\"308\",\"320\",\"249\",\"260\",\"282\",\"293\",\"295\",\"361\",\"416\",\"398\",\"408\",\"410\",\"404\",\"471\",\"445\",\"440\",\"466\",\"427\",\"435\",\"439\",\"417\",\"420\",\"464\",\"453\",\"414\",\"419\",\"422\",\"428\",\"548\",\"431\",\"489\",\"469\",\"457\",\"482\",\"459\",\"477\",\"384\",\"438\",\"436\",\"381\",\"429\",\"463\",\"372\",\"374\",\"394\",\"403\",\"385\",\"343\",\"346\",\"397\",\"425\",\"434\",\"382\",\"340\",\"373\",\"352\",\"391\",\"412\",\"345\",\"386\"],\"tickvals\":[-5.0,-15.0,-25.0,-35.0,-45.0,-55.0,-65.0,-75.0,-85.0,-95.0,-105.0,-115.0,-125.0,-135.0,-145.0,-155.0,-165.0,-175.0,-185.0,-195.0,-205.0,-215.0,-225.0,-235.0,-245.0,-255.0,-265.0,-275.0,-285.0,-295.0,-305.0,-315.0,-325.0,-335.0,-345.0,-355.0,-365.0,-375.0,-385.0,-395.0,-405.0,-415.0,-425.0,-435.0,-445.0,-455.0,-465.0,-475.0,-485.0,-495.0,-505.0,-515.0,-525.0,-535.0,-545.0,-555.0,-565.0,-575.0,-585.0,-595.0,-605.0,-615.0,-625.0,-635.0,-645.0,-655.0,-665.0,-675.0,-685.0,-695.0,-705.0,-715.0,-725.0,-735.0,-745.0,-755.0,-765.0,-775.0,-785.0,-795.0,-805.0,-815.0,-825.0,-835.0,-845.0,-855.0,-865.0,-875.0,-885.0,-895.0,-905.0,-915.0,-925.0,-935.0,-945.0,-955.0,-965.0,-975.0,-985.0,-995.0,-1005.0,-1015.0,-1025.0,-1035.0,-1045.0,-1055.0,-1065.0,-1075.0,-1085.0,-1095.0,-1105.0,-1115.0,-1125.0,-1135.0,-1145.0,-1155.0,-1165.0,-1175.0,-1185.0,-1195.0,-1205.0,-1215.0,-1225.0,-1235.0,-1245.0,-1255.0,-1265.0,-1275.0,-1285.0,-1295.0,-1305.0,-1315.0,-1325.0,-1335.0,-1345.0,-1355.0,-1365.0,-1375.0,-1385.0,-1395.0,-1405.0,-1415.0,-1425.0,-1435.0,-1445.0,-1455.0,-1465.0,-1475.0,-1485.0,-1495.0,-1505.0,-1515.0,-1525.0,-1535.0,-1545.0,-1555.0,-1565.0,-1575.0,-1585.0,-1595.0,-1605.0,-1615.0,-1625.0,-1635.0,-1645.0,-1655.0,-1665.0,-1675.0,-1685.0,-1695.0,-1705.0,-1715.0,-1725.0,-1735.0,-1745.0,-1755.0,-1765.0,-1775.0,-1785.0,-1795.0,-1805.0,-1815.0,-1825.0,-1835.0,-1845.0,-1855.0,-1865.0,-1875.0,-1885.0,-1895.0,-1905.0,-1915.0,-1925.0,-1935.0,-1945.0,-1955.0,-1965.0,-1975.0,-1985.0,-1995.0,-2005.0,-2015.0,-2025.0,-2035.0,-2045.0,-2055.0,-2065.0,-2075.0,-2085.0,-2095.0,-2105.0,-2115.0,-2125.0,-2135.0,-2145.0,-2155.0,-2165.0,-2175.0,-2185.0,-2195.0,-2205.0,-2215.0,-2225.0,-2235.0,-2245.0,-2255.0,-2265.0,-2275.0,-2285.0,-2295.0,-2305.0,-2315.0,-2325.0,-2335.0,-2345.0,-2355.0,-2365.0,-2375.0,-2385.0,-2395.0,-2405.0,-2415.0,-2425.0,-2435.0,-2445.0,-2455.0,-2465.0,-2475.0,-2485.0,-2495.0,-2505.0,-2515.0,-2525.0,-2535.0,-2545.0,-2555.0,-2565.0,-2575.0,-2585.0,-2595.0,-2605.0,-2615.0,-2625.0,-2635.0,-2645.0,-2655.0,-2665.0,-2675.0,-2685.0,-2695.0,-2705.0,-2715.0,-2725.0,-2735.0,-2745.0,-2755.0,-2765.0,-2775.0,-2785.0,-2795.0,-2805.0,-2815.0,-2825.0,-2835.0,-2845.0,-2855.0,-2865.0,-2875.0,-2885.0,-2895.0,-2905.0,-2915.0,-2925.0,-2935.0,-2945.0,-2955.0,-2965.0,-2975.0,-2985.0,-2995.0,-3005.0,-3015.0,-3025.0,-3035.0,-3045.0,-3055.0,-3065.0,-3075.0,-3085.0,-3095.0,-3105.0,-3115.0,-3125.0,-3135.0,-3145.0,-3155.0,-3165.0,-3175.0,-3185.0,-3195.0,-3205.0,-3215.0,-3225.0,-3235.0,-3245.0,-3255.0,-3265.0,-3275.0,-3285.0,-3295.0,-3305.0,-3315.0,-3325.0,-3335.0,-3345.0,-3355.0,-3365.0,-3375.0,-3385.0,-3395.0,-3405.0,-3415.0,-3425.0,-3435.0,-3445.0,-3455.0,-3465.0,-3475.0,-3485.0,-3495.0,-3505.0,-3515.0,-3525.0,-3535.0,-3545.0,-3555.0,-3565.0,-3575.0,-3585.0,-3595.0,-3605.0,-3615.0,-3625.0,-3635.0,-3645.0,-3655.0,-3665.0,-3675.0,-3685.0,-3695.0,-3705.0,-3715.0,-3725.0,-3735.0,-3745.0,-3755.0,-3765.0,-3775.0,-3785.0,-3795.0,-3805.0,-3815.0,-3825.0,-3835.0,-3845.0,-3855.0,-3865.0,-3875.0,-3885.0,-3895.0,-3905.0,-3915.0,-3925.0,-3935.0,-3945.0,-3955.0,-3965.0,-3975.0,-3985.0,-3995.0,-4005.0,-4015.0,-4025.0,-4035.0,-4045.0,-4055.0,-4065.0,-4075.0,-4085.0,-4095.0,-4105.0,-4115.0,-4125.0,-4135.0,-4145.0,-4155.0,-4165.0,-4175.0,-4185.0,-4195.0,-4205.0,-4215.0,-4225.0,-4235.0,-4245.0,-4255.0,-4265.0,-4275.0,-4285.0,-4295.0,-4305.0,-4315.0,-4325.0,-4335.0,-4345.0,-4355.0,-4365.0,-4375.0,-4385.0,-4395.0,-4405.0,-4415.0,-4425.0,-4435.0,-4445.0,-4455.0,-4465.0,-4475.0,-4485.0,-4495.0,-4505.0,-4515.0,-4525.0,-4535.0,-4545.0,-4555.0,-4565.0,-4575.0,-4585.0,-4595.0,-4605.0,-4615.0,-4625.0,-4635.0,-4645.0,-4655.0,-4665.0,-4675.0,-4685.0,-4695.0,-4705.0,-4715.0,-4725.0,-4735.0,-4745.0,-4755.0,-4765.0,-4775.0,-4785.0,-4795.0,-4805.0,-4815.0,-4825.0,-4835.0,-4845.0,-4855.0,-4865.0,-4875.0,-4885.0,-4895.0,-4905.0,-4915.0,-4925.0,-4935.0,-4945.0,-4955.0,-4965.0,-4975.0,-4985.0,-4995.0,-5005.0,-5015.0,-5025.0,-5035.0,-5045.0,-5055.0,-5065.0,-5075.0,-5085.0,-5095.0,-5105.0,-5115.0,-5125.0,-5135.0,-5145.0,-5155.0,-5165.0,-5175.0,-5185.0,-5195.0,-5205.0,-5215.0,-5225.0,-5235.0,-5245.0,-5255.0,-5265.0,-5275.0,-5285.0,-5295.0,-5305.0,-5315.0,-5325.0,-5335.0,-5345.0,-5355.0,-5365.0,-5375.0,-5385.0,-5395.0,-5405.0,-5415.0,-5425.0,-5435.0,-5445.0,-5455.0,-5465.0,-5475.0,-5485.0,-5495.0,-5505.0,-5515.0,-5525.0,-5535.0,-5545.0,-5555.0,-5565.0,-5575.0,-5585.0,-5595.0,-5605.0,-5615.0,-5625.0,-5635.0,-5645.0,-5655.0,-5665.0,-5675.0,-5685.0,-5695.0,-5705.0,-5715.0,-5725.0,-5735.0,-5745.0,-5755.0,-5765.0,-5775.0,-5785.0,-5795.0,-5805.0,-5815.0,-5825.0,-5835.0,-5845.0,-5855.0],\"type\":\"linear\",\"zeroline\":false},\"template\":{\"data\":{\"histogram2dcontour\":[{\"type\":\"histogram2dcontour\",\"colorbar\":{\"outlinewidth\":0,\"ticks\":\"\"},\"colorscale\":[[0.0,\"#0d0887\"],[0.1111111111111111,\"#46039f\"],[0.2222222222222222,\"#7201a8\"],[0.3333333333333333,\"#9c179e\"],[0.4444444444444444,\"#bd3786\"],[0.5555555555555556,\"#d8576b\"],[0.6666666666666666,\"#ed7953\"],[0.7777777777777778,\"#fb9f3a\"],[0.8888888888888888,\"#fdca26\"],[1.0,\"#f0f921\"]]}],\"choropleth\":[{\"type\":\"choropleth\",\"colorbar\":{\"outlinewidth\":0,\"ticks\":\"\"}}],\"histogram2d\":[{\"type\":\"histogram2d\",\"colorbar\":{\"outlinewidth\":0,\"ticks\":\"\"},\"colorscale\":[[0.0,\"#0d0887\"],[0.1111111111111111,\"#46039f\"],[0.2222222222222222,\"#7201a8\"],[0.3333333333333333,\"#9c179e\"],[0.4444444444444444,\"#bd3786\"],[0.5555555555555556,\"#d8576b\"],[0.6666666666666666,\"#ed7953\"],[0.7777777777777778,\"#fb9f3a\"],[0.8888888888888888,\"#fdca26\"],[1.0,\"#f0f921\"]]}],\"heatmap\":[{\"type\":\"heatmap\",\"colorbar\":{\"outlinewidth\":0,\"ticks\":\"\"},\"colorscale\":[[0.0,\"#0d0887\"],[0.1111111111111111,\"#46039f\"],[0.2222222222222222,\"#7201a8\"],[0.3333333333333333,\"#9c179e\"],[0.4444444444444444,\"#bd3786\"],[0.5555555555555556,\"#d8576b\"],[0.6666666666666666,\"#ed7953\"],[0.7777777777777778,\"#fb9f3a\"],[0.8888888888888888,\"#fdca26\"],[1.0,\"#f0f921\"]]}],\"heatmapgl\":[{\"type\":\"heatmapgl\",\"colorbar\":{\"outlinewidth\":0,\"ticks\":\"\"},\"colorscale\":[[0.0,\"#0d0887\"],[0.1111111111111111,\"#46039f\"],[0.2222222222222222,\"#7201a8\"],[0.3333333333333333,\"#9c179e\"],[0.4444444444444444,\"#bd3786\"],[0.5555555555555556,\"#d8576b\"],[0.6666666666666666,\"#ed7953\"],[0.7777777777777778,\"#fb9f3a\"],[0.8888888888888888,\"#fdca26\"],[1.0,\"#f0f921\"]]}],\"contourcarpet\":[{\"type\":\"contourcarpet\",\"colorbar\":{\"outlinewidth\":0,\"ticks\":\"\"}}],\"contour\":[{\"type\":\"contour\",\"colorbar\":{\"outlinewidth\":0,\"ticks\":\"\"},\"colorscale\":[[0.0,\"#0d0887\"],[0.1111111111111111,\"#46039f\"],[0.2222222222222222,\"#7201a8\"],[0.3333333333333333,\"#9c179e\"],[0.4444444444444444,\"#bd3786\"],[0.5555555555555556,\"#d8576b\"],[0.6666666666666666,\"#ed7953\"],[0.7777777777777778,\"#fb9f3a\"],[0.8888888888888888,\"#fdca26\"],[1.0,\"#f0f921\"]]}],\"surface\":[{\"type\":\"surface\",\"colorbar\":{\"outlinewidth\":0,\"ticks\":\"\"},\"colorscale\":[[0.0,\"#0d0887\"],[0.1111111111111111,\"#46039f\"],[0.2222222222222222,\"#7201a8\"],[0.3333333333333333,\"#9c179e\"],[0.4444444444444444,\"#bd3786\"],[0.5555555555555556,\"#d8576b\"],[0.6666666666666666,\"#ed7953\"],[0.7777777777777778,\"#fb9f3a\"],[0.8888888888888888,\"#fdca26\"],[1.0,\"#f0f921\"]]}],\"mesh3d\":[{\"type\":\"mesh3d\",\"colorbar\":{\"outlinewidth\":0,\"ticks\":\"\"}}],\"scatter\":[{\"fillpattern\":{\"fillmode\":\"overlay\",\"size\":10,\"solidity\":0.2},\"type\":\"scatter\"}],\"parcoords\":[{\"type\":\"parcoords\",\"line\":{\"colorbar\":{\"outlinewidth\":0,\"ticks\":\"\"}}}],\"scatterpolargl\":[{\"type\":\"scatterpolargl\",\"marker\":{\"colorbar\":{\"outlinewidth\":0,\"ticks\":\"\"}}}],\"bar\":[{\"error_x\":{\"color\":\"#2a3f5f\"},\"error_y\":{\"color\":\"#2a3f5f\"},\"marker\":{\"line\":{\"color\":\"#E5ECF6\",\"width\":0.5},\"pattern\":{\"fillmode\":\"overlay\",\"size\":10,\"solidity\":0.2}},\"type\":\"bar\"}],\"scattergeo\":[{\"type\":\"scattergeo\",\"marker\":{\"colorbar\":{\"outlinewidth\":0,\"ticks\":\"\"}}}],\"scatterpolar\":[{\"type\":\"scatterpolar\",\"marker\":{\"colorbar\":{\"outlinewidth\":0,\"ticks\":\"\"}}}],\"histogram\":[{\"marker\":{\"pattern\":{\"fillmode\":\"overlay\",\"size\":10,\"solidity\":0.2}},\"type\":\"histogram\"}],\"scattergl\":[{\"type\":\"scattergl\",\"marker\":{\"colorbar\":{\"outlinewidth\":0,\"ticks\":\"\"}}}],\"scatter3d\":[{\"type\":\"scatter3d\",\"line\":{\"colorbar\":{\"outlinewidth\":0,\"ticks\":\"\"}},\"marker\":{\"colorbar\":{\"outlinewidth\":0,\"ticks\":\"\"}}}],\"scattermapbox\":[{\"type\":\"scattermapbox\",\"marker\":{\"colorbar\":{\"outlinewidth\":0,\"ticks\":\"\"}}}],\"scatterternary\":[{\"type\":\"scatterternary\",\"marker\":{\"colorbar\":{\"outlinewidth\":0,\"ticks\":\"\"}}}],\"scattercarpet\":[{\"type\":\"scattercarpet\",\"marker\":{\"colorbar\":{\"outlinewidth\":0,\"ticks\":\"\"}}}],\"carpet\":[{\"aaxis\":{\"endlinecolor\":\"#2a3f5f\",\"gridcolor\":\"white\",\"linecolor\":\"white\",\"minorgridcolor\":\"white\",\"startlinecolor\":\"#2a3f5f\"},\"baxis\":{\"endlinecolor\":\"#2a3f5f\",\"gridcolor\":\"white\",\"linecolor\":\"white\",\"minorgridcolor\":\"white\",\"startlinecolor\":\"#2a3f5f\"},\"type\":\"carpet\"}],\"table\":[{\"cells\":{\"fill\":{\"color\":\"#EBF0F8\"},\"line\":{\"color\":\"white\"}},\"header\":{\"fill\":{\"color\":\"#C8D4E3\"},\"line\":{\"color\":\"white\"}},\"type\":\"table\"}],\"barpolar\":[{\"marker\":{\"line\":{\"color\":\"#E5ECF6\",\"width\":0.5},\"pattern\":{\"fillmode\":\"overlay\",\"size\":10,\"solidity\":0.2}},\"type\":\"barpolar\"}],\"pie\":[{\"automargin\":true,\"type\":\"pie\"}]},\"layout\":{\"autotypenumbers\":\"strict\",\"colorway\":[\"#636efa\",\"#EF553B\",\"#00cc96\",\"#ab63fa\",\"#FFA15A\",\"#19d3f3\",\"#FF6692\",\"#B6E880\",\"#FF97FF\",\"#FECB52\"],\"font\":{\"color\":\"#2a3f5f\"},\"hovermode\":\"closest\",\"hoverlabel\":{\"align\":\"left\"},\"paper_bgcolor\":\"white\",\"plot_bgcolor\":\"#E5ECF6\",\"polar\":{\"bgcolor\":\"#E5ECF6\",\"angularaxis\":{\"gridcolor\":\"white\",\"linecolor\":\"white\",\"ticks\":\"\"},\"radialaxis\":{\"gridcolor\":\"white\",\"linecolor\":\"white\",\"ticks\":\"\"}},\"ternary\":{\"bgcolor\":\"#E5ECF6\",\"aaxis\":{\"gridcolor\":\"white\",\"linecolor\":\"white\",\"ticks\":\"\"},\"baxis\":{\"gridcolor\":\"white\",\"linecolor\":\"white\",\"ticks\":\"\"},\"caxis\":{\"gridcolor\":\"white\",\"linecolor\":\"white\",\"ticks\":\"\"}},\"coloraxis\":{\"colorbar\":{\"outlinewidth\":0,\"ticks\":\"\"}},\"colorscale\":{\"sequential\":[[0.0,\"#0d0887\"],[0.1111111111111111,\"#46039f\"],[0.2222222222222222,\"#7201a8\"],[0.3333333333333333,\"#9c179e\"],[0.4444444444444444,\"#bd3786\"],[0.5555555555555556,\"#d8576b\"],[0.6666666666666666,\"#ed7953\"],[0.7777777777777778,\"#fb9f3a\"],[0.8888888888888888,\"#fdca26\"],[1.0,\"#f0f921\"]],\"sequentialminus\":[[0.0,\"#0d0887\"],[0.1111111111111111,\"#46039f\"],[0.2222222222222222,\"#7201a8\"],[0.3333333333333333,\"#9c179e\"],[0.4444444444444444,\"#bd3786\"],[0.5555555555555556,\"#d8576b\"],[0.6666666666666666,\"#ed7953\"],[0.7777777777777778,\"#fb9f3a\"],[0.8888888888888888,\"#fdca26\"],[1.0,\"#f0f921\"]],\"diverging\":[[0,\"#8e0152\"],[0.1,\"#c51b7d\"],[0.2,\"#de77ae\"],[0.3,\"#f1b6da\"],[0.4,\"#fde0ef\"],[0.5,\"#f7f7f7\"],[0.6,\"#e6f5d0\"],[0.7,\"#b8e186\"],[0.8,\"#7fbc41\"],[0.9,\"#4d9221\"],[1,\"#276419\"]]},\"xaxis\":{\"gridcolor\":\"white\",\"linecolor\":\"white\",\"ticks\":\"\",\"title\":{\"standoff\":15},\"zerolinecolor\":\"white\",\"automargin\":true,\"zerolinewidth\":2},\"yaxis\":{\"gridcolor\":\"white\",\"linecolor\":\"white\",\"ticks\":\"\",\"title\":{\"standoff\":15},\"zerolinecolor\":\"white\",\"automargin\":true,\"zerolinewidth\":2},\"scene\":{\"xaxis\":{\"backgroundcolor\":\"#E5ECF6\",\"gridcolor\":\"white\",\"linecolor\":\"white\",\"showbackground\":true,\"ticks\":\"\",\"zerolinecolor\":\"white\",\"gridwidth\":2},\"yaxis\":{\"backgroundcolor\":\"#E5ECF6\",\"gridcolor\":\"white\",\"linecolor\":\"white\",\"showbackground\":true,\"ticks\":\"\",\"zerolinecolor\":\"white\",\"gridwidth\":2},\"zaxis\":{\"backgroundcolor\":\"#E5ECF6\",\"gridcolor\":\"white\",\"linecolor\":\"white\",\"showbackground\":true,\"ticks\":\"\",\"zerolinecolor\":\"white\",\"gridwidth\":2}},\"shapedefaults\":{\"line\":{\"color\":\"#2a3f5f\"}},\"annotationdefaults\":{\"arrowcolor\":\"#2a3f5f\",\"arrowhead\":0,\"arrowwidth\":1},\"geo\":{\"bgcolor\":\"white\",\"landcolor\":\"#E5ECF6\",\"subunitcolor\":\"white\",\"showland\":true,\"showlakes\":true,\"lakecolor\":\"white\"},\"title\":{\"x\":0.05},\"mapbox\":{\"style\":\"light\"}}},\"title\":{\"text\":\"Food ClusterDenodrogam (Euclidean)\"}},                        {\"responsive\": true}                    ).then(function(){\n",
       "                            \n",
       "var gd = document.getElementById('894f4ac0-dc7b-421a-ac3b-555680c0cec2');\n",
       "var x = new MutationObserver(function (mutations, observer) {{\n",
       "        var display = window.getComputedStyle(gd).display;\n",
       "        if (!display || display === 'none') {{\n",
       "            console.log([gd, 'removed!']);\n",
       "            Plotly.purge(gd);\n",
       "            observer.disconnect();\n",
       "        }}\n",
       "}});\n",
       "\n",
       "// Listen for the removal of the full notebook cells\n",
       "var notebookContainer = gd.closest('#notebook-container');\n",
       "if (notebookContainer) {{\n",
       "    x.observe(notebookContainer, {childList: true});\n",
       "}}\n",
       "\n",
       "// Listen for the clearing of the current output cell\n",
       "var outputEl = gd.closest('.output');\n",
       "if (outputEl) {{\n",
       "    x.observe(outputEl, {childList: true});\n",
       "}}\n",
       "\n",
       "                        })                };                });            </script>        </div>"
      ]
     },
     "metadata": {},
     "output_type": "display_data"
    }
   ],
   "source": [
    "#plt.title('Food Cluster Dendrogram (euclidean)')\n",
    "#plt.rcParams[\"figure.figsize\"] = [32, 640]\n",
    "fig = plot_dendrogram(food_cluster, orientation = \"left\")\n",
    "fig.layout.title = \"Food ClusterDenodrogam (Euclidean)\"\n",
    "fig.layout.height = 5000\n",
    "fig.show()"
   ]
  },
  {
   "cell_type": "code",
   "execution_count": 121,
   "metadata": {},
   "outputs": [],
   "source": [
    "from scipy.cluster.hierarchy import linkage, fcluster\n",
    "Z = linkage(X, 'ward')\n",
    "\n",
    "max_d = 0.015\n",
    "clusters = fcluster(Z, max_d, criterion='distance')\n",
    "counts = [ len(X[clusters==n]) for n in range(max(clusters)) ]\n",
    "synonyms = [i for i in range(max(clusters)) if counts[i] > 1]\n",
    "\n",
    "frames = []\n",
    "for i in synonyms:\n",
    "    records = data[['food_code','food_desc']][clusters==i]\n",
    "    nuts = X[clusters==i]\n",
    "    records['cluster_id'] = i\n",
    "    frames.append(pd.concat((records,nuts), axis=1))\n",
    "\n",
    "# Combine the results and renumber from 0\n",
    "results = pd.concat(frames)\n",
    "results.reset_index(drop=True, inplace=True)\n",
    "\n",
    "# Calculate the vector norms of the nutrition info\n",
    "norms = pd.DataFrame(np.linalg.norm(results.loc[:, 'pct_procnt':], axis=1))\n",
    "norms.columns = ['vector_norm']\n",
    "results = pd.concat((results,norms),axis=1)"
   ]
  },
  {
   "cell_type": "code",
   "execution_count": 122,
   "metadata": {},
   "outputs": [],
   "source": [
    "results.to_csv(path_or_buf=\"/mnt/synonyms.csv\")"
   ]
  },
  {
   "cell_type": "code",
   "execution_count": 123,
   "metadata": {},
   "outputs": [
    {
     "data": {
      "text/html": [
       "<div>\n",
       "<style scoped>\n",
       "    .dataframe tbody tr th:only-of-type {\n",
       "        vertical-align: middle;\n",
       "    }\n",
       "\n",
       "    .dataframe tbody tr th {\n",
       "        vertical-align: top;\n",
       "    }\n",
       "\n",
       "    .dataframe thead th {\n",
       "        text-align: right;\n",
       "    }\n",
       "</style>\n",
       "<table border=\"1\" class=\"dataframe\">\n",
       "  <thead>\n",
       "    <tr style=\"text-align: right;\">\n",
       "      <th></th>\n",
       "      <th>food_code</th>\n",
       "      <th>food_desc</th>\n",
       "      <th>cluster_id</th>\n",
       "      <th>pct_procnt</th>\n",
       "      <th>pct_chocdf</th>\n",
       "      <th>pct_fibtg</th>\n",
       "      <th>pct_ca</th>\n",
       "      <th>pct_fe</th>\n",
       "      <th>pct_mg</th>\n",
       "      <th>pct_p</th>\n",
       "      <th>...</th>\n",
       "      <th>pct_fol</th>\n",
       "      <th>pct_choln</th>\n",
       "      <th>pct_vitb12</th>\n",
       "      <th>pct_vita_rae</th>\n",
       "      <th>pct_tocpha</th>\n",
       "      <th>pct_vitd</th>\n",
       "      <th>pct_vitk1</th>\n",
       "      <th>pct_f18d2</th>\n",
       "      <th>pct_f18d3</th>\n",
       "      <th>vector_norm</th>\n",
       "    </tr>\n",
       "  </thead>\n",
       "  <tbody>\n",
       "    <tr>\n",
       "      <th>0</th>\n",
       "      <td>63101000</td>\n",
       "      <td>Apple, raw</td>\n",
       "      <td>195</td>\n",
       "      <td>0.004643</td>\n",
       "      <td>0.106231</td>\n",
       "      <td>0.063158</td>\n",
       "      <td>0.006</td>\n",
       "      <td>0.01500</td>\n",
       "      <td>0.011905</td>\n",
       "      <td>0.015714</td>\n",
       "      <td>...</td>\n",
       "      <td>0.0075</td>\n",
       "      <td>0.006182</td>\n",
       "      <td>0.0</td>\n",
       "      <td>0.003333</td>\n",
       "      <td>0.012000</td>\n",
       "      <td>0.0</td>\n",
       "      <td>0.018333</td>\n",
       "      <td>0.002529</td>\n",
       "      <td>0.005625</td>\n",
       "      <td>0.149908</td>\n",
       "    </tr>\n",
       "    <tr>\n",
       "      <th>1</th>\n",
       "      <td>63101320</td>\n",
       "      <td>Apple, baked, unsweetened</td>\n",
       "      <td>195</td>\n",
       "      <td>0.005000</td>\n",
       "      <td>0.114231</td>\n",
       "      <td>0.068421</td>\n",
       "      <td>0.006</td>\n",
       "      <td>0.01625</td>\n",
       "      <td>0.011905</td>\n",
       "      <td>0.017143</td>\n",
       "      <td>...</td>\n",
       "      <td>0.0050</td>\n",
       "      <td>0.006727</td>\n",
       "      <td>0.0</td>\n",
       "      <td>0.003333</td>\n",
       "      <td>0.012667</td>\n",
       "      <td>0.0</td>\n",
       "      <td>0.020000</td>\n",
       "      <td>0.002706</td>\n",
       "      <td>0.006250</td>\n",
       "      <td>0.156158</td>\n",
       "    </tr>\n",
       "  </tbody>\n",
       "</table>\n",
       "<p>2 rows × 31 columns</p>\n",
       "</div>"
      ],
      "text/plain": [
       "   food_code                  food_desc  cluster_id  pct_procnt  pct_chocdf  \\\n",
       "0   63101000                 Apple, raw         195    0.004643    0.106231   \n",
       "1   63101320  Apple, baked, unsweetened         195    0.005000    0.114231   \n",
       "\n",
       "   pct_fibtg  pct_ca   pct_fe    pct_mg     pct_p  ...  pct_fol  pct_choln  \\\n",
       "0   0.063158   0.006  0.01500  0.011905  0.015714  ...   0.0075   0.006182   \n",
       "1   0.068421   0.006  0.01625  0.011905  0.017143  ...   0.0050   0.006727   \n",
       "\n",
       "   pct_vitb12  pct_vita_rae  pct_tocpha  pct_vitd  pct_vitk1  pct_f18d2  \\\n",
       "0         0.0      0.003333    0.012000       0.0   0.018333   0.002529   \n",
       "1         0.0      0.003333    0.012667       0.0   0.020000   0.002706   \n",
       "\n",
       "   pct_f18d3  vector_norm  \n",
       "0   0.005625     0.149908  \n",
       "1   0.006250     0.156158  \n",
       "\n",
       "[2 rows x 31 columns]"
      ]
     },
     "execution_count": 123,
     "metadata": {},
     "output_type": "execute_result"
    }
   ],
   "source": [
    "results"
   ]
  },
  {
   "cell_type": "code",
   "execution_count": 124,
   "metadata": {},
   "outputs": [
    {
     "data": {
      "text/html": [
       "<div>\n",
       "<style scoped>\n",
       "    .dataframe tbody tr th:only-of-type {\n",
       "        vertical-align: middle;\n",
       "    }\n",
       "\n",
       "    .dataframe tbody tr th {\n",
       "        vertical-align: top;\n",
       "    }\n",
       "\n",
       "    .dataframe thead th {\n",
       "        text-align: right;\n",
       "    }\n",
       "</style>\n",
       "<table border=\"1\" class=\"dataframe\">\n",
       "  <thead>\n",
       "    <tr style=\"text-align: right;\">\n",
       "      <th></th>\n",
       "      <th>food_code</th>\n",
       "      <th>food_desc</th>\n",
       "      <th>norm</th>\n",
       "      <th>pct_procnt</th>\n",
       "      <th>pct_chocdf</th>\n",
       "      <th>pct_fibtg</th>\n",
       "      <th>pct_ca</th>\n",
       "      <th>pct_fe</th>\n",
       "      <th>pct_mg</th>\n",
       "      <th>pct_p</th>\n",
       "      <th>...</th>\n",
       "      <th>pct_vitb6a</th>\n",
       "      <th>pct_fol</th>\n",
       "      <th>pct_choln</th>\n",
       "      <th>pct_vitb12</th>\n",
       "      <th>pct_vita_rae</th>\n",
       "      <th>pct_tocpha</th>\n",
       "      <th>pct_vitd</th>\n",
       "      <th>pct_vitk1</th>\n",
       "      <th>pct_f18d2</th>\n",
       "      <th>pct_f18d3</th>\n",
       "    </tr>\n",
       "  </thead>\n",
       "  <tbody>\n",
       "    <tr>\n",
       "      <th>503</th>\n",
       "      <td>82101500</td>\n",
       "      <td>Coconut oil</td>\n",
       "      <td>0.100322</td>\n",
       "      <td>0.000000</td>\n",
       "      <td>0.000000</td>\n",
       "      <td>0.000000</td>\n",
       "      <td>0.001</td>\n",
       "      <td>0.00625</td>\n",
       "      <td>0.000000</td>\n",
       "      <td>0.000000</td>\n",
       "      <td>...</td>\n",
       "      <td>0.000000</td>\n",
       "      <td>0.0000</td>\n",
       "      <td>0.000545</td>\n",
       "      <td>0.000000</td>\n",
       "      <td>0.000000</td>\n",
       "      <td>0.007333</td>\n",
       "      <td>0.0</td>\n",
       "      <td>0.005000</td>\n",
       "      <td>0.099000</td>\n",
       "      <td>0.011875</td>\n",
       "    </tr>\n",
       "    <tr>\n",
       "      <th>341</th>\n",
       "      <td>63137120</td>\n",
       "      <td>Pear, cooked or canned, unsweetened, water pack</td>\n",
       "      <td>0.101728</td>\n",
       "      <td>0.003393</td>\n",
       "      <td>0.060077</td>\n",
       "      <td>0.042105</td>\n",
       "      <td>0.004</td>\n",
       "      <td>0.02625</td>\n",
       "      <td>0.009524</td>\n",
       "      <td>0.010000</td>\n",
       "      <td>...</td>\n",
       "      <td>0.010769</td>\n",
       "      <td>0.0025</td>\n",
       "      <td>0.006182</td>\n",
       "      <td>0.000000</td>\n",
       "      <td>0.000000</td>\n",
       "      <td>0.005333</td>\n",
       "      <td>0.0</td>\n",
       "      <td>0.002500</td>\n",
       "      <td>0.000412</td>\n",
       "      <td>0.000000</td>\n",
       "    </tr>\n",
       "    <tr>\n",
       "      <th>370</th>\n",
       "      <td>64101010</td>\n",
       "      <td>Apple cider</td>\n",
       "      <td>0.103100</td>\n",
       "      <td>0.001786</td>\n",
       "      <td>0.086923</td>\n",
       "      <td>0.005263</td>\n",
       "      <td>0.008</td>\n",
       "      <td>0.01500</td>\n",
       "      <td>0.011905</td>\n",
       "      <td>0.010000</td>\n",
       "      <td>...</td>\n",
       "      <td>0.013846</td>\n",
       "      <td>0.0000</td>\n",
       "      <td>0.003273</td>\n",
       "      <td>0.000000</td>\n",
       "      <td>0.000000</td>\n",
       "      <td>0.000667</td>\n",
       "      <td>0.0</td>\n",
       "      <td>0.000000</td>\n",
       "      <td>0.001941</td>\n",
       "      <td>0.004375</td>\n",
       "    </tr>\n",
       "    <tr>\n",
       "      <th>273</th>\n",
       "      <td>61207200</td>\n",
       "      <td>Lime juice, 100%, canned or bottled</td>\n",
       "      <td>0.113461</td>\n",
       "      <td>0.004464</td>\n",
       "      <td>0.051462</td>\n",
       "      <td>0.010526</td>\n",
       "      <td>0.012</td>\n",
       "      <td>0.02875</td>\n",
       "      <td>0.016667</td>\n",
       "      <td>0.014286</td>\n",
       "      <td>...</td>\n",
       "      <td>0.020769</td>\n",
       "      <td>0.0200</td>\n",
       "      <td>0.009273</td>\n",
       "      <td>0.000000</td>\n",
       "      <td>0.001111</td>\n",
       "      <td>0.008000</td>\n",
       "      <td>0.0</td>\n",
       "      <td>0.004167</td>\n",
       "      <td>0.002471</td>\n",
       "      <td>0.013750</td>\n",
       "    </tr>\n",
       "    <tr>\n",
       "      <th>382</th>\n",
       "      <td>64401000</td>\n",
       "      <td>Vinegar</td>\n",
       "      <td>0.114306</td>\n",
       "      <td>0.000000</td>\n",
       "      <td>0.007154</td>\n",
       "      <td>0.000000</td>\n",
       "      <td>0.007</td>\n",
       "      <td>0.02500</td>\n",
       "      <td>0.011905</td>\n",
       "      <td>0.011429</td>\n",
       "      <td>...</td>\n",
       "      <td>0.000000</td>\n",
       "      <td>0.0000</td>\n",
       "      <td>0.000000</td>\n",
       "      <td>0.000000</td>\n",
       "      <td>0.000000</td>\n",
       "      <td>0.000000</td>\n",
       "      <td>0.0</td>\n",
       "      <td>0.000000</td>\n",
       "      <td>0.000000</td>\n",
       "      <td>0.000000</td>\n",
       "    </tr>\n",
       "    <tr>\n",
       "      <th>...</th>\n",
       "      <td>...</td>\n",
       "      <td>...</td>\n",
       "      <td>...</td>\n",
       "      <td>...</td>\n",
       "      <td>...</td>\n",
       "      <td>...</td>\n",
       "      <td>...</td>\n",
       "      <td>...</td>\n",
       "      <td>...</td>\n",
       "      <td>...</td>\n",
       "      <td>...</td>\n",
       "      <td>...</td>\n",
       "      <td>...</td>\n",
       "      <td>...</td>\n",
       "      <td>...</td>\n",
       "      <td>...</td>\n",
       "      <td>...</td>\n",
       "      <td>...</td>\n",
       "      <td>...</td>\n",
       "      <td>...</td>\n",
       "      <td>...</td>\n",
       "    </tr>\n",
       "    <tr>\n",
       "      <th>457</th>\n",
       "      <td>75119000</td>\n",
       "      <td>Parsley, raw</td>\n",
       "      <td>13.786251</td>\n",
       "      <td>0.053036</td>\n",
       "      <td>0.048692</td>\n",
       "      <td>0.086842</td>\n",
       "      <td>0.138</td>\n",
       "      <td>0.77500</td>\n",
       "      <td>0.119048</td>\n",
       "      <td>0.082857</td>\n",
       "      <td>...</td>\n",
       "      <td>0.069231</td>\n",
       "      <td>0.3800</td>\n",
       "      <td>0.023273</td>\n",
       "      <td>0.000000</td>\n",
       "      <td>0.467778</td>\n",
       "      <td>0.050000</td>\n",
       "      <td>0.0</td>\n",
       "      <td>13.666667</td>\n",
       "      <td>0.006765</td>\n",
       "      <td>0.005000</td>\n",
       "    </tr>\n",
       "    <tr>\n",
       "      <th>134</th>\n",
       "      <td>26205190</td>\n",
       "      <td>Octopus, smoked</td>\n",
       "      <td>16.040440</td>\n",
       "      <td>0.532500</td>\n",
       "      <td>0.033846</td>\n",
       "      <td>0.000000</td>\n",
       "      <td>0.106</td>\n",
       "      <td>1.32500</td>\n",
       "      <td>0.142857</td>\n",
       "      <td>0.531429</td>\n",
       "      <td>...</td>\n",
       "      <td>0.526154</td>\n",
       "      <td>0.0750</td>\n",
       "      <td>0.236364</td>\n",
       "      <td>15.833333</td>\n",
       "      <td>0.084444</td>\n",
       "      <td>0.160000</td>\n",
       "      <td>0.0</td>\n",
       "      <td>0.001667</td>\n",
       "      <td>0.001059</td>\n",
       "      <td>0.000000</td>\n",
       "    </tr>\n",
       "    <tr>\n",
       "      <th>479</th>\n",
       "      <td>75236500</td>\n",
       "      <td>Yeast extract spread</td>\n",
       "      <td>26.837616</td>\n",
       "      <td>0.426429</td>\n",
       "      <td>0.157077</td>\n",
       "      <td>0.171053</td>\n",
       "      <td>0.067</td>\n",
       "      <td>0.50500</td>\n",
       "      <td>0.428571</td>\n",
       "      <td>0.148571</td>\n",
       "      <td>...</td>\n",
       "      <td>0.000000</td>\n",
       "      <td>9.4650</td>\n",
       "      <td>0.118364</td>\n",
       "      <td>0.208333</td>\n",
       "      <td>0.000000</td>\n",
       "      <td>0.000000</td>\n",
       "      <td>0.0</td>\n",
       "      <td>0.000000</td>\n",
       "      <td>0.000000</td>\n",
       "      <td>0.000000</td>\n",
       "    </tr>\n",
       "    <tr>\n",
       "      <th>504</th>\n",
       "      <td>82103500</td>\n",
       "      <td>Flaxseed oil</td>\n",
       "      <td>33.365751</td>\n",
       "      <td>0.001964</td>\n",
       "      <td>0.000000</td>\n",
       "      <td>0.000000</td>\n",
       "      <td>0.001</td>\n",
       "      <td>0.00000</td>\n",
       "      <td>0.000000</td>\n",
       "      <td>0.001429</td>\n",
       "      <td>...</td>\n",
       "      <td>0.000000</td>\n",
       "      <td>0.0000</td>\n",
       "      <td>0.000364</td>\n",
       "      <td>0.000000</td>\n",
       "      <td>0.000000</td>\n",
       "      <td>0.031333</td>\n",
       "      <td>0.0</td>\n",
       "      <td>0.077500</td>\n",
       "      <td>0.842765</td>\n",
       "      <td>33.355000</td>\n",
       "    </tr>\n",
       "    <tr>\n",
       "      <th>183</th>\n",
       "      <td>42102000</td>\n",
       "      <td>Brazil nuts</td>\n",
       "      <td>34.980090</td>\n",
       "      <td>0.255714</td>\n",
       "      <td>0.090308</td>\n",
       "      <td>0.197368</td>\n",
       "      <td>0.160</td>\n",
       "      <td>0.30375</td>\n",
       "      <td>0.895238</td>\n",
       "      <td>1.035714</td>\n",
       "      <td>...</td>\n",
       "      <td>0.077692</td>\n",
       "      <td>0.0550</td>\n",
       "      <td>0.052364</td>\n",
       "      <td>0.000000</td>\n",
       "      <td>0.000000</td>\n",
       "      <td>0.376667</td>\n",
       "      <td>0.0</td>\n",
       "      <td>0.000000</td>\n",
       "      <td>1.433118</td>\n",
       "      <td>0.022500</td>\n",
       "    </tr>\n",
       "  </tbody>\n",
       "</table>\n",
       "<p>587 rows × 30 columns</p>\n",
       "</div>"
      ],
      "text/plain": [
       "     food_code                                        food_desc       norm  \\\n",
       "503   82101500                                      Coconut oil   0.100322   \n",
       "341   63137120  Pear, cooked or canned, unsweetened, water pack   0.101728   \n",
       "370   64101010                                      Apple cider   0.103100   \n",
       "273   61207200              Lime juice, 100%, canned or bottled   0.113461   \n",
       "382   64401000                                          Vinegar   0.114306   \n",
       "..         ...                                              ...        ...   \n",
       "457   75119000                                     Parsley, raw  13.786251   \n",
       "134   26205190                                  Octopus, smoked  16.040440   \n",
       "479   75236500                             Yeast extract spread  26.837616   \n",
       "504   82103500                                     Flaxseed oil  33.365751   \n",
       "183   42102000                                      Brazil nuts  34.980090   \n",
       "\n",
       "     pct_procnt  pct_chocdf  pct_fibtg  pct_ca   pct_fe    pct_mg     pct_p  \\\n",
       "503    0.000000    0.000000   0.000000   0.001  0.00625  0.000000  0.000000   \n",
       "341    0.003393    0.060077   0.042105   0.004  0.02625  0.009524  0.010000   \n",
       "370    0.001786    0.086923   0.005263   0.008  0.01500  0.011905  0.010000   \n",
       "273    0.004464    0.051462   0.010526   0.012  0.02875  0.016667  0.014286   \n",
       "382    0.000000    0.007154   0.000000   0.007  0.02500  0.011905  0.011429   \n",
       "..          ...         ...        ...     ...      ...       ...       ...   \n",
       "457    0.053036    0.048692   0.086842   0.138  0.77500  0.119048  0.082857   \n",
       "134    0.532500    0.033846   0.000000   0.106  1.32500  0.142857  0.531429   \n",
       "479    0.426429    0.157077   0.171053   0.067  0.50500  0.428571  0.148571   \n",
       "504    0.001964    0.000000   0.000000   0.001  0.00000  0.000000  0.001429   \n",
       "183    0.255714    0.090308   0.197368   0.160  0.30375  0.895238  1.035714   \n",
       "\n",
       "     ...  pct_vitb6a  pct_fol  pct_choln  pct_vitb12  pct_vita_rae  \\\n",
       "503  ...    0.000000   0.0000   0.000545    0.000000      0.000000   \n",
       "341  ...    0.010769   0.0025   0.006182    0.000000      0.000000   \n",
       "370  ...    0.013846   0.0000   0.003273    0.000000      0.000000   \n",
       "273  ...    0.020769   0.0200   0.009273    0.000000      0.001111   \n",
       "382  ...    0.000000   0.0000   0.000000    0.000000      0.000000   \n",
       "..   ...         ...      ...        ...         ...           ...   \n",
       "457  ...    0.069231   0.3800   0.023273    0.000000      0.467778   \n",
       "134  ...    0.526154   0.0750   0.236364   15.833333      0.084444   \n",
       "479  ...    0.000000   9.4650   0.118364    0.208333      0.000000   \n",
       "504  ...    0.000000   0.0000   0.000364    0.000000      0.000000   \n",
       "183  ...    0.077692   0.0550   0.052364    0.000000      0.000000   \n",
       "\n",
       "     pct_tocpha  pct_vitd  pct_vitk1  pct_f18d2  pct_f18d3  \n",
       "503    0.007333       0.0   0.005000   0.099000   0.011875  \n",
       "341    0.005333       0.0   0.002500   0.000412   0.000000  \n",
       "370    0.000667       0.0   0.000000   0.001941   0.004375  \n",
       "273    0.008000       0.0   0.004167   0.002471   0.013750  \n",
       "382    0.000000       0.0   0.000000   0.000000   0.000000  \n",
       "..          ...       ...        ...        ...        ...  \n",
       "457    0.050000       0.0  13.666667   0.006765   0.005000  \n",
       "134    0.160000       0.0   0.001667   0.001059   0.000000  \n",
       "479    0.000000       0.0   0.000000   0.000000   0.000000  \n",
       "504    0.031333       0.0   0.077500   0.842765  33.355000  \n",
       "183    0.376667       0.0   0.000000   1.433118   0.022500  \n",
       "\n",
       "[587 rows x 30 columns]"
      ]
     },
     "execution_count": 124,
     "metadata": {},
     "output_type": "execute_result"
    }
   ],
   "source": [
    "norms = pd.DataFrame(np.linalg.norm(X.loc[:, 'pct_procnt':], axis=1))\n",
    "norms.columns = ['norm']\n",
    "data_with_norms = pd.concat((data[['food_code','food_desc']],norms,data.loc[:,'pct_procnt':]), axis=1)\n",
    "data_with_norms.sort_values(by='norm')"
   ]
  }
 ],
 "metadata": {
  "kernelspec": {
   "display_name": "Python 3 (ipykernel)",
   "language": "python",
   "name": "python3"
  },
  "language_info": {
   "codemirror_mode": {
    "name": "ipython",
    "version": 3
   },
   "file_extension": ".py",
   "mimetype": "text/x-python",
   "name": "python",
   "nbconvert_exporter": "python",
   "pygments_lexer": "ipython3",
   "version": "3.10.6"
  }
 },
 "nbformat": 4,
 "nbformat_minor": 2
}
